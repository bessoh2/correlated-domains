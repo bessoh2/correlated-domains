{
 "cells": [
  {
   "cell_type": "markdown",
   "id": "3ea54a91-6b9f-413d-9703-db905550512c",
   "metadata": {},
   "source": [
    "# Distribution Testing"
   ]
  },
  {
   "cell_type": "code",
   "execution_count": 325,
   "id": "f924210b-95d2-4df1-9210-549a74f1ca3f",
   "metadata": {},
   "outputs": [],
   "source": [
    "import pandas as pd\n",
    "import matplotlib.pyplot as plt\n",
    "import numpy as np\n",
    "import geopandas as gpd\n",
    "import scipy.stats as stats\n",
    "from scipy.interpolate import interp1d\n",
    "import pickle\n",
    "import altair as alt\n",
    "import math"
   ]
  },
  {
   "cell_type": "code",
   "execution_count": 40,
   "id": "23d90697-727f-4398-b9ac-08a9ef1d64e2",
   "metadata": {},
   "outputs": [
    {
     "data": {
      "text/plain": [
       "DataTransformerRegistry.enable('vegafusion')"
      ]
     },
     "execution_count": 40,
     "metadata": {},
     "output_type": "execute_result"
    }
   ],
   "source": [
    "alt.data_transformers.enable('vegafusion')"
   ]
  },
  {
   "cell_type": "markdown",
   "id": "5b19f894-9803-4c69-bed1-b690e2ff2965",
   "metadata": {},
   "source": [
    "### Plot Untransformed and natural log SWE distributions per cluster:"
   ]
  },
  {
   "cell_type": "code",
   "execution_count": 35,
   "id": "07228fda-ddce-4e7b-8f1d-5800d193f59e",
   "metadata": {},
   "outputs": [],
   "source": [
    "df = pickle.load(open('../data/snv_dataframes/snv_temp_precip_cluster_gdf.pkl','rb'))"
   ]
  },
  {
   "cell_type": "code",
   "execution_count": 62,
   "id": "4be8e729-8624-4f03-8d31-5275bce02b41",
   "metadata": {},
   "outputs": [
    {
     "data": {
      "text/html": [
       "\n",
       "<style>\n",
       "  #altair-viz-a4cf00e37acf46dabc7d3998bc6f3ca3.vega-embed {\n",
       "    width: 100%;\n",
       "    display: flex;\n",
       "  }\n",
       "\n",
       "  #altair-viz-a4cf00e37acf46dabc7d3998bc6f3ca3.vega-embed details,\n",
       "  #altair-viz-a4cf00e37acf46dabc7d3998bc6f3ca3.vega-embed details summary {\n",
       "    position: relative;\n",
       "  }\n",
       "</style>\n",
       "<div id=\"altair-viz-a4cf00e37acf46dabc7d3998bc6f3ca3\"></div>\n",
       "<script type=\"text/javascript\">\n",
       "  var VEGA_DEBUG = (typeof VEGA_DEBUG == \"undefined\") ? {} : VEGA_DEBUG;\n",
       "  (function(spec, embedOpt){\n",
       "    let outputDiv = document.currentScript.previousElementSibling;\n",
       "    if (outputDiv.id !== \"altair-viz-a4cf00e37acf46dabc7d3998bc6f3ca3\") {\n",
       "      outputDiv = document.getElementById(\"altair-viz-a4cf00e37acf46dabc7d3998bc6f3ca3\");\n",
       "    }\n",
       "    const paths = {\n",
       "      \"vega\": \"https://cdn.jsdelivr.net/npm/vega@5?noext\",\n",
       "      \"vega-lib\": \"https://cdn.jsdelivr.net/npm/vega-lib?noext\",\n",
       "      \"vega-lite\": \"https://cdn.jsdelivr.net/npm/vega-lite@5.17.0?noext\",\n",
       "      \"vega-embed\": \"https://cdn.jsdelivr.net/npm/vega-embed@6?noext\",\n",
       "    };\n",
       "\n",
       "    function maybeLoadScript(lib, version) {\n",
       "      var key = `${lib.replace(\"-\", \"\")}_version`;\n",
       "      return (VEGA_DEBUG[key] == version) ?\n",
       "        Promise.resolve(paths[lib]) :\n",
       "        new Promise(function(resolve, reject) {\n",
       "          var s = document.createElement('script');\n",
       "          document.getElementsByTagName(\"head\")[0].appendChild(s);\n",
       "          s.async = true;\n",
       "          s.onload = () => {\n",
       "            VEGA_DEBUG[key] = version;\n",
       "            return resolve(paths[lib]);\n",
       "          };\n",
       "          s.onerror = () => reject(`Error loading script: ${paths[lib]}`);\n",
       "          s.src = paths[lib];\n",
       "        });\n",
       "    }\n",
       "\n",
       "    function showError(err) {\n",
       "      outputDiv.innerHTML = `<div class=\"error\" style=\"color:red;\">${err}</div>`;\n",
       "      throw err;\n",
       "    }\n",
       "\n",
       "    function displayChart(vegaEmbed) {\n",
       "      vegaEmbed(outputDiv, spec, embedOpt)\n",
       "        .catch(err => showError(`Javascript Error: ${err.message}<br>This usually means there's a typo in your chart specification. See the javascript console for the full traceback.`));\n",
       "    }\n",
       "\n",
       "    if(typeof define === \"function\" && define.amd) {\n",
       "      requirejs.config({paths});\n",
       "      require([\"vega-embed\"], displayChart, err => showError(`Error loading script: ${err.message}`));\n",
       "    } else {\n",
       "      maybeLoadScript(\"vega\", \"5\")\n",
       "        .then(() => maybeLoadScript(\"vega-lite\", \"5.17.0\"))\n",
       "        .then(() => maybeLoadScript(\"vega-embed\", \"6\"))\n",
       "        .catch(showError)\n",
       "        .then(() => displayChart(vegaEmbed));\n",
       "    }\n",
       "  })({\"$schema\": \"https://vega.github.io/schema/vega/v5.json\", \"data\": [{\"name\": \"source_0\", \"values\": [{\"__count\": 409, \"bin_maxbins_20_station_swe\": 0.2, \"bin_maxbins_20_station_swe_end\": 0.30000000000000004}, {\"__count\": 265, \"bin_maxbins_20_station_swe\": 0.4, \"bin_maxbins_20_station_swe_end\": 0.5}, {\"__count\": 399, \"bin_maxbins_20_station_swe\": 0.30000000000000004, \"bin_maxbins_20_station_swe_end\": 0.4}, {\"__count\": 256, \"bin_maxbins_20_station_swe\": 0.1, \"bin_maxbins_20_station_swe_end\": 0.2}, {\"__count\": 138, \"bin_maxbins_20_station_swe\": 0.0, \"bin_maxbins_20_station_swe_end\": 0.1}, {\"__count\": 99, \"bin_maxbins_20_station_swe\": 0.6000000000000001, \"bin_maxbins_20_station_swe_end\": 0.7000000000000001}, {\"__count\": 51, \"bin_maxbins_20_station_swe\": 0.7000000000000001, \"bin_maxbins_20_station_swe_end\": 0.8}, {\"__count\": 15, \"bin_maxbins_20_station_swe\": 0.9, \"bin_maxbins_20_station_swe_end\": 1.0}, {\"__count\": 166, \"bin_maxbins_20_station_swe\": 0.5, \"bin_maxbins_20_station_swe_end\": 0.6}, {\"__count\": 30, \"bin_maxbins_20_station_swe\": 0.8, \"bin_maxbins_20_station_swe_end\": 0.9}, {\"__count\": 13, \"bin_maxbins_20_station_swe\": 1.0, \"bin_maxbins_20_station_swe_end\": 1.1}, {\"__count\": 2, \"bin_maxbins_20_station_swe\": 1.3, \"bin_maxbins_20_station_swe_end\": 1.4000000000000001}, {\"__count\": 11, \"bin_maxbins_20_station_swe\": 1.1, \"bin_maxbins_20_station_swe_end\": 1.2000000000000002}, {\"__count\": 1, \"bin_maxbins_20_station_swe\": 1.6, \"bin_maxbins_20_station_swe_end\": 1.7000000000000002}, {\"__count\": 1, \"bin_maxbins_20_station_swe\": 1.2000000000000002, \"bin_maxbins_20_station_swe_end\": 1.3000000000000003}]}, {\"name\": \"source_1\", \"values\": [{\"__count\": 353, \"bin_maxbins_20_station_swe\": 0.2, \"bin_maxbins_20_station_swe_end\": 0.30000000000000004}, {\"__count\": 365, \"bin_maxbins_20_station_swe\": 0.30000000000000004, \"bin_maxbins_20_station_swe_end\": 0.4}, {\"__count\": 197, \"bin_maxbins_20_station_swe\": 0.1, \"bin_maxbins_20_station_swe_end\": 0.2}, {\"__count\": 276, \"bin_maxbins_20_station_swe\": 0.4, \"bin_maxbins_20_station_swe_end\": 0.5}, {\"__count\": 53, \"bin_maxbins_20_station_swe\": 0.0, \"bin_maxbins_20_station_swe_end\": 0.1}, {\"__count\": 196, \"bin_maxbins_20_station_swe\": 0.5, \"bin_maxbins_20_station_swe_end\": 0.6}, {\"__count\": 97, \"bin_maxbins_20_station_swe\": 0.6000000000000001, \"bin_maxbins_20_station_swe_end\": 0.7000000000000001}, {\"__count\": 51, \"bin_maxbins_20_station_swe\": 0.7000000000000001, \"bin_maxbins_20_station_swe_end\": 0.8}, {\"__count\": 27, \"bin_maxbins_20_station_swe\": 0.8, \"bin_maxbins_20_station_swe_end\": 0.9}, {\"__count\": 12, \"bin_maxbins_20_station_swe\": 0.9, \"bin_maxbins_20_station_swe_end\": 1.0}, {\"__count\": 1, \"bin_maxbins_20_station_swe\": 1.2000000000000002, \"bin_maxbins_20_station_swe_end\": 1.3000000000000003}, {\"__count\": 4, \"bin_maxbins_20_station_swe\": 1.0, \"bin_maxbins_20_station_swe_end\": 1.1}]}, {\"name\": \"source_2\", \"values\": [{\"__count\": 469, \"bin_maxbins_20_station_swe\": 0.6000000000000001, \"bin_maxbins_20_station_swe_end\": 0.8}, {\"__count\": 883, \"bin_maxbins_20_station_swe\": 0.4, \"bin_maxbins_20_station_swe_end\": 0.6000000000000001}, {\"__count\": 1373, \"bin_maxbins_20_station_swe\": 0.2, \"bin_maxbins_20_station_swe_end\": 0.4}, {\"__count\": 283, \"bin_maxbins_20_station_swe\": 0.8, \"bin_maxbins_20_station_swe_end\": 1.0}, {\"__count\": 269, \"bin_maxbins_20_station_swe\": 0.0, \"bin_maxbins_20_station_swe_end\": 0.2}, {\"__count\": 114, \"bin_maxbins_20_station_swe\": 1.2000000000000002, \"bin_maxbins_20_station_swe_end\": 1.4000000000000001}, {\"__count\": 23, \"bin_maxbins_20_station_swe\": 1.6, \"bin_maxbins_20_station_swe_end\": 1.8}, {\"__count\": 166, \"bin_maxbins_20_station_swe\": 1.0, \"bin_maxbins_20_station_swe_end\": 1.2}, {\"__count\": 3, \"bin_maxbins_20_station_swe\": 2.0, \"bin_maxbins_20_station_swe_end\": 2.2}, {\"__count\": 11, \"bin_maxbins_20_station_swe\": 1.8, \"bin_maxbins_20_station_swe_end\": 2.0}, {\"__count\": 51, \"bin_maxbins_20_station_swe\": 1.4000000000000001, \"bin_maxbins_20_station_swe_end\": 1.6}, {\"__count\": 2, \"bin_maxbins_20_station_swe\": 2.4000000000000004, \"bin_maxbins_20_station_swe_end\": 2.6000000000000005}, {\"__count\": 1, \"bin_maxbins_20_station_swe\": 2.2, \"bin_maxbins_20_station_swe_end\": 2.4000000000000004}]}, {\"name\": \"source_3\", \"values\": [{\"__count\": 509, \"bin_maxbins_20_station_swe\": 0.0, \"bin_maxbins_20_station_swe_end\": 0.2}, {\"__count\": 1057, \"bin_maxbins_20_station_swe\": 0.4, \"bin_maxbins_20_station_swe_end\": 0.6000000000000001}, {\"__count\": 1550, \"bin_maxbins_20_station_swe\": 0.2, \"bin_maxbins_20_station_swe_end\": 0.4}, {\"__count\": 258, \"bin_maxbins_20_station_swe\": 0.8, \"bin_maxbins_20_station_swe_end\": 1.0}, {\"__count\": 129, \"bin_maxbins_20_station_swe\": 1.0, \"bin_maxbins_20_station_swe_end\": 1.2}, {\"__count\": 539, \"bin_maxbins_20_station_swe\": 0.6000000000000001, \"bin_maxbins_20_station_swe_end\": 0.8}, {\"__count\": 22, \"bin_maxbins_20_station_swe\": 1.6, \"bin_maxbins_20_station_swe_end\": 1.8}, {\"__count\": 63, \"bin_maxbins_20_station_swe\": 1.2000000000000002, \"bin_maxbins_20_station_swe_end\": 1.4000000000000001}, {\"__count\": 34, \"bin_maxbins_20_station_swe\": 1.4000000000000001, \"bin_maxbins_20_station_swe_end\": 1.6}, {\"__count\": 16, \"bin_maxbins_20_station_swe\": 1.8, \"bin_maxbins_20_station_swe_end\": 2.0}, {\"__count\": 8, \"bin_maxbins_20_station_swe\": 2.0, \"bin_maxbins_20_station_swe_end\": 2.2}, {\"__count\": 2, \"bin_maxbins_20_station_swe\": 2.4000000000000004, \"bin_maxbins_20_station_swe_end\": 2.6000000000000005}, {\"__count\": 3, \"bin_maxbins_20_station_swe\": 2.2, \"bin_maxbins_20_station_swe_end\": 2.4000000000000004}, {\"__count\": 2, \"bin_maxbins_20_station_swe\": 2.6, \"bin_maxbins_20_station_swe_end\": 2.8000000000000003}]}, {\"name\": \"source_4\", \"values\": [{\"__count\": 591, \"bin_maxbins_20_station_swe\": 0.4, \"bin_maxbins_20_station_swe_end\": 0.6000000000000001}, {\"__count\": 493, \"bin_maxbins_20_station_swe\": 0.6000000000000001, \"bin_maxbins_20_station_swe_end\": 0.8}, {\"__count\": 340, \"bin_maxbins_20_station_swe\": 0.8, \"bin_maxbins_20_station_swe_end\": 1.0}, {\"__count\": 172, \"bin_maxbins_20_station_swe\": 1.0, \"bin_maxbins_20_station_swe_end\": 1.2}, {\"__count\": 575, \"bin_maxbins_20_station_swe\": 0.2, \"bin_maxbins_20_station_swe_end\": 0.4}, {\"__count\": 448, \"bin_maxbins_20_station_swe\": 0.0, \"bin_maxbins_20_station_swe_end\": 0.2}, {\"__count\": 77, \"bin_maxbins_20_station_swe\": 1.4000000000000001, \"bin_maxbins_20_station_swe_end\": 1.6}, {\"__count\": 36, \"bin_maxbins_20_station_swe\": 1.6, \"bin_maxbins_20_station_swe_end\": 1.8}, {\"__count\": 128, \"bin_maxbins_20_station_swe\": 1.2000000000000002, \"bin_maxbins_20_station_swe_end\": 1.4000000000000001}, {\"__count\": 16, \"bin_maxbins_20_station_swe\": 2.0, \"bin_maxbins_20_station_swe_end\": 2.2}, {\"__count\": 9, \"bin_maxbins_20_station_swe\": 2.2, \"bin_maxbins_20_station_swe_end\": 2.4000000000000004}, {\"__count\": 24, \"bin_maxbins_20_station_swe\": 1.8, \"bin_maxbins_20_station_swe_end\": 2.0}, {\"__count\": 1, \"bin_maxbins_20_station_swe\": 2.6, \"bin_maxbins_20_station_swe_end\": 2.8000000000000003}, {\"__count\": 2, \"bin_maxbins_20_station_swe\": 2.4000000000000004, \"bin_maxbins_20_station_swe_end\": 2.6000000000000005}]}, {\"name\": \"source_0_concat_0_y_domain___count\", \"values\": [{\"min\": 1, \"max\": 409}]}, {\"name\": \"source_1_concat_1_y_domain___count\", \"values\": [{\"min\": 1, \"max\": 365}]}, {\"name\": \"source_2_concat_2_y_domain___count\", \"values\": [{\"min\": 1, \"max\": 1373}]}, {\"name\": \"source_3_concat_3_y_domain___count\", \"values\": [{\"min\": 2, \"max\": 1550}]}, {\"name\": \"source_4_concat_4_y_domain___count\", \"values\": [{\"min\": 1, \"max\": 591}]}], \"signals\": [{\"name\": \"concat_1_bin_maxbins_20_station_swe_bins\", \"value\": {\"fields\": [\"station_swe\"], \"fname\": \"bin_station_swe\", \"start\": 0.0, \"step\": 0.1, \"stop\": 1.3}}, {\"name\": \"concat_3_bin_maxbins_20_station_swe_bins\", \"value\": {\"fields\": [\"station_swe\"], \"fname\": \"bin_station_swe\", \"start\": 0.0, \"step\": 0.2, \"stop\": 2.8000000000000003}}, {\"name\": \"concat_4_bin_maxbins_20_station_swe_bins\", \"value\": {\"fields\": [\"station_swe\"], \"fname\": \"bin_station_swe\", \"start\": 0.0, \"step\": 0.2, \"stop\": 2.8000000000000003}}, {\"name\": \"concat_0_bin_maxbins_20_station_swe_bins\", \"value\": {\"fields\": [\"station_swe\"], \"fname\": \"bin_station_swe\", \"start\": 0.0, \"step\": 0.1, \"stop\": 1.7000000000000002}}, {\"name\": \"concat_2_bin_maxbins_20_station_swe_bins\", \"value\": {\"fields\": [\"station_swe\"], \"fname\": \"bin_station_swe\", \"start\": 0.0, \"step\": 0.2, \"stop\": 2.6}}, {\"name\": \"childWidth\", \"value\": 200}], \"marks\": [{\"type\": \"group\", \"name\": \"concat_0_group\", \"encode\": {\"update\": {\"height\": {\"signal\": \"height\"}, \"width\": {\"signal\": \"childWidth\"}}}, \"marks\": [{\"type\": \"rect\", \"name\": \"concat_0_marks\", \"from\": {\"data\": \"source_0\"}, \"encode\": {\"update\": {\"fill\": {\"value\": \"#4c78a8\"}, \"y\": {\"field\": \"__count\", \"scale\": \"concat_0_y\"}, \"x2\": {\"field\": \"bin_maxbins_20_station_swe\", \"scale\": \"concat_0_x\", \"offset\": {\"signal\": \"0.5 + (abs(scale(\\\"concat_0_x\\\", datum[\\\"bin_maxbins_20_station_swe_end\\\"]) - scale(\\\"concat_0_x\\\", datum[\\\"bin_maxbins_20_station_swe\\\"])) < 0.25 ? -0.5 * (0.25 - (abs(scale(\\\"concat_0_x\\\", datum[\\\"bin_maxbins_20_station_swe_end\\\"]) - scale(\\\"concat_0_x\\\", datum[\\\"bin_maxbins_20_station_swe\\\"])))) : 0.5)\"}}, \"y2\": {\"value\": 0, \"scale\": \"concat_0_y\"}, \"x\": {\"field\": \"bin_maxbins_20_station_swe_end\", \"scale\": \"concat_0_x\", \"offset\": {\"signal\": \"0.5 + (abs(scale(\\\"concat_0_x\\\", datum[\\\"bin_maxbins_20_station_swe_end\\\"]) - scale(\\\"concat_0_x\\\", datum[\\\"bin_maxbins_20_station_swe\\\"])) < 0.25 ? 0.5 * (0.25 - (abs(scale(\\\"concat_0_x\\\", datum[\\\"bin_maxbins_20_station_swe_end\\\"]) - scale(\\\"concat_0_x\\\", datum[\\\"bin_maxbins_20_station_swe\\\"])))) : -0.5)\"}}}}, \"style\": [\"bar\"]}], \"axes\": [{\"scale\": \"concat_0_y\", \"grid\": true, \"domain\": false, \"minExtent\": 0, \"zindex\": 0, \"ticks\": false, \"maxExtent\": 0, \"gridScale\": \"concat_0_x\", \"labels\": false, \"orient\": \"left\", \"tickCount\": {\"signal\": \"ceil(height/40)\"}, \"aria\": false}, {\"scale\": \"concat_0_x\", \"zindex\": 0, \"orient\": \"bottom\", \"labelOverlap\": true, \"title\": \"station_swe (binned)\", \"grid\": false, \"labelFlush\": true, \"tickCount\": {\"signal\": \"ceil(childWidth/10)\"}}, {\"scale\": \"concat_0_y\", \"zindex\": 0, \"orient\": \"left\", \"grid\": false, \"title\": \"Count of Records\", \"labelOverlap\": true, \"tickCount\": {\"signal\": \"ceil(height/40)\"}}], \"title\": {\"text\": \"Cluster 0\", \"frame\": \"group\"}, \"style\": \"cell\"}, {\"type\": \"group\", \"name\": \"concat_1_group\", \"encode\": {\"update\": {\"height\": {\"signal\": \"height\"}, \"width\": {\"signal\": \"childWidth\"}}}, \"marks\": [{\"type\": \"rect\", \"name\": \"concat_1_marks\", \"from\": {\"data\": \"source_1\"}, \"encode\": {\"update\": {\"y\": {\"field\": \"__count\", \"scale\": \"concat_1_y\"}, \"x\": {\"field\": \"bin_maxbins_20_station_swe_end\", \"scale\": \"concat_1_x\", \"offset\": {\"signal\": \"0.5 + (abs(scale(\\\"concat_1_x\\\", datum[\\\"bin_maxbins_20_station_swe_end\\\"]) - scale(\\\"concat_1_x\\\", datum[\\\"bin_maxbins_20_station_swe\\\"])) < 0.25 ? 0.5 * (0.25 - (abs(scale(\\\"concat_1_x\\\", datum[\\\"bin_maxbins_20_station_swe_end\\\"]) - scale(\\\"concat_1_x\\\", datum[\\\"bin_maxbins_20_station_swe\\\"])))) : -0.5)\"}}, \"y2\": {\"value\": 0, \"scale\": \"concat_1_y\"}, \"fill\": {\"value\": \"#4c78a8\"}, \"x2\": {\"field\": \"bin_maxbins_20_station_swe\", \"scale\": \"concat_1_x\", \"offset\": {\"signal\": \"0.5 + (abs(scale(\\\"concat_1_x\\\", datum[\\\"bin_maxbins_20_station_swe_end\\\"]) - scale(\\\"concat_1_x\\\", datum[\\\"bin_maxbins_20_station_swe\\\"])) < 0.25 ? -0.5 * (0.25 - (abs(scale(\\\"concat_1_x\\\", datum[\\\"bin_maxbins_20_station_swe_end\\\"]) - scale(\\\"concat_1_x\\\", datum[\\\"bin_maxbins_20_station_swe\\\"])))) : 0.5)\"}}}}, \"style\": [\"bar\"]}], \"axes\": [{\"scale\": \"concat_1_y\", \"orient\": \"left\", \"labels\": false, \"maxExtent\": 0, \"domain\": false, \"gridScale\": \"concat_1_x\", \"ticks\": false, \"minExtent\": 0, \"grid\": true, \"zindex\": 0, \"aria\": false, \"tickCount\": {\"signal\": \"ceil(height/40)\"}}, {\"scale\": \"concat_1_x\", \"title\": \"station_swe (binned)\", \"grid\": false, \"labelOverlap\": true, \"orient\": \"bottom\", \"labelFlush\": true, \"zindex\": 0, \"tickCount\": {\"signal\": \"ceil(childWidth/10)\"}}, {\"scale\": \"concat_1_y\", \"labelOverlap\": true, \"orient\": \"left\", \"tickCount\": {\"signal\": \"ceil(height/40)\"}, \"zindex\": 0, \"grid\": false, \"title\": \"Count of Records\"}], \"title\": {\"text\": \"Cluster 1\", \"frame\": \"group\"}, \"style\": \"cell\"}, {\"type\": \"group\", \"name\": \"concat_2_group\", \"encode\": {\"update\": {\"width\": {\"signal\": \"childWidth\"}, \"height\": {\"signal\": \"height\"}}}, \"marks\": [{\"type\": \"rect\", \"name\": \"concat_2_marks\", \"from\": {\"data\": \"source_2\"}, \"encode\": {\"update\": {\"x2\": {\"field\": \"bin_maxbins_20_station_swe\", \"scale\": \"concat_2_x\", \"offset\": {\"signal\": \"0.5 + (abs(scale(\\\"concat_2_x\\\", datum[\\\"bin_maxbins_20_station_swe_end\\\"]) - scale(\\\"concat_2_x\\\", datum[\\\"bin_maxbins_20_station_swe\\\"])) < 0.25 ? -0.5 * (0.25 - (abs(scale(\\\"concat_2_x\\\", datum[\\\"bin_maxbins_20_station_swe_end\\\"]) - scale(\\\"concat_2_x\\\", datum[\\\"bin_maxbins_20_station_swe\\\"])))) : 0.5)\"}}, \"x\": {\"field\": \"bin_maxbins_20_station_swe_end\", \"scale\": \"concat_2_x\", \"offset\": {\"signal\": \"0.5 + (abs(scale(\\\"concat_2_x\\\", datum[\\\"bin_maxbins_20_station_swe_end\\\"]) - scale(\\\"concat_2_x\\\", datum[\\\"bin_maxbins_20_station_swe\\\"])) < 0.25 ? 0.5 * (0.25 - (abs(scale(\\\"concat_2_x\\\", datum[\\\"bin_maxbins_20_station_swe_end\\\"]) - scale(\\\"concat_2_x\\\", datum[\\\"bin_maxbins_20_station_swe\\\"])))) : -0.5)\"}}, \"y\": {\"field\": \"__count\", \"scale\": \"concat_2_y\"}, \"y2\": {\"value\": 0, \"scale\": \"concat_2_y\"}, \"fill\": {\"value\": \"#4c78a8\"}}}, \"style\": [\"bar\"]}], \"axes\": [{\"scale\": \"concat_2_y\", \"ticks\": false, \"domain\": false, \"zindex\": 0, \"maxExtent\": 0, \"aria\": false, \"gridScale\": \"concat_2_x\", \"grid\": true, \"tickCount\": {\"signal\": \"ceil(height/40)\"}, \"minExtent\": 0, \"labels\": false, \"orient\": \"left\"}, {\"scale\": \"concat_2_x\", \"labelFlush\": true, \"tickCount\": {\"signal\": \"ceil(childWidth/10)\"}, \"title\": \"station_swe (binned)\", \"grid\": false, \"labelOverlap\": true, \"orient\": \"bottom\", \"zindex\": 0}, {\"scale\": \"concat_2_y\", \"labelOverlap\": true, \"grid\": false, \"zindex\": 0, \"tickCount\": {\"signal\": \"ceil(height/40)\"}, \"orient\": \"left\", \"title\": \"Count of Records\"}], \"title\": {\"text\": \"Cluster 2\", \"frame\": \"group\"}, \"style\": \"cell\"}, {\"type\": \"group\", \"name\": \"concat_3_group\", \"encode\": {\"update\": {\"width\": {\"signal\": \"childWidth\"}, \"height\": {\"signal\": \"height\"}}}, \"marks\": [{\"type\": \"rect\", \"name\": \"concat_3_marks\", \"from\": {\"data\": \"source_3\"}, \"encode\": {\"update\": {\"x2\": {\"field\": \"bin_maxbins_20_station_swe\", \"scale\": \"concat_3_x\", \"offset\": {\"signal\": \"0.5 + (abs(scale(\\\"concat_3_x\\\", datum[\\\"bin_maxbins_20_station_swe_end\\\"]) - scale(\\\"concat_3_x\\\", datum[\\\"bin_maxbins_20_station_swe\\\"])) < 0.25 ? -0.5 * (0.25 - (abs(scale(\\\"concat_3_x\\\", datum[\\\"bin_maxbins_20_station_swe_end\\\"]) - scale(\\\"concat_3_x\\\", datum[\\\"bin_maxbins_20_station_swe\\\"])))) : 0.5)\"}}, \"x\": {\"field\": \"bin_maxbins_20_station_swe_end\", \"scale\": \"concat_3_x\", \"offset\": {\"signal\": \"0.5 + (abs(scale(\\\"concat_3_x\\\", datum[\\\"bin_maxbins_20_station_swe_end\\\"]) - scale(\\\"concat_3_x\\\", datum[\\\"bin_maxbins_20_station_swe\\\"])) < 0.25 ? 0.5 * (0.25 - (abs(scale(\\\"concat_3_x\\\", datum[\\\"bin_maxbins_20_station_swe_end\\\"]) - scale(\\\"concat_3_x\\\", datum[\\\"bin_maxbins_20_station_swe\\\"])))) : -0.5)\"}}, \"y\": {\"field\": \"__count\", \"scale\": \"concat_3_y\"}, \"fill\": {\"value\": \"#4c78a8\"}, \"y2\": {\"value\": 0, \"scale\": \"concat_3_y\"}}}, \"style\": [\"bar\"]}], \"axes\": [{\"scale\": \"concat_3_y\", \"minExtent\": 0, \"tickCount\": {\"signal\": \"ceil(height/40)\"}, \"grid\": true, \"labels\": false, \"orient\": \"left\", \"aria\": false, \"maxExtent\": 0, \"ticks\": false, \"zindex\": 0, \"domain\": false, \"gridScale\": \"concat_3_x\"}, {\"scale\": \"concat_3_x\", \"zindex\": 0, \"orient\": \"bottom\", \"grid\": false, \"title\": \"station_swe (binned)\", \"labelFlush\": true, \"labelOverlap\": true, \"tickCount\": {\"signal\": \"ceil(childWidth/10)\"}}, {\"scale\": \"concat_3_y\", \"orient\": \"left\", \"grid\": false, \"labelOverlap\": true, \"tickCount\": {\"signal\": \"ceil(height/40)\"}, \"title\": \"Count of Records\", \"zindex\": 0}], \"title\": {\"text\": \"Cluster 3\", \"frame\": \"group\"}, \"style\": \"cell\"}, {\"type\": \"group\", \"name\": \"concat_4_group\", \"encode\": {\"update\": {\"height\": {\"signal\": \"height\"}, \"width\": {\"signal\": \"childWidth\"}}}, \"marks\": [{\"type\": \"rect\", \"name\": \"concat_4_marks\", \"from\": {\"data\": \"source_4\"}, \"encode\": {\"update\": {\"fill\": {\"value\": \"#4c78a8\"}, \"x2\": {\"field\": \"bin_maxbins_20_station_swe\", \"scale\": \"concat_4_x\", \"offset\": {\"signal\": \"0.5 + (abs(scale(\\\"concat_4_x\\\", datum[\\\"bin_maxbins_20_station_swe_end\\\"]) - scale(\\\"concat_4_x\\\", datum[\\\"bin_maxbins_20_station_swe\\\"])) < 0.25 ? -0.5 * (0.25 - (abs(scale(\\\"concat_4_x\\\", datum[\\\"bin_maxbins_20_station_swe_end\\\"]) - scale(\\\"concat_4_x\\\", datum[\\\"bin_maxbins_20_station_swe\\\"])))) : 0.5)\"}}, \"y2\": {\"value\": 0, \"scale\": \"concat_4_y\"}, \"y\": {\"field\": \"__count\", \"scale\": \"concat_4_y\"}, \"x\": {\"field\": \"bin_maxbins_20_station_swe_end\", \"scale\": \"concat_4_x\", \"offset\": {\"signal\": \"0.5 + (abs(scale(\\\"concat_4_x\\\", datum[\\\"bin_maxbins_20_station_swe_end\\\"]) - scale(\\\"concat_4_x\\\", datum[\\\"bin_maxbins_20_station_swe\\\"])) < 0.25 ? 0.5 * (0.25 - (abs(scale(\\\"concat_4_x\\\", datum[\\\"bin_maxbins_20_station_swe_end\\\"]) - scale(\\\"concat_4_x\\\", datum[\\\"bin_maxbins_20_station_swe\\\"])))) : -0.5)\"}}}}, \"style\": [\"bar\"]}], \"axes\": [{\"scale\": \"concat_4_y\", \"aria\": false, \"ticks\": false, \"tickCount\": {\"signal\": \"ceil(height/40)\"}, \"minExtent\": 0, \"grid\": true, \"labels\": false, \"domain\": false, \"gridScale\": \"concat_4_x\", \"maxExtent\": 0, \"zindex\": 0, \"orient\": \"left\"}, {\"scale\": \"concat_4_x\", \"title\": \"station_swe (binned)\", \"tickCount\": {\"signal\": \"ceil(childWidth/10)\"}, \"labelOverlap\": true, \"grid\": false, \"labelFlush\": true, \"zindex\": 0, \"orient\": \"bottom\"}, {\"scale\": \"concat_4_y\", \"tickCount\": {\"signal\": \"ceil(height/40)\"}, \"title\": \"Count of Records\", \"zindex\": 0, \"labelOverlap\": true, \"orient\": \"left\", \"grid\": false}], \"title\": {\"text\": \"Cluster 4\", \"frame\": \"group\"}, \"style\": \"cell\"}], \"scales\": [{\"name\": \"concat_0_x\", \"type\": \"linear\", \"domain\": {\"signal\": \"[concat_0_bin_maxbins_20_station_swe_bins.start, concat_0_bin_maxbins_20_station_swe_bins.stop]\"}, \"range\": [0, {\"signal\": \"childWidth\"}], \"bins\": {\"signal\": \"concat_0_bin_maxbins_20_station_swe_bins\"}, \"zero\": false}, {\"name\": \"concat_0_y\", \"type\": \"linear\", \"domain\": [{\"signal\": \"(data(\\\"source_0_concat_0_y_domain___count\\\")[0] || {}).min\"}, {\"signal\": \"(data(\\\"source_0_concat_0_y_domain___count\\\")[0] || {}).max\"}], \"range\": [{\"signal\": \"height\"}, 0], \"zero\": true, \"nice\": true}, {\"name\": \"concat_1_x\", \"type\": \"linear\", \"domain\": {\"signal\": \"[concat_1_bin_maxbins_20_station_swe_bins.start, concat_1_bin_maxbins_20_station_swe_bins.stop]\"}, \"range\": [0, {\"signal\": \"childWidth\"}], \"bins\": {\"signal\": \"concat_1_bin_maxbins_20_station_swe_bins\"}, \"zero\": false}, {\"name\": \"concat_1_y\", \"type\": \"linear\", \"domain\": [{\"signal\": \"(data(\\\"source_1_concat_1_y_domain___count\\\")[0] || {}).min\"}, {\"signal\": \"(data(\\\"source_1_concat_1_y_domain___count\\\")[0] || {}).max\"}], \"range\": [{\"signal\": \"height\"}, 0], \"zero\": true, \"nice\": true}, {\"name\": \"concat_2_x\", \"type\": \"linear\", \"domain\": {\"signal\": \"[concat_2_bin_maxbins_20_station_swe_bins.start, concat_2_bin_maxbins_20_station_swe_bins.stop]\"}, \"range\": [0, {\"signal\": \"childWidth\"}], \"bins\": {\"signal\": \"concat_2_bin_maxbins_20_station_swe_bins\"}, \"zero\": false}, {\"name\": \"concat_2_y\", \"type\": \"linear\", \"domain\": [{\"signal\": \"(data(\\\"source_2_concat_2_y_domain___count\\\")[0] || {}).min\"}, {\"signal\": \"(data(\\\"source_2_concat_2_y_domain___count\\\")[0] || {}).max\"}], \"range\": [{\"signal\": \"height\"}, 0], \"zero\": true, \"nice\": true}, {\"name\": \"concat_3_x\", \"type\": \"linear\", \"domain\": {\"signal\": \"[concat_3_bin_maxbins_20_station_swe_bins.start, concat_3_bin_maxbins_20_station_swe_bins.stop]\"}, \"range\": [0, {\"signal\": \"childWidth\"}], \"bins\": {\"signal\": \"concat_3_bin_maxbins_20_station_swe_bins\"}, \"zero\": false}, {\"name\": \"concat_3_y\", \"type\": \"linear\", \"domain\": [{\"signal\": \"(data(\\\"source_3_concat_3_y_domain___count\\\")[0] || {}).min\"}, {\"signal\": \"(data(\\\"source_3_concat_3_y_domain___count\\\")[0] || {}).max\"}], \"range\": [{\"signal\": \"height\"}, 0], \"zero\": true, \"nice\": true}, {\"name\": \"concat_4_x\", \"type\": \"linear\", \"domain\": {\"signal\": \"[concat_4_bin_maxbins_20_station_swe_bins.start, concat_4_bin_maxbins_20_station_swe_bins.stop]\"}, \"range\": [0, {\"signal\": \"childWidth\"}], \"bins\": {\"signal\": \"concat_4_bin_maxbins_20_station_swe_bins\"}, \"zero\": false}, {\"name\": \"concat_4_y\", \"type\": \"linear\", \"domain\": [{\"signal\": \"(data(\\\"source_4_concat_4_y_domain___count\\\")[0] || {}).min\"}, {\"signal\": \"(data(\\\"source_4_concat_4_y_domain___count\\\")[0] || {}).max\"}], \"range\": [{\"signal\": \"height\"}, 0], \"zero\": true, \"nice\": true}], \"padding\": 5, \"height\": 200, \"background\": \"white\", \"layout\": {\"padding\": 20, \"bounds\": \"full\", \"align\": \"each\"}}, {\"mode\": \"vega\"});\n",
       "</script>"
      ],
      "text/plain": [
       "alt.HConcatChart(...)"
      ]
     },
     "execution_count": 62,
     "metadata": {},
     "output_type": "execute_result"
    }
   ],
   "source": [
    "df_reset = df[df['cluster']==0].reset_index()\n",
    "\n",
    "cluster0 = alt.Chart(df_reset[['station_swe']]).mark_bar().encode(\n",
    "    alt.X(\"station_swe:Q\").bin(maxbins=20),\n",
    "    y='count()',\n",
    ").properties(title='Cluster 0',width=200,height=200)\n",
    "\n",
    "df_reset = df[df['cluster']==1].reset_index()\n",
    "cluster1 = alt.Chart(df_reset[['station_swe']]).mark_bar().encode(\n",
    "    alt.X(\"station_swe:Q\").bin(maxbins=20),\n",
    "    y='count()',\n",
    ").properties(title='Cluster 1',width=200,height=200)\n",
    "\n",
    "df_reset = df[df['cluster']==2].reset_index()\n",
    "cluster2 = alt.Chart(df_reset[['station_swe']]).mark_bar().encode(\n",
    "    alt.X(\"station_swe:Q\").bin(maxbins=20),\n",
    "    y='count()',\n",
    ").properties(title='Cluster 2',width=200,height=200)\n",
    "\n",
    "df_reset = df[df['cluster']==3].reset_index()\n",
    "cluster3 = alt.Chart(df_reset[['station_swe']]).mark_bar().encode(\n",
    "    alt.X(\"station_swe:Q\").bin(maxbins=20),\n",
    "    y='count()',\n",
    ").properties(title='Cluster 3',width=200,height=200)\n",
    "\n",
    "df_reset = df[df['cluster']==4].reset_index()\n",
    "cluster4 = alt.Chart(df_reset[['station_swe']]).mark_bar().encode(\n",
    "    alt.X(\"station_swe:Q\").bin(maxbins=20),\n",
    "    y='count()',\n",
    ").properties(title='Cluster 4',width=200,height=200)\n",
    "\n",
    "combined = alt.hconcat(cluster0, cluster1, cluster2, cluster3, cluster4)\n",
    "combined"
   ]
  },
  {
   "cell_type": "code",
   "execution_count": 84,
   "id": "bb2de741-67bd-42d7-aaf4-d89c4b0e90c9",
   "metadata": {},
   "outputs": [
    {
     "data": {
      "text/html": [
       "\n",
       "<style>\n",
       "  #altair-viz-c891422f2b544ec9b0b8ab6c8e218d5c.vega-embed {\n",
       "    width: 100%;\n",
       "    display: flex;\n",
       "  }\n",
       "\n",
       "  #altair-viz-c891422f2b544ec9b0b8ab6c8e218d5c.vega-embed details,\n",
       "  #altair-viz-c891422f2b544ec9b0b8ab6c8e218d5c.vega-embed details summary {\n",
       "    position: relative;\n",
       "  }\n",
       "</style>\n",
       "<div id=\"altair-viz-c891422f2b544ec9b0b8ab6c8e218d5c\"></div>\n",
       "<script type=\"text/javascript\">\n",
       "  var VEGA_DEBUG = (typeof VEGA_DEBUG == \"undefined\") ? {} : VEGA_DEBUG;\n",
       "  (function(spec, embedOpt){\n",
       "    let outputDiv = document.currentScript.previousElementSibling;\n",
       "    if (outputDiv.id !== \"altair-viz-c891422f2b544ec9b0b8ab6c8e218d5c\") {\n",
       "      outputDiv = document.getElementById(\"altair-viz-c891422f2b544ec9b0b8ab6c8e218d5c\");\n",
       "    }\n",
       "    const paths = {\n",
       "      \"vega\": \"https://cdn.jsdelivr.net/npm/vega@5?noext\",\n",
       "      \"vega-lib\": \"https://cdn.jsdelivr.net/npm/vega-lib?noext\",\n",
       "      \"vega-lite\": \"https://cdn.jsdelivr.net/npm/vega-lite@5.17.0?noext\",\n",
       "      \"vega-embed\": \"https://cdn.jsdelivr.net/npm/vega-embed@6?noext\",\n",
       "    };\n",
       "\n",
       "    function maybeLoadScript(lib, version) {\n",
       "      var key = `${lib.replace(\"-\", \"\")}_version`;\n",
       "      return (VEGA_DEBUG[key] == version) ?\n",
       "        Promise.resolve(paths[lib]) :\n",
       "        new Promise(function(resolve, reject) {\n",
       "          var s = document.createElement('script');\n",
       "          document.getElementsByTagName(\"head\")[0].appendChild(s);\n",
       "          s.async = true;\n",
       "          s.onload = () => {\n",
       "            VEGA_DEBUG[key] = version;\n",
       "            return resolve(paths[lib]);\n",
       "          };\n",
       "          s.onerror = () => reject(`Error loading script: ${paths[lib]}`);\n",
       "          s.src = paths[lib];\n",
       "        });\n",
       "    }\n",
       "\n",
       "    function showError(err) {\n",
       "      outputDiv.innerHTML = `<div class=\"error\" style=\"color:red;\">${err}</div>`;\n",
       "      throw err;\n",
       "    }\n",
       "\n",
       "    function displayChart(vegaEmbed) {\n",
       "      vegaEmbed(outputDiv, spec, embedOpt)\n",
       "        .catch(err => showError(`Javascript Error: ${err.message}<br>This usually means there's a typo in your chart specification. See the javascript console for the full traceback.`));\n",
       "    }\n",
       "\n",
       "    if(typeof define === \"function\" && define.amd) {\n",
       "      requirejs.config({paths});\n",
       "      require([\"vega-embed\"], displayChart, err => showError(`Error loading script: ${err.message}`));\n",
       "    } else {\n",
       "      maybeLoadScript(\"vega\", \"5\")\n",
       "        .then(() => maybeLoadScript(\"vega-lite\", \"5.17.0\"))\n",
       "        .then(() => maybeLoadScript(\"vega-embed\", \"6\"))\n",
       "        .catch(showError)\n",
       "        .then(() => displayChart(vegaEmbed));\n",
       "    }\n",
       "  })({\"$schema\": \"https://vega.github.io/schema/vega/v5.json\", \"data\": [{\"name\": \"source_0\", \"values\": [{\"__count\": 283, \"bin_maxbins_20_log_station_swe\": -2.0, \"bin_maxbins_20_log_station_swe_end\": -1.5}, {\"__count\": 550, \"bin_maxbins_20_log_station_swe\": -1.0, \"bin_maxbins_20_log_station_swe_end\": -0.5}, {\"__count\": 597, \"bin_maxbins_20_log_station_swe\": -1.5, \"bin_maxbins_20_log_station_swe_end\": -1.0}, {\"__count\": 87, \"bin_maxbins_20_log_station_swe\": -2.5, \"bin_maxbins_20_log_station_swe_end\": -2.0}, {\"__count\": 33, \"bin_maxbins_20_log_station_swe\": -3.0, \"bin_maxbins_20_log_station_swe_end\": -2.5}, {\"__count\": 190, \"bin_maxbins_20_log_station_swe\": -0.5, \"bin_maxbins_20_log_station_swe_end\": 0.0}, {\"__count\": 10, \"bin_maxbins_20_log_station_swe\": -4.5, \"bin_maxbins_20_log_station_swe_end\": -4.0}, {\"__count\": 5, \"bin_maxbins_20_log_station_swe\": -5.5, \"bin_maxbins_20_log_station_swe_end\": -5.0}, {\"__count\": 6, \"bin_maxbins_20_log_station_swe\": -5.0, \"bin_maxbins_20_log_station_swe_end\": -4.5}, {\"__count\": 2, \"bin_maxbins_20_log_station_swe\": -6.0, \"bin_maxbins_20_log_station_swe_end\": -5.5}, {\"__count\": 10, \"bin_maxbins_20_log_station_swe\": -3.5, \"bin_maxbins_20_log_station_swe_end\": -3.0}, {\"__count\": 10, \"bin_maxbins_20_log_station_swe\": -4.0, \"bin_maxbins_20_log_station_swe_end\": -3.5}, {\"__count\": 27, \"bin_maxbins_20_log_station_swe\": 0.0, \"bin_maxbins_20_log_station_swe_end\": 0.5}, {\"__count\": 1, \"bin_maxbins_20_log_station_swe\": 0.5, \"bin_maxbins_20_log_station_swe_end\": 1.0}, {\"__count\": 1, \"bin_maxbins_20_log_station_swe\": -7.0, \"bin_maxbins_20_log_station_swe_end\": -6.5}]}, {\"name\": \"source_1\", \"values\": [{\"__count\": 201, \"bin_maxbins_20_log_station_swe\": -2.0, \"bin_maxbins_20_log_station_swe_end\": -1.5}, {\"__count\": 543, \"bin_maxbins_20_log_station_swe\": -1.5, \"bin_maxbins_20_log_station_swe_end\": -1.0}, {\"__count\": 599, \"bin_maxbins_20_log_station_swe\": -1.0, \"bin_maxbins_20_log_station_swe_end\": -0.5}, {\"__count\": 14, \"bin_maxbins_20_log_station_swe\": -3.0, \"bin_maxbins_20_log_station_swe_end\": -2.5}, {\"__count\": 12, \"bin_maxbins_20_log_station_swe\": -3.5, \"bin_maxbins_20_log_station_swe_end\": -3.0}, {\"__count\": 185, \"bin_maxbins_20_log_station_swe\": -0.5, \"bin_maxbins_20_log_station_swe_end\": 0.0}, {\"__count\": 57, \"bin_maxbins_20_log_station_swe\": -2.5, \"bin_maxbins_20_log_station_swe_end\": -2.0}, {\"__count\": 3, \"bin_maxbins_20_log_station_swe\": -5.0, \"bin_maxbins_20_log_station_swe_end\": -4.5}, {\"__count\": 3, \"bin_maxbins_20_log_station_swe\": -4.0, \"bin_maxbins_20_log_station_swe_end\": -3.5}, {\"__count\": 5, \"bin_maxbins_20_log_station_swe\": 0.0, \"bin_maxbins_20_log_station_swe_end\": 0.5}, {\"__count\": 1, \"bin_maxbins_20_log_station_swe\": -5.5, \"bin_maxbins_20_log_station_swe_end\": -5.0}, {\"__count\": 1, \"bin_maxbins_20_log_station_swe\": -4.5, \"bin_maxbins_20_log_station_swe_end\": -4.0}]}, {\"name\": \"source_2\", \"values\": [{\"__count\": 739, \"bin_maxbins_20_log_station_swe\": -0.5, \"bin_maxbins_20_log_station_swe_end\": 0.0}, {\"__count\": 1096, \"bin_maxbins_20_log_station_swe\": -1.0, \"bin_maxbins_20_log_station_swe_end\": -0.5}, {\"__count\": 1042, \"bin_maxbins_20_log_station_swe\": -1.5, \"bin_maxbins_20_log_station_swe_end\": -1.0}, {\"__count\": 329, \"bin_maxbins_20_log_station_swe\": -2.0, \"bin_maxbins_20_log_station_swe_end\": -1.5}, {\"__count\": 336, \"bin_maxbins_20_log_station_swe\": 0.0, \"bin_maxbins_20_log_station_swe_end\": 0.5}, {\"__count\": 35, \"bin_maxbins_20_log_station_swe\": 0.5, \"bin_maxbins_20_log_station_swe_end\": 1.0}, {\"__count\": 43, \"bin_maxbins_20_log_station_swe\": -2.5, \"bin_maxbins_20_log_station_swe_end\": -2.0}, {\"__count\": 15, \"bin_maxbins_20_log_station_swe\": -3.0, \"bin_maxbins_20_log_station_swe_end\": -2.5}, {\"__count\": 5, \"bin_maxbins_20_log_station_swe\": -3.5, \"bin_maxbins_20_log_station_swe_end\": -3.0}]}, {\"name\": \"source_3\", \"values\": [{\"__count\": 372, \"bin_maxbins_20_log_station_swe\": -2.0, \"bin_maxbins_20_log_station_swe_end\": -1.5}, {\"__count\": 4, \"bin_maxbins_20_log_station_swe\": -5.0, \"bin_maxbins_20_log_station_swe_end\": -4.5}, {\"__count\": 1341, \"bin_maxbins_20_log_station_swe\": -1.0, \"bin_maxbins_20_log_station_swe_end\": -0.5}, {\"__count\": 1159, \"bin_maxbins_20_log_station_swe\": -1.5, \"bin_maxbins_20_log_station_swe_end\": -1.0}, {\"__count\": 121, \"bin_maxbins_20_log_station_swe\": -2.5, \"bin_maxbins_20_log_station_swe_end\": -2.0}, {\"__count\": 36, \"bin_maxbins_20_log_station_swe\": -3.0, \"bin_maxbins_20_log_station_swe_end\": -2.5}, {\"__count\": 20, \"bin_maxbins_20_log_station_swe\": -3.5, \"bin_maxbins_20_log_station_swe_end\": -3.0}, {\"__count\": 779, \"bin_maxbins_20_log_station_swe\": -0.5, \"bin_maxbins_20_log_station_swe_end\": 0.0}, {\"__count\": 228, \"bin_maxbins_20_log_station_swe\": 0.0, \"bin_maxbins_20_log_station_swe_end\": 0.5}, {\"__count\": 13, \"bin_maxbins_20_log_station_swe\": -4.0, \"bin_maxbins_20_log_station_swe_end\": -3.5}, {\"__count\": 50, \"bin_maxbins_20_log_station_swe\": 0.5, \"bin_maxbins_20_log_station_swe_end\": 1.0}, {\"__count\": 1, \"bin_maxbins_20_log_station_swe\": -5.5, \"bin_maxbins_20_log_station_swe_end\": -5.0}, {\"__count\": 2, \"bin_maxbins_20_log_station_swe\": -6.0, \"bin_maxbins_20_log_station_swe_end\": -5.5}, {\"__count\": 8, \"bin_maxbins_20_log_station_swe\": -4.5, \"bin_maxbins_20_log_station_swe_end\": -4.0}, {\"__count\": 1, \"bin_maxbins_20_log_station_swe\": 1.0, \"bin_maxbins_20_log_station_swe_end\": 1.5}]}, {\"name\": \"source_4\", \"values\": [{\"__count\": 714, \"bin_maxbins_20_log_station_swe\": -1.0, \"bin_maxbins_20_log_station_swe_end\": -0.5}, {\"__count\": 816, \"bin_maxbins_20_log_station_swe\": -0.5, \"bin_maxbins_20_log_station_swe_end\": 0.0}, {\"__count\": 387, \"bin_maxbins_20_log_station_swe\": 0.0, \"bin_maxbins_20_log_station_swe_end\": 0.5}, {\"__count\": 415, \"bin_maxbins_20_log_station_swe\": -1.5, \"bin_maxbins_20_log_station_swe_end\": -1.0}, {\"__count\": 35, \"bin_maxbins_20_log_station_swe\": -3.5, \"bin_maxbins_20_log_station_swe_end\": -3.0}, {\"__count\": 42, \"bin_maxbins_20_log_station_swe\": -3.0, \"bin_maxbins_20_log_station_swe_end\": -2.5}, {\"__count\": 194, \"bin_maxbins_20_log_station_swe\": -2.0, \"bin_maxbins_20_log_station_swe_end\": -1.5}, {\"__count\": 77, \"bin_maxbins_20_log_station_swe\": 0.5, \"bin_maxbins_20_log_station_swe_end\": 1.0}, {\"__count\": 90, \"bin_maxbins_20_log_station_swe\": -2.5, \"bin_maxbins_20_log_station_swe_end\": -2.0}, {\"__count\": 14, \"bin_maxbins_20_log_station_swe\": -4.5, \"bin_maxbins_20_log_station_swe_end\": -4.0}, {\"__count\": 13, \"bin_maxbins_20_log_station_swe\": -5.0, \"bin_maxbins_20_log_station_swe_end\": -4.5}, {\"__count\": 17, \"bin_maxbins_20_log_station_swe\": -4.0, \"bin_maxbins_20_log_station_swe_end\": -3.5}, {\"__count\": 5, \"bin_maxbins_20_log_station_swe\": -6.0, \"bin_maxbins_20_log_station_swe_end\": -5.5}, {\"__count\": 7, \"bin_maxbins_20_log_station_swe\": -5.5, \"bin_maxbins_20_log_station_swe_end\": -5.0}, {\"__count\": 1, \"bin_maxbins_20_log_station_swe\": 1.0, \"bin_maxbins_20_log_station_swe_end\": 1.5}]}, {\"name\": \"source_0_concat_0_y_domain___count\", \"values\": [{\"min\": 1, \"max\": 597}]}, {\"name\": \"source_1_concat_1_y_domain___count\", \"values\": [{\"min\": 1, \"max\": 599}]}, {\"name\": \"source_2_concat_2_y_domain___count\", \"values\": [{\"min\": 5, \"max\": 1096}]}, {\"name\": \"source_3_concat_3_y_domain___count\", \"values\": [{\"min\": 1, \"max\": 1341}]}, {\"name\": \"source_4_concat_4_y_domain___count\", \"values\": [{\"min\": 1, \"max\": 816}]}], \"signals\": [{\"name\": \"concat_3_bin_maxbins_20_log_station_swe_bins\", \"value\": {\"fields\": [\"log_station_swe\"], \"fname\": \"bin_log_station_swe\", \"start\": -6.0, \"step\": 0.5, \"stop\": 1.5}}, {\"name\": \"concat_0_bin_maxbins_20_log_station_swe_bins\", \"value\": {\"fields\": [\"log_station_swe\"], \"fname\": \"bin_log_station_swe\", \"start\": -7.0, \"step\": 0.5, \"stop\": 1.0}}, {\"name\": \"concat_1_bin_maxbins_20_log_station_swe_bins\", \"value\": {\"fields\": [\"log_station_swe\"], \"fname\": \"bin_log_station_swe\", \"start\": -5.5, \"step\": 0.5, \"stop\": 0.5}}, {\"name\": \"concat_4_bin_maxbins_20_log_station_swe_bins\", \"value\": {\"fields\": [\"log_station_swe\"], \"fname\": \"bin_log_station_swe\", \"start\": -6.0, \"step\": 0.5, \"stop\": 1.5}}, {\"name\": \"concat_2_bin_maxbins_20_log_station_swe_bins\", \"value\": {\"fields\": [\"log_station_swe\"], \"fname\": \"bin_log_station_swe\", \"start\": -3.5, \"step\": 0.5, \"stop\": 1.0}}, {\"name\": \"childWidth\", \"value\": 200}], \"marks\": [{\"type\": \"group\", \"name\": \"concat_0_group\", \"encode\": {\"update\": {\"width\": {\"signal\": \"childWidth\"}, \"height\": {\"signal\": \"height\"}}}, \"marks\": [{\"type\": \"rect\", \"name\": \"concat_0_marks\", \"from\": {\"data\": \"source_0\"}, \"encode\": {\"update\": {\"x\": {\"field\": \"bin_maxbins_20_log_station_swe_end\", \"scale\": \"concat_0_x\", \"offset\": {\"signal\": \"0.5 + (abs(scale(\\\"concat_0_x\\\", datum[\\\"bin_maxbins_20_log_station_swe_end\\\"]) - scale(\\\"concat_0_x\\\", datum[\\\"bin_maxbins_20_log_station_swe\\\"])) < 0.25 ? 0.5 * (0.25 - (abs(scale(\\\"concat_0_x\\\", datum[\\\"bin_maxbins_20_log_station_swe_end\\\"]) - scale(\\\"concat_0_x\\\", datum[\\\"bin_maxbins_20_log_station_swe\\\"])))) : -0.5)\"}}, \"y\": {\"field\": \"__count\", \"scale\": \"concat_0_y\"}, \"y2\": {\"value\": 0, \"scale\": \"concat_0_y\"}, \"fill\": {\"value\": \"#4c78a8\"}, \"x2\": {\"field\": \"bin_maxbins_20_log_station_swe\", \"scale\": \"concat_0_x\", \"offset\": {\"signal\": \"0.5 + (abs(scale(\\\"concat_0_x\\\", datum[\\\"bin_maxbins_20_log_station_swe_end\\\"]) - scale(\\\"concat_0_x\\\", datum[\\\"bin_maxbins_20_log_station_swe\\\"])) < 0.25 ? -0.5 * (0.25 - (abs(scale(\\\"concat_0_x\\\", datum[\\\"bin_maxbins_20_log_station_swe_end\\\"]) - scale(\\\"concat_0_x\\\", datum[\\\"bin_maxbins_20_log_station_swe\\\"])))) : 0.5)\"}}}}, \"style\": [\"bar\"]}], \"axes\": [{\"scale\": \"concat_0_y\", \"domain\": false, \"minExtent\": 0, \"ticks\": false, \"zindex\": 0, \"aria\": false, \"gridScale\": \"concat_0_x\", \"orient\": \"left\", \"maxExtent\": 0, \"tickCount\": {\"signal\": \"ceil(height/40)\"}, \"grid\": true, \"labels\": false}, {\"scale\": \"concat_0_x\", \"tickCount\": {\"signal\": \"ceil(childWidth/10)\"}, \"zindex\": 0, \"orient\": \"bottom\", \"grid\": false, \"title\": \"log_station_swe (binned)\", \"labelFlush\": true, \"labelOverlap\": true}, {\"scale\": \"concat_0_y\", \"labelOverlap\": true, \"orient\": \"left\", \"zindex\": 0, \"title\": \"Count of Records\", \"grid\": false, \"tickCount\": {\"signal\": \"ceil(height/40)\"}}], \"title\": {\"text\": \"Cluster 0\", \"frame\": \"group\"}, \"style\": \"cell\"}, {\"type\": \"group\", \"name\": \"concat_1_group\", \"encode\": {\"update\": {\"height\": {\"signal\": \"height\"}, \"width\": {\"signal\": \"childWidth\"}}}, \"marks\": [{\"type\": \"rect\", \"name\": \"concat_1_marks\", \"from\": {\"data\": \"source_1\"}, \"encode\": {\"update\": {\"y\": {\"field\": \"__count\", \"scale\": \"concat_1_y\"}, \"y2\": {\"value\": 0, \"scale\": \"concat_1_y\"}, \"fill\": {\"value\": \"#4c78a8\"}, \"x\": {\"field\": \"bin_maxbins_20_log_station_swe_end\", \"scale\": \"concat_1_x\", \"offset\": {\"signal\": \"0.5 + (abs(scale(\\\"concat_1_x\\\", datum[\\\"bin_maxbins_20_log_station_swe_end\\\"]) - scale(\\\"concat_1_x\\\", datum[\\\"bin_maxbins_20_log_station_swe\\\"])) < 0.25 ? 0.5 * (0.25 - (abs(scale(\\\"concat_1_x\\\", datum[\\\"bin_maxbins_20_log_station_swe_end\\\"]) - scale(\\\"concat_1_x\\\", datum[\\\"bin_maxbins_20_log_station_swe\\\"])))) : -0.5)\"}}, \"x2\": {\"field\": \"bin_maxbins_20_log_station_swe\", \"scale\": \"concat_1_x\", \"offset\": {\"signal\": \"0.5 + (abs(scale(\\\"concat_1_x\\\", datum[\\\"bin_maxbins_20_log_station_swe_end\\\"]) - scale(\\\"concat_1_x\\\", datum[\\\"bin_maxbins_20_log_station_swe\\\"])) < 0.25 ? -0.5 * (0.25 - (abs(scale(\\\"concat_1_x\\\", datum[\\\"bin_maxbins_20_log_station_swe_end\\\"]) - scale(\\\"concat_1_x\\\", datum[\\\"bin_maxbins_20_log_station_swe\\\"])))) : 0.5)\"}}}}, \"style\": [\"bar\"]}], \"axes\": [{\"scale\": \"concat_1_y\", \"maxExtent\": 0, \"grid\": true, \"tickCount\": {\"signal\": \"ceil(height/40)\"}, \"gridScale\": \"concat_1_x\", \"aria\": false, \"labels\": false, \"domain\": false, \"orient\": \"left\", \"zindex\": 0, \"minExtent\": 0, \"ticks\": false}, {\"scale\": \"concat_1_x\", \"orient\": \"bottom\", \"labelFlush\": true, \"labelOverlap\": true, \"zindex\": 0, \"grid\": false, \"title\": \"log_station_swe (binned)\", \"tickCount\": {\"signal\": \"ceil(childWidth/10)\"}}, {\"scale\": \"concat_1_y\", \"tickCount\": {\"signal\": \"ceil(height/40)\"}, \"grid\": false, \"orient\": \"left\", \"title\": \"Count of Records\", \"zindex\": 0, \"labelOverlap\": true}], \"title\": {\"text\": \"Cluster 1\", \"frame\": \"group\"}, \"style\": \"cell\"}, {\"type\": \"group\", \"name\": \"concat_2_group\", \"encode\": {\"update\": {\"width\": {\"signal\": \"childWidth\"}, \"height\": {\"signal\": \"height\"}}}, \"marks\": [{\"type\": \"rect\", \"name\": \"concat_2_marks\", \"from\": {\"data\": \"source_2\"}, \"encode\": {\"update\": {\"x\": {\"field\": \"bin_maxbins_20_log_station_swe_end\", \"scale\": \"concat_2_x\", \"offset\": {\"signal\": \"0.5 + (abs(scale(\\\"concat_2_x\\\", datum[\\\"bin_maxbins_20_log_station_swe_end\\\"]) - scale(\\\"concat_2_x\\\", datum[\\\"bin_maxbins_20_log_station_swe\\\"])) < 0.25 ? 0.5 * (0.25 - (abs(scale(\\\"concat_2_x\\\", datum[\\\"bin_maxbins_20_log_station_swe_end\\\"]) - scale(\\\"concat_2_x\\\", datum[\\\"bin_maxbins_20_log_station_swe\\\"])))) : -0.5)\"}}, \"x2\": {\"field\": \"bin_maxbins_20_log_station_swe\", \"scale\": \"concat_2_x\", \"offset\": {\"signal\": \"0.5 + (abs(scale(\\\"concat_2_x\\\", datum[\\\"bin_maxbins_20_log_station_swe_end\\\"]) - scale(\\\"concat_2_x\\\", datum[\\\"bin_maxbins_20_log_station_swe\\\"])) < 0.25 ? -0.5 * (0.25 - (abs(scale(\\\"concat_2_x\\\", datum[\\\"bin_maxbins_20_log_station_swe_end\\\"]) - scale(\\\"concat_2_x\\\", datum[\\\"bin_maxbins_20_log_station_swe\\\"])))) : 0.5)\"}}, \"fill\": {\"value\": \"#4c78a8\"}, \"y\": {\"field\": \"__count\", \"scale\": \"concat_2_y\"}, \"y2\": {\"value\": 0, \"scale\": \"concat_2_y\"}}}, \"style\": [\"bar\"]}], \"axes\": [{\"scale\": \"concat_2_y\", \"zindex\": 0, \"grid\": true, \"tickCount\": {\"signal\": \"ceil(height/40)\"}, \"domain\": false, \"gridScale\": \"concat_2_x\", \"orient\": \"left\", \"labels\": false, \"maxExtent\": 0, \"aria\": false, \"minExtent\": 0, \"ticks\": false}, {\"scale\": \"concat_2_x\", \"labelOverlap\": true, \"tickCount\": {\"signal\": \"ceil(childWidth/10)\"}, \"zindex\": 0, \"orient\": \"bottom\", \"title\": \"log_station_swe (binned)\", \"labelFlush\": true, \"grid\": false}, {\"scale\": \"concat_2_y\", \"orient\": \"left\", \"grid\": false, \"labelOverlap\": true, \"title\": \"Count of Records\", \"zindex\": 0, \"tickCount\": {\"signal\": \"ceil(height/40)\"}}], \"title\": {\"text\": \"Cluster 2\", \"frame\": \"group\"}, \"style\": \"cell\"}, {\"type\": \"group\", \"name\": \"concat_3_group\", \"encode\": {\"update\": {\"width\": {\"signal\": \"childWidth\"}, \"height\": {\"signal\": \"height\"}}}, \"marks\": [{\"type\": \"rect\", \"name\": \"concat_3_marks\", \"from\": {\"data\": \"source_3\"}, \"encode\": {\"update\": {\"y\": {\"field\": \"__count\", \"scale\": \"concat_3_y\"}, \"y2\": {\"value\": 0, \"scale\": \"concat_3_y\"}, \"x2\": {\"field\": \"bin_maxbins_20_log_station_swe\", \"scale\": \"concat_3_x\", \"offset\": {\"signal\": \"0.5 + (abs(scale(\\\"concat_3_x\\\", datum[\\\"bin_maxbins_20_log_station_swe_end\\\"]) - scale(\\\"concat_3_x\\\", datum[\\\"bin_maxbins_20_log_station_swe\\\"])) < 0.25 ? -0.5 * (0.25 - (abs(scale(\\\"concat_3_x\\\", datum[\\\"bin_maxbins_20_log_station_swe_end\\\"]) - scale(\\\"concat_3_x\\\", datum[\\\"bin_maxbins_20_log_station_swe\\\"])))) : 0.5)\"}}, \"x\": {\"field\": \"bin_maxbins_20_log_station_swe_end\", \"scale\": \"concat_3_x\", \"offset\": {\"signal\": \"0.5 + (abs(scale(\\\"concat_3_x\\\", datum[\\\"bin_maxbins_20_log_station_swe_end\\\"]) - scale(\\\"concat_3_x\\\", datum[\\\"bin_maxbins_20_log_station_swe\\\"])) < 0.25 ? 0.5 * (0.25 - (abs(scale(\\\"concat_3_x\\\", datum[\\\"bin_maxbins_20_log_station_swe_end\\\"]) - scale(\\\"concat_3_x\\\", datum[\\\"bin_maxbins_20_log_station_swe\\\"])))) : -0.5)\"}}, \"fill\": {\"value\": \"#4c78a8\"}}}, \"style\": [\"bar\"]}], \"axes\": [{\"scale\": \"concat_3_y\", \"orient\": \"left\", \"aria\": false, \"gridScale\": \"concat_3_x\", \"domain\": false, \"zindex\": 0, \"tickCount\": {\"signal\": \"ceil(height/40)\"}, \"labels\": false, \"maxExtent\": 0, \"ticks\": false, \"minExtent\": 0, \"grid\": true}, {\"scale\": \"concat_3_x\", \"labelFlush\": true, \"tickCount\": {\"signal\": \"ceil(childWidth/10)\"}, \"zindex\": 0, \"orient\": \"bottom\", \"grid\": false, \"title\": \"log_station_swe (binned)\", \"labelOverlap\": true}, {\"scale\": \"concat_3_y\", \"labelOverlap\": true, \"zindex\": 0, \"grid\": false, \"title\": \"Count of Records\", \"tickCount\": {\"signal\": \"ceil(height/40)\"}, \"orient\": \"left\"}], \"title\": {\"text\": \"Cluster 3\", \"frame\": \"group\"}, \"style\": \"cell\"}, {\"type\": \"group\", \"name\": \"concat_4_group\", \"encode\": {\"update\": {\"height\": {\"signal\": \"height\"}, \"width\": {\"signal\": \"childWidth\"}}}, \"marks\": [{\"type\": \"rect\", \"name\": \"concat_4_marks\", \"from\": {\"data\": \"source_4\"}, \"encode\": {\"update\": {\"x2\": {\"field\": \"bin_maxbins_20_log_station_swe\", \"scale\": \"concat_4_x\", \"offset\": {\"signal\": \"0.5 + (abs(scale(\\\"concat_4_x\\\", datum[\\\"bin_maxbins_20_log_station_swe_end\\\"]) - scale(\\\"concat_4_x\\\", datum[\\\"bin_maxbins_20_log_station_swe\\\"])) < 0.25 ? -0.5 * (0.25 - (abs(scale(\\\"concat_4_x\\\", datum[\\\"bin_maxbins_20_log_station_swe_end\\\"]) - scale(\\\"concat_4_x\\\", datum[\\\"bin_maxbins_20_log_station_swe\\\"])))) : 0.5)\"}}, \"x\": {\"field\": \"bin_maxbins_20_log_station_swe_end\", \"scale\": \"concat_4_x\", \"offset\": {\"signal\": \"0.5 + (abs(scale(\\\"concat_4_x\\\", datum[\\\"bin_maxbins_20_log_station_swe_end\\\"]) - scale(\\\"concat_4_x\\\", datum[\\\"bin_maxbins_20_log_station_swe\\\"])) < 0.25 ? 0.5 * (0.25 - (abs(scale(\\\"concat_4_x\\\", datum[\\\"bin_maxbins_20_log_station_swe_end\\\"]) - scale(\\\"concat_4_x\\\", datum[\\\"bin_maxbins_20_log_station_swe\\\"])))) : -0.5)\"}}, \"y2\": {\"value\": 0, \"scale\": \"concat_4_y\"}, \"y\": {\"field\": \"__count\", \"scale\": \"concat_4_y\"}, \"fill\": {\"value\": \"#4c78a8\"}}}, \"style\": [\"bar\"]}], \"axes\": [{\"scale\": \"concat_4_y\", \"ticks\": false, \"zindex\": 0, \"orient\": \"left\", \"gridScale\": \"concat_4_x\", \"tickCount\": {\"signal\": \"ceil(height/40)\"}, \"maxExtent\": 0, \"minExtent\": 0, \"grid\": true, \"aria\": false, \"domain\": false, \"labels\": false}, {\"scale\": \"concat_4_x\", \"labelOverlap\": true, \"labelFlush\": true, \"tickCount\": {\"signal\": \"ceil(childWidth/10)\"}, \"zindex\": 0, \"orient\": \"bottom\", \"title\": \"log_station_swe (binned)\", \"grid\": false}, {\"scale\": \"concat_4_y\", \"title\": \"Count of Records\", \"labelOverlap\": true, \"orient\": \"left\", \"tickCount\": {\"signal\": \"ceil(height/40)\"}, \"grid\": false, \"zindex\": 0}], \"title\": {\"text\": \"Cluster 4\", \"frame\": \"group\"}, \"style\": \"cell\"}], \"scales\": [{\"name\": \"concat_0_x\", \"type\": \"linear\", \"domain\": {\"signal\": \"[concat_0_bin_maxbins_20_log_station_swe_bins.start, concat_0_bin_maxbins_20_log_station_swe_bins.stop]\"}, \"range\": [0, {\"signal\": \"childWidth\"}], \"bins\": {\"signal\": \"concat_0_bin_maxbins_20_log_station_swe_bins\"}, \"zero\": false}, {\"name\": \"concat_0_y\", \"type\": \"linear\", \"domain\": [{\"signal\": \"(data(\\\"source_0_concat_0_y_domain___count\\\")[0] || {}).min\"}, {\"signal\": \"(data(\\\"source_0_concat_0_y_domain___count\\\")[0] || {}).max\"}], \"range\": [{\"signal\": \"height\"}, 0], \"zero\": true, \"nice\": true}, {\"name\": \"concat_1_x\", \"type\": \"linear\", \"domain\": {\"signal\": \"[concat_1_bin_maxbins_20_log_station_swe_bins.start, concat_1_bin_maxbins_20_log_station_swe_bins.stop]\"}, \"range\": [0, {\"signal\": \"childWidth\"}], \"bins\": {\"signal\": \"concat_1_bin_maxbins_20_log_station_swe_bins\"}, \"zero\": false}, {\"name\": \"concat_1_y\", \"type\": \"linear\", \"domain\": [{\"signal\": \"(data(\\\"source_1_concat_1_y_domain___count\\\")[0] || {}).min\"}, {\"signal\": \"(data(\\\"source_1_concat_1_y_domain___count\\\")[0] || {}).max\"}], \"range\": [{\"signal\": \"height\"}, 0], \"nice\": true, \"zero\": true}, {\"name\": \"concat_2_x\", \"type\": \"linear\", \"domain\": {\"signal\": \"[concat_2_bin_maxbins_20_log_station_swe_bins.start, concat_2_bin_maxbins_20_log_station_swe_bins.stop]\"}, \"range\": [0, {\"signal\": \"childWidth\"}], \"bins\": {\"signal\": \"concat_2_bin_maxbins_20_log_station_swe_bins\"}, \"zero\": false}, {\"name\": \"concat_2_y\", \"type\": \"linear\", \"domain\": [{\"signal\": \"(data(\\\"source_2_concat_2_y_domain___count\\\")[0] || {}).min\"}, {\"signal\": \"(data(\\\"source_2_concat_2_y_domain___count\\\")[0] || {}).max\"}], \"range\": [{\"signal\": \"height\"}, 0], \"zero\": true, \"nice\": true}, {\"name\": \"concat_3_x\", \"type\": \"linear\", \"domain\": {\"signal\": \"[concat_3_bin_maxbins_20_log_station_swe_bins.start, concat_3_bin_maxbins_20_log_station_swe_bins.stop]\"}, \"range\": [0, {\"signal\": \"childWidth\"}], \"bins\": {\"signal\": \"concat_3_bin_maxbins_20_log_station_swe_bins\"}, \"zero\": false}, {\"name\": \"concat_3_y\", \"type\": \"linear\", \"domain\": [{\"signal\": \"(data(\\\"source_3_concat_3_y_domain___count\\\")[0] || {}).min\"}, {\"signal\": \"(data(\\\"source_3_concat_3_y_domain___count\\\")[0] || {}).max\"}], \"range\": [{\"signal\": \"height\"}, 0], \"zero\": true, \"nice\": true}, {\"name\": \"concat_4_x\", \"type\": \"linear\", \"domain\": {\"signal\": \"[concat_4_bin_maxbins_20_log_station_swe_bins.start, concat_4_bin_maxbins_20_log_station_swe_bins.stop]\"}, \"range\": [0, {\"signal\": \"childWidth\"}], \"bins\": {\"signal\": \"concat_4_bin_maxbins_20_log_station_swe_bins\"}, \"zero\": false}, {\"name\": \"concat_4_y\", \"type\": \"linear\", \"domain\": [{\"signal\": \"(data(\\\"source_4_concat_4_y_domain___count\\\")[0] || {}).min\"}, {\"signal\": \"(data(\\\"source_4_concat_4_y_domain___count\\\")[0] || {}).max\"}], \"range\": [{\"signal\": \"height\"}, 0], \"nice\": true, \"zero\": true}], \"background\": \"white\", \"layout\": {\"padding\": 20, \"bounds\": \"full\", \"align\": \"each\"}, \"height\": 200, \"padding\": 5}, {\"mode\": \"vega\"});\n",
       "</script>"
      ],
      "text/plain": [
       "alt.HConcatChart(...)"
      ]
     },
     "execution_count": 84,
     "metadata": {},
     "output_type": "execute_result"
    }
   ],
   "source": [
    "df_reset = df[df['cluster']==0].reset_index()\n",
    "cluster0 = alt.Chart(df_reset[['log_station_swe']].replace([np.inf, -np.inf], np.nan, inplace=False)).mark_bar().encode(\n",
    "    alt.X(\"log_station_swe:Q\").bin(maxbins=20),\n",
    "    y='count()',\n",
    ").properties(title='Cluster 0',width=200,height=200)\n",
    "\n",
    "df_reset = df[df['cluster']==1].reset_index()\n",
    "cluster1 = alt.Chart(df_reset[['log_station_swe']].replace([np.inf, -np.inf], np.nan, inplace=False)).mark_bar().encode(\n",
    "    alt.X(\"log_station_swe:Q\").bin(maxbins=20),\n",
    "    y='count()',\n",
    ").properties(title='Cluster 1',width=200,height=200)\n",
    "\n",
    "df_reset = df[df['cluster']==2].reset_index()\n",
    "cluster2 = alt.Chart(df_reset[['log_station_swe']].replace([np.inf, -np.inf], np.nan, inplace=False)).mark_bar().encode(\n",
    "    alt.X(\"log_station_swe:Q\").bin(maxbins=20),\n",
    "    y='count()',\n",
    ").properties(title='Cluster 2',width=200,height=200)\n",
    "\n",
    "df_reset = df[df['cluster']==3].reset_index()\n",
    "cluster3 = alt.Chart(df_reset[['log_station_swe']].replace([np.inf, -np.inf], np.nan, inplace=False)).mark_bar().encode(\n",
    "    alt.X(\"log_station_swe:Q\").bin(maxbins=20),\n",
    "    y='count()',\n",
    ").properties(title='Cluster 3',width=200,height=200)\n",
    "\n",
    "df_reset = df[df['cluster']==4].reset_index()\n",
    "cluster4 = alt.Chart(df_reset[['log_station_swe']].replace([np.inf, -np.inf], np.nan, inplace=False)).mark_bar().encode(\n",
    "    alt.X(\"log_station_swe:Q\").bin(maxbins=20),\n",
    "    y='count()',\n",
    ").properties(title='Cluster 4',width=200,height=200)\n",
    "\n",
    "combined = alt.hconcat(cluster0, cluster1, cluster2, cluster3, cluster4)\n",
    "combined"
   ]
  },
  {
   "cell_type": "markdown",
   "id": "6145f939-3261-4222-a21b-0497fa2956cc",
   "metadata": {},
   "source": [
    "### Plot Distributions of test sites:"
   ]
  },
  {
   "cell_type": "code",
   "execution_count": 284,
   "id": "52a4f86a-fc81-461e-8698-8b4c98261526",
   "metadata": {},
   "outputs": [],
   "source": [
    "site2 = '737_CO_SNTL'\n",
    "site1 = '380_CO_SNTL'"
   ]
  },
  {
   "cell_type": "code",
   "execution_count": 7,
   "id": "c07befe3-f290-43d2-9ff0-fe5ee6cd75fa",
   "metadata": {},
   "outputs": [],
   "source": [
    "swe_real = df.loc[pd.IndexSlice[site1],'station_swe']"
   ]
  },
  {
   "cell_type": "code",
   "execution_count": 111,
   "id": "87efb0e6-a636-4fbf-b49a-db926c628d4e",
   "metadata": {},
   "outputs": [
    {
     "data": {
      "text/html": [
       "\n",
       "<style>\n",
       "  #altair-viz-9892a41c3be14e2e90851731624156b1.vega-embed {\n",
       "    width: 100%;\n",
       "    display: flex;\n",
       "  }\n",
       "\n",
       "  #altair-viz-9892a41c3be14e2e90851731624156b1.vega-embed details,\n",
       "  #altair-viz-9892a41c3be14e2e90851731624156b1.vega-embed details summary {\n",
       "    position: relative;\n",
       "  }\n",
       "</style>\n",
       "<div id=\"altair-viz-9892a41c3be14e2e90851731624156b1\"></div>\n",
       "<script type=\"text/javascript\">\n",
       "  var VEGA_DEBUG = (typeof VEGA_DEBUG == \"undefined\") ? {} : VEGA_DEBUG;\n",
       "  (function(spec, embedOpt){\n",
       "    let outputDiv = document.currentScript.previousElementSibling;\n",
       "    if (outputDiv.id !== \"altair-viz-9892a41c3be14e2e90851731624156b1\") {\n",
       "      outputDiv = document.getElementById(\"altair-viz-9892a41c3be14e2e90851731624156b1\");\n",
       "    }\n",
       "    const paths = {\n",
       "      \"vega\": \"https://cdn.jsdelivr.net/npm/vega@5?noext\",\n",
       "      \"vega-lib\": \"https://cdn.jsdelivr.net/npm/vega-lib?noext\",\n",
       "      \"vega-lite\": \"https://cdn.jsdelivr.net/npm/vega-lite@5.17.0?noext\",\n",
       "      \"vega-embed\": \"https://cdn.jsdelivr.net/npm/vega-embed@6?noext\",\n",
       "    };\n",
       "\n",
       "    function maybeLoadScript(lib, version) {\n",
       "      var key = `${lib.replace(\"-\", \"\")}_version`;\n",
       "      return (VEGA_DEBUG[key] == version) ?\n",
       "        Promise.resolve(paths[lib]) :\n",
       "        new Promise(function(resolve, reject) {\n",
       "          var s = document.createElement('script');\n",
       "          document.getElementsByTagName(\"head\")[0].appendChild(s);\n",
       "          s.async = true;\n",
       "          s.onload = () => {\n",
       "            VEGA_DEBUG[key] = version;\n",
       "            return resolve(paths[lib]);\n",
       "          };\n",
       "          s.onerror = () => reject(`Error loading script: ${paths[lib]}`);\n",
       "          s.src = paths[lib];\n",
       "        });\n",
       "    }\n",
       "\n",
       "    function showError(err) {\n",
       "      outputDiv.innerHTML = `<div class=\"error\" style=\"color:red;\">${err}</div>`;\n",
       "      throw err;\n",
       "    }\n",
       "\n",
       "    function displayChart(vegaEmbed) {\n",
       "      vegaEmbed(outputDiv, spec, embedOpt)\n",
       "        .catch(err => showError(`Javascript Error: ${err.message}<br>This usually means there's a typo in your chart specification. See the javascript console for the full traceback.`));\n",
       "    }\n",
       "\n",
       "    if(typeof define === \"function\" && define.amd) {\n",
       "      requirejs.config({paths});\n",
       "      require([\"vega-embed\"], displayChart, err => showError(`Error loading script: ${err.message}`));\n",
       "    } else {\n",
       "      maybeLoadScript(\"vega\", \"5\")\n",
       "        .then(() => maybeLoadScript(\"vega-lite\", \"5.17.0\"))\n",
       "        .then(() => maybeLoadScript(\"vega-embed\", \"6\"))\n",
       "        .catch(showError)\n",
       "        .then(() => displayChart(vegaEmbed));\n",
       "    }\n",
       "  })({\"$schema\": \"https://vega.github.io/schema/vega/v5.json\", \"data\": [{\"name\": \"source_0\", \"values\": [{\"__count\": 2, \"bin_maxbins_7_station_swe\": 0.1, \"bin_maxbins_7_station_swe_end\": 0.2}, {\"__count\": 8, \"bin_maxbins_7_station_swe\": 0.30000000000000004, \"bin_maxbins_7_station_swe_end\": 0.4}, {\"__count\": 11, \"bin_maxbins_7_station_swe\": 0.2, \"bin_maxbins_7_station_swe_end\": 0.30000000000000004}, {\"__count\": 1, \"bin_maxbins_7_station_swe\": 0.6, \"bin_maxbins_7_station_swe_end\": 0.7}, {\"__count\": 4, \"bin_maxbins_7_station_swe\": 0.5, \"bin_maxbins_7_station_swe_end\": 0.6}, {\"__count\": 6, \"bin_maxbins_7_station_swe\": 0.4, \"bin_maxbins_7_station_swe_end\": 0.5}]}, {\"name\": \"source_1\", \"values\": [{\"__count\": 1, \"bin_maxbins_7_log_station_swe\": -1.8, \"bin_maxbins_7_log_station_swe_end\": -1.6}, {\"__count\": 7, \"bin_maxbins_7_log_station_swe\": -1.2, \"bin_maxbins_7_log_station_swe_end\": -1.0}, {\"__count\": 9, \"bin_maxbins_7_log_station_swe\": -1.4, \"bin_maxbins_7_log_station_swe_end\": -1.2}, {\"__count\": 2, \"bin_maxbins_7_log_station_swe\": -0.5999999999999999, \"bin_maxbins_7_log_station_swe_end\": -0.39999999999999986}, {\"__count\": 6, \"bin_maxbins_7_log_station_swe\": -0.7999999999999998, \"bin_maxbins_7_log_station_swe_end\": -0.5999999999999999}, {\"__count\": 4, \"bin_maxbins_7_log_station_swe\": -1.0, \"bin_maxbins_7_log_station_swe_end\": -0.8}, {\"__count\": 1, \"bin_maxbins_7_log_station_swe\": -2.0, \"bin_maxbins_7_log_station_swe_end\": -1.8}, {\"__count\": 2, \"bin_maxbins_7_log_station_swe\": -1.6, \"bin_maxbins_7_log_station_swe_end\": -1.4000000000000001}]}, {\"name\": \"source_0_concat_0_y_domain___count\", \"values\": [{\"min\": 1, \"max\": 11}]}, {\"name\": \"source_1_concat_1_y_domain___count\", \"values\": [{\"min\": 1, \"max\": 9}]}], \"signals\": [{\"name\": \"concat_0_bin_maxbins_7_station_swe_bins\", \"value\": {\"fields\": [\"station_swe\"], \"fname\": \"bin_station_swe\", \"start\": 0.1, \"step\": 0.1, \"stop\": 0.7000000000000001}}, {\"name\": \"concat_1_bin_maxbins_7_log_station_swe_bins\", \"value\": {\"fields\": [\"log_station_swe\"], \"fname\": \"bin_log_station_swe\", \"start\": -2.0, \"step\": 0.2, \"stop\": -0.4}}, {\"name\": \"childWidth\", \"value\": 200}], \"marks\": [{\"type\": \"group\", \"name\": \"concat_0_group\", \"encode\": {\"update\": {\"height\": {\"signal\": \"height\"}, \"width\": {\"signal\": \"childWidth\"}}}, \"marks\": [{\"type\": \"rect\", \"name\": \"concat_0_marks\", \"from\": {\"data\": \"source_0\"}, \"encode\": {\"update\": {\"y2\": {\"value\": 0, \"scale\": \"concat_0_y\"}, \"fill\": {\"value\": \"#4c78a8\"}, \"x2\": {\"field\": \"bin_maxbins_7_station_swe\", \"scale\": \"concat_0_x\", \"offset\": {\"signal\": \"0.5 + (abs(scale(\\\"concat_0_x\\\", datum[\\\"bin_maxbins_7_station_swe_end\\\"]) - scale(\\\"concat_0_x\\\", datum[\\\"bin_maxbins_7_station_swe\\\"])) < 0.25 ? -0.5 * (0.25 - (abs(scale(\\\"concat_0_x\\\", datum[\\\"bin_maxbins_7_station_swe_end\\\"]) - scale(\\\"concat_0_x\\\", datum[\\\"bin_maxbins_7_station_swe\\\"])))) : 0.5)\"}}, \"x\": {\"field\": \"bin_maxbins_7_station_swe_end\", \"scale\": \"concat_0_x\", \"offset\": {\"signal\": \"0.5 + (abs(scale(\\\"concat_0_x\\\", datum[\\\"bin_maxbins_7_station_swe_end\\\"]) - scale(\\\"concat_0_x\\\", datum[\\\"bin_maxbins_7_station_swe\\\"])) < 0.25 ? 0.5 * (0.25 - (abs(scale(\\\"concat_0_x\\\", datum[\\\"bin_maxbins_7_station_swe_end\\\"]) - scale(\\\"concat_0_x\\\", datum[\\\"bin_maxbins_7_station_swe\\\"])))) : -0.5)\"}}, \"y\": {\"field\": \"__count\", \"scale\": \"concat_0_y\"}}}, \"style\": [\"bar\"]}], \"axes\": [{\"scale\": \"concat_0_y\", \"orient\": \"left\", \"gridScale\": \"concat_0_x\", \"minExtent\": 0, \"ticks\": false, \"aria\": false, \"zindex\": 0, \"labels\": false, \"tickCount\": {\"signal\": \"ceil(height/40)\"}, \"domain\": false, \"grid\": true, \"maxExtent\": 0}, {\"scale\": \"concat_0_x\", \"title\": \"station_swe (binned)\", \"zindex\": 0, \"orient\": \"bottom\", \"labelFlush\": true, \"labelOverlap\": true, \"tickCount\": {\"signal\": \"ceil(childWidth/10)\"}, \"grid\": false}, {\"scale\": \"concat_0_y\", \"labelOverlap\": true, \"grid\": false, \"title\": \"Count of Records\", \"tickCount\": {\"signal\": \"ceil(height/40)\"}, \"zindex\": 0, \"orient\": \"left\"}], \"title\": {\"text\": \"Untransformed SWE\", \"frame\": \"group\"}, \"style\": \"cell\"}, {\"type\": \"group\", \"name\": \"concat_1_group\", \"encode\": {\"update\": {\"height\": {\"signal\": \"height\"}, \"width\": {\"signal\": \"childWidth\"}}}, \"marks\": [{\"type\": \"rect\", \"name\": \"concat_1_marks\", \"from\": {\"data\": \"source_1\"}, \"encode\": {\"update\": {\"fill\": {\"value\": \"#4c78a8\"}, \"y2\": {\"value\": 0, \"scale\": \"concat_1_y\"}, \"y\": {\"field\": \"__count\", \"scale\": \"concat_1_y\"}, \"x\": {\"field\": \"bin_maxbins_7_log_station_swe_end\", \"scale\": \"concat_1_x\", \"offset\": {\"signal\": \"0.5 + (abs(scale(\\\"concat_1_x\\\", datum[\\\"bin_maxbins_7_log_station_swe_end\\\"]) - scale(\\\"concat_1_x\\\", datum[\\\"bin_maxbins_7_log_station_swe\\\"])) < 0.25 ? 0.5 * (0.25 - (abs(scale(\\\"concat_1_x\\\", datum[\\\"bin_maxbins_7_log_station_swe_end\\\"]) - scale(\\\"concat_1_x\\\", datum[\\\"bin_maxbins_7_log_station_swe\\\"])))) : -0.5)\"}}, \"x2\": {\"field\": \"bin_maxbins_7_log_station_swe\", \"scale\": \"concat_1_x\", \"offset\": {\"signal\": \"0.5 + (abs(scale(\\\"concat_1_x\\\", datum[\\\"bin_maxbins_7_log_station_swe_end\\\"]) - scale(\\\"concat_1_x\\\", datum[\\\"bin_maxbins_7_log_station_swe\\\"])) < 0.25 ? -0.5 * (0.25 - (abs(scale(\\\"concat_1_x\\\", datum[\\\"bin_maxbins_7_log_station_swe_end\\\"]) - scale(\\\"concat_1_x\\\", datum[\\\"bin_maxbins_7_log_station_swe\\\"])))) : 0.5)\"}}}}, \"style\": [\"bar\"]}], \"axes\": [{\"scale\": \"concat_1_y\", \"maxExtent\": 0, \"aria\": false, \"minExtent\": 0, \"zindex\": 0, \"gridScale\": \"concat_1_x\", \"tickCount\": {\"signal\": \"ceil(height/40)\"}, \"ticks\": false, \"domain\": false, \"grid\": true, \"labels\": false, \"orient\": \"left\"}, {\"scale\": \"concat_1_x\", \"zindex\": 0, \"tickCount\": {\"signal\": \"ceil(childWidth/10)\"}, \"title\": \"log_station_swe (binned)\", \"labelFlush\": true, \"grid\": false, \"orient\": \"bottom\", \"labelOverlap\": true}, {\"scale\": \"concat_1_y\", \"grid\": false, \"labelOverlap\": true, \"title\": \"Count of Records\", \"zindex\": 0, \"orient\": \"left\", \"tickCount\": {\"signal\": \"ceil(height/40)\"}}], \"title\": {\"text\": \"Natural Log of SWE\", \"frame\": \"group\"}, \"style\": \"cell\"}], \"scales\": [{\"name\": \"concat_0_x\", \"type\": \"linear\", \"domain\": {\"signal\": \"[concat_0_bin_maxbins_7_station_swe_bins.start, concat_0_bin_maxbins_7_station_swe_bins.stop]\"}, \"range\": [0, {\"signal\": \"childWidth\"}], \"bins\": {\"signal\": \"concat_0_bin_maxbins_7_station_swe_bins\"}, \"zero\": false}, {\"name\": \"concat_0_y\", \"type\": \"linear\", \"domain\": [{\"signal\": \"(data(\\\"source_0_concat_0_y_domain___count\\\")[0] || {}).min\"}, {\"signal\": \"(data(\\\"source_0_concat_0_y_domain___count\\\")[0] || {}).max\"}], \"range\": [{\"signal\": \"height\"}, 0], \"zero\": true, \"nice\": true}, {\"name\": \"concat_1_x\", \"type\": \"linear\", \"domain\": {\"signal\": \"[concat_1_bin_maxbins_7_log_station_swe_bins.start, concat_1_bin_maxbins_7_log_station_swe_bins.stop]\"}, \"range\": [0, {\"signal\": \"childWidth\"}], \"bins\": {\"signal\": \"concat_1_bin_maxbins_7_log_station_swe_bins\"}, \"zero\": false}, {\"name\": \"concat_1_y\", \"type\": \"linear\", \"domain\": [{\"signal\": \"(data(\\\"source_1_concat_1_y_domain___count\\\")[0] || {}).min\"}, {\"signal\": \"(data(\\\"source_1_concat_1_y_domain___count\\\")[0] || {}).max\"}], \"range\": [{\"signal\": \"height\"}, 0], \"nice\": true, \"zero\": true}], \"padding\": 5, \"background\": \"white\", \"layout\": {\"padding\": 20, \"bounds\": \"full\", \"align\": \"each\"}, \"height\": 200}, {\"mode\": \"vega\"});\n",
       "</script>"
      ],
      "text/plain": [
       "alt.HConcatChart(...)"
      ]
     },
     "execution_count": 111,
     "metadata": {},
     "output_type": "execute_result"
    }
   ],
   "source": [
    "df_reset = df.loc[pd.IndexSlice[site1]]\n",
    "site1_unt= alt.Chart(df_reset[['station_swe']]).mark_bar().encode(\n",
    "    alt.X(\"station_swe:Q\").bin(maxbins=7),\n",
    "    y='count()',\n",
    ").properties(title='Untransformed SWE',width=200,height=200)\n",
    "\n",
    "df_reset = df.loc[pd.IndexSlice[site1]]\n",
    "site1_ln = alt.Chart(df_reset[['log_station_swe']].replace([np.inf, -np.inf], np.nan, inplace=False)).mark_bar().encode(\n",
    "    alt.X(\"log_station_swe:Q\").bin(maxbins=7),\n",
    "    y='count()',\n",
    ").properties(title='Natural Log of SWE',width=200,height=200)\n",
    "\n",
    "combined = alt.hconcat(site1_unt, site1_ln)\n",
    "combined"
   ]
  },
  {
   "cell_type": "code",
   "execution_count": 112,
   "id": "1fd23b08-c5cc-499e-b3a6-ca542c81af4d",
   "metadata": {},
   "outputs": [
    {
     "data": {
      "text/html": [
       "\n",
       "<style>\n",
       "  #altair-viz-41dd19cb5467420d8d784730bd23b8c3.vega-embed {\n",
       "    width: 100%;\n",
       "    display: flex;\n",
       "  }\n",
       "\n",
       "  #altair-viz-41dd19cb5467420d8d784730bd23b8c3.vega-embed details,\n",
       "  #altair-viz-41dd19cb5467420d8d784730bd23b8c3.vega-embed details summary {\n",
       "    position: relative;\n",
       "  }\n",
       "</style>\n",
       "<div id=\"altair-viz-41dd19cb5467420d8d784730bd23b8c3\"></div>\n",
       "<script type=\"text/javascript\">\n",
       "  var VEGA_DEBUG = (typeof VEGA_DEBUG == \"undefined\") ? {} : VEGA_DEBUG;\n",
       "  (function(spec, embedOpt){\n",
       "    let outputDiv = document.currentScript.previousElementSibling;\n",
       "    if (outputDiv.id !== \"altair-viz-41dd19cb5467420d8d784730bd23b8c3\") {\n",
       "      outputDiv = document.getElementById(\"altair-viz-41dd19cb5467420d8d784730bd23b8c3\");\n",
       "    }\n",
       "    const paths = {\n",
       "      \"vega\": \"https://cdn.jsdelivr.net/npm/vega@5?noext\",\n",
       "      \"vega-lib\": \"https://cdn.jsdelivr.net/npm/vega-lib?noext\",\n",
       "      \"vega-lite\": \"https://cdn.jsdelivr.net/npm/vega-lite@5.17.0?noext\",\n",
       "      \"vega-embed\": \"https://cdn.jsdelivr.net/npm/vega-embed@6?noext\",\n",
       "    };\n",
       "\n",
       "    function maybeLoadScript(lib, version) {\n",
       "      var key = `${lib.replace(\"-\", \"\")}_version`;\n",
       "      return (VEGA_DEBUG[key] == version) ?\n",
       "        Promise.resolve(paths[lib]) :\n",
       "        new Promise(function(resolve, reject) {\n",
       "          var s = document.createElement('script');\n",
       "          document.getElementsByTagName(\"head\")[0].appendChild(s);\n",
       "          s.async = true;\n",
       "          s.onload = () => {\n",
       "            VEGA_DEBUG[key] = version;\n",
       "            return resolve(paths[lib]);\n",
       "          };\n",
       "          s.onerror = () => reject(`Error loading script: ${paths[lib]}`);\n",
       "          s.src = paths[lib];\n",
       "        });\n",
       "    }\n",
       "\n",
       "    function showError(err) {\n",
       "      outputDiv.innerHTML = `<div class=\"error\" style=\"color:red;\">${err}</div>`;\n",
       "      throw err;\n",
       "    }\n",
       "\n",
       "    function displayChart(vegaEmbed) {\n",
       "      vegaEmbed(outputDiv, spec, embedOpt)\n",
       "        .catch(err => showError(`Javascript Error: ${err.message}<br>This usually means there's a typo in your chart specification. See the javascript console for the full traceback.`));\n",
       "    }\n",
       "\n",
       "    if(typeof define === \"function\" && define.amd) {\n",
       "      requirejs.config({paths});\n",
       "      require([\"vega-embed\"], displayChart, err => showError(`Error loading script: ${err.message}`));\n",
       "    } else {\n",
       "      maybeLoadScript(\"vega\", \"5\")\n",
       "        .then(() => maybeLoadScript(\"vega-lite\", \"5.17.0\"))\n",
       "        .then(() => maybeLoadScript(\"vega-embed\", \"6\"))\n",
       "        .catch(showError)\n",
       "        .then(() => displayChart(vegaEmbed));\n",
       "    }\n",
       "  })({\"$schema\": \"https://vega.github.io/schema/vega/v5.json\", \"data\": [{\"name\": \"source_0\", \"values\": [{\"__count\": 16, \"bin_maxbins_7_station_swe\": 0.6000000000000001, \"bin_maxbins_7_station_swe_end\": 0.8}, {\"__count\": 9, \"bin_maxbins_7_station_swe\": 1.0, \"bin_maxbins_7_station_swe_end\": 1.2}, {\"__count\": 2, \"bin_maxbins_7_station_swe\": 0.8, \"bin_maxbins_7_station_swe_end\": 1.0}, {\"__count\": 2, \"bin_maxbins_7_station_swe\": 1.2000000000000002, \"bin_maxbins_7_station_swe_end\": 1.4000000000000001}, {\"__count\": 3, \"bin_maxbins_7_station_swe\": 0.4, \"bin_maxbins_7_station_swe_end\": 0.6000000000000001}]}, {\"name\": \"source_1\", \"values\": [{\"__count\": 11, \"bin_maxbins_7_log_station_swe\": -0.4, \"bin_maxbins_7_log_station_swe_end\": -0.2}, {\"__count\": 6, \"bin_maxbins_7_log_station_swe\": -0.6000000000000001, \"bin_maxbins_7_log_station_swe_end\": -0.4000000000000001}, {\"__count\": 9, \"bin_maxbins_7_log_station_swe\": 0.0, \"bin_maxbins_7_log_station_swe_end\": 0.2}, {\"__count\": 2, \"bin_maxbins_7_log_station_swe\": -0.19999999999999996, \"bin_maxbins_7_log_station_swe_end\": 5.551115123125783e-17}, {\"__count\": 2, \"bin_maxbins_7_log_station_swe\": 0.19999999999999996, \"bin_maxbins_7_log_station_swe_end\": 0.39999999999999997}, {\"__count\": 2, \"bin_maxbins_7_log_station_swe\": -0.8, \"bin_maxbins_7_log_station_swe_end\": -0.6000000000000001}]}, {\"name\": \"source_0_concat_0_y_domain___count\", \"values\": [{\"min\": 2, \"max\": 16}]}, {\"name\": \"source_1_concat_1_y_domain___count\", \"values\": [{\"min\": 2, \"max\": 11}]}], \"signals\": [{\"name\": \"concat_0_bin_maxbins_7_station_swe_bins\", \"value\": {\"fields\": [\"station_swe\"], \"fname\": \"bin_station_swe\", \"start\": 0.4, \"step\": 0.2, \"stop\": 1.4000000000000001}}, {\"name\": \"concat_1_bin_maxbins_7_log_station_swe_bins\", \"value\": {\"fields\": [\"log_station_swe\"], \"fname\": \"bin_log_station_swe\", \"start\": -0.8, \"step\": 0.2, \"stop\": 0.4}}, {\"name\": \"childWidth\", \"value\": 200}], \"marks\": [{\"type\": \"group\", \"name\": \"concat_0_group\", \"encode\": {\"update\": {\"width\": {\"signal\": \"childWidth\"}, \"height\": {\"signal\": \"height\"}}}, \"marks\": [{\"type\": \"rect\", \"name\": \"concat_0_marks\", \"from\": {\"data\": \"source_0\"}, \"encode\": {\"update\": {\"x2\": {\"field\": \"bin_maxbins_7_station_swe\", \"scale\": \"concat_0_x\", \"offset\": {\"signal\": \"0.5 + (abs(scale(\\\"concat_0_x\\\", datum[\\\"bin_maxbins_7_station_swe_end\\\"]) - scale(\\\"concat_0_x\\\", datum[\\\"bin_maxbins_7_station_swe\\\"])) < 0.25 ? -0.5 * (0.25 - (abs(scale(\\\"concat_0_x\\\", datum[\\\"bin_maxbins_7_station_swe_end\\\"]) - scale(\\\"concat_0_x\\\", datum[\\\"bin_maxbins_7_station_swe\\\"])))) : 0.5)\"}}, \"x\": {\"field\": \"bin_maxbins_7_station_swe_end\", \"scale\": \"concat_0_x\", \"offset\": {\"signal\": \"0.5 + (abs(scale(\\\"concat_0_x\\\", datum[\\\"bin_maxbins_7_station_swe_end\\\"]) - scale(\\\"concat_0_x\\\", datum[\\\"bin_maxbins_7_station_swe\\\"])) < 0.25 ? 0.5 * (0.25 - (abs(scale(\\\"concat_0_x\\\", datum[\\\"bin_maxbins_7_station_swe_end\\\"]) - scale(\\\"concat_0_x\\\", datum[\\\"bin_maxbins_7_station_swe\\\"])))) : -0.5)\"}}, \"fill\": {\"value\": \"#4c78a8\"}, \"y\": {\"field\": \"__count\", \"scale\": \"concat_0_y\"}, \"y2\": {\"value\": 0, \"scale\": \"concat_0_y\"}}}, \"style\": [\"bar\"]}], \"axes\": [{\"scale\": \"concat_0_y\", \"labels\": false, \"maxExtent\": 0, \"grid\": true, \"domain\": false, \"minExtent\": 0, \"ticks\": false, \"orient\": \"left\", \"tickCount\": {\"signal\": \"ceil(height/40)\"}, \"zindex\": 0, \"aria\": false, \"gridScale\": \"concat_0_x\"}, {\"scale\": \"concat_0_x\", \"title\": \"station_swe (binned)\", \"grid\": false, \"labelOverlap\": true, \"tickCount\": {\"signal\": \"ceil(childWidth/10)\"}, \"zindex\": 0, \"labelFlush\": true, \"orient\": \"bottom\"}, {\"scale\": \"concat_0_y\", \"grid\": false, \"orient\": \"left\", \"labelOverlap\": true, \"zindex\": 0, \"title\": \"Count of Records\", \"tickCount\": {\"signal\": \"ceil(height/40)\"}}], \"title\": {\"text\": \"Untransformed SWE\", \"frame\": \"group\"}, \"style\": \"cell\"}, {\"type\": \"group\", \"name\": \"concat_1_group\", \"encode\": {\"update\": {\"height\": {\"signal\": \"height\"}, \"width\": {\"signal\": \"childWidth\"}}}, \"marks\": [{\"type\": \"rect\", \"name\": \"concat_1_marks\", \"from\": {\"data\": \"source_1\"}, \"encode\": {\"update\": {\"fill\": {\"value\": \"#4c78a8\"}, \"x2\": {\"field\": \"bin_maxbins_7_log_station_swe\", \"scale\": \"concat_1_x\", \"offset\": {\"signal\": \"0.5 + (abs(scale(\\\"concat_1_x\\\", datum[\\\"bin_maxbins_7_log_station_swe_end\\\"]) - scale(\\\"concat_1_x\\\", datum[\\\"bin_maxbins_7_log_station_swe\\\"])) < 0.25 ? -0.5 * (0.25 - (abs(scale(\\\"concat_1_x\\\", datum[\\\"bin_maxbins_7_log_station_swe_end\\\"]) - scale(\\\"concat_1_x\\\", datum[\\\"bin_maxbins_7_log_station_swe\\\"])))) : 0.5)\"}}, \"x\": {\"field\": \"bin_maxbins_7_log_station_swe_end\", \"scale\": \"concat_1_x\", \"offset\": {\"signal\": \"0.5 + (abs(scale(\\\"concat_1_x\\\", datum[\\\"bin_maxbins_7_log_station_swe_end\\\"]) - scale(\\\"concat_1_x\\\", datum[\\\"bin_maxbins_7_log_station_swe\\\"])) < 0.25 ? 0.5 * (0.25 - (abs(scale(\\\"concat_1_x\\\", datum[\\\"bin_maxbins_7_log_station_swe_end\\\"]) - scale(\\\"concat_1_x\\\", datum[\\\"bin_maxbins_7_log_station_swe\\\"])))) : -0.5)\"}}, \"y\": {\"field\": \"__count\", \"scale\": \"concat_1_y\"}, \"y2\": {\"value\": 0, \"scale\": \"concat_1_y\"}}}, \"style\": [\"bar\"]}], \"axes\": [{\"scale\": \"concat_1_y\", \"grid\": true, \"tickCount\": {\"signal\": \"ceil(height/40)\"}, \"maxExtent\": 0, \"ticks\": false, \"gridScale\": \"concat_1_x\", \"domain\": false, \"aria\": false, \"zindex\": 0, \"orient\": \"left\", \"labels\": false, \"minExtent\": 0}, {\"scale\": \"concat_1_x\", \"grid\": false, \"tickCount\": {\"signal\": \"ceil(childWidth/10)\"}, \"title\": \"log_station_swe (binned)\", \"zindex\": 0, \"labelFlush\": true, \"labelOverlap\": true, \"orient\": \"bottom\"}, {\"scale\": \"concat_1_y\", \"labelOverlap\": true, \"title\": \"Count of Records\", \"tickCount\": {\"signal\": \"ceil(height/40)\"}, \"zindex\": 0, \"grid\": false, \"orient\": \"left\"}], \"title\": {\"text\": \"Natural Log of SWE\", \"frame\": \"group\"}, \"style\": \"cell\"}], \"scales\": [{\"name\": \"concat_0_x\", \"type\": \"linear\", \"domain\": {\"signal\": \"[concat_0_bin_maxbins_7_station_swe_bins.start, concat_0_bin_maxbins_7_station_swe_bins.stop]\"}, \"range\": [0, {\"signal\": \"childWidth\"}], \"bins\": {\"signal\": \"concat_0_bin_maxbins_7_station_swe_bins\"}, \"zero\": false}, {\"name\": \"concat_0_y\", \"type\": \"linear\", \"domain\": [{\"signal\": \"(data(\\\"source_0_concat_0_y_domain___count\\\")[0] || {}).min\"}, {\"signal\": \"(data(\\\"source_0_concat_0_y_domain___count\\\")[0] || {}).max\"}], \"range\": [{\"signal\": \"height\"}, 0], \"nice\": true, \"zero\": true}, {\"name\": \"concat_1_x\", \"type\": \"linear\", \"domain\": {\"signal\": \"[concat_1_bin_maxbins_7_log_station_swe_bins.start, concat_1_bin_maxbins_7_log_station_swe_bins.stop]\"}, \"range\": [0, {\"signal\": \"childWidth\"}], \"bins\": {\"signal\": \"concat_1_bin_maxbins_7_log_station_swe_bins\"}, \"zero\": false}, {\"name\": \"concat_1_y\", \"type\": \"linear\", \"domain\": [{\"signal\": \"(data(\\\"source_1_concat_1_y_domain___count\\\")[0] || {}).min\"}, {\"signal\": \"(data(\\\"source_1_concat_1_y_domain___count\\\")[0] || {}).max\"}], \"range\": [{\"signal\": \"height\"}, 0], \"zero\": true, \"nice\": true}], \"layout\": {\"padding\": 20, \"bounds\": \"full\", \"align\": \"each\"}, \"background\": \"white\", \"padding\": 5, \"height\": 200}, {\"mode\": \"vega\"});\n",
       "</script>"
      ],
      "text/plain": [
       "alt.HConcatChart(...)"
      ]
     },
     "execution_count": 112,
     "metadata": {},
     "output_type": "execute_result"
    }
   ],
   "source": [
    "df_reset = df.loc[pd.IndexSlice[site2]]\n",
    "site2_unt= alt.Chart(df_reset[['station_swe']]).mark_bar().encode(\n",
    "    alt.X(\"station_swe:Q\").bin(maxbins=7),\n",
    "    y='count()',\n",
    ").properties(title='Untransformed SWE',width=200,height=200)\n",
    "\n",
    "df_reset = df.loc[pd.IndexSlice[site2]]\n",
    "site2_ln = alt.Chart(df_reset[['log_station_swe']].replace([np.inf, -np.inf], np.nan, inplace=False)).mark_bar().encode(\n",
    "    alt.X(\"log_station_swe:Q\").bin(maxbins=7),\n",
    "    y='count()',\n",
    ").properties(title='Natural Log of SWE',width=200,height=200)\n",
    "\n",
    "combined = alt.hconcat(site2_unt, site2_ln)\n",
    "combined"
   ]
  },
  {
   "cell_type": "code",
   "execution_count": 113,
   "id": "d10f7dd1-dce1-4ba8-b94c-e1958a27f128",
   "metadata": {},
   "outputs": [
    {
     "data": {
      "text/plain": [
       "5.656854249492381"
      ]
     },
     "execution_count": 113,
     "metadata": {},
     "output_type": "execute_result"
    }
   ],
   "source": [
    "np.sqrt(32)"
   ]
  },
  {
   "cell_type": "markdown",
   "id": "7fec3188-34ce-4844-affe-104554ed75b4",
   "metadata": {},
   "source": [
    "### Predict SWE at Butte using untransformed data from Schofield Pass:"
   ]
  },
  {
   "cell_type": "code",
   "execution_count": 114,
   "id": "97837d48-ccc2-46f1-af32-c1a61270d3a6",
   "metadata": {},
   "outputs": [],
   "source": [
    "swe_pred = (df.loc[pd.IndexSlice[site2],'station_n'] * df.loc[pd.IndexSlice[site1],'reanalysis_swe'].std()) + df.loc[pd.IndexSlice[site1],'reanalysis_swe'].mean()"
   ]
  },
  {
   "cell_type": "code",
   "execution_count": 115,
   "id": "b59924b8-f749-4efb-85d6-20fb87e51d70",
   "metadata": {},
   "outputs": [],
   "source": [
    "df_swe_pred = pd.DataFrame(swe_real)"
   ]
  },
  {
   "cell_type": "code",
   "execution_count": 116,
   "id": "1a76509d-e606-4132-91fd-c0402c9ee079",
   "metadata": {},
   "outputs": [],
   "source": [
    "df_swe_pred['swe_pred'] = swe_pred"
   ]
  },
  {
   "cell_type": "code",
   "execution_count": 117,
   "id": "44a935aa-c589-4de4-a29f-292af4d7e47f",
   "metadata": {},
   "outputs": [],
   "source": [
    "df_swe_pred['difference'] = df_swe_pred['station_swe'] - df_swe_pred['swe_pred']"
   ]
  },
  {
   "cell_type": "code",
   "execution_count": 118,
   "id": "6f2f1cd9-3f43-4139-9bf2-4221c3275904",
   "metadata": {},
   "outputs": [
    {
     "data": {
      "text/plain": [
       "-0.07061502593994146"
      ]
     },
     "execution_count": 118,
     "metadata": {},
     "output_type": "execute_result"
    }
   ],
   "source": [
    "df_swe_pred['difference'].mean()"
   ]
  },
  {
   "cell_type": "code",
   "execution_count": 119,
   "id": "f6bfaa48-206d-4e9b-a4ca-3d3db540d50a",
   "metadata": {},
   "outputs": [
    {
     "data": {
      "text/html": [
       "\n",
       "<style>\n",
       "  #altair-viz-e319878225b54cfdb8a446cb95357126.vega-embed {\n",
       "    width: 100%;\n",
       "    display: flex;\n",
       "  }\n",
       "\n",
       "  #altair-viz-e319878225b54cfdb8a446cb95357126.vega-embed details,\n",
       "  #altair-viz-e319878225b54cfdb8a446cb95357126.vega-embed details summary {\n",
       "    position: relative;\n",
       "  }\n",
       "</style>\n",
       "<div id=\"altair-viz-e319878225b54cfdb8a446cb95357126\"></div>\n",
       "<script type=\"text/javascript\">\n",
       "  var VEGA_DEBUG = (typeof VEGA_DEBUG == \"undefined\") ? {} : VEGA_DEBUG;\n",
       "  (function(spec, embedOpt){\n",
       "    let outputDiv = document.currentScript.previousElementSibling;\n",
       "    if (outputDiv.id !== \"altair-viz-e319878225b54cfdb8a446cb95357126\") {\n",
       "      outputDiv = document.getElementById(\"altair-viz-e319878225b54cfdb8a446cb95357126\");\n",
       "    }\n",
       "    const paths = {\n",
       "      \"vega\": \"https://cdn.jsdelivr.net/npm/vega@5?noext\",\n",
       "      \"vega-lib\": \"https://cdn.jsdelivr.net/npm/vega-lib?noext\",\n",
       "      \"vega-lite\": \"https://cdn.jsdelivr.net/npm/vega-lite@5.17.0?noext\",\n",
       "      \"vega-embed\": \"https://cdn.jsdelivr.net/npm/vega-embed@6?noext\",\n",
       "    };\n",
       "\n",
       "    function maybeLoadScript(lib, version) {\n",
       "      var key = `${lib.replace(\"-\", \"\")}_version`;\n",
       "      return (VEGA_DEBUG[key] == version) ?\n",
       "        Promise.resolve(paths[lib]) :\n",
       "        new Promise(function(resolve, reject) {\n",
       "          var s = document.createElement('script');\n",
       "          document.getElementsByTagName(\"head\")[0].appendChild(s);\n",
       "          s.async = true;\n",
       "          s.onload = () => {\n",
       "            VEGA_DEBUG[key] = version;\n",
       "            return resolve(paths[lib]);\n",
       "          };\n",
       "          s.onerror = () => reject(`Error loading script: ${paths[lib]}`);\n",
       "          s.src = paths[lib];\n",
       "        });\n",
       "    }\n",
       "\n",
       "    function showError(err) {\n",
       "      outputDiv.innerHTML = `<div class=\"error\" style=\"color:red;\">${err}</div>`;\n",
       "      throw err;\n",
       "    }\n",
       "\n",
       "    function displayChart(vegaEmbed) {\n",
       "      vegaEmbed(outputDiv, spec, embedOpt)\n",
       "        .catch(err => showError(`Javascript Error: ${err.message}<br>This usually means there's a typo in your chart specification. See the javascript console for the full traceback.`));\n",
       "    }\n",
       "\n",
       "    if(typeof define === \"function\" && define.amd) {\n",
       "      requirejs.config({paths});\n",
       "      require([\"vega-embed\"], displayChart, err => showError(`Error loading script: ${err.message}`));\n",
       "    } else {\n",
       "      maybeLoadScript(\"vega\", \"5\")\n",
       "        .then(() => maybeLoadScript(\"vega-lite\", \"5.17.0\"))\n",
       "        .then(() => maybeLoadScript(\"vega-embed\", \"6\"))\n",
       "        .catch(showError)\n",
       "        .then(() => displayChart(vegaEmbed));\n",
       "    }\n",
       "  })({\"$schema\": \"https://vega.github.io/schema/vega/v5.json\", \"data\": [{\"name\": \"source_1\", \"values\": [{\"x\": 0.0, \"y\": 0.0}, {\"x\": 0.010101010101010102, \"y\": 0.010101010101010102}, {\"x\": 0.020202020202020204, \"y\": 0.020202020202020204}, {\"x\": 0.030303030303030304, \"y\": 0.030303030303030304}, {\"x\": 0.04040404040404041, \"y\": 0.04040404040404041}, {\"x\": 0.05050505050505051, \"y\": 0.05050505050505051}, {\"x\": 0.06060606060606061, \"y\": 0.06060606060606061}, {\"x\": 0.07070707070707072, \"y\": 0.07070707070707072}, {\"x\": 0.08080808080808081, \"y\": 0.08080808080808081}, {\"x\": 0.09090909090909091, \"y\": 0.09090909090909091}, {\"x\": 0.10101010101010102, \"y\": 0.10101010101010102}, {\"x\": 0.11111111111111112, \"y\": 0.11111111111111112}, {\"x\": 0.12121212121212122, \"y\": 0.12121212121212122}, {\"x\": 0.13131313131313133, \"y\": 0.13131313131313133}, {\"x\": 0.14141414141414144, \"y\": 0.14141414141414144}, {\"x\": 0.15151515151515152, \"y\": 0.15151515151515152}, {\"x\": 0.16161616161616163, \"y\": 0.16161616161616163}, {\"x\": 0.17171717171717174, \"y\": 0.17171717171717174}, {\"x\": 0.18181818181818182, \"y\": 0.18181818181818182}, {\"x\": 0.19191919191919193, \"y\": 0.19191919191919193}, {\"x\": 0.20202020202020204, \"y\": 0.20202020202020204}, {\"x\": 0.21212121212121213, \"y\": 0.21212121212121213}, {\"x\": 0.22222222222222224, \"y\": 0.22222222222222224}, {\"x\": 0.23232323232323235, \"y\": 0.23232323232323235}, {\"x\": 0.24242424242424243, \"y\": 0.24242424242424243}, {\"x\": 0.25252525252525254, \"y\": 0.25252525252525254}, {\"x\": 0.26262626262626265, \"y\": 0.26262626262626265}, {\"x\": 0.27272727272727276, \"y\": 0.27272727272727276}, {\"x\": 0.2828282828282829, \"y\": 0.2828282828282829}, {\"x\": 0.29292929292929293, \"y\": 0.29292929292929293}, {\"x\": 0.30303030303030304, \"y\": 0.30303030303030304}, {\"x\": 0.31313131313131315, \"y\": 0.31313131313131315}, {\"x\": 0.32323232323232326, \"y\": 0.32323232323232326}, {\"x\": 0.33333333333333337, \"y\": 0.33333333333333337}, {\"x\": 0.3434343434343435, \"y\": 0.3434343434343435}, {\"x\": 0.3535353535353536, \"y\": 0.3535353535353536}, {\"x\": 0.36363636363636365, \"y\": 0.36363636363636365}, {\"x\": 0.37373737373737376, \"y\": 0.37373737373737376}, {\"x\": 0.38383838383838387, \"y\": 0.38383838383838387}, {\"x\": 0.393939393939394, \"y\": 0.393939393939394}, {\"x\": 0.4040404040404041, \"y\": 0.4040404040404041}, {\"x\": 0.4141414141414142, \"y\": 0.4141414141414142}, {\"x\": 0.42424242424242425, \"y\": 0.42424242424242425}, {\"x\": 0.43434343434343436, \"y\": 0.43434343434343436}, {\"x\": 0.4444444444444445, \"y\": 0.4444444444444445}, {\"x\": 0.4545454545454546, \"y\": 0.4545454545454546}, {\"x\": 0.4646464646464647, \"y\": 0.4646464646464647}, {\"x\": 0.4747474747474748, \"y\": 0.4747474747474748}, {\"x\": 0.48484848484848486, \"y\": 0.48484848484848486}, {\"x\": 0.494949494949495, \"y\": 0.494949494949495}, {\"x\": 0.5050505050505051, \"y\": 0.5050505050505051}, {\"x\": 0.5151515151515152, \"y\": 0.5151515151515152}, {\"x\": 0.5252525252525253, \"y\": 0.5252525252525253}, {\"x\": 0.5353535353535354, \"y\": 0.5353535353535354}, {\"x\": 0.5454545454545455, \"y\": 0.5454545454545455}, {\"x\": 0.5555555555555556, \"y\": 0.5555555555555556}, {\"x\": 0.5656565656565657, \"y\": 0.5656565656565657}, {\"x\": 0.5757575757575758, \"y\": 0.5757575757575758}, {\"x\": 0.5858585858585859, \"y\": 0.5858585858585859}, {\"x\": 0.595959595959596, \"y\": 0.595959595959596}, {\"x\": 0.6060606060606061, \"y\": 0.6060606060606061}, {\"x\": 0.6161616161616162, \"y\": 0.6161616161616162}, {\"x\": 0.6262626262626263, \"y\": 0.6262626262626263}, {\"x\": 0.6363636363636365, \"y\": 0.6363636363636365}, {\"x\": 0.6464646464646465, \"y\": 0.6464646464646465}, {\"x\": 0.6565656565656566, \"y\": 0.6565656565656566}, {\"x\": 0.6666666666666667, \"y\": 0.6666666666666667}, {\"x\": 0.6767676767676768, \"y\": 0.6767676767676768}, {\"x\": 0.686868686868687, \"y\": 0.686868686868687}, {\"x\": 0.696969696969697, \"y\": 0.696969696969697}, {\"x\": 0.7070707070707072, \"y\": 0.7070707070707072}, {\"x\": 0.7171717171717172, \"y\": 0.7171717171717172}, {\"x\": 0.7272727272727273, \"y\": 0.7272727272727273}, {\"x\": 0.7373737373737375, \"y\": 0.7373737373737375}, {\"x\": 0.7474747474747475, \"y\": 0.7474747474747475}, {\"x\": 0.7575757575757577, \"y\": 0.7575757575757577}, {\"x\": 0.7676767676767677, \"y\": 0.7676767676767677}, {\"x\": 0.7777777777777778, \"y\": 0.7777777777777778}, {\"x\": 0.787878787878788, \"y\": 0.787878787878788}, {\"x\": 0.797979797979798, \"y\": 0.797979797979798}, {\"x\": 0.8080808080808082, \"y\": 0.8080808080808082}, {\"x\": 0.8181818181818182, \"y\": 0.8181818181818182}, {\"x\": 0.8282828282828284, \"y\": 0.8282828282828284}, {\"x\": 0.8383838383838385, \"y\": 0.8383838383838385}, {\"x\": 0.8484848484848485, \"y\": 0.8484848484848485}, {\"x\": 0.8585858585858587, \"y\": 0.8585858585858587}, {\"x\": 0.8686868686868687, \"y\": 0.8686868686868687}, {\"x\": 0.8787878787878789, \"y\": 0.8787878787878789}, {\"x\": 0.888888888888889, \"y\": 0.888888888888889}, {\"x\": 0.8989898989898991, \"y\": 0.8989898989898991}, {\"x\": 0.9090909090909092, \"y\": 0.9090909090909092}, {\"x\": 0.9191919191919192, \"y\": 0.9191919191919192}, {\"x\": 0.9292929292929294, \"y\": 0.9292929292929294}, {\"x\": 0.9393939393939394, \"y\": 0.9393939393939394}, {\"x\": 0.9494949494949496, \"y\": 0.9494949494949496}, {\"x\": 0.9595959595959597, \"y\": 0.9595959595959597}, {\"x\": 0.9696969696969697, \"y\": 0.9696969696969697}, {\"x\": 0.9797979797979799, \"y\": 0.9797979797979799}, {\"x\": 0.98989898989899, \"y\": 0.98989898989899}, {\"x\": 1.0, \"y\": 1.0}]}, {\"name\": \"source_0\", \"values\": [{\"station_swe\": 0.18542, \"swe_pred\": 0.32871672552991343}, {\"station_swe\": 0.31496, \"swe_pred\": 0.3756754481797886}, {\"station_swe\": 0.29717999999999994, \"swe_pred\": 0.3011891984592969}, {\"station_swe\": 0.6095999999999999, \"swe_pred\": 0.5813222680602765}, {\"station_swe\": 0.29972, \"swe_pred\": 0.3724369155832455}, {\"station_swe\": 0.52324, \"swe_pred\": 0.6104690614291646}, {\"station_swe\": 0.5334, \"swe_pred\": 0.5716066702706473}, {\"station_swe\": 0.48514, \"swe_pred\": 0.5732259365689187}, {\"station_swe\": 0.30988, \"swe_pred\": 0.3530057200039868}, {\"station_swe\": 0.25908, \"swe_pred\": 0.2930928669679391}, {\"station_swe\": 0.3302, \"swe_pred\": 0.3562442526005299}, {\"station_swe\": 0.27686, \"swe_pred\": 0.36757911668843085}, {\"station_swe\": 0.24892, \"swe_pred\": 0.34167085591608587}, {\"station_swe\": 0.34036, \"swe_pred\": 0.35462498630225836}, {\"station_swe\": 0.28447999999999996, \"swe_pred\": 0.3335745244247281}, {\"station_swe\": 0.45465999999999995, \"swe_pred\": 0.5780837354637334}, {\"station_swe\": 0.38608, \"swe_pred\": 0.48416629016398305}, {\"station_swe\": 0.28193999999999997, \"swe_pred\": 0.3513864537057152}, {\"station_swe\": 0.55626, \"swe_pred\": 0.6817167785531132}, {\"station_swe\": 0.42672, \"swe_pred\": 0.5780837354637334}, {\"station_swe\": 0.30479999999999996, \"swe_pred\": 0.4372075675141079}, {\"station_swe\": 0.43179999999999996, \"swe_pred\": 0.5473176757965738}, {\"station_swe\": 0.1651, \"swe_pred\": 0.22670294873880517}, {\"station_swe\": 0.22352, \"swe_pred\": 0.26718460619559414}, {\"station_swe\": 0.41147999999999996, \"swe_pred\": 0.5521754746913885}, {\"station_swe\": 0.28193999999999997, \"swe_pred\": 0.2299414813353483}, {\"station_swe\": 0.33274, \"swe_pred\": 0.3011891984592969}, {\"station_swe\": 0.5334, \"swe_pred\": 0.6914323763427425}, {\"station_swe\": 0.22352, \"swe_pred\": 0.30766626365238314}, {\"station_swe\": 0.48514, \"swe_pred\": 0.6541892514824966}, {\"station_swe\": 0.34543999999999997, \"swe_pred\": 0.36757911668843085}, {\"station_swe\": 0.28193999999999997, \"swe_pred\": 0.31414332884546936}]}], \"marks\": [{\"type\": \"symbol\", \"name\": \"layer_0_marks\", \"from\": {\"data\": \"source_0\"}, \"encode\": {\"update\": {\"opacity\": {\"value\": 0.7}, \"y\": {\"field\": \"swe_pred\", \"scale\": \"y\"}, \"shape\": {\"value\": \"circle\"}, \"fill\": {\"value\": \"#4c78a8\"}, \"x\": {\"field\": \"station_swe\", \"scale\": \"x\"}}}, \"style\": [\"circle\"]}, {\"type\": \"line\", \"name\": \"layer_1_marks\", \"from\": {\"data\": \"source_1\"}, \"sort\": {\"field\": \"datum[\\\"x\\\"]\"}, \"encode\": {\"update\": {\"y\": {\"field\": \"y\", \"scale\": \"y\"}, \"stroke\": {\"value\": \"#808080\"}, \"defined\": {\"signal\": \"isValid(datum[\\\"x\\\"]) && isFinite(+datum[\\\"x\\\"]) && isValid(datum[\\\"y\\\"]) && isFinite(+datum[\\\"y\\\"])\"}, \"x\": {\"field\": \"x\", \"scale\": \"x\"}}}, \"style\": [\"line\"]}], \"scales\": [{\"name\": \"x\", \"type\": \"linear\", \"domain\": {\"fields\": [{\"data\": \"source_0\", \"field\": \"station_swe\"}, {\"data\": \"source_1\", \"field\": \"x\"}]}, \"range\": [0, {\"signal\": \"width\"}], \"nice\": true, \"zero\": true}, {\"name\": \"y\", \"type\": \"linear\", \"domain\": {\"fields\": [{\"data\": \"source_0\", \"field\": \"swe_pred\"}, {\"data\": \"source_1\", \"field\": \"y\"}]}, \"range\": [{\"signal\": \"height\"}, 0], \"nice\": true, \"zero\": true}], \"axes\": [{\"scale\": \"x\", \"ticks\": false, \"orient\": \"bottom\", \"aria\": false, \"minExtent\": 0, \"zindex\": 0, \"maxExtent\": 0, \"labels\": false, \"gridScale\": \"y\", \"tickCount\": {\"signal\": \"ceil(width/40)\"}, \"grid\": true, \"domain\": false}, {\"scale\": \"y\", \"orient\": \"left\", \"domain\": false, \"grid\": true, \"gridScale\": \"x\", \"maxExtent\": 0, \"zindex\": 0, \"tickCount\": {\"signal\": \"ceil(height/40)\"}, \"ticks\": false, \"minExtent\": 0, \"aria\": false, \"labels\": false}, {\"scale\": \"x\", \"labelFlush\": true, \"grid\": false, \"labelOverlap\": true, \"tickCount\": {\"signal\": \"ceil(width/40)\"}, \"zindex\": 0, \"orient\": \"bottom\", \"title\": \"Butte SNOTEL SWE (m)\"}, {\"scale\": \"y\", \"orient\": \"left\", \"grid\": false, \"title\": \"Butte SNOTEL SWE predicted with Schofield Pass SNVs (m)\", \"tickCount\": {\"signal\": \"ceil(height/40)\"}, \"zindex\": 0, \"labelOverlap\": true}], \"title\": {\"text\": \"Predicted SWE from Untransformed Values\", \"frame\": \"group\"}, \"width\": 300, \"height\": 300, \"background\": \"white\", \"padding\": 5, \"style\": \"cell\"}, {\"mode\": \"vega\"});\n",
       "</script>"
      ],
      "text/plain": [
       "alt.LayerChart(...)"
      ]
     },
     "execution_count": 119,
     "metadata": {},
     "output_type": "execute_result"
    }
   ],
   "source": [
    "data2 = {'x': np.linspace(0,1,100),\n",
    "        'y': np.linspace(0,1,100)}\n",
    "df_lin2 = pd.DataFrame(data2)\n",
    "    \n",
    "line2 = alt.Chart(df_lin2).mark_line().encode(\n",
    "    alt.X('x:Q'),\n",
    "    alt.Y('y:Q'),\n",
    "    color=alt.value(\"#808080\")\n",
    ")\n",
    "\n",
    "station_predict = alt.Chart(df_swe_pred).mark_circle().encode(\n",
    "        x = alt.X('station_swe').title('Butte SNOTEL SWE (m)'), \n",
    "        y = alt.Y('swe_pred').title('Butte SNOTEL SWE predicted with Schofield Pass SNVs (m)') \n",
    "    ).properties(title='Predicted SWE from Untransformed Values')\n",
    "\n",
    "combined = (station_predict + line2 ) \n",
    "combined"
   ]
  },
  {
   "cell_type": "code",
   "execution_count": 122,
   "id": "961d0493-e82a-4082-8350-a04f8e388c90",
   "metadata": {},
   "outputs": [
    {
     "name": "stdout",
     "output_type": "stream",
     "text": [
      "R value:  0.9168102917716948\n"
     ]
    }
   ],
   "source": [
    "print('R value: ', np.corrcoef(df_swe_pred['station_swe'], df_swe_pred['swe_pred'])[0,1])"
   ]
  },
  {
   "cell_type": "markdown",
   "id": "6d653b6e-ebb3-4967-beb6-53b87ab0a653",
   "metadata": {},
   "source": [
    "### Predict SWE using log values:"
   ]
  },
  {
   "cell_type": "code",
   "execution_count": 19,
   "id": "91a0c0b5-07d6-40ea-82a0-2cc07fff3b98",
   "metadata": {},
   "outputs": [],
   "source": [
    "site2 = '737_CO_SNTL'\n",
    "site1 = '380_CO_SNTL'"
   ]
  },
  {
   "cell_type": "code",
   "execution_count": 20,
   "id": "f06657a3-9be7-4e73-82b1-d2694af3308f",
   "metadata": {},
   "outputs": [],
   "source": [
    "swe_real = df.loc[pd.IndexSlice[site1],'station_swe']"
   ]
  },
  {
   "cell_type": "code",
   "execution_count": 21,
   "id": "50a91d89-747d-43a6-87bd-a22328e689e8",
   "metadata": {},
   "outputs": [],
   "source": [
    "swe_pred_log = (df.loc[pd.IndexSlice[site2],'log_station_n'] * df.loc[pd.IndexSlice[site1],'log_reanalysis_swe'].std()) + df.loc[pd.IndexSlice[site1],'log_reanalysis_swe'].mean()"
   ]
  },
  {
   "cell_type": "code",
   "execution_count": 22,
   "id": "06b6be2d-06b1-4369-a6ab-034feddff241",
   "metadata": {},
   "outputs": [],
   "source": [
    "df_swe_pred_log = pd.DataFrame(swe_real)"
   ]
  },
  {
   "cell_type": "code",
   "execution_count": 23,
   "id": "e9086393-2af5-4698-a2db-fd8d6f7c62f4",
   "metadata": {},
   "outputs": [],
   "source": [
    "df_swe_pred_log['swe_pred_log'] = swe_pred_log"
   ]
  },
  {
   "cell_type": "code",
   "execution_count": 25,
   "id": "0955f366-d8fd-47a6-a693-d7d94b76fe0a",
   "metadata": {},
   "outputs": [],
   "source": [
    "df_swe_pred_log['swe_pred_log_trans'] = math.e**df_swe_pred_log['swe_pred_log']"
   ]
  },
  {
   "cell_type": "code",
   "execution_count": 26,
   "id": "fdede865-222a-4ea3-903c-4a952e45a2bc",
   "metadata": {},
   "outputs": [],
   "source": [
    "df_swe_pred_log['difference'] = df_swe_pred_log['station_swe'] - df_swe_pred_log['swe_pred_log_trans']"
   ]
  },
  {
   "cell_type": "code",
   "execution_count": 27,
   "id": "e392c0d4-84a8-4f6f-86b9-44374f231062",
   "metadata": {},
   "outputs": [
    {
     "data": {
      "text/plain": [
       "-0.07259792759310517"
      ]
     },
     "execution_count": 27,
     "metadata": {},
     "output_type": "execute_result"
    }
   ],
   "source": [
    "df_swe_pred_log['difference'].mean()"
   ]
  },
  {
   "cell_type": "code",
   "execution_count": 219,
   "id": "e0e3fb95-38aa-4715-9c35-83629a0f9a41",
   "metadata": {},
   "outputs": [
    {
     "data": {
      "text/html": [
       "\n",
       "<style>\n",
       "  #altair-viz-7a422f687da543eba5e9cc32ccb157da.vega-embed {\n",
       "    width: 100%;\n",
       "    display: flex;\n",
       "  }\n",
       "\n",
       "  #altair-viz-7a422f687da543eba5e9cc32ccb157da.vega-embed details,\n",
       "  #altair-viz-7a422f687da543eba5e9cc32ccb157da.vega-embed details summary {\n",
       "    position: relative;\n",
       "  }\n",
       "</style>\n",
       "<div id=\"altair-viz-7a422f687da543eba5e9cc32ccb157da\"></div>\n",
       "<script type=\"text/javascript\">\n",
       "  var VEGA_DEBUG = (typeof VEGA_DEBUG == \"undefined\") ? {} : VEGA_DEBUG;\n",
       "  (function(spec, embedOpt){\n",
       "    let outputDiv = document.currentScript.previousElementSibling;\n",
       "    if (outputDiv.id !== \"altair-viz-7a422f687da543eba5e9cc32ccb157da\") {\n",
       "      outputDiv = document.getElementById(\"altair-viz-7a422f687da543eba5e9cc32ccb157da\");\n",
       "    }\n",
       "    const paths = {\n",
       "      \"vega\": \"https://cdn.jsdelivr.net/npm/vega@5?noext\",\n",
       "      \"vega-lib\": \"https://cdn.jsdelivr.net/npm/vega-lib?noext\",\n",
       "      \"vega-lite\": \"https://cdn.jsdelivr.net/npm/vega-lite@5.17.0?noext\",\n",
       "      \"vega-embed\": \"https://cdn.jsdelivr.net/npm/vega-embed@6?noext\",\n",
       "    };\n",
       "\n",
       "    function maybeLoadScript(lib, version) {\n",
       "      var key = `${lib.replace(\"-\", \"\")}_version`;\n",
       "      return (VEGA_DEBUG[key] == version) ?\n",
       "        Promise.resolve(paths[lib]) :\n",
       "        new Promise(function(resolve, reject) {\n",
       "          var s = document.createElement('script');\n",
       "          document.getElementsByTagName(\"head\")[0].appendChild(s);\n",
       "          s.async = true;\n",
       "          s.onload = () => {\n",
       "            VEGA_DEBUG[key] = version;\n",
       "            return resolve(paths[lib]);\n",
       "          };\n",
       "          s.onerror = () => reject(`Error loading script: ${paths[lib]}`);\n",
       "          s.src = paths[lib];\n",
       "        });\n",
       "    }\n",
       "\n",
       "    function showError(err) {\n",
       "      outputDiv.innerHTML = `<div class=\"error\" style=\"color:red;\">${err}</div>`;\n",
       "      throw err;\n",
       "    }\n",
       "\n",
       "    function displayChart(vegaEmbed) {\n",
       "      vegaEmbed(outputDiv, spec, embedOpt)\n",
       "        .catch(err => showError(`Javascript Error: ${err.message}<br>This usually means there's a typo in your chart specification. See the javascript console for the full traceback.`));\n",
       "    }\n",
       "\n",
       "    if(typeof define === \"function\" && define.amd) {\n",
       "      requirejs.config({paths});\n",
       "      require([\"vega-embed\"], displayChart, err => showError(`Error loading script: ${err.message}`));\n",
       "    } else {\n",
       "      maybeLoadScript(\"vega\", \"5\")\n",
       "        .then(() => maybeLoadScript(\"vega-lite\", \"5.17.0\"))\n",
       "        .then(() => maybeLoadScript(\"vega-embed\", \"6\"))\n",
       "        .catch(showError)\n",
       "        .then(() => displayChart(vegaEmbed));\n",
       "    }\n",
       "  })({\"$schema\": \"https://vega.github.io/schema/vega/v5.json\", \"data\": [{\"name\": \"source_1\", \"values\": [{\"x\": 0.0, \"y\": 0.0}, {\"x\": 0.010101010101010102, \"y\": 0.010101010101010102}, {\"x\": 0.020202020202020204, \"y\": 0.020202020202020204}, {\"x\": 0.030303030303030304, \"y\": 0.030303030303030304}, {\"x\": 0.04040404040404041, \"y\": 0.04040404040404041}, {\"x\": 0.05050505050505051, \"y\": 0.05050505050505051}, {\"x\": 0.06060606060606061, \"y\": 0.06060606060606061}, {\"x\": 0.07070707070707072, \"y\": 0.07070707070707072}, {\"x\": 0.08080808080808081, \"y\": 0.08080808080808081}, {\"x\": 0.09090909090909091, \"y\": 0.09090909090909091}, {\"x\": 0.10101010101010102, \"y\": 0.10101010101010102}, {\"x\": 0.11111111111111112, \"y\": 0.11111111111111112}, {\"x\": 0.12121212121212122, \"y\": 0.12121212121212122}, {\"x\": 0.13131313131313133, \"y\": 0.13131313131313133}, {\"x\": 0.14141414141414144, \"y\": 0.14141414141414144}, {\"x\": 0.15151515151515152, \"y\": 0.15151515151515152}, {\"x\": 0.16161616161616163, \"y\": 0.16161616161616163}, {\"x\": 0.17171717171717174, \"y\": 0.17171717171717174}, {\"x\": 0.18181818181818182, \"y\": 0.18181818181818182}, {\"x\": 0.19191919191919193, \"y\": 0.19191919191919193}, {\"x\": 0.20202020202020204, \"y\": 0.20202020202020204}, {\"x\": 0.21212121212121213, \"y\": 0.21212121212121213}, {\"x\": 0.22222222222222224, \"y\": 0.22222222222222224}, {\"x\": 0.23232323232323235, \"y\": 0.23232323232323235}, {\"x\": 0.24242424242424243, \"y\": 0.24242424242424243}, {\"x\": 0.25252525252525254, \"y\": 0.25252525252525254}, {\"x\": 0.26262626262626265, \"y\": 0.26262626262626265}, {\"x\": 0.27272727272727276, \"y\": 0.27272727272727276}, {\"x\": 0.2828282828282829, \"y\": 0.2828282828282829}, {\"x\": 0.29292929292929293, \"y\": 0.29292929292929293}, {\"x\": 0.30303030303030304, \"y\": 0.30303030303030304}, {\"x\": 0.31313131313131315, \"y\": 0.31313131313131315}, {\"x\": 0.32323232323232326, \"y\": 0.32323232323232326}, {\"x\": 0.33333333333333337, \"y\": 0.33333333333333337}, {\"x\": 0.3434343434343435, \"y\": 0.3434343434343435}, {\"x\": 0.3535353535353536, \"y\": 0.3535353535353536}, {\"x\": 0.36363636363636365, \"y\": 0.36363636363636365}, {\"x\": 0.37373737373737376, \"y\": 0.37373737373737376}, {\"x\": 0.38383838383838387, \"y\": 0.38383838383838387}, {\"x\": 0.393939393939394, \"y\": 0.393939393939394}, {\"x\": 0.4040404040404041, \"y\": 0.4040404040404041}, {\"x\": 0.4141414141414142, \"y\": 0.4141414141414142}, {\"x\": 0.42424242424242425, \"y\": 0.42424242424242425}, {\"x\": 0.43434343434343436, \"y\": 0.43434343434343436}, {\"x\": 0.4444444444444445, \"y\": 0.4444444444444445}, {\"x\": 0.4545454545454546, \"y\": 0.4545454545454546}, {\"x\": 0.4646464646464647, \"y\": 0.4646464646464647}, {\"x\": 0.4747474747474748, \"y\": 0.4747474747474748}, {\"x\": 0.48484848484848486, \"y\": 0.48484848484848486}, {\"x\": 0.494949494949495, \"y\": 0.494949494949495}, {\"x\": 0.5050505050505051, \"y\": 0.5050505050505051}, {\"x\": 0.5151515151515152, \"y\": 0.5151515151515152}, {\"x\": 0.5252525252525253, \"y\": 0.5252525252525253}, {\"x\": 0.5353535353535354, \"y\": 0.5353535353535354}, {\"x\": 0.5454545454545455, \"y\": 0.5454545454545455}, {\"x\": 0.5555555555555556, \"y\": 0.5555555555555556}, {\"x\": 0.5656565656565657, \"y\": 0.5656565656565657}, {\"x\": 0.5757575757575758, \"y\": 0.5757575757575758}, {\"x\": 0.5858585858585859, \"y\": 0.5858585858585859}, {\"x\": 0.595959595959596, \"y\": 0.595959595959596}, {\"x\": 0.6060606060606061, \"y\": 0.6060606060606061}, {\"x\": 0.6161616161616162, \"y\": 0.6161616161616162}, {\"x\": 0.6262626262626263, \"y\": 0.6262626262626263}, {\"x\": 0.6363636363636365, \"y\": 0.6363636363636365}, {\"x\": 0.6464646464646465, \"y\": 0.6464646464646465}, {\"x\": 0.6565656565656566, \"y\": 0.6565656565656566}, {\"x\": 0.6666666666666667, \"y\": 0.6666666666666667}, {\"x\": 0.6767676767676768, \"y\": 0.6767676767676768}, {\"x\": 0.686868686868687, \"y\": 0.686868686868687}, {\"x\": 0.696969696969697, \"y\": 0.696969696969697}, {\"x\": 0.7070707070707072, \"y\": 0.7070707070707072}, {\"x\": 0.7171717171717172, \"y\": 0.7171717171717172}, {\"x\": 0.7272727272727273, \"y\": 0.7272727272727273}, {\"x\": 0.7373737373737375, \"y\": 0.7373737373737375}, {\"x\": 0.7474747474747475, \"y\": 0.7474747474747475}, {\"x\": 0.7575757575757577, \"y\": 0.7575757575757577}, {\"x\": 0.7676767676767677, \"y\": 0.7676767676767677}, {\"x\": 0.7777777777777778, \"y\": 0.7777777777777778}, {\"x\": 0.787878787878788, \"y\": 0.787878787878788}, {\"x\": 0.797979797979798, \"y\": 0.797979797979798}, {\"x\": 0.8080808080808082, \"y\": 0.8080808080808082}, {\"x\": 0.8181818181818182, \"y\": 0.8181818181818182}, {\"x\": 0.8282828282828284, \"y\": 0.8282828282828284}, {\"x\": 0.8383838383838385, \"y\": 0.8383838383838385}, {\"x\": 0.8484848484848485, \"y\": 0.8484848484848485}, {\"x\": 0.8585858585858587, \"y\": 0.8585858585858587}, {\"x\": 0.8686868686868687, \"y\": 0.8686868686868687}, {\"x\": 0.8787878787878789, \"y\": 0.8787878787878789}, {\"x\": 0.888888888888889, \"y\": 0.888888888888889}, {\"x\": 0.8989898989898991, \"y\": 0.8989898989898991}, {\"x\": 0.9090909090909092, \"y\": 0.9090909090909092}, {\"x\": 0.9191919191919192, \"y\": 0.9191919191919192}, {\"x\": 0.9292929292929294, \"y\": 0.9292929292929294}, {\"x\": 0.9393939393939394, \"y\": 0.9393939393939394}, {\"x\": 0.9494949494949496, \"y\": 0.9494949494949496}, {\"x\": 0.9595959595959597, \"y\": 0.9595959595959597}, {\"x\": 0.9696969696969697, \"y\": 0.9696969696969697}, {\"x\": 0.9797979797979799, \"y\": 0.9797979797979799}, {\"x\": 0.98989898989899, \"y\": 0.98989898989899}, {\"x\": 1.0, \"y\": 1.0}]}, {\"name\": \"source_0\", \"values\": [{\"station_swe\": 0.5638799999999999, \"swe_pred\": 0.4366967714852156}, {\"station_swe\": 0.5638799999999999, \"swe_pred\": 0.497751139695284}, {\"station_swe\": 0.39877999999999997, \"swe_pred\": 0.2687972589075271}, {\"station_swe\": 0.58674, \"swe_pred\": 0.48248754764276697}, {\"station_swe\": 0.38608, \"swe_pred\": 0.3267989087070921}, {\"station_swe\": 0.46482, \"swe_pred\": 0.38174784009615387}, {\"station_swe\": 0.75184, \"swe_pred\": 0.8762882225977089}, {\"station_swe\": 0.635, \"swe_pred\": 0.58322725518938}, {\"station_swe\": 0.48005999999999993, \"swe_pred\": 0.3634315296331333}, {\"station_swe\": 0.37084, \"swe_pred\": 0.2840608509600442}, {\"station_swe\": 0.5943599999999999, \"swe_pred\": 0.625965312936428}, {\"station_swe\": 0.40386, \"swe_pred\": 0.35732609281212635}, {\"station_swe\": 0.43179999999999996, \"swe_pred\": 0.2687972589075271}, {\"station_swe\": 0.5334, \"swe_pred\": 0.40616958738018133}, {\"station_swe\": 0.37846, \"swe_pred\": 0.19553201705544482}, {\"station_swe\": 0.53594, \"swe_pred\": 0.3023771614230648}, {\"station_swe\": 0.6248400000000001, \"swe_pred\": 0.6564924970414622}, {\"station_swe\": 0.37338, \"swe_pred\": 0.22605920116047912}, {\"station_swe\": 0.65024, \"swe_pred\": 0.540489197442332}, {\"station_swe\": 0.61468, \"swe_pred\": 0.5435419158528354}, {\"station_swe\": 0.39877999999999997, \"swe_pred\": 0.26574454049702356}, {\"station_swe\": 0.78994, \"swe_pred\": 0.8060756991561302}, {\"station_swe\": 0.22097999999999998, \"swe_pred\": 0.08563415427732146}, {\"station_swe\": 0.45974000000000004, \"swe_pred\": 0.32069347188608527}, {\"station_swe\": 0.69342, \"swe_pred\": 0.8335501648506609}, {\"station_swe\": 0.28193999999999997, \"swe_pred\": 0.17416298818192089}, {\"station_swe\": 0.64516, \"swe_pred\": 0.4641712371797464}, {\"station_swe\": 0.42672, \"swe_pred\": 0.2932190061915545}, {\"station_swe\": 0.45465999999999995, \"swe_pred\": 0.4000641505591745}, {\"station_swe\": 0.6476999999999999, \"swe_pred\": 0.6137544392944143}, {\"station_swe\": 0.6248400000000001, \"swe_pred\": 0.647334341809952}, {\"station_swe\": 0.4292599999999999, \"swe_pred\": 0.39395871373816765}]}, {\"name\": \"source_2\", \"values\": [{\"station_swe\": 0.5638799999999999, \"swe_pred_log_trans\": 0.4359738708811615}, {\"station_swe\": 0.5638799999999999, \"swe_pred_log_trans\": 0.5081136816836439}, {\"station_swe\": 0.39877999999999997, \"swe_pred_log_trans\": 0.26447057695792175}, {\"station_swe\": 0.58674, \"swe_pred_log_trans\": 0.4895961933495414}, {\"station_swe\": 0.38608, \"swe_pred_log_trans\": 0.31921143486250875}, {\"station_swe\": 0.46482, \"swe_pred_log_trans\": 0.37547423585588147}, {\"station_swe\": 0.75184, \"swe_pred_log_trans\": 1.0680638910341502}, {\"station_swe\": 0.635, \"swe_pred_log_trans\": 0.6177100202271065}, {\"station_swe\": 0.48005999999999993, \"swe_pred_log_trans\": 0.3562470163915294}, {\"station_swe\": 0.37084, \"swe_pred_log_trans\": 0.27841010565359076}, {\"station_swe\": 0.5943599999999999, \"swe_pred_log_trans\": 0.6762346352253501}, {\"station_swe\": 0.40386, \"swe_pred_log_trans\": 0.34994283372994767}, {\"station_swe\": 0.43179999999999996, \"swe_pred_log_trans\": 0.26447057695792175}, {\"station_swe\": 0.5334, \"swe_pred_log_trans\": 0.40184248908503567}, {\"station_swe\": 0.37846, \"swe_pred_log_trans\": 0.20224037125215674}, {\"station_swe\": 0.53594, \"swe_pred_log_trans\": 0.29557765150980775}, {\"station_swe\": 0.6248400000000001, \"swe_pred_log_trans\": 0.7195473849772723}, {\"station_swe\": 0.37338, \"swe_pred_log_trans\": 0.22722397942683914}, {\"station_swe\": 0.65024, \"swe_pred_log_trans\": 0.5616644304654397}, {\"station_swe\": 0.61468, \"swe_pred_log_trans\": 0.5655851423325461}, {\"station_swe\": 0.39877999999999997, \"swe_pred_log_trans\": 0.2617227906025016}, {\"station_swe\": 0.78994, \"swe_pred_log_trans\": 0.94978488690243}, {\"station_swe\": 0.22097999999999998, \"swe_pred_log_trans\": 0.12366782795600875}, {\"station_swe\": 0.45974000000000004, \"swe_pred_log_trans\": 0.31322351126883846}, {\"station_swe\": 0.69342, \"swe_pred_log_trans\": 0.9952966012011476}, {\"station_swe\": 0.28193999999999997, \"swe_pred_log_trans\": 0.1855620667877683}, {\"station_swe\": 0.64516, \"swe_pred_log_trans\": 0.4677991895683637}, {\"station_swe\": 0.42672, \"swe_pred_log_trans\": 0.2869339711513674}, {\"station_swe\": 0.45465999999999995, \"swe_pred_log_trans\": 0.3951721807758137}, {\"station_swe\": 0.6476999999999999, \"swe_pred_log_trans\": 0.6592612422608995}, {\"station_swe\": 0.6248400000000001, \"swe_pred_log_trans\": 0.7064218716529106}, {\"station_swe\": 0.4292599999999999, \"swe_pred_log_trans\": 0.3885539964559083}]}], \"marks\": [{\"type\": \"symbol\", \"name\": \"layer_0_marks\", \"from\": {\"data\": \"source_0\"}, \"encode\": {\"update\": {\"fill\": {\"value\": \"#000000\"}, \"x\": {\"field\": \"station_swe\", \"scale\": \"x\"}, \"shape\": {\"value\": \"circle\"}, \"y\": {\"field\": \"swe_pred\", \"scale\": \"y\"}, \"opacity\": {\"value\": 0.7}}}, \"style\": [\"circle\"]}, {\"type\": \"line\", \"name\": \"layer_1_marks\", \"from\": {\"data\": \"source_1\"}, \"sort\": {\"field\": \"datum[\\\"x\\\"]\"}, \"encode\": {\"update\": {\"stroke\": {\"value\": \"#808080\"}, \"x\": {\"field\": \"x\", \"scale\": \"x\"}, \"y\": {\"field\": \"y\", \"scale\": \"y\"}, \"defined\": {\"signal\": \"isValid(datum[\\\"x\\\"]) && isFinite(+datum[\\\"x\\\"]) && isValid(datum[\\\"y\\\"]) && isFinite(+datum[\\\"y\\\"])\"}}}, \"style\": [\"line\"]}, {\"type\": \"symbol\", \"name\": \"layer_2_marks\", \"from\": {\"data\": \"source_2\"}, \"encode\": {\"update\": {\"fill\": {\"value\": \"#4c78a8\"}, \"opacity\": {\"value\": 0.7}, \"x\": {\"field\": \"station_swe\", \"scale\": \"x\"}, \"y\": {\"field\": \"swe_pred_log_trans\", \"scale\": \"y\"}, \"shape\": {\"value\": \"circle\"}}}, \"style\": [\"circle\"]}], \"scales\": [{\"name\": \"x\", \"type\": \"linear\", \"domain\": {\"fields\": [{\"data\": \"source_0\", \"field\": \"station_swe\"}, {\"data\": \"source_1\", \"field\": \"x\"}, {\"data\": \"source_2\", \"field\": \"station_swe\"}]}, \"range\": [0, {\"signal\": \"width\"}], \"zero\": true, \"nice\": true}, {\"name\": \"y\", \"type\": \"linear\", \"domain\": {\"fields\": [{\"data\": \"source_0\", \"field\": \"swe_pred\"}, {\"data\": \"source_1\", \"field\": \"y\"}, {\"data\": \"source_2\", \"field\": \"swe_pred_log_trans\"}]}, \"range\": [{\"signal\": \"height\"}, 0], \"nice\": true, \"zero\": true}], \"axes\": [{\"scale\": \"x\", \"minExtent\": 0, \"domain\": false, \"grid\": true, \"aria\": false, \"orient\": \"bottom\", \"labels\": false, \"gridScale\": \"y\", \"tickCount\": {\"signal\": \"ceil(width/40)\"}, \"maxExtent\": 0, \"ticks\": false, \"zindex\": 0}, {\"scale\": \"y\", \"domain\": false, \"maxExtent\": 0, \"minExtent\": 0, \"tickCount\": {\"signal\": \"ceil(height/40)\"}, \"aria\": false, \"orient\": \"left\", \"grid\": true, \"labels\": false, \"ticks\": false, \"zindex\": 0, \"gridScale\": \"x\"}, {\"scale\": \"x\", \"tickCount\": {\"signal\": \"ceil(width/40)\"}, \"zindex\": 0, \"grid\": false, \"orient\": \"bottom\", \"title\": \"Butte SNOTEL SWE (m)\", \"labelFlush\": true, \"labelOverlap\": true}, {\"scale\": \"y\", \"grid\": false, \"tickCount\": {\"signal\": \"ceil(height/40)\"}, \"title\": \"Butte SNOTEL SWE predicted with Schofield Pass SNVs (m), Butte SNOTEL SWE predicted with Schofield Pass Ln(SNVs) (m)\", \"labelOverlap\": true, \"orient\": \"left\", \"zindex\": 0}], \"title\": {\"text\": \"Predicted SWE from Untransformed Values\", \"frame\": \"group\"}, \"width\": 300, \"padding\": 5, \"style\": \"cell\", \"background\": \"white\", \"height\": 300}, {\"mode\": \"vega\"});\n",
       "</script>"
      ],
      "text/plain": [
       "alt.LayerChart(...)"
      ]
     },
     "execution_count": 219,
     "metadata": {},
     "output_type": "execute_result"
    }
   ],
   "source": [
    "data2 = {'x': np.linspace(0,1,100),\n",
    "        'y': np.linspace(0,1,100)}\n",
    "df_lin2 = pd.DataFrame(data2)\n",
    "    \n",
    "line2 = alt.Chart(df_lin2).mark_line().encode(\n",
    "    alt.X('x:Q'),\n",
    "    alt.Y('y:Q'),\n",
    "    color=alt.value(\"#808080\")\n",
    ")\n",
    "\n",
    "station_predict = alt.Chart(df_swe_pred).mark_circle().encode(\n",
    "        x = alt.X('station_swe').title('Butte SNOTEL SWE (m)'), #.axis(values=[-5,-4,-3,-2,-1,0,1,2,3,4,5]),\n",
    "        y = alt.Y('swe_pred').title('Butte SNOTEL SWE predicted with Schofield Pass SNVs (m)'),\n",
    "    color=alt.value('#000000') #.axis(values=[-5,-4,-3,-2,-1,0,1,2,3,4,5]).scale(domain=[-5,5]).scale(domain=[0,2500]),\n",
    "    ).properties(title='Predicted SWE from Untransformed Values')\n",
    "\n",
    "station_predict_log = alt.Chart(df_swe_pred_log).mark_circle().encode(\n",
    "        x = alt.X('station_swe').title('Butte SNOTEL SWE (m)'), #.axis(values=[-5,-4,-3,-2,-1,0,1,2,3,4,5]),\n",
    "        y = alt.Y('swe_pred_log_trans').title('Butte SNOTEL SWE predicted with Schofield Pass Ln(SNVs) (m)') #.axis(values=[-5,-4,-3,-2,-1,0,1,2,3,4,5]).scale(domain=[-5,5]).scale(domain=[0,2500]),\n",
    "    ).properties(title='Predicted SWE')\n",
    "\n",
    "combined = (station_predict + line2 + station_predict_log) # + annotation\n",
    "#combined.save('../figures/swe_predicted.png')\n",
    "combined"
   ]
  },
  {
   "cell_type": "code",
   "execution_count": null,
   "id": "ffa86fc6-d8f8-4ad2-8835-a5aa1a2bfb91",
   "metadata": {},
   "outputs": [],
   "source": [
    "data2 = {'x': np.linspace(0,1,100),\n",
    "        'y': np.linspace(0,1,100)}\n",
    "df_lin2 = pd.DataFrame(data2)\n",
    "    \n",
    "line2 = alt.Chart(df_lin2).mark_line().encode(\n",
    "    alt.X('x:Q'),\n",
    "    alt.Y('y:Q'),\n",
    "    color=alt.value(\"#808080\")\n",
    ")\n",
    "\n",
    "station_predict = alt.Chart(df_swe_pred_log).mark_circle().encode(\n",
    "        x = alt.X('station_swe').title('Butte SNOTEL SWE (m)'), #.axis(values=[-5,-4,-3,-2,-1,0,1,2,3,4,5]),\n",
    "        y = alt.Y('swe_pred_log_trans').title('Butte SNOTEL SWE predicted with Schofield Pass Ln(SNVs) (m)') #.axis(values=[-5,-4,-3,-2,-1,0,1,2,3,4,5]).scale(domain=[-5,5]).scale(domain=[0,2500]),\n",
    "    ).properties(title='Predicted SWE')\n",
    "\n",
    "combined = (station_predict + line2) # + annotation\n",
    "#combined.save('../figures/swe_predicted.png')\n",
    "combined"
   ]
  },
  {
   "cell_type": "code",
   "execution_count": 123,
   "id": "87cbf254-cbb4-4b00-a713-e4707f87a9e0",
   "metadata": {},
   "outputs": [
    {
     "name": "stdout",
     "output_type": "stream",
     "text": [
      "R value:  0.9172905061197217\n"
     ]
    }
   ],
   "source": [
    "print('R value: ', np.corrcoef(df_swe_pred_log['station_swe'], df_swe_pred_log['swe_pred_log_trans'])[0,1])"
   ]
  },
  {
   "cell_type": "markdown",
   "id": "f8af530c-df00-46ac-a7dd-55cf4b8e0adb",
   "metadata": {},
   "source": [
    "### Predict SWE with Quantile Mapping:"
   ]
  },
  {
   "cell_type": "code",
   "execution_count": 365,
   "id": "7d96298d-6f37-4f41-96b8-e9502fdce140",
   "metadata": {},
   "outputs": [],
   "source": [
    "site2 = '737_CO_SNTL'\n",
    "site1 = '380_CO_SNTL'"
   ]
  },
  {
   "cell_type": "code",
   "execution_count": 366,
   "id": "8f88a895-e432-4ba4-ac92-385dd8474fc1",
   "metadata": {},
   "outputs": [],
   "source": [
    "cdf_site1 = df.loc[pd.IndexSlice[site1]]\n",
    "cdf_site2 = df.loc[pd.IndexSlice[site2]]"
   ]
  },
  {
   "cell_type": "code",
   "execution_count": 367,
   "id": "38fb36b3-dc0b-43a7-b816-5fce04ee46ba",
   "metadata": {},
   "outputs": [],
   "source": [
    "cdf_site2 = cdf_site2.sort_values('station_swe')\n",
    "cdf_site1 = cdf_site1.sort_values('reanalysis_swe')"
   ]
  },
  {
   "cell_type": "code",
   "execution_count": 368,
   "id": "ae8aeb17-cdf6-4e7d-8f7f-f2774d9a13e6",
   "metadata": {},
   "outputs": [],
   "source": [
    "count2, bins_count2 = np.histogram(cdf_site2['station_swe'], bins=6)\n",
    "count1, bins_count1 = np.histogram(cdf_site1['reanalysis_swe'], bins=6)"
   ]
  },
  {
   "cell_type": "code",
   "execution_count": 369,
   "id": "f91538d1-2fd2-483e-8570-bd53b08df343",
   "metadata": {},
   "outputs": [],
   "source": [
    "pdf1 = count1 / sum(count1)\n",
    "pdf2 = count2 / sum(count2)"
   ]
  },
  {
   "cell_type": "code",
   "execution_count": 370,
   "id": "5508af96-6fbd-4b3a-9023-b73525695d98",
   "metadata": {},
   "outputs": [],
   "source": [
    "cdf1 = np.cumsum(pdf1) \n",
    "cdf2 = np.cumsum(pdf2) "
   ]
  },
  {
   "cell_type": "code",
   "execution_count": 371,
   "id": "f743bf93-94bb-4a64-a48f-0ef77c652660",
   "metadata": {},
   "outputs": [
    {
     "data": {
      "text/plain": [
       "0.1651"
      ]
     },
     "execution_count": 371,
     "metadata": {},
     "output_type": "execute_result"
    }
   ],
   "source": [
    "cdf_site1['station_swe'].min()"
   ]
  },
  {
   "cell_type": "code",
   "execution_count": 372,
   "id": "edd42ceb-30bf-4633-b5fc-4e4426d2d25c",
   "metadata": {},
   "outputs": [
    {
     "data": {
      "text/plain": [
       "0.1651"
      ]
     },
     "execution_count": 372,
     "metadata": {},
     "output_type": "execute_result"
    }
   ],
   "source": [
    "np.nanmin(cdf_site1['station_swe'])"
   ]
  },
  {
   "cell_type": "code",
   "execution_count": 373,
   "id": "9404e60f-ef54-4be6-8d6d-ad9669ec01a8",
   "metadata": {},
   "outputs": [],
   "source": [
    "# Untransformed Theoretical Normal PDF\n",
    "mu_1 = cdf_site1['station_swe'].mean()\n",
    "sigma_1 = cdf_site1['station_swe'].std()\n",
    "\n",
    "x_1 = np.linspace(cdf_site1['station_swe'].min(), cdf_site1['station_swe'].max(), 101)\n",
    "pdf_1 = stats.norm.pdf(x_1, mu_1, sigma_1)\n",
    "pdf_1 = pdf_1 / np.sum(pdf_1)\n",
    "cdf_1 = np.cumsum(pdf_1)\n",
    "\n",
    "mu_2 = cdf_site2['station_swe'].mean()\n",
    "sigma_2 = cdf_site2['station_swe'].std()\n",
    "\n",
    "x_2 = np.linspace(cdf_site2['station_swe'].min(), cdf_site2['station_swe'].max(), 101)\n",
    "pdf_2 = stats.norm.pdf(x_2, mu_2, sigma_2)\n",
    "pdf_2 = pdf_2 / np.sum(pdf_2)\n",
    "cdf_2 = np.cumsum(pdf_2)\n",
    "\n",
    "\n",
    "# Theoretical Natural Log Normal PDF\n",
    "mu_1_log = np.log(cdf_site1['station_swe']).mean()\n",
    "sigma_1_log = np.log(cdf_site1['station_swe']).std()\n",
    "\n",
    "x_1_log = np.log(np.linspace(cdf_site1['station_swe'].min(), cdf_site1['station_swe'].max(), 101))\n",
    "pdf_1_log = stats.norm.pdf(x_1_log, mu_1_log, sigma_1_log)\n",
    "pdf_1_log = pdf_1_log / np.sum(pdf_1_log)\n",
    "cdf_1_log = np.cumsum(pdf_1_log)\n",
    "\n",
    "mu_2_log = np.log(cdf_site2['station_swe']).mean()\n",
    "sigma_2_log = np.log(cdf_site2['station_swe']).std()\n",
    "\n",
    "x_2_log = np.log(np.linspace(cdf_site2['station_swe'].min(), cdf_site2['station_swe'].max(), 101))\n",
    "pdf_2_log = stats.norm.pdf(x_2_log, mu_2_log, sigma_2_log)\n",
    "pdf_2_log = pdf_2_log / np.sum(pdf_2_log)\n",
    "cdf_2_log = np.cumsum(pdf_2_log)"
   ]
  },
  {
   "cell_type": "code",
   "execution_count": 374,
   "id": "950b7895-d2e1-47c6-a456-3e6753ce02c4",
   "metadata": {},
   "outputs": [
    {
     "data": {
      "text/plain": [
       "array([0.1651  , 0.169545, 0.17399 , 0.178435, 0.18288 , 0.187325,\n",
       "       0.19177 , 0.196215, 0.20066 , 0.205105, 0.20955 , 0.213995,\n",
       "       0.21844 , 0.222885, 0.22733 , 0.231775, 0.23622 , 0.240665,\n",
       "       0.24511 , 0.249555, 0.254   , 0.258445, 0.26289 , 0.267335,\n",
       "       0.27178 , 0.276225, 0.28067 , 0.285115, 0.28956 , 0.294005,\n",
       "       0.29845 , 0.302895, 0.30734 , 0.311785, 0.31623 , 0.320675,\n",
       "       0.32512 , 0.329565, 0.33401 , 0.338455, 0.3429  , 0.347345,\n",
       "       0.35179 , 0.356235, 0.36068 , 0.365125, 0.36957 , 0.374015,\n",
       "       0.37846 , 0.382905, 0.38735 , 0.391795, 0.39624 , 0.400685,\n",
       "       0.40513 , 0.409575, 0.41402 , 0.418465, 0.42291 , 0.427355,\n",
       "       0.4318  , 0.436245, 0.44069 , 0.445135, 0.44958 , 0.454025,\n",
       "       0.45847 , 0.462915, 0.46736 , 0.471805, 0.47625 , 0.480695,\n",
       "       0.48514 , 0.489585, 0.49403 , 0.498475, 0.50292 , 0.507365,\n",
       "       0.51181 , 0.516255, 0.5207  , 0.525145, 0.52959 , 0.534035,\n",
       "       0.53848 , 0.542925, 0.54737 , 0.551815, 0.55626 , 0.560705,\n",
       "       0.56515 , 0.569595, 0.57404 , 0.578485, 0.58293 , 0.587375,\n",
       "       0.59182 , 0.596265, 0.60071 , 0.605155, 0.6096  ])"
      ]
     },
     "execution_count": 374,
     "metadata": {},
     "output_type": "execute_result"
    }
   ],
   "source": [
    "x_1"
   ]
  },
  {
   "cell_type": "code",
   "execution_count": 384,
   "id": "39fd6216-7895-4a25-908e-4f35123f158d",
   "metadata": {},
   "outputs": [
    {
     "data": {
      "text/plain": [
       "Text(0, 0.5, 'Probability')"
      ]
     },
     "execution_count": 384,
     "metadata": {},
     "output_type": "execute_result"
    },
    {
     "data": {
      "image/png": "[encoded data removed]",
      "text/plain": [
       "<Figure size 640x480 with 1 Axes>"
      ]
     },
     "metadata": {},
     "output_type": "display_data"
    }
   ],
   "source": [
    "# plotting PDF and CDF \n",
    "plt.plot(bins_count1[1:], pdf1, color=\"red\", label=\"empirical PDF\") \n",
    "plt.plot(x_1,pdf_1,'k', label='theoretical normal pdf')\n",
    "plt.plot(x_1,pdf_1_log,'orange',label='theoretical natural log normal pdf')\n",
    "\n",
    "plt.plot(bins_count1[1:], cdf1, 'cornflowerblue', label=\"empirical CDF\")\n",
    "plt.plot(x_1,cdf_1,'k', label='theoretical normal cdf')\n",
    "plt.plot(x_1, cdf_1_log,'purple',label='theoretical natural log normal cdf')\n",
    "\n",
    "plt.legend() \n",
    "plt.xlabel('SWE')\n",
    "plt.ylabel('Probability')"
   ]
  },
  {
   "cell_type": "code",
   "execution_count": 386,
   "id": "065451b8-1fe2-467a-a4fd-075237f97720",
   "metadata": {},
   "outputs": [
    {
     "ename": "ValueError",
     "evalue": "x and y must have same first dimension, but have shapes (6,) and (101,)",
     "output_type": "error",
     "traceback": [
      "\u001b[0;31m---------------------------------------------------------------------------\u001b[0m",
      "\u001b[0;31mValueError\u001b[0m                                Traceback (most recent call last)",
      "Cell \u001b[0;32mIn[386], line 1\u001b[0m\n\u001b[0;32m----> 1\u001b[0m \u001b[43mplt\u001b[49m\u001b[38;5;241;43m.\u001b[39;49m\u001b[43mplot\u001b[49m\u001b[43m(\u001b[49m\u001b[43mcdf1\u001b[49m\u001b[43m,\u001b[49m\u001b[43mcdf_1\u001b[49m\u001b[43m)\u001b[49m\n",
      "File \u001b[0;32m~/micromamba/envs/analysis_2024/lib/python3.12/site-packages/matplotlib/pyplot.py:3590\u001b[0m, in \u001b[0;36mplot\u001b[0;34m(scalex, scaley, data, *args, **kwargs)\u001b[0m\n\u001b[1;32m   3582\u001b[0m \u001b[38;5;129m@_copy_docstring_and_deprecators\u001b[39m(Axes\u001b[38;5;241m.\u001b[39mplot)\n\u001b[1;32m   3583\u001b[0m \u001b[38;5;28;01mdef\u001b[39;00m \u001b[38;5;21mplot\u001b[39m(\n\u001b[1;32m   3584\u001b[0m     \u001b[38;5;241m*\u001b[39margs: \u001b[38;5;28mfloat\u001b[39m \u001b[38;5;241m|\u001b[39m ArrayLike \u001b[38;5;241m|\u001b[39m \u001b[38;5;28mstr\u001b[39m,\n\u001b[0;32m   (...)\u001b[0m\n\u001b[1;32m   3588\u001b[0m     \u001b[38;5;241m*\u001b[39m\u001b[38;5;241m*\u001b[39mkwargs,\n\u001b[1;32m   3589\u001b[0m ) \u001b[38;5;241m-\u001b[39m\u001b[38;5;241m>\u001b[39m \u001b[38;5;28mlist\u001b[39m[Line2D]:\n\u001b[0;32m-> 3590\u001b[0m     \u001b[38;5;28;01mreturn\u001b[39;00m \u001b[43mgca\u001b[49m\u001b[43m(\u001b[49m\u001b[43m)\u001b[49m\u001b[38;5;241;43m.\u001b[39;49m\u001b[43mplot\u001b[49m\u001b[43m(\u001b[49m\n\u001b[1;32m   3591\u001b[0m \u001b[43m        \u001b[49m\u001b[38;5;241;43m*\u001b[39;49m\u001b[43margs\u001b[49m\u001b[43m,\u001b[49m\n\u001b[1;32m   3592\u001b[0m \u001b[43m        \u001b[49m\u001b[43mscalex\u001b[49m\u001b[38;5;241;43m=\u001b[39;49m\u001b[43mscalex\u001b[49m\u001b[43m,\u001b[49m\n\u001b[1;32m   3593\u001b[0m \u001b[43m        \u001b[49m\u001b[43mscaley\u001b[49m\u001b[38;5;241;43m=\u001b[39;49m\u001b[43mscaley\u001b[49m\u001b[43m,\u001b[49m\n\u001b[1;32m   3594\u001b[0m \u001b[43m        \u001b[49m\u001b[38;5;241;43m*\u001b[39;49m\u001b[38;5;241;43m*\u001b[39;49m\u001b[43m(\u001b[49m\u001b[43m{\u001b[49m\u001b[38;5;124;43m\"\u001b[39;49m\u001b[38;5;124;43mdata\u001b[39;49m\u001b[38;5;124;43m\"\u001b[39;49m\u001b[43m:\u001b[49m\u001b[43m \u001b[49m\u001b[43mdata\u001b[49m\u001b[43m}\u001b[49m\u001b[43m \u001b[49m\u001b[38;5;28;43;01mif\u001b[39;49;00m\u001b[43m \u001b[49m\u001b[43mdata\u001b[49m\u001b[43m \u001b[49m\u001b[38;5;129;43;01mis\u001b[39;49;00m\u001b[43m \u001b[49m\u001b[38;5;129;43;01mnot\u001b[39;49;00m\u001b[43m \u001b[49m\u001b[38;5;28;43;01mNone\u001b[39;49;00m\u001b[43m \u001b[49m\u001b[38;5;28;43;01melse\u001b[39;49;00m\u001b[43m \u001b[49m\u001b[43m{\u001b[49m\u001b[43m}\u001b[49m\u001b[43m)\u001b[49m\u001b[43m,\u001b[49m\n\u001b[1;32m   3595\u001b[0m \u001b[43m        \u001b[49m\u001b[38;5;241;43m*\u001b[39;49m\u001b[38;5;241;43m*\u001b[39;49m\u001b[43mkwargs\u001b[49m\u001b[43m,\u001b[49m\n\u001b[1;32m   3596\u001b[0m \u001b[43m    \u001b[49m\u001b[43m)\u001b[49m\n",
      "File \u001b[0;32m~/micromamba/envs/analysis_2024/lib/python3.12/site-packages/matplotlib/axes/_axes.py:1724\u001b[0m, in \u001b[0;36mAxes.plot\u001b[0;34m(self, scalex, scaley, data, *args, **kwargs)\u001b[0m\n\u001b[1;32m   1481\u001b[0m \u001b[38;5;250m\u001b[39m\u001b[38;5;124;03m\"\"\"\u001b[39;00m\n\u001b[1;32m   1482\u001b[0m \u001b[38;5;124;03mPlot y versus x as lines and/or markers.\u001b[39;00m\n\u001b[1;32m   1483\u001b[0m \n\u001b[0;32m   (...)\u001b[0m\n\u001b[1;32m   1721\u001b[0m \u001b[38;5;124;03m(``'green'``) or hex strings (``'#008000'``).\u001b[39;00m\n\u001b[1;32m   1722\u001b[0m \u001b[38;5;124;03m\"\"\"\u001b[39;00m\n\u001b[1;32m   1723\u001b[0m kwargs \u001b[38;5;241m=\u001b[39m cbook\u001b[38;5;241m.\u001b[39mnormalize_kwargs(kwargs, mlines\u001b[38;5;241m.\u001b[39mLine2D)\n\u001b[0;32m-> 1724\u001b[0m lines \u001b[38;5;241m=\u001b[39m [\u001b[38;5;241m*\u001b[39m\u001b[38;5;28mself\u001b[39m\u001b[38;5;241m.\u001b[39m_get_lines(\u001b[38;5;28mself\u001b[39m, \u001b[38;5;241m*\u001b[39margs, data\u001b[38;5;241m=\u001b[39mdata, \u001b[38;5;241m*\u001b[39m\u001b[38;5;241m*\u001b[39mkwargs)]\n\u001b[1;32m   1725\u001b[0m \u001b[38;5;28;01mfor\u001b[39;00m line \u001b[38;5;129;01min\u001b[39;00m lines:\n\u001b[1;32m   1726\u001b[0m     \u001b[38;5;28mself\u001b[39m\u001b[38;5;241m.\u001b[39madd_line(line)\n",
      "File \u001b[0;32m~/micromamba/envs/analysis_2024/lib/python3.12/site-packages/matplotlib/axes/_base.py:303\u001b[0m, in \u001b[0;36m_process_plot_var_args.__call__\u001b[0;34m(self, axes, data, *args, **kwargs)\u001b[0m\n\u001b[1;32m    301\u001b[0m     this \u001b[38;5;241m+\u001b[39m\u001b[38;5;241m=\u001b[39m args[\u001b[38;5;241m0\u001b[39m],\n\u001b[1;32m    302\u001b[0m     args \u001b[38;5;241m=\u001b[39m args[\u001b[38;5;241m1\u001b[39m:]\n\u001b[0;32m--> 303\u001b[0m \u001b[38;5;28;01myield from\u001b[39;00m \u001b[38;5;28;43mself\u001b[39;49m\u001b[38;5;241;43m.\u001b[39;49m\u001b[43m_plot_args\u001b[49m\u001b[43m(\u001b[49m\n\u001b[1;32m    304\u001b[0m \u001b[43m    \u001b[49m\u001b[43maxes\u001b[49m\u001b[43m,\u001b[49m\u001b[43m \u001b[49m\u001b[43mthis\u001b[49m\u001b[43m,\u001b[49m\u001b[43m \u001b[49m\u001b[43mkwargs\u001b[49m\u001b[43m,\u001b[49m\u001b[43m \u001b[49m\u001b[43mambiguous_fmt_datakey\u001b[49m\u001b[38;5;241;43m=\u001b[39;49m\u001b[43mambiguous_fmt_datakey\u001b[49m\u001b[43m)\u001b[49m\n",
      "File \u001b[0;32m~/micromamba/envs/analysis_2024/lib/python3.12/site-packages/matplotlib/axes/_base.py:499\u001b[0m, in \u001b[0;36m_process_plot_var_args._plot_args\u001b[0;34m(self, axes, tup, kwargs, return_kwargs, ambiguous_fmt_datakey)\u001b[0m\n\u001b[1;32m    496\u001b[0m     axes\u001b[38;5;241m.\u001b[39myaxis\u001b[38;5;241m.\u001b[39mupdate_units(y)\n\u001b[1;32m    498\u001b[0m \u001b[38;5;28;01mif\u001b[39;00m x\u001b[38;5;241m.\u001b[39mshape[\u001b[38;5;241m0\u001b[39m] \u001b[38;5;241m!=\u001b[39m y\u001b[38;5;241m.\u001b[39mshape[\u001b[38;5;241m0\u001b[39m]:\n\u001b[0;32m--> 499\u001b[0m     \u001b[38;5;28;01mraise\u001b[39;00m \u001b[38;5;167;01mValueError\u001b[39;00m(\u001b[38;5;124mf\u001b[39m\u001b[38;5;124m\"\u001b[39m\u001b[38;5;124mx and y must have same first dimension, but \u001b[39m\u001b[38;5;124m\"\u001b[39m\n\u001b[1;32m    500\u001b[0m                      \u001b[38;5;124mf\u001b[39m\u001b[38;5;124m\"\u001b[39m\u001b[38;5;124mhave shapes \u001b[39m\u001b[38;5;132;01m{\u001b[39;00mx\u001b[38;5;241m.\u001b[39mshape\u001b[38;5;132;01m}\u001b[39;00m\u001b[38;5;124m and \u001b[39m\u001b[38;5;132;01m{\u001b[39;00my\u001b[38;5;241m.\u001b[39mshape\u001b[38;5;132;01m}\u001b[39;00m\u001b[38;5;124m\"\u001b[39m)\n\u001b[1;32m    501\u001b[0m \u001b[38;5;28;01mif\u001b[39;00m x\u001b[38;5;241m.\u001b[39mndim \u001b[38;5;241m>\u001b[39m \u001b[38;5;241m2\u001b[39m \u001b[38;5;129;01mor\u001b[39;00m y\u001b[38;5;241m.\u001b[39mndim \u001b[38;5;241m>\u001b[39m \u001b[38;5;241m2\u001b[39m:\n\u001b[1;32m    502\u001b[0m     \u001b[38;5;28;01mraise\u001b[39;00m \u001b[38;5;167;01mValueError\u001b[39;00m(\u001b[38;5;124mf\u001b[39m\u001b[38;5;124m\"\u001b[39m\u001b[38;5;124mx and y can be no greater than 2D, but have \u001b[39m\u001b[38;5;124m\"\u001b[39m\n\u001b[1;32m    503\u001b[0m                      \u001b[38;5;124mf\u001b[39m\u001b[38;5;124m\"\u001b[39m\u001b[38;5;124mshapes \u001b[39m\u001b[38;5;132;01m{\u001b[39;00mx\u001b[38;5;241m.\u001b[39mshape\u001b[38;5;132;01m}\u001b[39;00m\u001b[38;5;124m and \u001b[39m\u001b[38;5;132;01m{\u001b[39;00my\u001b[38;5;241m.\u001b[39mshape\u001b[38;5;132;01m}\u001b[39;00m\u001b[38;5;124m\"\u001b[39m)\n",
      "\u001b[0;31mValueError\u001b[0m: x and y must have same first dimension, but have shapes (6,) and (101,)"
     ]
    },
    {
     "data": {
      "image/png": "[encoded data removed]",
      "text/plain": [
       "<Figure size 640x480 with 1 Axes>"
      ]
     },
     "metadata": {},
     "output_type": "display_data"
    }
   ],
   "source": [
    "plt.plot(cdf1,cdf_1)"
   ]
  },
  {
   "cell_type": "code",
   "execution_count": 385,
   "id": "9b931b41-8f6c-4ddf-bcd8-6676ee7d6e52",
   "metadata": {},
   "outputs": [
    {
     "data": {
      "text/plain": [
       "Text(0, 0.5, 'Probability')"
      ]
     },
     "execution_count": 385,
     "metadata": {},
     "output_type": "execute_result"
    },
    {
     "data": {
      "image/png": "[encoded data removed]",
      "text/plain": [
       "<Figure size 640x480 with 1 Axes>"
      ]
     },
     "metadata": {},
     "output_type": "display_data"
    }
   ],
   "source": [
    "# plotting PDF and CDF \n",
    "plt.plot(bins_count2[1:], pdf2, color=\"red\", label=\"empirical PDF\") \n",
    "plt.plot(x_2,pdf_2,'k', label='theoretical normal pdf')\n",
    "plt.plot(x_2,pdf_2_log,'orange',label='theoretical natural log normal pdf')\n",
    "\n",
    "plt.plot(bins_count2[1:], cdf2, 'cornflowerblue', label=\"empirical CDF\")\n",
    "plt.plot(x_2,cdf_2,'k', label='theoretical normal cdf')\n",
    "plt.plot(x_2, cdf_2_log,'purple',label='theoretical natural log normal cdf')\n",
    "\n",
    "plt.legend() \n",
    "plt.xlabel('SWE')\n",
    "plt.ylabel('Probability')"
   ]
  },
  {
   "cell_type": "code",
   "execution_count": 235,
   "id": "5b5dfef5-f890-49e5-8cc3-f7e0e5cf6d5b",
   "metadata": {},
   "outputs": [],
   "source": [
    "cdf_site1[cdf_site1['reanalysis_swe'] == 0]['reanalysis_swe'] = 0.01\n",
    "cdf_site1[cdf_site1['cdf'] == 0]['cdf'] = 0.01"
   ]
  },
  {
   "cell_type": "code",
   "execution_count": 236,
   "id": "587f6302-c83b-452c-882e-b66086c57694",
   "metadata": {},
   "outputs": [
    {
     "data": {
      "text/plain": [
       "year\n",
       "2020    0.53125\n",
       "Name: cdf, dtype: float64"
      ]
     },
     "execution_count": 236,
     "metadata": {},
     "output_type": "execute_result"
    }
   ],
   "source": [
    "cdf_site1.loc[cdf_site1.index==2020, 'cdf']"
   ]
  },
  {
   "cell_type": "code",
   "execution_count": 237,
   "id": "0bf27b35-a80f-4fe9-91a1-b95b2c75f49c",
   "metadata": {},
   "outputs": [],
   "source": [
    "f = interp1d(cdf_site1['cdf'], cdf_site1['reanalysis_swe'])\n",
    "swe_quant = f(cdf_site1.loc[cdf_site1.index==2020, 'cdf'].values)"
   ]
  },
  {
   "cell_type": "code",
   "execution_count": 238,
   "id": "719c2a82-1e8f-4131-a4fa-99b18a052765",
   "metadata": {},
   "outputs": [
    {
     "name": "stderr",
     "output_type": "stream",
     "text": [
      "/Users/Hannah/micromamba/envs/analysis_2024/lib/python3.12/site-packages/scipy/interpolate/_interpolate.py:712: RuntimeWarning: divide by zero encountered in divide\n",
      "  slope = (y_hi - y_lo) / (x_hi - x_lo)[:, None]\n",
      "/Users/Hannah/micromamba/envs/analysis_2024/lib/python3.12/site-packages/scipy/interpolate/_interpolate.py:715: RuntimeWarning: invalid value encountered in multiply\n",
      "  y_new = slope*(x_new - x_lo)[:, None] + y_lo\n"
     ]
    }
   ],
   "source": [
    "pred_quant = []\n",
    "for year in np.arange(1990,2021):\n",
    "    pred_quant.append(f(cdf_site1.loc[cdf_site1.index==year, 'cdf'].values)[0])\n",
    "\n",
    "pred_quant.append(np.nan)"
   ]
  },
  {
   "cell_type": "code",
   "execution_count": 239,
   "id": "c0354e45-ea43-44ac-b1a1-0a785c3d4907",
   "metadata": {},
   "outputs": [],
   "source": [
    "site1_compare = df.loc[pd.IndexSlice[site1]][['station_swe']]"
   ]
  },
  {
   "cell_type": "code",
   "execution_count": 240,
   "id": "dffd592a-bc58-42a2-a132-e880b5320728",
   "metadata": {},
   "outputs": [],
   "source": [
    "site1_compare['pred_quant'] = pred_quant"
   ]
  },
  {
   "cell_type": "code",
   "execution_count": 241,
   "id": "6d14e41b-3a18-4e47-9093-37fed97183c9",
   "metadata": {},
   "outputs": [
    {
     "data": {
      "text/html": [
       "\n",
       "<style>\n",
       "  #altair-viz-4739055f52ab48ad89d0b098dbe1ad2d.vega-embed {\n",
       "    width: 100%;\n",
       "    display: flex;\n",
       "  }\n",
       "\n",
       "  #altair-viz-4739055f52ab48ad89d0b098dbe1ad2d.vega-embed details,\n",
       "  #altair-viz-4739055f52ab48ad89d0b098dbe1ad2d.vega-embed details summary {\n",
       "    position: relative;\n",
       "  }\n",
       "</style>\n",
       "<div id=\"altair-viz-4739055f52ab48ad89d0b098dbe1ad2d\"></div>\n",
       "<script type=\"text/javascript\">\n",
       "  var VEGA_DEBUG = (typeof VEGA_DEBUG == \"undefined\") ? {} : VEGA_DEBUG;\n",
       "  (function(spec, embedOpt){\n",
       "    let outputDiv = document.currentScript.previousElementSibling;\n",
       "    if (outputDiv.id !== \"altair-viz-4739055f52ab48ad89d0b098dbe1ad2d\") {\n",
       "      outputDiv = document.getElementById(\"altair-viz-4739055f52ab48ad89d0b098dbe1ad2d\");\n",
       "    }\n",
       "    const paths = {\n",
       "      \"vega\": \"https://cdn.jsdelivr.net/npm/vega@5?noext\",\n",
       "      \"vega-lib\": \"https://cdn.jsdelivr.net/npm/vega-lib?noext\",\n",
       "      \"vega-lite\": \"https://cdn.jsdelivr.net/npm/vega-lite@5.17.0?noext\",\n",
       "      \"vega-embed\": \"https://cdn.jsdelivr.net/npm/vega-embed@6?noext\",\n",
       "    };\n",
       "\n",
       "    function maybeLoadScript(lib, version) {\n",
       "      var key = `${lib.replace(\"-\", \"\")}_version`;\n",
       "      return (VEGA_DEBUG[key] == version) ?\n",
       "        Promise.resolve(paths[lib]) :\n",
       "        new Promise(function(resolve, reject) {\n",
       "          var s = document.createElement('script');\n",
       "          document.getElementsByTagName(\"head\")[0].appendChild(s);\n",
       "          s.async = true;\n",
       "          s.onload = () => {\n",
       "            VEGA_DEBUG[key] = version;\n",
       "            return resolve(paths[lib]);\n",
       "          };\n",
       "          s.onerror = () => reject(`Error loading script: ${paths[lib]}`);\n",
       "          s.src = paths[lib];\n",
       "        });\n",
       "    }\n",
       "\n",
       "    function showError(err) {\n",
       "      outputDiv.innerHTML = `<div class=\"error\" style=\"color:red;\">${err}</div>`;\n",
       "      throw err;\n",
       "    }\n",
       "\n",
       "    function displayChart(vegaEmbed) {\n",
       "      vegaEmbed(outputDiv, spec, embedOpt)\n",
       "        .catch(err => showError(`Javascript Error: ${err.message}<br>This usually means there's a typo in your chart specification. See the javascript console for the full traceback.`));\n",
       "    }\n",
       "\n",
       "    if(typeof define === \"function\" && define.amd) {\n",
       "      requirejs.config({paths});\n",
       "      require([\"vega-embed\"], displayChart, err => showError(`Error loading script: ${err.message}`));\n",
       "    } else {\n",
       "      maybeLoadScript(\"vega\", \"5\")\n",
       "        .then(() => maybeLoadScript(\"vega-lite\", \"5.17.0\"))\n",
       "        .then(() => maybeLoadScript(\"vega-embed\", \"6\"))\n",
       "        .catch(showError)\n",
       "        .then(() => displayChart(vegaEmbed));\n",
       "    }\n",
       "  })({\"$schema\": \"https://vega.github.io/schema/vega/v5.json\", \"data\": [{\"name\": \"source_1\", \"values\": [{\"x\": 0.0, \"y\": 0.0}, {\"x\": 0.010101010101010102, \"y\": 0.010101010101010102}, {\"x\": 0.020202020202020204, \"y\": 0.020202020202020204}, {\"x\": 0.030303030303030304, \"y\": 0.030303030303030304}, {\"x\": 0.04040404040404041, \"y\": 0.04040404040404041}, {\"x\": 0.05050505050505051, \"y\": 0.05050505050505051}, {\"x\": 0.06060606060606061, \"y\": 0.06060606060606061}, {\"x\": 0.07070707070707072, \"y\": 0.07070707070707072}, {\"x\": 0.08080808080808081, \"y\": 0.08080808080808081}, {\"x\": 0.09090909090909091, \"y\": 0.09090909090909091}, {\"x\": 0.10101010101010102, \"y\": 0.10101010101010102}, {\"x\": 0.11111111111111112, \"y\": 0.11111111111111112}, {\"x\": 0.12121212121212122, \"y\": 0.12121212121212122}, {\"x\": 0.13131313131313133, \"y\": 0.13131313131313133}, {\"x\": 0.14141414141414144, \"y\": 0.14141414141414144}, {\"x\": 0.15151515151515152, \"y\": 0.15151515151515152}, {\"x\": 0.16161616161616163, \"y\": 0.16161616161616163}, {\"x\": 0.17171717171717174, \"y\": 0.17171717171717174}, {\"x\": 0.18181818181818182, \"y\": 0.18181818181818182}, {\"x\": 0.19191919191919193, \"y\": 0.19191919191919193}, {\"x\": 0.20202020202020204, \"y\": 0.20202020202020204}, {\"x\": 0.21212121212121213, \"y\": 0.21212121212121213}, {\"x\": 0.22222222222222224, \"y\": 0.22222222222222224}, {\"x\": 0.23232323232323235, \"y\": 0.23232323232323235}, {\"x\": 0.24242424242424243, \"y\": 0.24242424242424243}, {\"x\": 0.25252525252525254, \"y\": 0.25252525252525254}, {\"x\": 0.26262626262626265, \"y\": 0.26262626262626265}, {\"x\": 0.27272727272727276, \"y\": 0.27272727272727276}, {\"x\": 0.2828282828282829, \"y\": 0.2828282828282829}, {\"x\": 0.29292929292929293, \"y\": 0.29292929292929293}, {\"x\": 0.30303030303030304, \"y\": 0.30303030303030304}, {\"x\": 0.31313131313131315, \"y\": 0.31313131313131315}, {\"x\": 0.32323232323232326, \"y\": 0.32323232323232326}, {\"x\": 0.33333333333333337, \"y\": 0.33333333333333337}, {\"x\": 0.3434343434343435, \"y\": 0.3434343434343435}, {\"x\": 0.3535353535353536, \"y\": 0.3535353535353536}, {\"x\": 0.36363636363636365, \"y\": 0.36363636363636365}, {\"x\": 0.37373737373737376, \"y\": 0.37373737373737376}, {\"x\": 0.38383838383838387, \"y\": 0.38383838383838387}, {\"x\": 0.393939393939394, \"y\": 0.393939393939394}, {\"x\": 0.4040404040404041, \"y\": 0.4040404040404041}, {\"x\": 0.4141414141414142, \"y\": 0.4141414141414142}, {\"x\": 0.42424242424242425, \"y\": 0.42424242424242425}, {\"x\": 0.43434343434343436, \"y\": 0.43434343434343436}, {\"x\": 0.4444444444444445, \"y\": 0.4444444444444445}, {\"x\": 0.4545454545454546, \"y\": 0.4545454545454546}, {\"x\": 0.4646464646464647, \"y\": 0.4646464646464647}, {\"x\": 0.4747474747474748, \"y\": 0.4747474747474748}, {\"x\": 0.48484848484848486, \"y\": 0.48484848484848486}, {\"x\": 0.494949494949495, \"y\": 0.494949494949495}, {\"x\": 0.5050505050505051, \"y\": 0.5050505050505051}, {\"x\": 0.5151515151515152, \"y\": 0.5151515151515152}, {\"x\": 0.5252525252525253, \"y\": 0.5252525252525253}, {\"x\": 0.5353535353535354, \"y\": 0.5353535353535354}, {\"x\": 0.5454545454545455, \"y\": 0.5454545454545455}, {\"x\": 0.5555555555555556, \"y\": 0.5555555555555556}, {\"x\": 0.5656565656565657, \"y\": 0.5656565656565657}, {\"x\": 0.5757575757575758, \"y\": 0.5757575757575758}, {\"x\": 0.5858585858585859, \"y\": 0.5858585858585859}, {\"x\": 0.595959595959596, \"y\": 0.595959595959596}, {\"x\": 0.6060606060606061, \"y\": 0.6060606060606061}, {\"x\": 0.6161616161616162, \"y\": 0.6161616161616162}, {\"x\": 0.6262626262626263, \"y\": 0.6262626262626263}, {\"x\": 0.6363636363636365, \"y\": 0.6363636363636365}, {\"x\": 0.6464646464646465, \"y\": 0.6464646464646465}, {\"x\": 0.6565656565656566, \"y\": 0.6565656565656566}, {\"x\": 0.6666666666666667, \"y\": 0.6666666666666667}, {\"x\": 0.6767676767676768, \"y\": 0.6767676767676768}, {\"x\": 0.686868686868687, \"y\": 0.686868686868687}, {\"x\": 0.696969696969697, \"y\": 0.696969696969697}, {\"x\": 0.7070707070707072, \"y\": 0.7070707070707072}, {\"x\": 0.7171717171717172, \"y\": 0.7171717171717172}, {\"x\": 0.7272727272727273, \"y\": 0.7272727272727273}, {\"x\": 0.7373737373737375, \"y\": 0.7373737373737375}, {\"x\": 0.7474747474747475, \"y\": 0.7474747474747475}, {\"x\": 0.7575757575757577, \"y\": 0.7575757575757577}, {\"x\": 0.7676767676767677, \"y\": 0.7676767676767677}, {\"x\": 0.7777777777777778, \"y\": 0.7777777777777778}, {\"x\": 0.787878787878788, \"y\": 0.787878787878788}, {\"x\": 0.797979797979798, \"y\": 0.797979797979798}, {\"x\": 0.8080808080808082, \"y\": 0.8080808080808082}, {\"x\": 0.8181818181818182, \"y\": 0.8181818181818182}, {\"x\": 0.8282828282828284, \"y\": 0.8282828282828284}, {\"x\": 0.8383838383838385, \"y\": 0.8383838383838385}, {\"x\": 0.8484848484848485, \"y\": 0.8484848484848485}, {\"x\": 0.8585858585858587, \"y\": 0.8585858585858587}, {\"x\": 0.8686868686868687, \"y\": 0.8686868686868687}, {\"x\": 0.8787878787878789, \"y\": 0.8787878787878789}, {\"x\": 0.888888888888889, \"y\": 0.888888888888889}, {\"x\": 0.8989898989898991, \"y\": 0.8989898989898991}, {\"x\": 0.9090909090909092, \"y\": 0.9090909090909092}, {\"x\": 0.9191919191919192, \"y\": 0.9191919191919192}, {\"x\": 0.9292929292929294, \"y\": 0.9292929292929294}, {\"x\": 0.9393939393939394, \"y\": 0.9393939393939394}, {\"x\": 0.9494949494949496, \"y\": 0.9494949494949496}, {\"x\": 0.9595959595959597, \"y\": 0.9595959595959597}, {\"x\": 0.9696969696969697, \"y\": 0.9696969696969697}, {\"x\": 0.9797979797979799, \"y\": 0.9797979797979799}, {\"x\": 0.98989898989899, \"y\": 0.98989898989899}, {\"x\": 1.0, \"y\": 1.0}]}, {\"name\": \"source_0\", \"values\": [{\"pred_quant\": 0.34040001034736633, \"station_swe\": 0.18542}, {\"pred_quant\": 0.30640000104904175, \"station_swe\": 0.31496}, {\"pred_quant\": 0.46000000834465027, \"station_swe\": 0.29717999999999994}, {\"pred_quant\": 0.4032000005245209, \"station_swe\": 0.6095999999999999}, {\"pred_quant\": 0.32019999623298645, \"station_swe\": 0.29972}, {\"pred_quant\": 0.5866000056266785, \"station_swe\": 0.52324}, {\"pred_quant\": 0.5952000021934509, \"station_swe\": 0.5334}, {\"pred_quant\": 0.4586000144481659, \"station_swe\": 0.48514}, {\"pred_quant\": 0.5400000214576721, \"station_swe\": 0.30988}, {\"pred_quant\": 0.397599995136261, \"station_swe\": 0.3302}, {\"pred_quant\": 0.3625999987125397, \"station_swe\": 0.27686}, {\"pred_quant\": 0.3625999987125397, \"station_swe\": 0.34036}, {\"pred_quant\": 0.3176000118255615, \"station_swe\": 0.28447999999999996}, {\"pred_quant\": 0.6901999711990356, \"station_swe\": 0.45465999999999995}, {\"pred_quant\": 0.46000000834465027, \"station_swe\": 0.38608}, {\"pred_quant\": 0.3353999853134155, \"station_swe\": 0.28193999999999997}, {\"pred_quant\": 0.4410000145435333, \"station_swe\": 0.55626}, {\"pred_quant\": 0.5400000214576721, \"station_swe\": 0.42672}, {\"pred_quant\": 0.46000000834465027, \"station_swe\": 0.30479999999999996}, {\"pred_quant\": 0.5824000239372253, \"station_swe\": 0.43179999999999996}, {\"pred_quant\": 0.5952000021934509, \"station_swe\": 0.41147999999999996}, {\"pred_quant\": 0.30640000104904175, \"station_swe\": 0.28193999999999997}, {\"pred_quant\": 0.46000000834465027, \"station_swe\": 0.33274}, {\"pred_quant\": 0.5952000021934509, \"station_swe\": 0.5334}, {\"pred_quant\": 0.6715999841690063, \"station_swe\": 0.48514}, {\"pred_quant\": 0.4032000005245209, \"station_swe\": 0.34543999999999997}]}], \"marks\": [{\"type\": \"symbol\", \"name\": \"layer_0_marks\", \"from\": {\"data\": \"source_0\"}, \"encode\": {\"update\": {\"opacity\": {\"value\": 0.7}, \"x\": {\"field\": \"station_swe\", \"scale\": \"x\"}, \"fill\": {\"value\": \"#4c78a8\"}, \"y\": {\"field\": \"pred_quant\", \"scale\": \"y\"}, \"shape\": {\"value\": \"circle\"}}}, \"style\": [\"circle\"]}, {\"type\": \"line\", \"name\": \"layer_1_marks\", \"from\": {\"data\": \"source_1\"}, \"sort\": {\"field\": \"datum[\\\"x\\\"]\"}, \"encode\": {\"update\": {\"y\": {\"field\": \"y\", \"scale\": \"y\"}, \"stroke\": {\"value\": \"#808080\"}, \"x\": {\"field\": \"x\", \"scale\": \"x\"}, \"defined\": {\"signal\": \"isValid(datum[\\\"x\\\"]) && isFinite(+datum[\\\"x\\\"]) && isValid(datum[\\\"y\\\"]) && isFinite(+datum[\\\"y\\\"])\"}}}, \"style\": [\"line\"]}], \"scales\": [{\"name\": \"x\", \"type\": \"linear\", \"domain\": {\"fields\": [{\"data\": \"source_0\", \"field\": \"station_swe\"}, {\"data\": \"source_1\", \"field\": \"x\"}]}, \"range\": [0, {\"signal\": \"width\"}], \"nice\": true, \"zero\": true}, {\"name\": \"y\", \"type\": \"linear\", \"domain\": {\"fields\": [{\"data\": \"source_0\", \"field\": \"pred_quant\"}, {\"data\": \"source_1\", \"field\": \"y\"}]}, \"range\": [{\"signal\": \"height\"}, 0], \"nice\": true, \"zero\": true}], \"axes\": [{\"scale\": \"x\", \"grid\": true, \"gridScale\": \"y\", \"labels\": false, \"minExtent\": 0, \"orient\": \"bottom\", \"maxExtent\": 0, \"tickCount\": {\"signal\": \"ceil(width/40)\"}, \"domain\": false, \"aria\": false, \"zindex\": 0, \"ticks\": false}, {\"scale\": \"y\", \"minExtent\": 0, \"gridScale\": \"x\", \"maxExtent\": 0, \"ticks\": false, \"grid\": true, \"orient\": \"left\", \"domain\": false, \"tickCount\": {\"signal\": \"ceil(height/40)\"}, \"aria\": false, \"zindex\": 0, \"labels\": false}, {\"scale\": \"x\", \"tickCount\": {\"signal\": \"ceil(width/40)\"}, \"labelOverlap\": true, \"orient\": \"bottom\", \"zindex\": 0, \"grid\": false, \"labelFlush\": true, \"title\": \"Butte SNOTEL SWE (m)\"}, {\"scale\": \"y\", \"labelOverlap\": true, \"title\": \"Butte SNOTEL SWE predicted with Schofield Pass Quantile Mapping (m)\", \"grid\": false, \"tickCount\": {\"signal\": \"ceil(height/40)\"}, \"zindex\": 0, \"orient\": \"left\"}], \"title\": {\"text\": \"Predicted SWE\", \"frame\": \"group\"}, \"style\": \"cell\", \"padding\": 5, \"width\": 300, \"background\": \"white\", \"height\": 300}, {\"mode\": \"vega\"});\n",
       "</script>"
      ],
      "text/plain": [
       "alt.LayerChart(...)"
      ]
     },
     "execution_count": 241,
     "metadata": {},
     "output_type": "execute_result"
    }
   ],
   "source": [
    "data2 = {'x': np.linspace(0,1,100),\n",
    "        'y': np.linspace(0,1,100)}\n",
    "df_lin2 = pd.DataFrame(data2)\n",
    "    \n",
    "line2 = alt.Chart(df_lin2).mark_line().encode(\n",
    "    alt.X('x:Q'),\n",
    "    alt.Y('y:Q'),\n",
    "    color=alt.value(\"#808080\")\n",
    ")\n",
    "\n",
    "station_predict = alt.Chart(site1_compare).mark_circle().encode(\n",
    "        x = alt.X('station_swe').title('Butte SNOTEL SWE (m)'), #.axis(values=[-5,-4,-3,-2,-1,0,1,2,3,4,5]),\n",
    "        y = alt.Y('pred_quant').title('Butte SNOTEL SWE predicted with Schofield Pass Quantile Mapping (m)') #.axis(values=[-5,-4,-3,-2,-1,0,1,2,3,4,5]).scale(domain=[-5,5]).scale(domain=[0,2500]),\n",
    "    ).properties(title='Predicted SWE')\n",
    "\n",
    "combined = (station_predict + line2)\n",
    "\n",
    "combined"
   ]
  },
  {
   "cell_type": "code",
   "execution_count": 242,
   "id": "6b181d08-67e2-4426-8b92-1eb34b13af6f",
   "metadata": {},
   "outputs": [
    {
     "data": {
      "text/plain": [
       "0.05328185442364653"
      ]
     },
     "execution_count": 242,
     "metadata": {},
     "output_type": "execute_result"
    }
   ],
   "source": [
    "site1_compare['difference'] = site1_compare['station_swe'] - site1_compare['pred_quant']\n",
    "df_swe_pred_log['difference'].mean()"
   ]
  },
  {
   "cell_type": "code",
   "execution_count": 243,
   "id": "3d6f787c-ad40-4e31-8cd9-a97f4c093f46",
   "metadata": {},
   "outputs": [
    {
     "name": "stdout",
     "output_type": "stream",
     "text": [
      "R value:  0.6127373597476168\n"
     ]
    }
   ],
   "source": [
    "site1_compare_na = site1_compare.dropna()\n",
    "print('R value: ', np.corrcoef(site1_compare_na['station_swe'], site1_compare_na['pred_quant'])[0,1])"
   ]
  },
  {
   "cell_type": "markdown",
   "id": "ae1f3082-4ce9-441d-a6de-733f4b05abf6",
   "metadata": {},
   "source": [
    "## Try with a second site:"
   ]
  },
  {
   "cell_type": "markdown",
   "id": "623b1a2f-990e-4acc-9b5d-b644979dcdd4",
   "metadata": {},
   "source": [
    "### Plot Distributions of test sites:"
   ]
  },
  {
   "cell_type": "code",
   "execution_count": 169,
   "id": "2947e743-1cd5-42ed-a9c2-209c77e2c8cb",
   "metadata": {},
   "outputs": [],
   "source": [
    "site2 = '408_CO_SNTL'\n",
    "site1 = '457_CO_SNTL'"
   ]
  },
  {
   "cell_type": "code",
   "execution_count": 170,
   "id": "d31a4904-3af1-4f7c-826b-49345358ae82",
   "metadata": {},
   "outputs": [],
   "source": [
    "swe_real = df.loc[pd.IndexSlice[site1],'station_swe']"
   ]
  },
  {
   "cell_type": "code",
   "execution_count": 171,
   "id": "71c522c4-854a-4d6c-9dd5-4c33f99e7ecc",
   "metadata": {},
   "outputs": [
    {
     "data": {
      "text/html": [
       "\n",
       "<style>\n",
       "  #altair-viz-2aa0dd9714904c5c83409a82dc5906cb.vega-embed {\n",
       "    width: 100%;\n",
       "    display: flex;\n",
       "  }\n",
       "\n",
       "  #altair-viz-2aa0dd9714904c5c83409a82dc5906cb.vega-embed details,\n",
       "  #altair-viz-2aa0dd9714904c5c83409a82dc5906cb.vega-embed details summary {\n",
       "    position: relative;\n",
       "  }\n",
       "</style>\n",
       "<div id=\"altair-viz-2aa0dd9714904c5c83409a82dc5906cb\"></div>\n",
       "<script type=\"text/javascript\">\n",
       "  var VEGA_DEBUG = (typeof VEGA_DEBUG == \"undefined\") ? {} : VEGA_DEBUG;\n",
       "  (function(spec, embedOpt){\n",
       "    let outputDiv = document.currentScript.previousElementSibling;\n",
       "    if (outputDiv.id !== \"altair-viz-2aa0dd9714904c5c83409a82dc5906cb\") {\n",
       "      outputDiv = document.getElementById(\"altair-viz-2aa0dd9714904c5c83409a82dc5906cb\");\n",
       "    }\n",
       "    const paths = {\n",
       "      \"vega\": \"https://cdn.jsdelivr.net/npm/vega@5?noext\",\n",
       "      \"vega-lib\": \"https://cdn.jsdelivr.net/npm/vega-lib?noext\",\n",
       "      \"vega-lite\": \"https://cdn.jsdelivr.net/npm/vega-lite@5.17.0?noext\",\n",
       "      \"vega-embed\": \"https://cdn.jsdelivr.net/npm/vega-embed@6?noext\",\n",
       "    };\n",
       "\n",
       "    function maybeLoadScript(lib, version) {\n",
       "      var key = `${lib.replace(\"-\", \"\")}_version`;\n",
       "      return (VEGA_DEBUG[key] == version) ?\n",
       "        Promise.resolve(paths[lib]) :\n",
       "        new Promise(function(resolve, reject) {\n",
       "          var s = document.createElement('script');\n",
       "          document.getElementsByTagName(\"head\")[0].appendChild(s);\n",
       "          s.async = true;\n",
       "          s.onload = () => {\n",
       "            VEGA_DEBUG[key] = version;\n",
       "            return resolve(paths[lib]);\n",
       "          };\n",
       "          s.onerror = () => reject(`Error loading script: ${paths[lib]}`);\n",
       "          s.src = paths[lib];\n",
       "        });\n",
       "    }\n",
       "\n",
       "    function showError(err) {\n",
       "      outputDiv.innerHTML = `<div class=\"error\" style=\"color:red;\">${err}</div>`;\n",
       "      throw err;\n",
       "    }\n",
       "\n",
       "    function displayChart(vegaEmbed) {\n",
       "      vegaEmbed(outputDiv, spec, embedOpt)\n",
       "        .catch(err => showError(`Javascript Error: ${err.message}<br>This usually means there's a typo in your chart specification. See the javascript console for the full traceback.`));\n",
       "    }\n",
       "\n",
       "    if(typeof define === \"function\" && define.amd) {\n",
       "      requirejs.config({paths});\n",
       "      require([\"vega-embed\"], displayChart, err => showError(`Error loading script: ${err.message}`));\n",
       "    } else {\n",
       "      maybeLoadScript(\"vega\", \"5\")\n",
       "        .then(() => maybeLoadScript(\"vega-lite\", \"5.17.0\"))\n",
       "        .then(() => maybeLoadScript(\"vega-embed\", \"6\"))\n",
       "        .catch(showError)\n",
       "        .then(() => displayChart(vegaEmbed));\n",
       "    }\n",
       "  })({\"$schema\": \"https://vega.github.io/schema/vega/v5.json\", \"data\": [{\"name\": \"source_0\", \"values\": [{\"__count\": 6, \"bin_maxbins_7_station_swe\": 0.5, \"bin_maxbins_7_station_swe_end\": 0.6}, {\"__count\": 6, \"bin_maxbins_7_station_swe\": 0.30000000000000004, \"bin_maxbins_7_station_swe_end\": 0.4}, {\"__count\": 8, \"bin_maxbins_7_station_swe\": 0.4, \"bin_maxbins_7_station_swe_end\": 0.5}, {\"__count\": 2, \"bin_maxbins_7_station_swe\": 0.7, \"bin_maxbins_7_station_swe_end\": 0.7999999999999999}, {\"__count\": 8, \"bin_maxbins_7_station_swe\": 0.6000000000000001, \"bin_maxbins_7_station_swe_end\": 0.7000000000000001}, {\"__count\": 2, \"bin_maxbins_7_station_swe\": 0.2, \"bin_maxbins_7_station_swe_end\": 0.30000000000000004}]}, {\"name\": \"source_1\", \"values\": [{\"__count\": 11, \"bin_maxbins_7_log_station_swe\": -0.6000000000000001, \"bin_maxbins_7_log_station_swe_end\": -0.4000000000000001}, {\"__count\": 10, \"bin_maxbins_7_log_station_swe\": -1.0, \"bin_maxbins_7_log_station_swe_end\": -0.8}, {\"__count\": 6, \"bin_maxbins_7_log_station_swe\": -0.8, \"bin_maxbins_7_log_station_swe_end\": -0.6000000000000001}, {\"__count\": 3, \"bin_maxbins_7_log_station_swe\": -0.3999999999999999, \"bin_maxbins_7_log_station_swe_end\": -0.1999999999999999}, {\"__count\": 1, \"bin_maxbins_7_log_station_swe\": -1.6, \"bin_maxbins_7_log_station_swe_end\": -1.4000000000000001}, {\"__count\": 1, \"bin_maxbins_7_log_station_swe\": -1.4000000000000001, \"bin_maxbins_7_log_station_swe_end\": -1.2000000000000002}]}, {\"name\": \"source_0_concat_0_y_domain___count\", \"values\": [{\"min\": 2, \"max\": 8}]}, {\"name\": \"source_1_concat_1_y_domain___count\", \"values\": [{\"min\": 1, \"max\": 11}]}], \"signals\": [{\"name\": \"concat_0_bin_maxbins_7_station_swe_bins\", \"value\": {\"fields\": [\"station_swe\"], \"fname\": \"bin_station_swe\", \"start\": 0.2, \"step\": 0.1, \"stop\": 0.8}}, {\"name\": \"concat_1_bin_maxbins_7_log_station_swe_bins\", \"value\": {\"fields\": [\"log_station_swe\"], \"fname\": \"bin_log_station_swe\", \"start\": -1.6, \"step\": 0.2, \"stop\": -0.2}}, {\"name\": \"childWidth\", \"value\": 200}], \"marks\": [{\"type\": \"group\", \"name\": \"concat_0_group\", \"encode\": {\"update\": {\"width\": {\"signal\": \"childWidth\"}, \"height\": {\"signal\": \"height\"}}}, \"marks\": [{\"type\": \"rect\", \"name\": \"concat_0_marks\", \"from\": {\"data\": \"source_0\"}, \"encode\": {\"update\": {\"y\": {\"field\": \"__count\", \"scale\": \"concat_0_y\"}, \"y2\": {\"value\": 0, \"scale\": \"concat_0_y\"}, \"x\": {\"field\": \"bin_maxbins_7_station_swe_end\", \"scale\": \"concat_0_x\", \"offset\": {\"signal\": \"0.5 + (abs(scale(\\\"concat_0_x\\\", datum[\\\"bin_maxbins_7_station_swe_end\\\"]) - scale(\\\"concat_0_x\\\", datum[\\\"bin_maxbins_7_station_swe\\\"])) < 0.25 ? 0.5 * (0.25 - (abs(scale(\\\"concat_0_x\\\", datum[\\\"bin_maxbins_7_station_swe_end\\\"]) - scale(\\\"concat_0_x\\\", datum[\\\"bin_maxbins_7_station_swe\\\"])))) : -0.5)\"}}, \"fill\": {\"value\": \"#4c78a8\"}, \"x2\": {\"field\": \"bin_maxbins_7_station_swe\", \"scale\": \"concat_0_x\", \"offset\": {\"signal\": \"0.5 + (abs(scale(\\\"concat_0_x\\\", datum[\\\"bin_maxbins_7_station_swe_end\\\"]) - scale(\\\"concat_0_x\\\", datum[\\\"bin_maxbins_7_station_swe\\\"])) < 0.25 ? -0.5 * (0.25 - (abs(scale(\\\"concat_0_x\\\", datum[\\\"bin_maxbins_7_station_swe_end\\\"]) - scale(\\\"concat_0_x\\\", datum[\\\"bin_maxbins_7_station_swe\\\"])))) : 0.5)\"}}}}, \"style\": [\"bar\"]}], \"axes\": [{\"scale\": \"concat_0_y\", \"minExtent\": 0, \"aria\": false, \"domain\": false, \"tickCount\": {\"signal\": \"ceil(height/40)\"}, \"orient\": \"left\", \"maxExtent\": 0, \"zindex\": 0, \"grid\": true, \"labels\": false, \"ticks\": false, \"gridScale\": \"concat_0_x\"}, {\"scale\": \"concat_0_x\", \"zindex\": 0, \"grid\": false, \"orient\": \"bottom\", \"tickCount\": {\"signal\": \"ceil(childWidth/10)\"}, \"labelFlush\": true, \"title\": \"station_swe (binned)\", \"labelOverlap\": true}, {\"scale\": \"concat_0_y\", \"orient\": \"left\", \"tickCount\": {\"signal\": \"ceil(height/40)\"}, \"zindex\": 0, \"title\": \"Count of Records\", \"grid\": false, \"labelOverlap\": true}], \"title\": {\"text\": \"Untransformed SWE\", \"frame\": \"group\"}, \"style\": \"cell\"}, {\"type\": \"group\", \"name\": \"concat_1_group\", \"encode\": {\"update\": {\"height\": {\"signal\": \"height\"}, \"width\": {\"signal\": \"childWidth\"}}}, \"marks\": [{\"type\": \"rect\", \"name\": \"concat_1_marks\", \"from\": {\"data\": \"source_1\"}, \"encode\": {\"update\": {\"y\": {\"field\": \"__count\", \"scale\": \"concat_1_y\"}, \"x\": {\"field\": \"bin_maxbins_7_log_station_swe_end\", \"scale\": \"concat_1_x\", \"offset\": {\"signal\": \"0.5 + (abs(scale(\\\"concat_1_x\\\", datum[\\\"bin_maxbins_7_log_station_swe_end\\\"]) - scale(\\\"concat_1_x\\\", datum[\\\"bin_maxbins_7_log_station_swe\\\"])) < 0.25 ? 0.5 * (0.25 - (abs(scale(\\\"concat_1_x\\\", datum[\\\"bin_maxbins_7_log_station_swe_end\\\"]) - scale(\\\"concat_1_x\\\", datum[\\\"bin_maxbins_7_log_station_swe\\\"])))) : -0.5)\"}}, \"x2\": {\"field\": \"bin_maxbins_7_log_station_swe\", \"scale\": \"concat_1_x\", \"offset\": {\"signal\": \"0.5 + (abs(scale(\\\"concat_1_x\\\", datum[\\\"bin_maxbins_7_log_station_swe_end\\\"]) - scale(\\\"concat_1_x\\\", datum[\\\"bin_maxbins_7_log_station_swe\\\"])) < 0.25 ? -0.5 * (0.25 - (abs(scale(\\\"concat_1_x\\\", datum[\\\"bin_maxbins_7_log_station_swe_end\\\"]) - scale(\\\"concat_1_x\\\", datum[\\\"bin_maxbins_7_log_station_swe\\\"])))) : 0.5)\"}}, \"y2\": {\"value\": 0, \"scale\": \"concat_1_y\"}, \"fill\": {\"value\": \"#4c78a8\"}}}, \"style\": [\"bar\"]}], \"axes\": [{\"scale\": \"concat_1_y\", \"minExtent\": 0, \"gridScale\": \"concat_1_x\", \"aria\": false, \"ticks\": false, \"maxExtent\": 0, \"grid\": true, \"zindex\": 0, \"tickCount\": {\"signal\": \"ceil(height/40)\"}, \"orient\": \"left\", \"labels\": false, \"domain\": false}, {\"scale\": \"concat_1_x\", \"zindex\": 0, \"labelFlush\": true, \"orient\": \"bottom\", \"tickCount\": {\"signal\": \"ceil(childWidth/10)\"}, \"grid\": false, \"labelOverlap\": true, \"title\": \"log_station_swe (binned)\"}, {\"scale\": \"concat_1_y\", \"labelOverlap\": true, \"grid\": false, \"zindex\": 0, \"orient\": \"left\", \"title\": \"Count of Records\", \"tickCount\": {\"signal\": \"ceil(height/40)\"}}], \"title\": {\"text\": \"Natural Log of SWE\", \"frame\": \"group\"}, \"style\": \"cell\"}], \"scales\": [{\"name\": \"concat_0_x\", \"type\": \"linear\", \"domain\": {\"signal\": \"[concat_0_bin_maxbins_7_station_swe_bins.start, concat_0_bin_maxbins_7_station_swe_bins.stop]\"}, \"range\": [0, {\"signal\": \"childWidth\"}], \"bins\": {\"signal\": \"concat_0_bin_maxbins_7_station_swe_bins\"}, \"zero\": false}, {\"name\": \"concat_0_y\", \"type\": \"linear\", \"domain\": [{\"signal\": \"(data(\\\"source_0_concat_0_y_domain___count\\\")[0] || {}).min\"}, {\"signal\": \"(data(\\\"source_0_concat_0_y_domain___count\\\")[0] || {}).max\"}], \"range\": [{\"signal\": \"height\"}, 0], \"zero\": true, \"nice\": true}, {\"name\": \"concat_1_x\", \"type\": \"linear\", \"domain\": {\"signal\": \"[concat_1_bin_maxbins_7_log_station_swe_bins.start, concat_1_bin_maxbins_7_log_station_swe_bins.stop]\"}, \"range\": [0, {\"signal\": \"childWidth\"}], \"bins\": {\"signal\": \"concat_1_bin_maxbins_7_log_station_swe_bins\"}, \"zero\": false}, {\"name\": \"concat_1_y\", \"type\": \"linear\", \"domain\": [{\"signal\": \"(data(\\\"source_1_concat_1_y_domain___count\\\")[0] || {}).min\"}, {\"signal\": \"(data(\\\"source_1_concat_1_y_domain___count\\\")[0] || {}).max\"}], \"range\": [{\"signal\": \"height\"}, 0], \"nice\": true, \"zero\": true}], \"layout\": {\"padding\": 20, \"bounds\": \"full\", \"align\": \"each\"}, \"padding\": 5, \"height\": 200, \"background\": \"white\"}, {\"mode\": \"vega\"});\n",
       "</script>"
      ],
      "text/plain": [
       "alt.HConcatChart(...)"
      ]
     },
     "execution_count": 171,
     "metadata": {},
     "output_type": "execute_result"
    }
   ],
   "source": [
    "df_reset = df.loc[pd.IndexSlice[site1]]\n",
    "site1_unt= alt.Chart(df_reset[['station_swe']]).mark_bar().encode(\n",
    "    alt.X(\"station_swe:Q\").bin(maxbins=7),\n",
    "    y='count()',\n",
    ").properties(title='Untransformed SWE',width=200,height=200)\n",
    "\n",
    "df_reset = df.loc[pd.IndexSlice[site1]]\n",
    "site1_ln = alt.Chart(df_reset[['log_station_swe']].replace([np.inf, -np.inf], np.nan, inplace=False)).mark_bar().encode(\n",
    "    alt.X(\"log_station_swe:Q\").bin(maxbins=7),\n",
    "    y='count()',\n",
    ").properties(title='Natural Log of SWE',width=200,height=200)\n",
    "\n",
    "combined = alt.hconcat(site1_unt, site1_ln)\n",
    "combined"
   ]
  },
  {
   "cell_type": "code",
   "execution_count": 172,
   "id": "2e5f4b4e-13d1-4487-b0f1-969aa7b7d361",
   "metadata": {},
   "outputs": [
    {
     "data": {
      "text/html": [
       "\n",
       "<style>\n",
       "  #altair-viz-77e6b840025842cdb3845abf3589b752.vega-embed {\n",
       "    width: 100%;\n",
       "    display: flex;\n",
       "  }\n",
       "\n",
       "  #altair-viz-77e6b840025842cdb3845abf3589b752.vega-embed details,\n",
       "  #altair-viz-77e6b840025842cdb3845abf3589b752.vega-embed details summary {\n",
       "    position: relative;\n",
       "  }\n",
       "</style>\n",
       "<div id=\"altair-viz-77e6b840025842cdb3845abf3589b752\"></div>\n",
       "<script type=\"text/javascript\">\n",
       "  var VEGA_DEBUG = (typeof VEGA_DEBUG == \"undefined\") ? {} : VEGA_DEBUG;\n",
       "  (function(spec, embedOpt){\n",
       "    let outputDiv = document.currentScript.previousElementSibling;\n",
       "    if (outputDiv.id !== \"altair-viz-77e6b840025842cdb3845abf3589b752\") {\n",
       "      outputDiv = document.getElementById(\"altair-viz-77e6b840025842cdb3845abf3589b752\");\n",
       "    }\n",
       "    const paths = {\n",
       "      \"vega\": \"https://cdn.jsdelivr.net/npm/vega@5?noext\",\n",
       "      \"vega-lib\": \"https://cdn.jsdelivr.net/npm/vega-lib?noext\",\n",
       "      \"vega-lite\": \"https://cdn.jsdelivr.net/npm/vega-lite@5.17.0?noext\",\n",
       "      \"vega-embed\": \"https://cdn.jsdelivr.net/npm/vega-embed@6?noext\",\n",
       "    };\n",
       "\n",
       "    function maybeLoadScript(lib, version) {\n",
       "      var key = `${lib.replace(\"-\", \"\")}_version`;\n",
       "      return (VEGA_DEBUG[key] == version) ?\n",
       "        Promise.resolve(paths[lib]) :\n",
       "        new Promise(function(resolve, reject) {\n",
       "          var s = document.createElement('script');\n",
       "          document.getElementsByTagName(\"head\")[0].appendChild(s);\n",
       "          s.async = true;\n",
       "          s.onload = () => {\n",
       "            VEGA_DEBUG[key] = version;\n",
       "            return resolve(paths[lib]);\n",
       "          };\n",
       "          s.onerror = () => reject(`Error loading script: ${paths[lib]}`);\n",
       "          s.src = paths[lib];\n",
       "        });\n",
       "    }\n",
       "\n",
       "    function showError(err) {\n",
       "      outputDiv.innerHTML = `<div class=\"error\" style=\"color:red;\">${err}</div>`;\n",
       "      throw err;\n",
       "    }\n",
       "\n",
       "    function displayChart(vegaEmbed) {\n",
       "      vegaEmbed(outputDiv, spec, embedOpt)\n",
       "        .catch(err => showError(`Javascript Error: ${err.message}<br>This usually means there's a typo in your chart specification. See the javascript console for the full traceback.`));\n",
       "    }\n",
       "\n",
       "    if(typeof define === \"function\" && define.amd) {\n",
       "      requirejs.config({paths});\n",
       "      require([\"vega-embed\"], displayChart, err => showError(`Error loading script: ${err.message}`));\n",
       "    } else {\n",
       "      maybeLoadScript(\"vega\", \"5\")\n",
       "        .then(() => maybeLoadScript(\"vega-lite\", \"5.17.0\"))\n",
       "        .then(() => maybeLoadScript(\"vega-embed\", \"6\"))\n",
       "        .catch(showError)\n",
       "        .then(() => displayChart(vegaEmbed));\n",
       "    }\n",
       "  })({\"$schema\": \"https://vega.github.io/schema/vega/v5.json\", \"data\": [{\"name\": \"source_0\", \"values\": [{\"__count\": 9, \"bin_maxbins_7_station_swe\": 0.5, \"bin_maxbins_7_station_swe_end\": 0.6}, {\"__count\": 5, \"bin_maxbins_7_station_swe\": 0.6000000000000001, \"bin_maxbins_7_station_swe_end\": 0.7000000000000001}, {\"__count\": 7, \"bin_maxbins_7_station_swe\": 0.4, \"bin_maxbins_7_station_swe_end\": 0.5}, {\"__count\": 3, \"bin_maxbins_7_station_swe\": 0.9000000000000001, \"bin_maxbins_7_station_swe_end\": 1.0000000000000002}, {\"__count\": 5, \"bin_maxbins_7_station_swe\": 0.7000000000000001, \"bin_maxbins_7_station_swe_end\": 0.8}, {\"__count\": 3, \"bin_maxbins_7_station_swe\": 0.30000000000000004, \"bin_maxbins_7_station_swe_end\": 0.4}]}, {\"name\": \"source_1\", \"values\": [{\"__count\": 8, \"bin_maxbins_7_log_station_swe\": -0.6000000000000001, \"bin_maxbins_7_log_station_swe_end\": -0.4000000000000001}, {\"__count\": 10, \"bin_maxbins_7_log_station_swe\": -0.8000000000000002, \"bin_maxbins_7_log_station_swe_end\": -0.6000000000000001}, {\"__count\": 3, \"bin_maxbins_7_log_station_swe\": -0.20000000000000018, \"bin_maxbins_7_log_station_swe_end\": -1.6653345369377348e-16}, {\"__count\": 7, \"bin_maxbins_7_log_station_swe\": -0.40000000000000013, \"bin_maxbins_7_log_station_swe_end\": -0.20000000000000012}, {\"__count\": 3, \"bin_maxbins_7_log_station_swe\": -1.0000000000000002, \"bin_maxbins_7_log_station_swe_end\": -0.8000000000000003}, {\"__count\": 1, \"bin_maxbins_7_log_station_swe\": -1.2000000000000002, \"bin_maxbins_7_log_station_swe_end\": -1.0000000000000002}]}, {\"name\": \"source_0_concat_0_y_domain___count\", \"values\": [{\"min\": 3, \"max\": 9}]}, {\"name\": \"source_1_concat_1_y_domain___count\", \"values\": [{\"min\": 1, \"max\": 10}]}], \"signals\": [{\"name\": \"concat_0_bin_maxbins_7_station_swe_bins\", \"value\": {\"fields\": [\"station_swe\"], \"fname\": \"bin_station_swe\", \"start\": 0.30000000000000004, \"step\": 0.1, \"stop\": 1.0}}, {\"name\": \"concat_1_bin_maxbins_7_log_station_swe_bins\", \"value\": {\"fields\": [\"log_station_swe\"], \"fname\": \"bin_log_station_swe\", \"start\": -1.2000000000000002, \"step\": 0.2, \"stop\": -0.0}}, {\"name\": \"childWidth\", \"value\": 200}], \"marks\": [{\"type\": \"group\", \"name\": \"concat_0_group\", \"encode\": {\"update\": {\"width\": {\"signal\": \"childWidth\"}, \"height\": {\"signal\": \"height\"}}}, \"marks\": [{\"type\": \"rect\", \"name\": \"concat_0_marks\", \"from\": {\"data\": \"source_0\"}, \"encode\": {\"update\": {\"fill\": {\"value\": \"#4c78a8\"}, \"y\": {\"field\": \"__count\", \"scale\": \"concat_0_y\"}, \"y2\": {\"value\": 0, \"scale\": \"concat_0_y\"}, \"x\": {\"field\": \"bin_maxbins_7_station_swe_end\", \"scale\": \"concat_0_x\", \"offset\": {\"signal\": \"0.5 + (abs(scale(\\\"concat_0_x\\\", datum[\\\"bin_maxbins_7_station_swe_end\\\"]) - scale(\\\"concat_0_x\\\", datum[\\\"bin_maxbins_7_station_swe\\\"])) < 0.25 ? 0.5 * (0.25 - (abs(scale(\\\"concat_0_x\\\", datum[\\\"bin_maxbins_7_station_swe_end\\\"]) - scale(\\\"concat_0_x\\\", datum[\\\"bin_maxbins_7_station_swe\\\"])))) : -0.5)\"}}, \"x2\": {\"field\": \"bin_maxbins_7_station_swe\", \"scale\": \"concat_0_x\", \"offset\": {\"signal\": \"0.5 + (abs(scale(\\\"concat_0_x\\\", datum[\\\"bin_maxbins_7_station_swe_end\\\"]) - scale(\\\"concat_0_x\\\", datum[\\\"bin_maxbins_7_station_swe\\\"])) < 0.25 ? -0.5 * (0.25 - (abs(scale(\\\"concat_0_x\\\", datum[\\\"bin_maxbins_7_station_swe_end\\\"]) - scale(\\\"concat_0_x\\\", datum[\\\"bin_maxbins_7_station_swe\\\"])))) : 0.5)\"}}}}, \"style\": [\"bar\"]}], \"axes\": [{\"scale\": \"concat_0_y\", \"zindex\": 0, \"tickCount\": {\"signal\": \"ceil(height/40)\"}, \"grid\": true, \"orient\": \"left\", \"gridScale\": \"concat_0_x\", \"labels\": false, \"aria\": false, \"minExtent\": 0, \"domain\": false, \"maxExtent\": 0, \"ticks\": false}, {\"scale\": \"concat_0_x\", \"tickCount\": {\"signal\": \"ceil(childWidth/10)\"}, \"grid\": false, \"zindex\": 0, \"labelOverlap\": true, \"orient\": \"bottom\", \"title\": \"station_swe (binned)\", \"labelFlush\": true}, {\"scale\": \"concat_0_y\", \"zindex\": 0, \"orient\": \"left\", \"grid\": false, \"title\": \"Count of Records\", \"labelOverlap\": true, \"tickCount\": {\"signal\": \"ceil(height/40)\"}}], \"title\": {\"text\": \"Untransformed SWE\", \"frame\": \"group\"}, \"style\": \"cell\"}, {\"type\": \"group\", \"name\": \"concat_1_group\", \"encode\": {\"update\": {\"width\": {\"signal\": \"childWidth\"}, \"height\": {\"signal\": \"height\"}}}, \"marks\": [{\"type\": \"rect\", \"name\": \"concat_1_marks\", \"from\": {\"data\": \"source_1\"}, \"encode\": {\"update\": {\"y2\": {\"value\": 0, \"scale\": \"concat_1_y\"}, \"x\": {\"field\": \"bin_maxbins_7_log_station_swe_end\", \"scale\": \"concat_1_x\", \"offset\": {\"signal\": \"0.5 + (abs(scale(\\\"concat_1_x\\\", datum[\\\"bin_maxbins_7_log_station_swe_end\\\"]) - scale(\\\"concat_1_x\\\", datum[\\\"bin_maxbins_7_log_station_swe\\\"])) < 0.25 ? 0.5 * (0.25 - (abs(scale(\\\"concat_1_x\\\", datum[\\\"bin_maxbins_7_log_station_swe_end\\\"]) - scale(\\\"concat_1_x\\\", datum[\\\"bin_maxbins_7_log_station_swe\\\"])))) : -0.5)\"}}, \"fill\": {\"value\": \"#4c78a8\"}, \"x2\": {\"field\": \"bin_maxbins_7_log_station_swe\", \"scale\": \"concat_1_x\", \"offset\": {\"signal\": \"0.5 + (abs(scale(\\\"concat_1_x\\\", datum[\\\"bin_maxbins_7_log_station_swe_end\\\"]) - scale(\\\"concat_1_x\\\", datum[\\\"bin_maxbins_7_log_station_swe\\\"])) < 0.25 ? -0.5 * (0.25 - (abs(scale(\\\"concat_1_x\\\", datum[\\\"bin_maxbins_7_log_station_swe_end\\\"]) - scale(\\\"concat_1_x\\\", datum[\\\"bin_maxbins_7_log_station_swe\\\"])))) : 0.5)\"}}, \"y\": {\"field\": \"__count\", \"scale\": \"concat_1_y\"}}}, \"style\": [\"bar\"]}], \"axes\": [{\"scale\": \"concat_1_y\", \"domain\": false, \"maxExtent\": 0, \"ticks\": false, \"orient\": \"left\", \"grid\": true, \"tickCount\": {\"signal\": \"ceil(height/40)\"}, \"gridScale\": \"concat_1_x\", \"labels\": false, \"aria\": false, \"minExtent\": 0, \"zindex\": 0}, {\"scale\": \"concat_1_x\", \"tickCount\": {\"signal\": \"ceil(childWidth/10)\"}, \"zindex\": 0, \"orient\": \"bottom\", \"labelFlush\": true, \"grid\": false, \"title\": \"log_station_swe (binned)\", \"labelOverlap\": true}, {\"scale\": \"concat_1_y\", \"title\": \"Count of Records\", \"tickCount\": {\"signal\": \"ceil(height/40)\"}, \"zindex\": 0, \"grid\": false, \"labelOverlap\": true, \"orient\": \"left\"}], \"title\": {\"text\": \"Natural Log of SWE\", \"frame\": \"group\"}, \"style\": \"cell\"}], \"scales\": [{\"name\": \"concat_0_x\", \"type\": \"linear\", \"domain\": {\"signal\": \"[concat_0_bin_maxbins_7_station_swe_bins.start, concat_0_bin_maxbins_7_station_swe_bins.stop]\"}, \"range\": [0, {\"signal\": \"childWidth\"}], \"bins\": {\"signal\": \"concat_0_bin_maxbins_7_station_swe_bins\"}, \"zero\": false}, {\"name\": \"concat_0_y\", \"type\": \"linear\", \"domain\": [{\"signal\": \"(data(\\\"source_0_concat_0_y_domain___count\\\")[0] || {}).min\"}, {\"signal\": \"(data(\\\"source_0_concat_0_y_domain___count\\\")[0] || {}).max\"}], \"range\": [{\"signal\": \"height\"}, 0], \"nice\": true, \"zero\": true}, {\"name\": \"concat_1_x\", \"type\": \"linear\", \"domain\": {\"signal\": \"[concat_1_bin_maxbins_7_log_station_swe_bins.start, concat_1_bin_maxbins_7_log_station_swe_bins.stop]\"}, \"range\": [0, {\"signal\": \"childWidth\"}], \"bins\": {\"signal\": \"concat_1_bin_maxbins_7_log_station_swe_bins\"}, \"zero\": false}, {\"name\": \"concat_1_y\", \"type\": \"linear\", \"domain\": [{\"signal\": \"(data(\\\"source_1_concat_1_y_domain___count\\\")[0] || {}).min\"}, {\"signal\": \"(data(\\\"source_1_concat_1_y_domain___count\\\")[0] || {}).max\"}], \"range\": [{\"signal\": \"height\"}, 0], \"nice\": true, \"zero\": true}], \"background\": \"white\", \"padding\": 5, \"height\": 200, \"layout\": {\"padding\": 20, \"bounds\": \"full\", \"align\": \"each\"}}, {\"mode\": \"vega\"});\n",
       "</script>"
      ],
      "text/plain": [
       "alt.HConcatChart(...)"
      ]
     },
     "execution_count": 172,
     "metadata": {},
     "output_type": "execute_result"
    }
   ],
   "source": [
    "df_reset = df.loc[pd.IndexSlice[site2]]\n",
    "site2_unt= alt.Chart(df_reset[['station_swe']]).mark_bar().encode(\n",
    "    alt.X(\"station_swe:Q\").bin(maxbins=7),\n",
    "    y='count()',\n",
    ").properties(title='Untransformed SWE',width=200,height=200)\n",
    "\n",
    "df_reset = df.loc[pd.IndexSlice[site2]]\n",
    "site2_ln = alt.Chart(df_reset[['log_station_swe']].replace([np.inf, -np.inf], np.nan, inplace=False)).mark_bar().encode(\n",
    "    alt.X(\"log_station_swe:Q\").bin(maxbins=7),\n",
    "    y='count()',\n",
    ").properties(title='Natural Log of SWE',width=200,height=200)\n",
    "\n",
    "combined = alt.hconcat(site2_unt, site2_ln)\n",
    "combined"
   ]
  },
  {
   "cell_type": "code",
   "execution_count": 113,
   "id": "e5366d0e-b9ce-4e94-b31c-c0118461c931",
   "metadata": {},
   "outputs": [
    {
     "data": {
      "text/plain": [
       "5.656854249492381"
      ]
     },
     "execution_count": 113,
     "metadata": {},
     "output_type": "execute_result"
    }
   ],
   "source": [
    "np.sqrt(32)"
   ]
  },
  {
   "cell_type": "markdown",
   "id": "82a21ca0-a12c-451f-97b2-a419a02ba9b4",
   "metadata": {},
   "source": [
    "### Predict SWE at Butte using untransformed data from Schofield Pass:"
   ]
  },
  {
   "cell_type": "code",
   "execution_count": 173,
   "id": "a38a8335-b41e-4a15-9e62-8ef4e0d0bb52",
   "metadata": {},
   "outputs": [],
   "source": [
    "swe_pred = (df.loc[pd.IndexSlice[site2],'station_n'] * df.loc[pd.IndexSlice[site1],'reanalysis_swe'].std()) + df.loc[pd.IndexSlice[site1],'reanalysis_swe'].mean()"
   ]
  },
  {
   "cell_type": "code",
   "execution_count": 174,
   "id": "11f5ca50-0594-4abb-9ae3-fd179635d32b",
   "metadata": {},
   "outputs": [],
   "source": [
    "df_swe_pred = pd.DataFrame(swe_real)"
   ]
  },
  {
   "cell_type": "code",
   "execution_count": 175,
   "id": "d063c1a5-c074-4512-a932-452b782eff20",
   "metadata": {},
   "outputs": [],
   "source": [
    "df_swe_pred['swe_pred'] = swe_pred"
   ]
  },
  {
   "cell_type": "code",
   "execution_count": 176,
   "id": "3bef93d1-ee99-4a69-bc93-f47fcb1f8dfa",
   "metadata": {},
   "outputs": [],
   "source": [
    "df_swe_pred['difference'] = df_swe_pred['station_swe'] - df_swe_pred['swe_pred']"
   ]
  },
  {
   "cell_type": "code",
   "execution_count": 177,
   "id": "523f64de-8b39-4a83-a144-8bf147ce7d59",
   "metadata": {},
   "outputs": [
    {
     "data": {
      "text/plain": [
       "0.0779256101703644"
      ]
     },
     "execution_count": 177,
     "metadata": {},
     "output_type": "execute_result"
    }
   ],
   "source": [
    "df_swe_pred['difference'].mean()"
   ]
  },
  {
   "cell_type": "code",
   "execution_count": 178,
   "id": "c8f0586d-6e0c-4721-a22a-27ddf9dc9f02",
   "metadata": {},
   "outputs": [
    {
     "data": {
      "text/html": [
       "\n",
       "<style>\n",
       "  #altair-viz-7364a67edb5a4103b2b74e70ba1649d2.vega-embed {\n",
       "    width: 100%;\n",
       "    display: flex;\n",
       "  }\n",
       "\n",
       "  #altair-viz-7364a67edb5a4103b2b74e70ba1649d2.vega-embed details,\n",
       "  #altair-viz-7364a67edb5a4103b2b74e70ba1649d2.vega-embed details summary {\n",
       "    position: relative;\n",
       "  }\n",
       "</style>\n",
       "<div id=\"altair-viz-7364a67edb5a4103b2b74e70ba1649d2\"></div>\n",
       "<script type=\"text/javascript\">\n",
       "  var VEGA_DEBUG = (typeof VEGA_DEBUG == \"undefined\") ? {} : VEGA_DEBUG;\n",
       "  (function(spec, embedOpt){\n",
       "    let outputDiv = document.currentScript.previousElementSibling;\n",
       "    if (outputDiv.id !== \"altair-viz-7364a67edb5a4103b2b74e70ba1649d2\") {\n",
       "      outputDiv = document.getElementById(\"altair-viz-7364a67edb5a4103b2b74e70ba1649d2\");\n",
       "    }\n",
       "    const paths = {\n",
       "      \"vega\": \"https://cdn.jsdelivr.net/npm/vega@5?noext\",\n",
       "      \"vega-lib\": \"https://cdn.jsdelivr.net/npm/vega-lib?noext\",\n",
       "      \"vega-lite\": \"https://cdn.jsdelivr.net/npm/vega-lite@5.17.0?noext\",\n",
       "      \"vega-embed\": \"https://cdn.jsdelivr.net/npm/vega-embed@6?noext\",\n",
       "    };\n",
       "\n",
       "    function maybeLoadScript(lib, version) {\n",
       "      var key = `${lib.replace(\"-\", \"\")}_version`;\n",
       "      return (VEGA_DEBUG[key] == version) ?\n",
       "        Promise.resolve(paths[lib]) :\n",
       "        new Promise(function(resolve, reject) {\n",
       "          var s = document.createElement('script');\n",
       "          document.getElementsByTagName(\"head\")[0].appendChild(s);\n",
       "          s.async = true;\n",
       "          s.onload = () => {\n",
       "            VEGA_DEBUG[key] = version;\n",
       "            return resolve(paths[lib]);\n",
       "          };\n",
       "          s.onerror = () => reject(`Error loading script: ${paths[lib]}`);\n",
       "          s.src = paths[lib];\n",
       "        });\n",
       "    }\n",
       "\n",
       "    function showError(err) {\n",
       "      outputDiv.innerHTML = `<div class=\"error\" style=\"color:red;\">${err}</div>`;\n",
       "      throw err;\n",
       "    }\n",
       "\n",
       "    function displayChart(vegaEmbed) {\n",
       "      vegaEmbed(outputDiv, spec, embedOpt)\n",
       "        .catch(err => showError(`Javascript Error: ${err.message}<br>This usually means there's a typo in your chart specification. See the javascript console for the full traceback.`));\n",
       "    }\n",
       "\n",
       "    if(typeof define === \"function\" && define.amd) {\n",
       "      requirejs.config({paths});\n",
       "      require([\"vega-embed\"], displayChart, err => showError(`Error loading script: ${err.message}`));\n",
       "    } else {\n",
       "      maybeLoadScript(\"vega\", \"5\")\n",
       "        .then(() => maybeLoadScript(\"vega-lite\", \"5.17.0\"))\n",
       "        .then(() => maybeLoadScript(\"vega-embed\", \"6\"))\n",
       "        .catch(showError)\n",
       "        .then(() => displayChart(vegaEmbed));\n",
       "    }\n",
       "  })({\"$schema\": \"https://vega.github.io/schema/vega/v5.json\", \"data\": [{\"name\": \"source_1\", \"values\": [{\"x\": 0.0, \"y\": 0.0}, {\"x\": 0.010101010101010102, \"y\": 0.010101010101010102}, {\"x\": 0.020202020202020204, \"y\": 0.020202020202020204}, {\"x\": 0.030303030303030304, \"y\": 0.030303030303030304}, {\"x\": 0.04040404040404041, \"y\": 0.04040404040404041}, {\"x\": 0.05050505050505051, \"y\": 0.05050505050505051}, {\"x\": 0.06060606060606061, \"y\": 0.06060606060606061}, {\"x\": 0.07070707070707072, \"y\": 0.07070707070707072}, {\"x\": 0.08080808080808081, \"y\": 0.08080808080808081}, {\"x\": 0.09090909090909091, \"y\": 0.09090909090909091}, {\"x\": 0.10101010101010102, \"y\": 0.10101010101010102}, {\"x\": 0.11111111111111112, \"y\": 0.11111111111111112}, {\"x\": 0.12121212121212122, \"y\": 0.12121212121212122}, {\"x\": 0.13131313131313133, \"y\": 0.13131313131313133}, {\"x\": 0.14141414141414144, \"y\": 0.14141414141414144}, {\"x\": 0.15151515151515152, \"y\": 0.15151515151515152}, {\"x\": 0.16161616161616163, \"y\": 0.16161616161616163}, {\"x\": 0.17171717171717174, \"y\": 0.17171717171717174}, {\"x\": 0.18181818181818182, \"y\": 0.18181818181818182}, {\"x\": 0.19191919191919193, \"y\": 0.19191919191919193}, {\"x\": 0.20202020202020204, \"y\": 0.20202020202020204}, {\"x\": 0.21212121212121213, \"y\": 0.21212121212121213}, {\"x\": 0.22222222222222224, \"y\": 0.22222222222222224}, {\"x\": 0.23232323232323235, \"y\": 0.23232323232323235}, {\"x\": 0.24242424242424243, \"y\": 0.24242424242424243}, {\"x\": 0.25252525252525254, \"y\": 0.25252525252525254}, {\"x\": 0.26262626262626265, \"y\": 0.26262626262626265}, {\"x\": 0.27272727272727276, \"y\": 0.27272727272727276}, {\"x\": 0.2828282828282829, \"y\": 0.2828282828282829}, {\"x\": 0.29292929292929293, \"y\": 0.29292929292929293}, {\"x\": 0.30303030303030304, \"y\": 0.30303030303030304}, {\"x\": 0.31313131313131315, \"y\": 0.31313131313131315}, {\"x\": 0.32323232323232326, \"y\": 0.32323232323232326}, {\"x\": 0.33333333333333337, \"y\": 0.33333333333333337}, {\"x\": 0.3434343434343435, \"y\": 0.3434343434343435}, {\"x\": 0.3535353535353536, \"y\": 0.3535353535353536}, {\"x\": 0.36363636363636365, \"y\": 0.36363636363636365}, {\"x\": 0.37373737373737376, \"y\": 0.37373737373737376}, {\"x\": 0.38383838383838387, \"y\": 0.38383838383838387}, {\"x\": 0.393939393939394, \"y\": 0.393939393939394}, {\"x\": 0.4040404040404041, \"y\": 0.4040404040404041}, {\"x\": 0.4141414141414142, \"y\": 0.4141414141414142}, {\"x\": 0.42424242424242425, \"y\": 0.42424242424242425}, {\"x\": 0.43434343434343436, \"y\": 0.43434343434343436}, {\"x\": 0.4444444444444445, \"y\": 0.4444444444444445}, {\"x\": 0.4545454545454546, \"y\": 0.4545454545454546}, {\"x\": 0.4646464646464647, \"y\": 0.4646464646464647}, {\"x\": 0.4747474747474748, \"y\": 0.4747474747474748}, {\"x\": 0.48484848484848486, \"y\": 0.48484848484848486}, {\"x\": 0.494949494949495, \"y\": 0.494949494949495}, {\"x\": 0.5050505050505051, \"y\": 0.5050505050505051}, {\"x\": 0.5151515151515152, \"y\": 0.5151515151515152}, {\"x\": 0.5252525252525253, \"y\": 0.5252525252525253}, {\"x\": 0.5353535353535354, \"y\": 0.5353535353535354}, {\"x\": 0.5454545454545455, \"y\": 0.5454545454545455}, {\"x\": 0.5555555555555556, \"y\": 0.5555555555555556}, {\"x\": 0.5656565656565657, \"y\": 0.5656565656565657}, {\"x\": 0.5757575757575758, \"y\": 0.5757575757575758}, {\"x\": 0.5858585858585859, \"y\": 0.5858585858585859}, {\"x\": 0.595959595959596, \"y\": 0.595959595959596}, {\"x\": 0.6060606060606061, \"y\": 0.6060606060606061}, {\"x\": 0.6161616161616162, \"y\": 0.6161616161616162}, {\"x\": 0.6262626262626263, \"y\": 0.6262626262626263}, {\"x\": 0.6363636363636365, \"y\": 0.6363636363636365}, {\"x\": 0.6464646464646465, \"y\": 0.6464646464646465}, {\"x\": 0.6565656565656566, \"y\": 0.6565656565656566}, {\"x\": 0.6666666666666667, \"y\": 0.6666666666666667}, {\"x\": 0.6767676767676768, \"y\": 0.6767676767676768}, {\"x\": 0.686868686868687, \"y\": 0.686868686868687}, {\"x\": 0.696969696969697, \"y\": 0.696969696969697}, {\"x\": 0.7070707070707072, \"y\": 0.7070707070707072}, {\"x\": 0.7171717171717172, \"y\": 0.7171717171717172}, {\"x\": 0.7272727272727273, \"y\": 0.7272727272727273}, {\"x\": 0.7373737373737375, \"y\": 0.7373737373737375}, {\"x\": 0.7474747474747475, \"y\": 0.7474747474747475}, {\"x\": 0.7575757575757577, \"y\": 0.7575757575757577}, {\"x\": 0.7676767676767677, \"y\": 0.7676767676767677}, {\"x\": 0.7777777777777778, \"y\": 0.7777777777777778}, {\"x\": 0.787878787878788, \"y\": 0.787878787878788}, {\"x\": 0.797979797979798, \"y\": 0.797979797979798}, {\"x\": 0.8080808080808082, \"y\": 0.8080808080808082}, {\"x\": 0.8181818181818182, \"y\": 0.8181818181818182}, {\"x\": 0.8282828282828284, \"y\": 0.8282828282828284}, {\"x\": 0.8383838383838385, \"y\": 0.8383838383838385}, {\"x\": 0.8484848484848485, \"y\": 0.8484848484848485}, {\"x\": 0.8585858585858587, \"y\": 0.8585858585858587}, {\"x\": 0.8686868686868687, \"y\": 0.8686868686868687}, {\"x\": 0.8787878787878789, \"y\": 0.8787878787878789}, {\"x\": 0.888888888888889, \"y\": 0.888888888888889}, {\"x\": 0.8989898989898991, \"y\": 0.8989898989898991}, {\"x\": 0.9090909090909092, \"y\": 0.9090909090909092}, {\"x\": 0.9191919191919192, \"y\": 0.9191919191919192}, {\"x\": 0.9292929292929294, \"y\": 0.9292929292929294}, {\"x\": 0.9393939393939394, \"y\": 0.9393939393939394}, {\"x\": 0.9494949494949496, \"y\": 0.9494949494949496}, {\"x\": 0.9595959595959597, \"y\": 0.9595959595959597}, {\"x\": 0.9696969696969697, \"y\": 0.9696969696969697}, {\"x\": 0.9797979797979799, \"y\": 0.9797979797979799}, {\"x\": 0.98989898989899, \"y\": 0.98989898989899}, {\"x\": 1.0, \"y\": 1.0}]}, {\"name\": \"source_0\", \"values\": [{\"station_swe\": 0.5638799999999999, \"swe_pred\": 0.4366967714852156}, {\"station_swe\": 0.5638799999999999, \"swe_pred\": 0.497751139695284}, {\"station_swe\": 0.39877999999999997, \"swe_pred\": 0.2687972589075271}, {\"station_swe\": 0.58674, \"swe_pred\": 0.48248754764276697}, {\"station_swe\": 0.38608, \"swe_pred\": 0.3267989087070921}, {\"station_swe\": 0.46482, \"swe_pred\": 0.38174784009615387}, {\"station_swe\": 0.75184, \"swe_pred\": 0.8762882225977089}, {\"station_swe\": 0.635, \"swe_pred\": 0.58322725518938}, {\"station_swe\": 0.48005999999999993, \"swe_pred\": 0.3634315296331333}, {\"station_swe\": 0.37084, \"swe_pred\": 0.2840608509600442}, {\"station_swe\": 0.5943599999999999, \"swe_pred\": 0.625965312936428}, {\"station_swe\": 0.40386, \"swe_pred\": 0.35732609281212635}, {\"station_swe\": 0.43179999999999996, \"swe_pred\": 0.2687972589075271}, {\"station_swe\": 0.5334, \"swe_pred\": 0.40616958738018133}, {\"station_swe\": 0.37846, \"swe_pred\": 0.19553201705544482}, {\"station_swe\": 0.53594, \"swe_pred\": 0.3023771614230648}, {\"station_swe\": 0.6248400000000001, \"swe_pred\": 0.6564924970414622}, {\"station_swe\": 0.37338, \"swe_pred\": 0.22605920116047912}, {\"station_swe\": 0.65024, \"swe_pred\": 0.540489197442332}, {\"station_swe\": 0.61468, \"swe_pred\": 0.5435419158528354}, {\"station_swe\": 0.39877999999999997, \"swe_pred\": 0.26574454049702356}, {\"station_swe\": 0.78994, \"swe_pred\": 0.8060756991561302}, {\"station_swe\": 0.22097999999999998, \"swe_pred\": 0.08563415427732146}, {\"station_swe\": 0.45974000000000004, \"swe_pred\": 0.32069347188608527}, {\"station_swe\": 0.69342, \"swe_pred\": 0.8335501648506609}, {\"station_swe\": 0.28193999999999997, \"swe_pred\": 0.17416298818192089}, {\"station_swe\": 0.64516, \"swe_pred\": 0.4641712371797464}, {\"station_swe\": 0.42672, \"swe_pred\": 0.2932190061915545}, {\"station_swe\": 0.45465999999999995, \"swe_pred\": 0.4000641505591745}, {\"station_swe\": 0.6476999999999999, \"swe_pred\": 0.6137544392944143}, {\"station_swe\": 0.6248400000000001, \"swe_pred\": 0.647334341809952}, {\"station_swe\": 0.4292599999999999, \"swe_pred\": 0.39395871373816765}]}], \"marks\": [{\"type\": \"symbol\", \"name\": \"layer_0_marks\", \"from\": {\"data\": \"source_0\"}, \"encode\": {\"update\": {\"x\": {\"field\": \"station_swe\", \"scale\": \"x\"}, \"opacity\": {\"value\": 0.7}, \"fill\": {\"value\": \"#4c78a8\"}, \"shape\": {\"value\": \"circle\"}, \"y\": {\"field\": \"swe_pred\", \"scale\": \"y\"}}}, \"style\": [\"circle\"]}, {\"type\": \"line\", \"name\": \"layer_1_marks\", \"from\": {\"data\": \"source_1\"}, \"sort\": {\"field\": \"datum[\\\"x\\\"]\"}, \"encode\": {\"update\": {\"defined\": {\"signal\": \"isValid(datum[\\\"x\\\"]) && isFinite(+datum[\\\"x\\\"]) && isValid(datum[\\\"y\\\"]) && isFinite(+datum[\\\"y\\\"])\"}, \"x\": {\"field\": \"x\", \"scale\": \"x\"}, \"stroke\": {\"value\": \"#808080\"}, \"y\": {\"field\": \"y\", \"scale\": \"y\"}}}, \"style\": [\"line\"]}], \"scales\": [{\"name\": \"x\", \"type\": \"linear\", \"domain\": {\"fields\": [{\"data\": \"source_0\", \"field\": \"station_swe\"}, {\"data\": \"source_1\", \"field\": \"x\"}]}, \"range\": [0, {\"signal\": \"width\"}], \"zero\": true, \"nice\": true}, {\"name\": \"y\", \"type\": \"linear\", \"domain\": {\"fields\": [{\"data\": \"source_0\", \"field\": \"swe_pred\"}, {\"data\": \"source_1\", \"field\": \"y\"}]}, \"range\": [{\"signal\": \"height\"}, 0], \"nice\": true, \"zero\": true}], \"axes\": [{\"scale\": \"x\", \"domain\": false, \"gridScale\": \"y\", \"tickCount\": {\"signal\": \"ceil(width/40)\"}, \"orient\": \"bottom\", \"aria\": false, \"maxExtent\": 0, \"labels\": false, \"ticks\": false, \"zindex\": 0, \"minExtent\": 0, \"grid\": true}, {\"scale\": \"y\", \"zindex\": 0, \"gridScale\": \"x\", \"tickCount\": {\"signal\": \"ceil(height/40)\"}, \"labels\": false, \"ticks\": false, \"grid\": true, \"aria\": false, \"orient\": \"left\", \"maxExtent\": 0, \"minExtent\": 0, \"domain\": false}, {\"scale\": \"x\", \"labelOverlap\": true, \"grid\": false, \"tickCount\": {\"signal\": \"ceil(width/40)\"}, \"labelFlush\": true, \"title\": \"Butte SNOTEL SWE (m)\", \"zindex\": 0, \"orient\": \"bottom\"}, {\"scale\": \"y\", \"labelOverlap\": true, \"zindex\": 0, \"orient\": \"left\", \"grid\": false, \"title\": \"Butte SNOTEL SWE predicted with Schofield Pass SNVs (m)\", \"tickCount\": {\"signal\": \"ceil(height/40)\"}}], \"title\": {\"text\": \"Predicted SWE from Untransformed Values\", \"frame\": \"group\"}, \"background\": \"white\", \"padding\": 5, \"height\": 300, \"width\": 300, \"style\": \"cell\"}, {\"mode\": \"vega\"});\n",
       "</script>"
      ],
      "text/plain": [
       "alt.LayerChart(...)"
      ]
     },
     "execution_count": 178,
     "metadata": {},
     "output_type": "execute_result"
    }
   ],
   "source": [
    "data2 = {'x': np.linspace(0,1,100),\n",
    "        'y': np.linspace(0,1,100)}\n",
    "df_lin2 = pd.DataFrame(data2)\n",
    "    \n",
    "line2 = alt.Chart(df_lin2).mark_line().encode(\n",
    "    alt.X('x:Q'),\n",
    "    alt.Y('y:Q'),\n",
    "    color=alt.value(\"#808080\")\n",
    ")\n",
    "\n",
    "station_predict = alt.Chart(df_swe_pred).mark_circle().encode(\n",
    "        x = alt.X('station_swe').title('Butte SNOTEL SWE (m)'), #.axis(values=[-5,-4,-3,-2,-1,0,1,2,3,4,5]),\n",
    "        y = alt.Y('swe_pred').title('Butte SNOTEL SWE predicted with Schofield Pass SNVs (m)') #.axis(values=[-5,-4,-3,-2,-1,0,1,2,3,4,5]).scale(domain=[-5,5]).scale(domain=[0,2500]),\n",
    "    ).properties(title='Predicted SWE from Untransformed Values')\n",
    "\n",
    "annotation = alt.Chart(df_swe_pred).mark_text(\n",
    "    align='left',\n",
    "    baseline='middle',\n",
    "    fontSize = 20\n",
    ").encode(\n",
    "    text='A'\n",
    ")\n",
    "\n",
    "# text = base.mark_text(baseline=\"middle\").encode(\n",
    "#     text=\"num_cars:Q\",\n",
    "#     color=alt.condition(\n",
    "#         alt.datum.num_cars > 100,\n",
    "#         alt.value(\"black\"),\n",
    "#         alt.value(\"white\"),\n",
    "#     ),\n",
    "# )\n",
    "\n",
    "combined = (station_predict + line2 ) #+ annotation\n",
    "#combined.save('../figures/swe_predicted.png')\n",
    "combined"
   ]
  },
  {
   "cell_type": "code",
   "execution_count": 179,
   "id": "e583e9a9-fd98-4822-9cfa-1b250a4ca61f",
   "metadata": {},
   "outputs": [
    {
     "name": "stdout",
     "output_type": "stream",
     "text": [
      "R value:  0.933018186875718\n"
     ]
    }
   ],
   "source": [
    "print('R value: ', np.corrcoef(df_swe_pred['station_swe'], df_swe_pred['swe_pred'])[0,1])"
   ]
  },
  {
   "cell_type": "markdown",
   "id": "8a5f0756-b88c-49d8-aa57-00e8250d28bb",
   "metadata": {},
   "source": [
    "### Predict SWE using log values:"
   ]
  },
  {
   "cell_type": "code",
   "execution_count": 180,
   "id": "703262a1-a1b9-4d3a-82c7-49687524261c",
   "metadata": {},
   "outputs": [],
   "source": [
    "site2 = '408_CO_SNTL'\n",
    "site1 = '457_CO_SNTL'"
   ]
  },
  {
   "cell_type": "code",
   "execution_count": 181,
   "id": "64c78dd8-67fe-44f3-a3fc-0236a7e710fa",
   "metadata": {},
   "outputs": [],
   "source": [
    "swe_real = df.loc[pd.IndexSlice[site1],'station_swe']"
   ]
  },
  {
   "cell_type": "code",
   "execution_count": 189,
   "id": "efd7ce49-11d8-42a4-b86f-ca6f66fef00c",
   "metadata": {},
   "outputs": [
    {
     "data": {
      "text/plain": [
       "year\n",
       "1990   -0.741917\n",
       "1991   -2.700082\n",
       "1992   -0.846765\n",
       "1993   -0.557219\n",
       "1994   -0.944176\n",
       "1995   -0.929883\n",
       "1996   -0.313342\n",
       "1997        -inf\n",
       "1998   -0.663977\n",
       "1999   -1.382302\n",
       "2000   -0.327394\n",
       "2001   -1.112306\n",
       "2002   -1.106241\n",
       "2003   -0.628109\n",
       "2004   -1.649219\n",
       "2005   -0.595658\n",
       "2006   -0.704410\n",
       "2007   -0.963907\n",
       "2008   -0.831490\n",
       "2009   -0.935983\n",
       "2010   -0.801178\n",
       "2011   -0.432014\n",
       "2012   -1.107451\n",
       "2013   -0.856608\n",
       "2014   -0.276808\n",
       "2015   -1.227583\n",
       "2016   -0.268926\n",
       "2017   -1.251763\n",
       "2018   -1.851509\n",
       "2019   -0.331007\n",
       "2020   -0.910806\n",
       "2021   -0.684386\n",
       "Name: log_reanalysis_swe, dtype: float32"
      ]
     },
     "execution_count": 189,
     "metadata": {},
     "output_type": "execute_result"
    }
   ],
   "source": [
    "df.loc[pd.IndexSlice[site1],'log_reanalysis_swe']"
   ]
  },
  {
   "cell_type": "code",
   "execution_count": 190,
   "id": "d243b5a8-248a-4858-bcf4-5b90c78c1f12",
   "metadata": {},
   "outputs": [],
   "source": [
    "swe_pred_log = (df.loc[pd.IndexSlice[site2],'log_station_n'] * df.loc[pd.IndexSlice[site1],'log_reanalysis_swe'].replace([np.inf, -np.inf], np.nan, inplace=False).std()) + df.loc[pd.IndexSlice[site1],'log_reanalysis_swe'].replace([np.inf, -np.inf], np.nan, inplace=False).mean()"
   ]
  },
  {
   "cell_type": "code",
   "execution_count": 191,
   "id": "32e84519-d469-4318-8bb4-bdda8e3c413e",
   "metadata": {},
   "outputs": [],
   "source": [
    "df_swe_pred_log = pd.DataFrame(swe_real)"
   ]
  },
  {
   "cell_type": "code",
   "execution_count": 192,
   "id": "78f2fd87-a7d6-4fdf-a563-a08b0dbd2222",
   "metadata": {},
   "outputs": [],
   "source": [
    "df_swe_pred_log['swe_pred_log'] = swe_pred_log"
   ]
  },
  {
   "cell_type": "code",
   "execution_count": 193,
   "id": "8de51100-49a3-4349-a150-fafc446b53b4",
   "metadata": {},
   "outputs": [],
   "source": [
    "df_swe_pred_log['swe_pred_log_trans'] = math.e**df_swe_pred_log['swe_pred_log']"
   ]
  },
  {
   "cell_type": "code",
   "execution_count": 194,
   "id": "614c59da-93bd-4bec-a46b-4da2ad4069ab",
   "metadata": {},
   "outputs": [],
   "source": [
    "df_swe_pred_log['difference'] = df_swe_pred_log['station_swe'] - df_swe_pred_log['swe_pred_log_trans']"
   ]
  },
  {
   "cell_type": "code",
   "execution_count": 195,
   "id": "50e53299-511a-44e8-afbb-872627e5a3e0",
   "metadata": {},
   "outputs": [
    {
     "data": {
      "text/plain": [
       "0.05328185442364653"
      ]
     },
     "execution_count": 195,
     "metadata": {},
     "output_type": "execute_result"
    }
   ],
   "source": [
    "df_swe_pred_log['difference'].mean()"
   ]
  },
  {
   "cell_type": "code",
   "execution_count": 196,
   "id": "f1f31db2-849c-4808-8355-9a258d7c99c9",
   "metadata": {},
   "outputs": [
    {
     "data": {
      "text/html": [
       "\n",
       "<style>\n",
       "  #altair-viz-994f062b73784990b26f356ddd67d148.vega-embed {\n",
       "    width: 100%;\n",
       "    display: flex;\n",
       "  }\n",
       "\n",
       "  #altair-viz-994f062b73784990b26f356ddd67d148.vega-embed details,\n",
       "  #altair-viz-994f062b73784990b26f356ddd67d148.vega-embed details summary {\n",
       "    position: relative;\n",
       "  }\n",
       "</style>\n",
       "<div id=\"altair-viz-994f062b73784990b26f356ddd67d148\"></div>\n",
       "<script type=\"text/javascript\">\n",
       "  var VEGA_DEBUG = (typeof VEGA_DEBUG == \"undefined\") ? {} : VEGA_DEBUG;\n",
       "  (function(spec, embedOpt){\n",
       "    let outputDiv = document.currentScript.previousElementSibling;\n",
       "    if (outputDiv.id !== \"altair-viz-994f062b73784990b26f356ddd67d148\") {\n",
       "      outputDiv = document.getElementById(\"altair-viz-994f062b73784990b26f356ddd67d148\");\n",
       "    }\n",
       "    const paths = {\n",
       "      \"vega\": \"https://cdn.jsdelivr.net/npm/vega@5?noext\",\n",
       "      \"vega-lib\": \"https://cdn.jsdelivr.net/npm/vega-lib?noext\",\n",
       "      \"vega-lite\": \"https://cdn.jsdelivr.net/npm/vega-lite@5.17.0?noext\",\n",
       "      \"vega-embed\": \"https://cdn.jsdelivr.net/npm/vega-embed@6?noext\",\n",
       "    };\n",
       "\n",
       "    function maybeLoadScript(lib, version) {\n",
       "      var key = `${lib.replace(\"-\", \"\")}_version`;\n",
       "      return (VEGA_DEBUG[key] == version) ?\n",
       "        Promise.resolve(paths[lib]) :\n",
       "        new Promise(function(resolve, reject) {\n",
       "          var s = document.createElement('script');\n",
       "          document.getElementsByTagName(\"head\")[0].appendChild(s);\n",
       "          s.async = true;\n",
       "          s.onload = () => {\n",
       "            VEGA_DEBUG[key] = version;\n",
       "            return resolve(paths[lib]);\n",
       "          };\n",
       "          s.onerror = () => reject(`Error loading script: ${paths[lib]}`);\n",
       "          s.src = paths[lib];\n",
       "        });\n",
       "    }\n",
       "\n",
       "    function showError(err) {\n",
       "      outputDiv.innerHTML = `<div class=\"error\" style=\"color:red;\">${err}</div>`;\n",
       "      throw err;\n",
       "    }\n",
       "\n",
       "    function displayChart(vegaEmbed) {\n",
       "      vegaEmbed(outputDiv, spec, embedOpt)\n",
       "        .catch(err => showError(`Javascript Error: ${err.message}<br>This usually means there's a typo in your chart specification. See the javascript console for the full traceback.`));\n",
       "    }\n",
       "\n",
       "    if(typeof define === \"function\" && define.amd) {\n",
       "      requirejs.config({paths});\n",
       "      require([\"vega-embed\"], displayChart, err => showError(`Error loading script: ${err.message}`));\n",
       "    } else {\n",
       "      maybeLoadScript(\"vega\", \"5\")\n",
       "        .then(() => maybeLoadScript(\"vega-lite\", \"5.17.0\"))\n",
       "        .then(() => maybeLoadScript(\"vega-embed\", \"6\"))\n",
       "        .catch(showError)\n",
       "        .then(() => displayChart(vegaEmbed));\n",
       "    }\n",
       "  })({\"$schema\": \"https://vega.github.io/schema/vega/v5.json\", \"data\": [{\"name\": \"source_1\", \"values\": [{\"x\": 0.0, \"y\": 0.0}, {\"x\": 0.010101010101010102, \"y\": 0.010101010101010102}, {\"x\": 0.020202020202020204, \"y\": 0.020202020202020204}, {\"x\": 0.030303030303030304, \"y\": 0.030303030303030304}, {\"x\": 0.04040404040404041, \"y\": 0.04040404040404041}, {\"x\": 0.05050505050505051, \"y\": 0.05050505050505051}, {\"x\": 0.06060606060606061, \"y\": 0.06060606060606061}, {\"x\": 0.07070707070707072, \"y\": 0.07070707070707072}, {\"x\": 0.08080808080808081, \"y\": 0.08080808080808081}, {\"x\": 0.09090909090909091, \"y\": 0.09090909090909091}, {\"x\": 0.10101010101010102, \"y\": 0.10101010101010102}, {\"x\": 0.11111111111111112, \"y\": 0.11111111111111112}, {\"x\": 0.12121212121212122, \"y\": 0.12121212121212122}, {\"x\": 0.13131313131313133, \"y\": 0.13131313131313133}, {\"x\": 0.14141414141414144, \"y\": 0.14141414141414144}, {\"x\": 0.15151515151515152, \"y\": 0.15151515151515152}, {\"x\": 0.16161616161616163, \"y\": 0.16161616161616163}, {\"x\": 0.17171717171717174, \"y\": 0.17171717171717174}, {\"x\": 0.18181818181818182, \"y\": 0.18181818181818182}, {\"x\": 0.19191919191919193, \"y\": 0.19191919191919193}, {\"x\": 0.20202020202020204, \"y\": 0.20202020202020204}, {\"x\": 0.21212121212121213, \"y\": 0.21212121212121213}, {\"x\": 0.22222222222222224, \"y\": 0.22222222222222224}, {\"x\": 0.23232323232323235, \"y\": 0.23232323232323235}, {\"x\": 0.24242424242424243, \"y\": 0.24242424242424243}, {\"x\": 0.25252525252525254, \"y\": 0.25252525252525254}, {\"x\": 0.26262626262626265, \"y\": 0.26262626262626265}, {\"x\": 0.27272727272727276, \"y\": 0.27272727272727276}, {\"x\": 0.2828282828282829, \"y\": 0.2828282828282829}, {\"x\": 0.29292929292929293, \"y\": 0.29292929292929293}, {\"x\": 0.30303030303030304, \"y\": 0.30303030303030304}, {\"x\": 0.31313131313131315, \"y\": 0.31313131313131315}, {\"x\": 0.32323232323232326, \"y\": 0.32323232323232326}, {\"x\": 0.33333333333333337, \"y\": 0.33333333333333337}, {\"x\": 0.3434343434343435, \"y\": 0.3434343434343435}, {\"x\": 0.3535353535353536, \"y\": 0.3535353535353536}, {\"x\": 0.36363636363636365, \"y\": 0.36363636363636365}, {\"x\": 0.37373737373737376, \"y\": 0.37373737373737376}, {\"x\": 0.38383838383838387, \"y\": 0.38383838383838387}, {\"x\": 0.393939393939394, \"y\": 0.393939393939394}, {\"x\": 0.4040404040404041, \"y\": 0.4040404040404041}, {\"x\": 0.4141414141414142, \"y\": 0.4141414141414142}, {\"x\": 0.42424242424242425, \"y\": 0.42424242424242425}, {\"x\": 0.43434343434343436, \"y\": 0.43434343434343436}, {\"x\": 0.4444444444444445, \"y\": 0.4444444444444445}, {\"x\": 0.4545454545454546, \"y\": 0.4545454545454546}, {\"x\": 0.4646464646464647, \"y\": 0.4646464646464647}, {\"x\": 0.4747474747474748, \"y\": 0.4747474747474748}, {\"x\": 0.48484848484848486, \"y\": 0.48484848484848486}, {\"x\": 0.494949494949495, \"y\": 0.494949494949495}, {\"x\": 0.5050505050505051, \"y\": 0.5050505050505051}, {\"x\": 0.5151515151515152, \"y\": 0.5151515151515152}, {\"x\": 0.5252525252525253, \"y\": 0.5252525252525253}, {\"x\": 0.5353535353535354, \"y\": 0.5353535353535354}, {\"x\": 0.5454545454545455, \"y\": 0.5454545454545455}, {\"x\": 0.5555555555555556, \"y\": 0.5555555555555556}, {\"x\": 0.5656565656565657, \"y\": 0.5656565656565657}, {\"x\": 0.5757575757575758, \"y\": 0.5757575757575758}, {\"x\": 0.5858585858585859, \"y\": 0.5858585858585859}, {\"x\": 0.595959595959596, \"y\": 0.595959595959596}, {\"x\": 0.6060606060606061, \"y\": 0.6060606060606061}, {\"x\": 0.6161616161616162, \"y\": 0.6161616161616162}, {\"x\": 0.6262626262626263, \"y\": 0.6262626262626263}, {\"x\": 0.6363636363636365, \"y\": 0.6363636363636365}, {\"x\": 0.6464646464646465, \"y\": 0.6464646464646465}, {\"x\": 0.6565656565656566, \"y\": 0.6565656565656566}, {\"x\": 0.6666666666666667, \"y\": 0.6666666666666667}, {\"x\": 0.6767676767676768, \"y\": 0.6767676767676768}, {\"x\": 0.686868686868687, \"y\": 0.686868686868687}, {\"x\": 0.696969696969697, \"y\": 0.696969696969697}, {\"x\": 0.7070707070707072, \"y\": 0.7070707070707072}, {\"x\": 0.7171717171717172, \"y\": 0.7171717171717172}, {\"x\": 0.7272727272727273, \"y\": 0.7272727272727273}, {\"x\": 0.7373737373737375, \"y\": 0.7373737373737375}, {\"x\": 0.7474747474747475, \"y\": 0.7474747474747475}, {\"x\": 0.7575757575757577, \"y\": 0.7575757575757577}, {\"x\": 0.7676767676767677, \"y\": 0.7676767676767677}, {\"x\": 0.7777777777777778, \"y\": 0.7777777777777778}, {\"x\": 0.787878787878788, \"y\": 0.787878787878788}, {\"x\": 0.797979797979798, \"y\": 0.797979797979798}, {\"x\": 0.8080808080808082, \"y\": 0.8080808080808082}, {\"x\": 0.8181818181818182, \"y\": 0.8181818181818182}, {\"x\": 0.8282828282828284, \"y\": 0.8282828282828284}, {\"x\": 0.8383838383838385, \"y\": 0.8383838383838385}, {\"x\": 0.8484848484848485, \"y\": 0.8484848484848485}, {\"x\": 0.8585858585858587, \"y\": 0.8585858585858587}, {\"x\": 0.8686868686868687, \"y\": 0.8686868686868687}, {\"x\": 0.8787878787878789, \"y\": 0.8787878787878789}, {\"x\": 0.888888888888889, \"y\": 0.888888888888889}, {\"x\": 0.8989898989898991, \"y\": 0.8989898989898991}, {\"x\": 0.9090909090909092, \"y\": 0.9090909090909092}, {\"x\": 0.9191919191919192, \"y\": 0.9191919191919192}, {\"x\": 0.9292929292929294, \"y\": 0.9292929292929294}, {\"x\": 0.9393939393939394, \"y\": 0.9393939393939394}, {\"x\": 0.9494949494949496, \"y\": 0.9494949494949496}, {\"x\": 0.9595959595959597, \"y\": 0.9595959595959597}, {\"x\": 0.9696969696969697, \"y\": 0.9696969696969697}, {\"x\": 0.9797979797979799, \"y\": 0.9797979797979799}, {\"x\": 0.98989898989899, \"y\": 0.98989898989899}, {\"x\": 1.0, \"y\": 1.0}]}, {\"name\": \"source_0\", \"values\": [{\"station_swe\": 0.5638799999999999, \"swe_pred_log_trans\": 0.4359738708811615}, {\"station_swe\": 0.5638799999999999, \"swe_pred_log_trans\": 0.5081136816836439}, {\"station_swe\": 0.39877999999999997, \"swe_pred_log_trans\": 0.26447057695792175}, {\"station_swe\": 0.58674, \"swe_pred_log_trans\": 0.4895961933495414}, {\"station_swe\": 0.38608, \"swe_pred_log_trans\": 0.31921143486250875}, {\"station_swe\": 0.46482, \"swe_pred_log_trans\": 0.37547423585588147}, {\"station_swe\": 0.75184, \"swe_pred_log_trans\": 1.0680638910341502}, {\"station_swe\": 0.635, \"swe_pred_log_trans\": 0.6177100202271065}, {\"station_swe\": 0.48005999999999993, \"swe_pred_log_trans\": 0.3562470163915294}, {\"station_swe\": 0.37084, \"swe_pred_log_trans\": 0.27841010565359076}, {\"station_swe\": 0.5943599999999999, \"swe_pred_log_trans\": 0.6762346352253501}, {\"station_swe\": 0.40386, \"swe_pred_log_trans\": 0.34994283372994767}, {\"station_swe\": 0.43179999999999996, \"swe_pred_log_trans\": 0.26447057695792175}, {\"station_swe\": 0.5334, \"swe_pred_log_trans\": 0.40184248908503567}, {\"station_swe\": 0.37846, \"swe_pred_log_trans\": 0.20224037125215674}, {\"station_swe\": 0.53594, \"swe_pred_log_trans\": 0.29557765150980775}, {\"station_swe\": 0.6248400000000001, \"swe_pred_log_trans\": 0.7195473849772723}, {\"station_swe\": 0.37338, \"swe_pred_log_trans\": 0.22722397942683914}, {\"station_swe\": 0.65024, \"swe_pred_log_trans\": 0.5616644304654397}, {\"station_swe\": 0.61468, \"swe_pred_log_trans\": 0.5655851423325461}, {\"station_swe\": 0.39877999999999997, \"swe_pred_log_trans\": 0.2617227906025016}, {\"station_swe\": 0.78994, \"swe_pred_log_trans\": 0.94978488690243}, {\"station_swe\": 0.22097999999999998, \"swe_pred_log_trans\": 0.12366782795600875}, {\"station_swe\": 0.45974000000000004, \"swe_pred_log_trans\": 0.31322351126883846}, {\"station_swe\": 0.69342, \"swe_pred_log_trans\": 0.9952966012011476}, {\"station_swe\": 0.28193999999999997, \"swe_pred_log_trans\": 0.1855620667877683}, {\"station_swe\": 0.64516, \"swe_pred_log_trans\": 0.4677991895683637}, {\"station_swe\": 0.42672, \"swe_pred_log_trans\": 0.2869339711513674}, {\"station_swe\": 0.45465999999999995, \"swe_pred_log_trans\": 0.3951721807758137}, {\"station_swe\": 0.6476999999999999, \"swe_pred_log_trans\": 0.6592612422608995}, {\"station_swe\": 0.6248400000000001, \"swe_pred_log_trans\": 0.7064218716529106}, {\"station_swe\": 0.4292599999999999, \"swe_pred_log_trans\": 0.3885539964559083}]}], \"marks\": [{\"type\": \"symbol\", \"name\": \"layer_0_marks\", \"from\": {\"data\": \"source_0\"}, \"encode\": {\"update\": {\"shape\": {\"value\": \"circle\"}, \"opacity\": {\"value\": 0.7}, \"fill\": {\"value\": \"#4c78a8\"}, \"x\": {\"field\": \"station_swe\", \"scale\": \"x\"}, \"y\": {\"field\": \"swe_pred_log_trans\", \"scale\": \"y\"}}}, \"style\": [\"circle\"]}, {\"type\": \"line\", \"name\": \"layer_1_marks\", \"from\": {\"data\": \"source_1\"}, \"sort\": {\"field\": \"datum[\\\"x\\\"]\"}, \"encode\": {\"update\": {\"y\": {\"field\": \"y\", \"scale\": \"y\"}, \"x\": {\"field\": \"x\", \"scale\": \"x\"}, \"defined\": {\"signal\": \"isValid(datum[\\\"x\\\"]) && isFinite(+datum[\\\"x\\\"]) && isValid(datum[\\\"y\\\"]) && isFinite(+datum[\\\"y\\\"])\"}, \"stroke\": {\"value\": \"#808080\"}}}, \"style\": [\"line\"]}], \"scales\": [{\"name\": \"x\", \"type\": \"linear\", \"domain\": {\"fields\": [{\"data\": \"source_0\", \"field\": \"station_swe\"}, {\"data\": \"source_1\", \"field\": \"x\"}]}, \"range\": [0, {\"signal\": \"width\"}], \"zero\": true, \"nice\": true}, {\"name\": \"y\", \"type\": \"linear\", \"domain\": {\"fields\": [{\"data\": \"source_0\", \"field\": \"swe_pred_log_trans\"}, {\"data\": \"source_1\", \"field\": \"y\"}]}, \"range\": [{\"signal\": \"height\"}, 0], \"nice\": true, \"zero\": true}], \"axes\": [{\"scale\": \"x\", \"domain\": false, \"tickCount\": {\"signal\": \"ceil(width/40)\"}, \"labels\": false, \"orient\": \"bottom\", \"grid\": true, \"maxExtent\": 0, \"gridScale\": \"y\", \"zindex\": 0, \"minExtent\": 0, \"ticks\": false, \"aria\": false}, {\"scale\": \"y\", \"domain\": false, \"aria\": false, \"tickCount\": {\"signal\": \"ceil(height/40)\"}, \"orient\": \"left\", \"gridScale\": \"x\", \"labels\": false, \"zindex\": 0, \"minExtent\": 0, \"maxExtent\": 0, \"ticks\": false, \"grid\": true}, {\"scale\": \"x\", \"tickCount\": {\"signal\": \"ceil(width/40)\"}, \"zindex\": 0, \"title\": \"Butte SNOTEL SWE (m)\", \"orient\": \"bottom\", \"grid\": false, \"labelFlush\": true, \"labelOverlap\": true}, {\"scale\": \"y\", \"zindex\": 0, \"title\": \"Butte SNOTEL SWE predicted with Schofield Pass Ln(SNVs) (m)\", \"orient\": \"left\", \"grid\": false, \"labelOverlap\": true, \"tickCount\": {\"signal\": \"ceil(height/40)\"}}], \"title\": {\"text\": \"Predicted SWE\", \"frame\": \"group\"}, \"width\": 300, \"background\": \"white\", \"style\": \"cell\", \"padding\": 5, \"height\": 300}, {\"mode\": \"vega\"});\n",
       "</script>"
      ],
      "text/plain": [
       "alt.LayerChart(...)"
      ]
     },
     "execution_count": 196,
     "metadata": {},
     "output_type": "execute_result"
    }
   ],
   "source": [
    "data2 = {'x': np.linspace(0,1,100),\n",
    "        'y': np.linspace(0,1,100)}\n",
    "df_lin2 = pd.DataFrame(data2)\n",
    "    \n",
    "line2 = alt.Chart(df_lin2).mark_line().encode(\n",
    "    alt.X('x:Q'),\n",
    "    alt.Y('y:Q'),\n",
    "    color=alt.value(\"#808080\")\n",
    ")\n",
    "\n",
    "station_predict = alt.Chart(df_swe_pred_log).mark_circle().encode(\n",
    "        x = alt.X('station_swe').title('Butte SNOTEL SWE (m)'), #.axis(values=[-5,-4,-3,-2,-1,0,1,2,3,4,5]),\n",
    "        y = alt.Y('swe_pred_log_trans').title('Butte SNOTEL SWE predicted with Schofield Pass Ln(SNVs) (m)') #.axis(values=[-5,-4,-3,-2,-1,0,1,2,3,4,5]).scale(domain=[-5,5]).scale(domain=[0,2500]),\n",
    "    ).properties(title='Predicted SWE')\n",
    "\n",
    "annotation = alt.Chart(df_swe_pred_log).mark_text(\n",
    "    align='left',\n",
    "    baseline='middle',\n",
    "    fontSize = 20\n",
    ").encode(\n",
    "    text='A'\n",
    ")\n",
    "\n",
    "# text = base.mark_text(baseline=\"middle\").encode(\n",
    "#     text=\"num_cars:Q\",\n",
    "#     color=alt.condition(\n",
    "#         alt.datum.num_cars > 100,\n",
    "#         alt.value(\"black\"),\n",
    "#         alt.value(\"white\"),\n",
    "#     ),\n",
    "# )\n",
    "\n",
    "combined = (station_predict + line2) # + annotation\n",
    "#combined.save('../figures/swe_predicted.png')\n",
    "combined"
   ]
  },
  {
   "cell_type": "code",
   "execution_count": 197,
   "id": "da0bb503-ab06-47e1-9304-935226ea6fb7",
   "metadata": {},
   "outputs": [
    {
     "name": "stdout",
     "output_type": "stream",
     "text": [
      "R value:  0.9055092028980603\n"
     ]
    }
   ],
   "source": [
    "print('R value: ', np.corrcoef(df_swe_pred_log['station_swe'], df_swe_pred_log['swe_pred_log_trans'])[0,1])"
   ]
  },
  {
   "cell_type": "markdown",
   "id": "0df162fc-03e6-4d5b-bd9a-73825828110e",
   "metadata": {},
   "source": [
    "### Predict SWE with Quantile Mapping:"
   ]
  },
  {
   "cell_type": "code",
   "execution_count": 326,
   "id": "a42e18f5-2364-40be-848f-57694be28c92",
   "metadata": {},
   "outputs": [],
   "source": [
    "site2 = '408_CO_SNTL'\n",
    "site1 = '457_CO_SNTL'"
   ]
  },
  {
   "cell_type": "code",
   "execution_count": 327,
   "id": "33e417a6-1f9b-4e69-9a20-e391965d11e6",
   "metadata": {},
   "outputs": [],
   "source": [
    "cdf_site1 = df.loc[pd.IndexSlice[site1]]\n",
    "cdf_site2 = df.loc[pd.IndexSlice[site2]]"
   ]
  },
  {
   "cell_type": "code",
   "execution_count": 328,
   "id": "c6105015-9c7f-4e0b-a7e0-88a794308896",
   "metadata": {},
   "outputs": [],
   "source": [
    "cdf_site2 = cdf_site2.sort_values('station_swe')\n",
    "cdf_site1 = cdf_site1.sort_values('reanalysis_swe')"
   ]
  },
  {
   "cell_type": "code",
   "execution_count": 329,
   "id": "5d8653bc-60a9-4bf1-88a1-66571e470f13",
   "metadata": {},
   "outputs": [],
   "source": [
    "count2, bins_count2 = np.histogram(cdf_site2['station_swe'], bins=32)\n",
    "count1, bins_count1 = np.histogram(cdf_site1['reanalysis_swe'], bins=32)"
   ]
  },
  {
   "cell_type": "code",
   "execution_count": 330,
   "id": "5a95fa5c-ce58-4b9c-b240-a1e728b129bf",
   "metadata": {},
   "outputs": [],
   "source": [
    "cdf_site1['pdf'] = count1 / sum(count1)\n",
    "cdf_site2['pdf'] = count2 / sum(count2)"
   ]
  },
  {
   "cell_type": "code",
   "execution_count": 331,
   "id": "2191da22-6cb4-453b-8081-3f1a4e2c50c5",
   "metadata": {},
   "outputs": [],
   "source": [
    "cdf_site2['cdf'] = np.cumsum(cdf_site2['pdf']) \n",
    "cdf_site1['cdf'] = np.cumsum(cdf_site1['pdf']) "
   ]
  },
  {
   "cell_type": "code",
   "execution_count": 332,
   "id": "1d6b0c4f-dd09-4d45-aad0-77f999a9ba96",
   "metadata": {},
   "outputs": [
    {
     "name": "stderr",
     "output_type": "stream",
     "text": [
      "/var/folders/yr/1f67jccn6hl_lyxnqy7qjpq40000gp/T/ipykernel_7352/2604263505.py:23: RuntimeWarning: divide by zero encountered in log\n",
      "  x_1_log = np.log(np.linspace(0, 1, 101))\n"
     ]
    }
   ],
   "source": [
    "# Untransformed Theoretical Normal PDF\n",
    "mu_1 = cdf_site1['station_swe'].mean()\n",
    "sigma_1 = cdf_site1['station_swe'].std()\n",
    "\n",
    "x_1 = np.linspace(0, 1, 101)\n",
    "pdf_1 = stats.norm.pdf(x_1, mu_1, sigma_1)\n",
    "pdf_1 = pdf_1 / np.sum(pdf_1)\n",
    "cdf_1 = np.cumsum(pdf_1)\n",
    "\n",
    "mu_2 = cdf_site2['station_swe'].mean()\n",
    "sigma_2 = cdf_site2['station_swe'].std()\n",
    "\n",
    "x_2 = np.linspace(0.2, 1.4, 101)\n",
    "pdf_2 = stats.norm.pdf(x_2, mu_2, sigma_2)\n",
    "pdf_2 = pdf_2 / np.sum(pdf_2)\n",
    "cdf_2 = np.cumsum(pdf_2)\n",
    "\n",
    "\n",
    "# Theoretical Natural Log Normal PDF\n",
    "mu_1_log = np.log(cdf_site1['station_swe']).mean()\n",
    "sigma_1_log = np.log(cdf_site1['station_swe']).std()\n",
    "\n",
    "x_1_log = np.log(np.linspace(0, 1, 101))\n",
    "pdf_1_log = stats.norm.pdf(x_1_log, mu_1_log, sigma_1_log)\n",
    "pdf_1_log = pdf_1_log / np.sum(pdf_1_log)\n",
    "cdf_1_log = np.cumsum(pdf_1_log)\n",
    "\n",
    "mu_2_log = np.log(cdf_site2['station_swe']).mean()\n",
    "sigma_2_log = np.log(cdf_site2['station_swe']).std()\n",
    "\n",
    "x_2_log = np.log(np.linspace(0.4, 1.4, 101))\n",
    "pdf_2_log = stats.norm.pdf(x_2_log, mu_2_log, sigma_2_log)\n",
    "pdf_2_log = pdf_2_log / np.sum(pdf_2_log)\n",
    "cdf_2_log = np.cumsum(pdf_2_log)"
   ]
  },
  {
   "cell_type": "code",
   "execution_count": 333,
   "id": "ac47c398-1b2c-4ef4-b391-06a1d73c2fdd",
   "metadata": {},
   "outputs": [
    {
     "data": {
      "text/plain": [
       "Text(0, 0.5, 'Probability')"
      ]
     },
     "execution_count": 333,
     "metadata": {},
     "output_type": "execute_result"
    },
    {
     "data": {
      "image/png": "[encoded data removed]",
      "text/plain": [
       "<Figure size 640x480 with 1 Axes>"
      ]
     },
     "metadata": {},
     "output_type": "display_data"
    }
   ],
   "source": [
    "# plotting PDF and CDF \n",
    "plt.plot(bins_count1[1:], cdf_site1['pdf'], color=\"red\", label=\"PDF\") \n",
    "plt.plot(x_1,pdf_1,'k', label='theoretical normal pdf')\n",
    "plt.plot(x_1,pdf_1_log,'orange',label='theoretical natural log normal pdf')\n",
    "\n",
    "plt.plot(bins_count1[1:], cdf_site1['cdf'], label=\"CDF\")\n",
    "plt.plot(x_1,cdf_1,'k', label='theoretical normal cdf')\n",
    "plt.plot(x_1, cdf_1_log,'cornflowerblue',label='theoretical natural log normal cdf')\n",
    "\n",
    "plt.legend() \n",
    "plt.xlabel('SWE')\n",
    "plt.ylabel('Probability')"
   ]
  },
  {
   "cell_type": "code",
   "execution_count": 334,
   "id": "08c73dba-3853-4265-a806-e92ff798e7b4",
   "metadata": {},
   "outputs": [
    {
     "data": {
      "text/plain": [
       "Text(0, 0.5, 'Probability')"
      ]
     },
     "execution_count": 334,
     "metadata": {},
     "output_type": "execute_result"
    },
    {
     "data": {
      "image/png": "[encoded data removed]",
      "text/plain": [
       "<Figure size 640x480 with 1 Axes>"
      ]
     },
     "metadata": {},
     "output_type": "display_data"
    }
   ],
   "source": [
    "# plotting PDF and CDF \n",
    "plt.plot(bins_count2[1:], cdf_site2['pdf'], color=\"red\", label=\"PDF\") \n",
    "plt.plot(x_2,pdf_2,'k', label='theoretical normal pdf')\n",
    "plt.plot(x_2,pdf_2_log,'orange',label='theoretical natural log normal pdf')\n",
    "\n",
    "plt.plot(bins_count2[1:], cdf_site2['cdf'], label=\"CDF\")\n",
    "plt.plot(x_2,cdf_2,'k', label='theoretical normal cdf')\n",
    "plt.plot(x_2, cdf_2_log,'cornflowerblue',label='theoretical natural log normal cdf')\n",
    "\n",
    "plt.legend() \n",
    "plt.xlabel('SWE')\n",
    "plt.ylabel('Probability')"
   ]
  },
  {
   "cell_type": "code",
   "execution_count": 204,
   "id": "d3837ca3-574f-48c6-8143-3d5c214925b4",
   "metadata": {},
   "outputs": [
    {
     "data": {
      "text/plain": [
       "Text(0, 0.5, 'Probability')"
      ]
     },
     "execution_count": 204,
     "metadata": {},
     "output_type": "execute_result"
    },
    {
     "data": {
      "image/png": "[encoded data removed]",
      "text/plain": [
       "<Figure size 640x480 with 1 Axes>"
      ]
     },
     "metadata": {},
     "output_type": "display_data"
    }
   ],
   "source": [
    "# plotting PDF and CDF \n",
    "plt.plot(bins_count1[1:], cdf_site1['pdf'], color=\"red\", label=\"PDF\") \n",
    "plt.plot(bins_count1[1:], cdf_site1['cdf'], label=\"CDF\") \n",
    "plt.legend() \n",
    "plt.xlabel('SWE')\n",
    "plt.ylabel('Probability')"
   ]
  },
  {
   "cell_type": "code",
   "execution_count": 205,
   "id": "71a80529-5bf2-4135-9391-206ffc769795",
   "metadata": {},
   "outputs": [
    {
     "data": {
      "text/plain": [
       "Text(0, 0.5, 'Probability')"
      ]
     },
     "execution_count": 205,
     "metadata": {},
     "output_type": "execute_result"
    },
    {
     "data": {
      "image/png": "[encoded data removed]",
      "text/plain": [
       "<Figure size 640x480 with 1 Axes>"
      ]
     },
     "metadata": {},
     "output_type": "display_data"
    }
   ],
   "source": [
    "# plotting PDF and CDF \n",
    "plt.plot(bins_count2[1:], cdf_site2['pdf'], color=\"red\", label=\"PDF\") \n",
    "plt.plot(bins_count2[1:], cdf_site2['cdf'], label=\"CDF\") \n",
    "plt.legend() \n",
    "plt.xlabel('SWE')\n",
    "plt.ylabel('Probability')"
   ]
  },
  {
   "cell_type": "code",
   "execution_count": 206,
   "id": "45476dbc-b27f-4578-8d51-3cfbbee205cc",
   "metadata": {},
   "outputs": [
    {
     "name": "stderr",
     "output_type": "stream",
     "text": [
      "/Users/Hannah/micromamba/envs/analysis_2024/lib/python3.12/site-packages/geopandas/geodataframe.py:1528: SettingWithCopyWarning: \n",
      "A value is trying to be set on a copy of a slice from a DataFrame.\n",
      "Try using .loc[row_indexer,col_indexer] = value instead\n",
      "\n",
      "See the caveats in the documentation: https://pandas.pydata.org/pandas-docs/stable/user_guide/indexing.html#returning-a-view-versus-a-copy\n",
      "  super().__setitem__(key, value)\n"
     ]
    }
   ],
   "source": [
    "cdf_site1[cdf_site1['reanalysis_swe'] == 0]['reanalysis_swe'] = 0.01\n",
    "cdf_site1[cdf_site1['cdf'] == 0]['cdf'] = 0.01"
   ]
  },
  {
   "cell_type": "code",
   "execution_count": 207,
   "id": "b76887ab-5858-4a09-a188-ad276f17db6e",
   "metadata": {},
   "outputs": [
    {
     "data": {
      "text/plain": [
       "year\n",
       "2020    0.3125\n",
       "Name: cdf, dtype: float64"
      ]
     },
     "execution_count": 207,
     "metadata": {},
     "output_type": "execute_result"
    }
   ],
   "source": [
    "cdf_site1.loc[cdf_site1.index==2020, 'cdf']"
   ]
  },
  {
   "cell_type": "code",
   "execution_count": 208,
   "id": "0574ad13-8e53-4dc9-a326-4c56564584fa",
   "metadata": {},
   "outputs": [],
   "source": [
    "f = interp1d(cdf_site1['cdf'], cdf_site1['reanalysis_swe'])\n",
    "swe_quant = f(cdf_site1.loc[cdf_site1.index==2020, 'cdf'].values)"
   ]
  },
  {
   "cell_type": "code",
   "execution_count": 209,
   "id": "1950cca4-f92e-4776-8349-e3c95b80ebbe",
   "metadata": {},
   "outputs": [
    {
     "name": "stderr",
     "output_type": "stream",
     "text": [
      "/Users/Hannah/micromamba/envs/analysis_2024/lib/python3.12/site-packages/scipy/interpolate/_interpolate.py:712: RuntimeWarning: divide by zero encountered in divide\n",
      "  slope = (y_hi - y_lo) / (x_hi - x_lo)[:, None]\n",
      "/Users/Hannah/micromamba/envs/analysis_2024/lib/python3.12/site-packages/scipy/interpolate/_interpolate.py:715: RuntimeWarning: invalid value encountered in multiply\n",
      "  y_new = slope*(x_new - x_lo)[:, None] + y_lo\n"
     ]
    }
   ],
   "source": [
    "pred_quant = []\n",
    "for year in np.arange(1990,2021):\n",
    "    pred_quant.append(f(cdf_site1.loc[cdf_site1.index==year, 'cdf'].values)[0])\n",
    "\n",
    "pred_quant.append(np.nan)"
   ]
  },
  {
   "cell_type": "code",
   "execution_count": 222,
   "id": "97c1f492-4547-422a-9685-171380654ea0",
   "metadata": {},
   "outputs": [],
   "source": [
    "site1_compare = df.loc[pd.IndexSlice[site1]][['station_swe']]"
   ]
  },
  {
   "cell_type": "code",
   "execution_count": 223,
   "id": "4c7ec5cb-c68f-4958-aafe-59e01f24852d",
   "metadata": {},
   "outputs": [],
   "source": [
    "site1_compare['pred_quant'] = pred_quant"
   ]
  },
  {
   "cell_type": "code",
   "execution_count": 212,
   "id": "6c55e7bf-68b9-43d5-aa7f-ec053de979c6",
   "metadata": {},
   "outputs": [
    {
     "data": {
      "text/html": [
       "\n",
       "<style>\n",
       "  #altair-viz-634a4ae5584945528ab1cb24bc551f34.vega-embed {\n",
       "    width: 100%;\n",
       "    display: flex;\n",
       "  }\n",
       "\n",
       "  #altair-viz-634a4ae5584945528ab1cb24bc551f34.vega-embed details,\n",
       "  #altair-viz-634a4ae5584945528ab1cb24bc551f34.vega-embed details summary {\n",
       "    position: relative;\n",
       "  }\n",
       "</style>\n",
       "<div id=\"altair-viz-634a4ae5584945528ab1cb24bc551f34\"></div>\n",
       "<script type=\"text/javascript\">\n",
       "  var VEGA_DEBUG = (typeof VEGA_DEBUG == \"undefined\") ? {} : VEGA_DEBUG;\n",
       "  (function(spec, embedOpt){\n",
       "    let outputDiv = document.currentScript.previousElementSibling;\n",
       "    if (outputDiv.id !== \"altair-viz-634a4ae5584945528ab1cb24bc551f34\") {\n",
       "      outputDiv = document.getElementById(\"altair-viz-634a4ae5584945528ab1cb24bc551f34\");\n",
       "    }\n",
       "    const paths = {\n",
       "      \"vega\": \"https://cdn.jsdelivr.net/npm/vega@5?noext\",\n",
       "      \"vega-lib\": \"https://cdn.jsdelivr.net/npm/vega-lib?noext\",\n",
       "      \"vega-lite\": \"https://cdn.jsdelivr.net/npm/vega-lite@5.17.0?noext\",\n",
       "      \"vega-embed\": \"https://cdn.jsdelivr.net/npm/vega-embed@6?noext\",\n",
       "    };\n",
       "\n",
       "    function maybeLoadScript(lib, version) {\n",
       "      var key = `${lib.replace(\"-\", \"\")}_version`;\n",
       "      return (VEGA_DEBUG[key] == version) ?\n",
       "        Promise.resolve(paths[lib]) :\n",
       "        new Promise(function(resolve, reject) {\n",
       "          var s = document.createElement('script');\n",
       "          document.getElementsByTagName(\"head\")[0].appendChild(s);\n",
       "          s.async = true;\n",
       "          s.onload = () => {\n",
       "            VEGA_DEBUG[key] = version;\n",
       "            return resolve(paths[lib]);\n",
       "          };\n",
       "          s.onerror = () => reject(`Error loading script: ${paths[lib]}`);\n",
       "          s.src = paths[lib];\n",
       "        });\n",
       "    }\n",
       "\n",
       "    function showError(err) {\n",
       "      outputDiv.innerHTML = `<div class=\"error\" style=\"color:red;\">${err}</div>`;\n",
       "      throw err;\n",
       "    }\n",
       "\n",
       "    function displayChart(vegaEmbed) {\n",
       "      vegaEmbed(outputDiv, spec, embedOpt)\n",
       "        .catch(err => showError(`Javascript Error: ${err.message}<br>This usually means there's a typo in your chart specification. See the javascript console for the full traceback.`));\n",
       "    }\n",
       "\n",
       "    if(typeof define === \"function\" && define.amd) {\n",
       "      requirejs.config({paths});\n",
       "      require([\"vega-embed\"], displayChart, err => showError(`Error loading script: ${err.message}`));\n",
       "    } else {\n",
       "      maybeLoadScript(\"vega\", \"5\")\n",
       "        .then(() => maybeLoadScript(\"vega-lite\", \"5.17.0\"))\n",
       "        .then(() => maybeLoadScript(\"vega-embed\", \"6\"))\n",
       "        .catch(showError)\n",
       "        .then(() => displayChart(vegaEmbed));\n",
       "    }\n",
       "  })({\"$schema\": \"https://vega.github.io/schema/vega/v5.json\", \"data\": [{\"name\": \"data-f610bd9834810d2d4987a10147b9c206\"}, {\"name\": \"source_0\", \"values\": [{\"x\": 0.0, \"y\": 0.0}, {\"x\": 0.010101010101010102, \"y\": 0.010101010101010102}, {\"x\": 0.020202020202020204, \"y\": 0.020202020202020204}, {\"x\": 0.030303030303030304, \"y\": 0.030303030303030304}, {\"x\": 0.04040404040404041, \"y\": 0.04040404040404041}, {\"x\": 0.05050505050505051, \"y\": 0.05050505050505051}, {\"x\": 0.06060606060606061, \"y\": 0.06060606060606061}, {\"x\": 0.07070707070707072, \"y\": 0.07070707070707072}, {\"x\": 0.08080808080808081, \"y\": 0.08080808080808081}, {\"x\": 0.09090909090909091, \"y\": 0.09090909090909091}, {\"x\": 0.10101010101010102, \"y\": 0.10101010101010102}, {\"x\": 0.11111111111111112, \"y\": 0.11111111111111112}, {\"x\": 0.12121212121212122, \"y\": 0.12121212121212122}, {\"x\": 0.13131313131313133, \"y\": 0.13131313131313133}, {\"x\": 0.14141414141414144, \"y\": 0.14141414141414144}, {\"x\": 0.15151515151515152, \"y\": 0.15151515151515152}, {\"x\": 0.16161616161616163, \"y\": 0.16161616161616163}, {\"x\": 0.17171717171717174, \"y\": 0.17171717171717174}, {\"x\": 0.18181818181818182, \"y\": 0.18181818181818182}, {\"x\": 0.19191919191919193, \"y\": 0.19191919191919193}, {\"x\": 0.20202020202020204, \"y\": 0.20202020202020204}, {\"x\": 0.21212121212121213, \"y\": 0.21212121212121213}, {\"x\": 0.22222222222222224, \"y\": 0.22222222222222224}, {\"x\": 0.23232323232323235, \"y\": 0.23232323232323235}, {\"x\": 0.24242424242424243, \"y\": 0.24242424242424243}, {\"x\": 0.25252525252525254, \"y\": 0.25252525252525254}, {\"x\": 0.26262626262626265, \"y\": 0.26262626262626265}, {\"x\": 0.27272727272727276, \"y\": 0.27272727272727276}, {\"x\": 0.2828282828282829, \"y\": 0.2828282828282829}, {\"x\": 0.29292929292929293, \"y\": 0.29292929292929293}, {\"x\": 0.30303030303030304, \"y\": 0.30303030303030304}, {\"x\": 0.31313131313131315, \"y\": 0.31313131313131315}, {\"x\": 0.32323232323232326, \"y\": 0.32323232323232326}, {\"x\": 0.33333333333333337, \"y\": 0.33333333333333337}, {\"x\": 0.3434343434343435, \"y\": 0.3434343434343435}, {\"x\": 0.3535353535353536, \"y\": 0.3535353535353536}, {\"x\": 0.36363636363636365, \"y\": 0.36363636363636365}, {\"x\": 0.37373737373737376, \"y\": 0.37373737373737376}, {\"x\": 0.38383838383838387, \"y\": 0.38383838383838387}, {\"x\": 0.393939393939394, \"y\": 0.393939393939394}, {\"x\": 0.4040404040404041, \"y\": 0.4040404040404041}, {\"x\": 0.4141414141414142, \"y\": 0.4141414141414142}, {\"x\": 0.42424242424242425, \"y\": 0.42424242424242425}, {\"x\": 0.43434343434343436, \"y\": 0.43434343434343436}, {\"x\": 0.4444444444444445, \"y\": 0.4444444444444445}, {\"x\": 0.4545454545454546, \"y\": 0.4545454545454546}, {\"x\": 0.4646464646464647, \"y\": 0.4646464646464647}, {\"x\": 0.4747474747474748, \"y\": 0.4747474747474748}, {\"x\": 0.48484848484848486, \"y\": 0.48484848484848486}, {\"x\": 0.494949494949495, \"y\": 0.494949494949495}, {\"x\": 0.5050505050505051, \"y\": 0.5050505050505051}, {\"x\": 0.5151515151515152, \"y\": 0.5151515151515152}, {\"x\": 0.5252525252525253, \"y\": 0.5252525252525253}, {\"x\": 0.5353535353535354, \"y\": 0.5353535353535354}, {\"x\": 0.5454545454545455, \"y\": 0.5454545454545455}, {\"x\": 0.5555555555555556, \"y\": 0.5555555555555556}, {\"x\": 0.5656565656565657, \"y\": 0.5656565656565657}, {\"x\": 0.5757575757575758, \"y\": 0.5757575757575758}, {\"x\": 0.5858585858585859, \"y\": 0.5858585858585859}, {\"x\": 0.595959595959596, \"y\": 0.595959595959596}, {\"x\": 0.6060606060606061, \"y\": 0.6060606060606061}, {\"x\": 0.6161616161616162, \"y\": 0.6161616161616162}, {\"x\": 0.6262626262626263, \"y\": 0.6262626262626263}, {\"x\": 0.6363636363636365, \"y\": 0.6363636363636365}, {\"x\": 0.6464646464646465, \"y\": 0.6464646464646465}, {\"x\": 0.6565656565656566, \"y\": 0.6565656565656566}, {\"x\": 0.6666666666666667, \"y\": 0.6666666666666667}, {\"x\": 0.6767676767676768, \"y\": 0.6767676767676768}, {\"x\": 0.686868686868687, \"y\": 0.686868686868687}, {\"x\": 0.696969696969697, \"y\": 0.696969696969697}, {\"x\": 0.7070707070707072, \"y\": 0.7070707070707072}, {\"x\": 0.7171717171717172, \"y\": 0.7171717171717172}, {\"x\": 0.7272727272727273, \"y\": 0.7272727272727273}, {\"x\": 0.7373737373737375, \"y\": 0.7373737373737375}, {\"x\": 0.7474747474747475, \"y\": 0.7474747474747475}, {\"x\": 0.7575757575757577, \"y\": 0.7575757575757577}, {\"x\": 0.7676767676767677, \"y\": 0.7676767676767677}, {\"x\": 0.7777777777777778, \"y\": 0.7777777777777778}, {\"x\": 0.787878787878788, \"y\": 0.787878787878788}, {\"x\": 0.797979797979798, \"y\": 0.797979797979798}, {\"x\": 0.8080808080808082, \"y\": 0.8080808080808082}, {\"x\": 0.8181818181818182, \"y\": 0.8181818181818182}, {\"x\": 0.8282828282828284, \"y\": 0.8282828282828284}, {\"x\": 0.8383838383838385, \"y\": 0.8383838383838385}, {\"x\": 0.8484848484848485, \"y\": 0.8484848484848485}, {\"x\": 0.8585858585858587, \"y\": 0.8585858585858587}, {\"x\": 0.8686868686868687, \"y\": 0.8686868686868687}, {\"x\": 0.8787878787878789, \"y\": 0.8787878787878789}, {\"x\": 0.888888888888889, \"y\": 0.888888888888889}, {\"x\": 0.8989898989898991, \"y\": 0.8989898989898991}, {\"x\": 0.9090909090909092, \"y\": 0.9090909090909092}, {\"x\": 0.9191919191919192, \"y\": 0.9191919191919192}, {\"x\": 0.9292929292929294, \"y\": 0.9292929292929294}, {\"x\": 0.9393939393939394, \"y\": 0.9393939393939394}, {\"x\": 0.9494949494949496, \"y\": 0.9494949494949496}, {\"x\": 0.9595959595959597, \"y\": 0.9595959595959597}, {\"x\": 0.9696969696969697, \"y\": 0.9696969696969697}, {\"x\": 0.9797979797979799, \"y\": 0.9797979797979799}, {\"x\": 0.98989898989899, \"y\": 0.98989898989899}, {\"x\": 1.0, \"y\": 1.0}]}, {\"name\": \"data_0\", \"values\": [{\"pred_quant\": 0.47620001435279846, \"station_swe\": 0.5638799999999999}, {\"pred_quant\": 0.42879998683929443, \"station_swe\": 0.39877999999999997}, {\"pred_quant\": 0.5335999727249146, \"station_swe\": 0.58674}, {\"pred_quant\": 0.3889999985694885, \"station_swe\": 0.38608}, {\"pred_quant\": 0.3946000039577484, \"station_swe\": 0.46482}, {\"pred_quant\": 0.7182000279426575, \"station_swe\": 0.75184}, {\"pred_quant\": 0.5148000121116638, \"station_swe\": 0.48005999999999993}, {\"pred_quant\": 0.15700000524520874, \"station_swe\": 0.37084}, {\"pred_quant\": 0.7182000279426575, \"station_swe\": 0.5943599999999999}, {\"pred_quant\": 0.2930000126361847, \"station_swe\": 0.40386}, {\"pred_quant\": 0.3303999900817871, \"station_swe\": 0.43179999999999996}, {\"pred_quant\": 0.5335999727249146, \"station_swe\": 0.5334}, {\"pred_quant\": 0.15700000524520874, \"station_swe\": 0.37846}, {\"pred_quant\": 0.5335999727249146, \"station_swe\": 0.53594}, {\"pred_quant\": 0.4943999946117401, \"station_swe\": 0.6248400000000001}, {\"pred_quant\": 0.3813999891281128, \"station_swe\": 0.37338}, {\"pred_quant\": 0.43540000915527344, \"station_swe\": 0.65024}, {\"pred_quant\": 0.3921999931335449, \"station_swe\": 0.61468}, {\"pred_quant\": 0.4487999975681305, \"station_swe\": 0.39877999999999997}, {\"pred_quant\": 0.5335999727249146, \"station_swe\": 0.78994}, {\"pred_quant\": 0.3303999900817871, \"station_swe\": 0.22097999999999998}, {\"pred_quant\": 0.4246000051498413, \"station_swe\": 0.45974000000000004}, {\"pred_quant\": 0.7581999897956848, \"station_swe\": 0.69342}, {\"pred_quant\": 0.2930000126361847, \"station_swe\": 0.28193999999999997}, {\"pred_quant\": 0.76419997215271, \"station_swe\": 0.64516}, {\"pred_quant\": 0.15700000524520874, \"station_swe\": 0.42672}, {\"pred_quant\": 0.15700000524520874, \"station_swe\": 0.45465999999999995}, {\"pred_quant\": 0.7182000279426575, \"station_swe\": 0.6476999999999999}, {\"pred_quant\": 0.3946000039577484, \"station_swe\": 0.6248400000000001}]}], \"marks\": [{\"type\": \"symbol\", \"name\": \"layer_0_marks\", \"from\": {\"data\": \"data_0\"}, \"encode\": {\"update\": {\"x\": {\"field\": \"station_swe\", \"scale\": \"x\"}, \"opacity\": {\"value\": 0.7}, \"shape\": {\"value\": \"circle\"}, \"fill\": {\"value\": \"#4c78a8\"}, \"y\": {\"field\": \"pred_quant\", \"scale\": \"y\"}}}, \"style\": [\"circle\"]}, {\"type\": \"line\", \"name\": \"layer_1_marks\", \"from\": {\"data\": \"source_0\"}, \"sort\": {\"field\": \"datum[\\\"x\\\"]\"}, \"encode\": {\"update\": {\"defined\": {\"signal\": \"isValid(datum[\\\"x\\\"]) && isFinite(+datum[\\\"x\\\"]) && isValid(datum[\\\"y\\\"]) && isFinite(+datum[\\\"y\\\"])\"}, \"stroke\": {\"value\": \"#808080\"}, \"y\": {\"field\": \"y\", \"scale\": \"y\"}, \"x\": {\"field\": \"x\", \"scale\": \"x\"}}}, \"style\": [\"line\"]}], \"scales\": [{\"name\": \"x\", \"type\": \"linear\", \"domain\": {\"fields\": [{\"data\": \"data_0\", \"field\": \"station_swe\"}, {\"data\": \"source_0\", \"field\": \"x\"}]}, \"range\": [0, {\"signal\": \"width\"}], \"zero\": true, \"nice\": true}, {\"name\": \"y\", \"type\": \"linear\", \"domain\": {\"fields\": [{\"data\": \"data_0\", \"field\": \"pred_quant\"}, {\"data\": \"source_0\", \"field\": \"y\"}]}, \"range\": [{\"signal\": \"height\"}, 0], \"nice\": true, \"zero\": true}], \"axes\": [{\"scale\": \"x\", \"orient\": \"bottom\", \"domain\": false, \"minExtent\": 0, \"zindex\": 0, \"tickCount\": {\"signal\": \"ceil(width/40)\"}, \"gridScale\": \"y\", \"grid\": true, \"labels\": false, \"maxExtent\": 0, \"ticks\": false, \"aria\": false}, {\"scale\": \"y\", \"maxExtent\": 0, \"grid\": true, \"orient\": \"left\", \"domain\": false, \"tickCount\": {\"signal\": \"ceil(height/40)\"}, \"aria\": false, \"ticks\": false, \"gridScale\": \"x\", \"labels\": false, \"minExtent\": 0, \"zindex\": 0}, {\"scale\": \"x\", \"title\": \"Butte SNOTEL SWE (m)\", \"grid\": false, \"orient\": \"bottom\", \"tickCount\": {\"signal\": \"ceil(width/40)\"}, \"zindex\": 0, \"labelFlush\": true, \"labelOverlap\": true}, {\"scale\": \"y\", \"grid\": false, \"orient\": \"left\", \"tickCount\": {\"signal\": \"ceil(height/40)\"}, \"zindex\": 0, \"labelOverlap\": true, \"title\": \"Butte SNOTEL SWE predicted with Schofield Pass Quantile Mapping (m)\"}], \"title\": {\"text\": \"Predicted SWE\", \"frame\": \"group\"}, \"height\": 300, \"padding\": 5, \"background\": \"white\", \"width\": 300, \"style\": \"cell\"}, {\"mode\": \"vega\"});\n",
       "</script>"
      ],
      "text/plain": [
       "alt.LayerChart(...)"
      ]
     },
     "execution_count": 212,
     "metadata": {},
     "output_type": "execute_result"
    }
   ],
   "source": [
    "data2 = {'x': np.linspace(0,1,100),\n",
    "        'y': np.linspace(0,1,100)}\n",
    "df_lin2 = pd.DataFrame(data2)\n",
    "    \n",
    "line2 = alt.Chart(df_lin2).mark_line().encode(\n",
    "    alt.X('x:Q'),\n",
    "    alt.Y('y:Q'),\n",
    "    color=alt.value(\"#808080\")\n",
    ")\n",
    "\n",
    "station_predict = alt.Chart(site1_compare).mark_circle().encode(\n",
    "        x = alt.X('station_swe').title('Butte SNOTEL SWE (m)'), #.axis(values=[-5,-4,-3,-2,-1,0,1,2,3,4,5]),\n",
    "        y = alt.Y('pred_quant').title('Butte SNOTEL SWE predicted with Schofield Pass Quantile Mapping (m)') #.axis(values=[-5,-4,-3,-2,-1,0,1,2,3,4,5]).scale(domain=[-5,5]).scale(domain=[0,2500]),\n",
    "    ).properties(title='Predicted SWE')\n",
    "\n",
    "combined = (station_predict + line2)\n",
    "\n",
    "combined"
   ]
  },
  {
   "cell_type": "code",
   "execution_count": 224,
   "id": "dfa59870-5253-4559-a881-49f2a7e50e72",
   "metadata": {},
   "outputs": [
    {
     "data": {
      "text/plain": [
       "0.05328185442364653"
      ]
     },
     "execution_count": 224,
     "metadata": {},
     "output_type": "execute_result"
    }
   ],
   "source": [
    "site1_compare['difference'] = site1_compare['station_swe'] - site1_compare['pred_quant']\n",
    "df_swe_pred_log['difference'].mean()"
   ]
  },
  {
   "cell_type": "code",
   "execution_count": 225,
   "id": "de33238a-908a-482a-9036-c01d9db80628",
   "metadata": {},
   "outputs": [
    {
     "name": "stdout",
     "output_type": "stream",
     "text": [
      "R value:  0.7013170757802358\n"
     ]
    }
   ],
   "source": [
    "site1_compare_na = site1_compare_na.replace([np.inf, -np.inf], np.nan, inplace=False)\n",
    "site1_compare_na = site1_compare.dropna()\n",
    "print('R value: ', np.corrcoef(site1_compare_na['station_swe'], site1_compare_na['pred_quant'])[0,1])"
   ]
  },
  {
   "cell_type": "markdown",
   "id": "3781bb35-c633-4df5-8614-b4a9ee26d33a",
   "metadata": {},
   "source": [
    "## And with a third site:"
   ]
  },
  {
   "cell_type": "markdown",
   "id": "e49d57bd-9692-4dce-9ddc-9f8f2a2d670e",
   "metadata": {},
   "source": [
    "### Plot Distributions of test sites:"
   ]
  },
  {
   "cell_type": "code",
   "execution_count": 244,
   "id": "33301fe1-e811-4a09-8833-9b21525efaf9",
   "metadata": {},
   "outputs": [],
   "source": [
    "site2 = '780_CO_SNTL'\n",
    "site1 = '327_CO_SNTL'"
   ]
  },
  {
   "cell_type": "code",
   "execution_count": 245,
   "id": "c63e1e2c-43e8-414e-9353-f28d2fe4cebb",
   "metadata": {},
   "outputs": [],
   "source": [
    "swe_real = df.loc[pd.IndexSlice[site1],'station_swe']"
   ]
  },
  {
   "cell_type": "code",
   "execution_count": 246,
   "id": "989a7a9d-115b-4a59-a5c8-49b936a4fd6f",
   "metadata": {},
   "outputs": [
    {
     "data": {
      "text/html": [
       "\n",
       "<style>\n",
       "  #altair-viz-8cd18bc7fcc545ed9ab596b83ce9e1e4.vega-embed {\n",
       "    width: 100%;\n",
       "    display: flex;\n",
       "  }\n",
       "\n",
       "  #altair-viz-8cd18bc7fcc545ed9ab596b83ce9e1e4.vega-embed details,\n",
       "  #altair-viz-8cd18bc7fcc545ed9ab596b83ce9e1e4.vega-embed details summary {\n",
       "    position: relative;\n",
       "  }\n",
       "</style>\n",
       "<div id=\"altair-viz-8cd18bc7fcc545ed9ab596b83ce9e1e4\"></div>\n",
       "<script type=\"text/javascript\">\n",
       "  var VEGA_DEBUG = (typeof VEGA_DEBUG == \"undefined\") ? {} : VEGA_DEBUG;\n",
       "  (function(spec, embedOpt){\n",
       "    let outputDiv = document.currentScript.previousElementSibling;\n",
       "    if (outputDiv.id !== \"altair-viz-8cd18bc7fcc545ed9ab596b83ce9e1e4\") {\n",
       "      outputDiv = document.getElementById(\"altair-viz-8cd18bc7fcc545ed9ab596b83ce9e1e4\");\n",
       "    }\n",
       "    const paths = {\n",
       "      \"vega\": \"https://cdn.jsdelivr.net/npm/vega@5?noext\",\n",
       "      \"vega-lib\": \"https://cdn.jsdelivr.net/npm/vega-lib?noext\",\n",
       "      \"vega-lite\": \"https://cdn.jsdelivr.net/npm/vega-lite@5.17.0?noext\",\n",
       "      \"vega-embed\": \"https://cdn.jsdelivr.net/npm/vega-embed@6?noext\",\n",
       "    };\n",
       "\n",
       "    function maybeLoadScript(lib, version) {\n",
       "      var key = `${lib.replace(\"-\", \"\")}_version`;\n",
       "      return (VEGA_DEBUG[key] == version) ?\n",
       "        Promise.resolve(paths[lib]) :\n",
       "        new Promise(function(resolve, reject) {\n",
       "          var s = document.createElement('script');\n",
       "          document.getElementsByTagName(\"head\")[0].appendChild(s);\n",
       "          s.async = true;\n",
       "          s.onload = () => {\n",
       "            VEGA_DEBUG[key] = version;\n",
       "            return resolve(paths[lib]);\n",
       "          };\n",
       "          s.onerror = () => reject(`Error loading script: ${paths[lib]}`);\n",
       "          s.src = paths[lib];\n",
       "        });\n",
       "    }\n",
       "\n",
       "    function showError(err) {\n",
       "      outputDiv.innerHTML = `<div class=\"error\" style=\"color:red;\">${err}</div>`;\n",
       "      throw err;\n",
       "    }\n",
       "\n",
       "    function displayChart(vegaEmbed) {\n",
       "      vegaEmbed(outputDiv, spec, embedOpt)\n",
       "        .catch(err => showError(`Javascript Error: ${err.message}<br>This usually means there's a typo in your chart specification. See the javascript console for the full traceback.`));\n",
       "    }\n",
       "\n",
       "    if(typeof define === \"function\" && define.amd) {\n",
       "      requirejs.config({paths});\n",
       "      require([\"vega-embed\"], displayChart, err => showError(`Error loading script: ${err.message}`));\n",
       "    } else {\n",
       "      maybeLoadScript(\"vega\", \"5\")\n",
       "        .then(() => maybeLoadScript(\"vega-lite\", \"5.17.0\"))\n",
       "        .then(() => maybeLoadScript(\"vega-embed\", \"6\"))\n",
       "        .catch(showError)\n",
       "        .then(() => displayChart(vegaEmbed));\n",
       "    }\n",
       "  })({\"$schema\": \"https://vega.github.io/schema/vega/v5.json\", \"data\": [{\"name\": \"source_0\", \"values\": [{\"__count\": 5, \"bin_maxbins_7_station_swe\": 0.30000000000000004, \"bin_maxbins_7_station_swe_end\": 0.4}, {\"__count\": 3, \"bin_maxbins_7_station_swe\": 0.6000000000000001, \"bin_maxbins_7_station_swe_end\": 0.7000000000000001}, {\"__count\": 5, \"bin_maxbins_7_station_swe\": 0.4, \"bin_maxbins_7_station_swe_end\": 0.5}, {\"__count\": 3, \"bin_maxbins_7_station_swe\": 0.7, \"bin_maxbins_7_station_swe_end\": 0.7999999999999999}, {\"__count\": 2, \"bin_maxbins_7_station_swe\": 0.9000000000000001, \"bin_maxbins_7_station_swe_end\": 1.0000000000000002}, {\"__count\": 10, \"bin_maxbins_7_station_swe\": 0.5, \"bin_maxbins_7_station_swe_end\": 0.6}, {\"__count\": 3, \"bin_maxbins_7_station_swe\": 0.2, \"bin_maxbins_7_station_swe_end\": 0.30000000000000004}, {\"__count\": 1, \"bin_maxbins_7_station_swe\": 0.8, \"bin_maxbins_7_station_swe_end\": 0.9}]}, {\"name\": \"source_1\", \"values\": [{\"__count\": 8, \"bin_maxbins_7_log_station_swe\": -1.0, \"bin_maxbins_7_log_station_swe_end\": -0.8}, {\"__count\": 6, \"bin_maxbins_7_log_station_swe\": -0.6000000000000001, \"bin_maxbins_7_log_station_swe_end\": -0.4000000000000001}, {\"__count\": 4, \"bin_maxbins_7_log_station_swe\": -0.40000000000000013, \"bin_maxbins_7_log_station_swe_end\": -0.20000000000000012}, {\"__count\": 7, \"bin_maxbins_7_log_station_swe\": -0.8, \"bin_maxbins_7_log_station_swe_end\": -0.6000000000000001}, {\"__count\": 3, \"bin_maxbins_7_log_station_swe\": -0.19999999999999996, \"bin_maxbins_7_log_station_swe_end\": 5.551115123125783e-17}, {\"__count\": 3, \"bin_maxbins_7_log_station_swe\": -1.4000000000000001, \"bin_maxbins_7_log_station_swe_end\": -1.2000000000000002}, {\"__count\": 1, \"bin_maxbins_7_log_station_swe\": -1.2000000000000002, \"bin_maxbins_7_log_station_swe_end\": -1.0000000000000002}]}, {\"name\": \"source_0_concat_0_y_domain___count\", \"values\": [{\"min\": 1, \"max\": 10}]}, {\"name\": \"source_1_concat_1_y_domain___count\", \"values\": [{\"min\": 1, \"max\": 8}]}], \"signals\": [{\"name\": \"concat_0_bin_maxbins_7_station_swe_bins\", \"value\": {\"fields\": [\"station_swe\"], \"fname\": \"bin_station_swe\", \"start\": 0.2, \"step\": 0.1, \"stop\": 1.0}}, {\"name\": \"concat_1_bin_maxbins_7_log_station_swe_bins\", \"value\": {\"fields\": [\"log_station_swe\"], \"fname\": \"bin_log_station_swe\", \"start\": -1.4000000000000001, \"step\": 0.2, \"stop\": -0.0}}, {\"name\": \"childWidth\", \"value\": 200}], \"marks\": [{\"type\": \"group\", \"name\": \"concat_0_group\", \"encode\": {\"update\": {\"width\": {\"signal\": \"childWidth\"}, \"height\": {\"signal\": \"height\"}}}, \"marks\": [{\"type\": \"rect\", \"name\": \"concat_0_marks\", \"from\": {\"data\": \"source_0\"}, \"encode\": {\"update\": {\"fill\": {\"value\": \"#4c78a8\"}, \"x2\": {\"field\": \"bin_maxbins_7_station_swe\", \"scale\": \"concat_0_x\", \"offset\": {\"signal\": \"0.5 + (abs(scale(\\\"concat_0_x\\\", datum[\\\"bin_maxbins_7_station_swe_end\\\"]) - scale(\\\"concat_0_x\\\", datum[\\\"bin_maxbins_7_station_swe\\\"])) < 0.25 ? -0.5 * (0.25 - (abs(scale(\\\"concat_0_x\\\", datum[\\\"bin_maxbins_7_station_swe_end\\\"]) - scale(\\\"concat_0_x\\\", datum[\\\"bin_maxbins_7_station_swe\\\"])))) : 0.5)\"}}, \"y\": {\"field\": \"__count\", \"scale\": \"concat_0_y\"}, \"y2\": {\"value\": 0, \"scale\": \"concat_0_y\"}, \"x\": {\"field\": \"bin_maxbins_7_station_swe_end\", \"scale\": \"concat_0_x\", \"offset\": {\"signal\": \"0.5 + (abs(scale(\\\"concat_0_x\\\", datum[\\\"bin_maxbins_7_station_swe_end\\\"]) - scale(\\\"concat_0_x\\\", datum[\\\"bin_maxbins_7_station_swe\\\"])) < 0.25 ? 0.5 * (0.25 - (abs(scale(\\\"concat_0_x\\\", datum[\\\"bin_maxbins_7_station_swe_end\\\"]) - scale(\\\"concat_0_x\\\", datum[\\\"bin_maxbins_7_station_swe\\\"])))) : -0.5)\"}}}}, \"style\": [\"bar\"]}], \"axes\": [{\"scale\": \"concat_0_y\", \"orient\": \"left\", \"labels\": false, \"gridScale\": \"concat_0_x\", \"minExtent\": 0, \"domain\": false, \"tickCount\": {\"signal\": \"ceil(height/40)\"}, \"ticks\": false, \"maxExtent\": 0, \"zindex\": 0, \"grid\": true, \"aria\": false}, {\"scale\": \"concat_0_x\", \"orient\": \"bottom\", \"title\": \"station_swe (binned)\", \"labelOverlap\": true, \"tickCount\": {\"signal\": \"ceil(childWidth/10)\"}, \"zindex\": 0, \"labelFlush\": true, \"grid\": false}, {\"scale\": \"concat_0_y\", \"zindex\": 0, \"tickCount\": {\"signal\": \"ceil(height/40)\"}, \"orient\": \"left\", \"grid\": false, \"title\": \"Count of Records\", \"labelOverlap\": true}], \"title\": {\"text\": \"Untransformed SWE\", \"frame\": \"group\"}, \"style\": \"cell\"}, {\"type\": \"group\", \"name\": \"concat_1_group\", \"encode\": {\"update\": {\"height\": {\"signal\": \"height\"}, \"width\": {\"signal\": \"childWidth\"}}}, \"marks\": [{\"type\": \"rect\", \"name\": \"concat_1_marks\", \"from\": {\"data\": \"source_1\"}, \"encode\": {\"update\": {\"x\": {\"field\": \"bin_maxbins_7_log_station_swe_end\", \"scale\": \"concat_1_x\", \"offset\": {\"signal\": \"0.5 + (abs(scale(\\\"concat_1_x\\\", datum[\\\"bin_maxbins_7_log_station_swe_end\\\"]) - scale(\\\"concat_1_x\\\", datum[\\\"bin_maxbins_7_log_station_swe\\\"])) < 0.25 ? 0.5 * (0.25 - (abs(scale(\\\"concat_1_x\\\", datum[\\\"bin_maxbins_7_log_station_swe_end\\\"]) - scale(\\\"concat_1_x\\\", datum[\\\"bin_maxbins_7_log_station_swe\\\"])))) : -0.5)\"}}, \"y2\": {\"value\": 0, \"scale\": \"concat_1_y\"}, \"y\": {\"field\": \"__count\", \"scale\": \"concat_1_y\"}, \"fill\": {\"value\": \"#4c78a8\"}, \"x2\": {\"field\": \"bin_maxbins_7_log_station_swe\", \"scale\": \"concat_1_x\", \"offset\": {\"signal\": \"0.5 + (abs(scale(\\\"concat_1_x\\\", datum[\\\"bin_maxbins_7_log_station_swe_end\\\"]) - scale(\\\"concat_1_x\\\", datum[\\\"bin_maxbins_7_log_station_swe\\\"])) < 0.25 ? -0.5 * (0.25 - (abs(scale(\\\"concat_1_x\\\", datum[\\\"bin_maxbins_7_log_station_swe_end\\\"]) - scale(\\\"concat_1_x\\\", datum[\\\"bin_maxbins_7_log_station_swe\\\"])))) : 0.5)\"}}}}, \"style\": [\"bar\"]}], \"axes\": [{\"scale\": \"concat_1_y\", \"gridScale\": \"concat_1_x\", \"aria\": false, \"tickCount\": {\"signal\": \"ceil(height/40)\"}, \"maxExtent\": 0, \"minExtent\": 0, \"domain\": false, \"grid\": true, \"zindex\": 0, \"ticks\": false, \"labels\": false, \"orient\": \"left\"}, {\"scale\": \"concat_1_x\", \"labelFlush\": true, \"tickCount\": {\"signal\": \"ceil(childWidth/10)\"}, \"zindex\": 0, \"orient\": \"bottom\", \"title\": \"log_station_swe (binned)\", \"labelOverlap\": true, \"grid\": false}, {\"scale\": \"concat_1_y\", \"labelOverlap\": true, \"tickCount\": {\"signal\": \"ceil(height/40)\"}, \"zindex\": 0, \"grid\": false, \"orient\": \"left\", \"title\": \"Count of Records\"}], \"title\": {\"text\": \"Natural Log of SWE\", \"frame\": \"group\"}, \"style\": \"cell\"}], \"scales\": [{\"name\": \"concat_0_x\", \"type\": \"linear\", \"domain\": {\"signal\": \"[concat_0_bin_maxbins_7_station_swe_bins.start, concat_0_bin_maxbins_7_station_swe_bins.stop]\"}, \"range\": [0, {\"signal\": \"childWidth\"}], \"bins\": {\"signal\": \"concat_0_bin_maxbins_7_station_swe_bins\"}, \"zero\": false}, {\"name\": \"concat_0_y\", \"type\": \"linear\", \"domain\": [{\"signal\": \"(data(\\\"source_0_concat_0_y_domain___count\\\")[0] || {}).min\"}, {\"signal\": \"(data(\\\"source_0_concat_0_y_domain___count\\\")[0] || {}).max\"}], \"range\": [{\"signal\": \"height\"}, 0], \"nice\": true, \"zero\": true}, {\"name\": \"concat_1_x\", \"type\": \"linear\", \"domain\": {\"signal\": \"[concat_1_bin_maxbins_7_log_station_swe_bins.start, concat_1_bin_maxbins_7_log_station_swe_bins.stop]\"}, \"range\": [0, {\"signal\": \"childWidth\"}], \"bins\": {\"signal\": \"concat_1_bin_maxbins_7_log_station_swe_bins\"}, \"zero\": false}, {\"name\": \"concat_1_y\", \"type\": \"linear\", \"domain\": [{\"signal\": \"(data(\\\"source_1_concat_1_y_domain___count\\\")[0] || {}).min\"}, {\"signal\": \"(data(\\\"source_1_concat_1_y_domain___count\\\")[0] || {}).max\"}], \"range\": [{\"signal\": \"height\"}, 0], \"zero\": true, \"nice\": true}], \"background\": \"white\", \"layout\": {\"padding\": 20, \"bounds\": \"full\", \"align\": \"each\"}, \"padding\": 5, \"height\": 200}, {\"mode\": \"vega\"});\n",
       "</script>"
      ],
      "text/plain": [
       "alt.HConcatChart(...)"
      ]
     },
     "execution_count": 246,
     "metadata": {},
     "output_type": "execute_result"
    }
   ],
   "source": [
    "df_reset = df.loc[pd.IndexSlice[site1]]\n",
    "site1_unt= alt.Chart(df_reset[['station_swe']]).mark_bar().encode(\n",
    "    alt.X(\"station_swe:Q\").bin(maxbins=7),\n",
    "    y='count()',\n",
    ").properties(title='Untransformed SWE',width=200,height=200)\n",
    "\n",
    "df_reset = df.loc[pd.IndexSlice[site1]]\n",
    "site1_ln = alt.Chart(df_reset[['log_station_swe']].replace([np.inf, -np.inf], np.nan, inplace=False)).mark_bar().encode(\n",
    "    alt.X(\"log_station_swe:Q\").bin(maxbins=7),\n",
    "    y='count()',\n",
    ").properties(title='Natural Log of SWE',width=200,height=200)\n",
    "\n",
    "combined = alt.hconcat(site1_unt, site1_ln)\n",
    "combined"
   ]
  },
  {
   "cell_type": "code",
   "execution_count": 247,
   "id": "5578f71d-785e-418c-8195-da581581961f",
   "metadata": {},
   "outputs": [
    {
     "data": {
      "text/html": [
       "\n",
       "<style>\n",
       "  #altair-viz-76ad5b582a6b4e7fab6f1908844f4491.vega-embed {\n",
       "    width: 100%;\n",
       "    display: flex;\n",
       "  }\n",
       "\n",
       "  #altair-viz-76ad5b582a6b4e7fab6f1908844f4491.vega-embed details,\n",
       "  #altair-viz-76ad5b582a6b4e7fab6f1908844f4491.vega-embed details summary {\n",
       "    position: relative;\n",
       "  }\n",
       "</style>\n",
       "<div id=\"altair-viz-76ad5b582a6b4e7fab6f1908844f4491\"></div>\n",
       "<script type=\"text/javascript\">\n",
       "  var VEGA_DEBUG = (typeof VEGA_DEBUG == \"undefined\") ? {} : VEGA_DEBUG;\n",
       "  (function(spec, embedOpt){\n",
       "    let outputDiv = document.currentScript.previousElementSibling;\n",
       "    if (outputDiv.id !== \"altair-viz-76ad5b582a6b4e7fab6f1908844f4491\") {\n",
       "      outputDiv = document.getElementById(\"altair-viz-76ad5b582a6b4e7fab6f1908844f4491\");\n",
       "    }\n",
       "    const paths = {\n",
       "      \"vega\": \"https://cdn.jsdelivr.net/npm/vega@5?noext\",\n",
       "      \"vega-lib\": \"https://cdn.jsdelivr.net/npm/vega-lib?noext\",\n",
       "      \"vega-lite\": \"https://cdn.jsdelivr.net/npm/vega-lite@5.17.0?noext\",\n",
       "      \"vega-embed\": \"https://cdn.jsdelivr.net/npm/vega-embed@6?noext\",\n",
       "    };\n",
       "\n",
       "    function maybeLoadScript(lib, version) {\n",
       "      var key = `${lib.replace(\"-\", \"\")}_version`;\n",
       "      return (VEGA_DEBUG[key] == version) ?\n",
       "        Promise.resolve(paths[lib]) :\n",
       "        new Promise(function(resolve, reject) {\n",
       "          var s = document.createElement('script');\n",
       "          document.getElementsByTagName(\"head\")[0].appendChild(s);\n",
       "          s.async = true;\n",
       "          s.onload = () => {\n",
       "            VEGA_DEBUG[key] = version;\n",
       "            return resolve(paths[lib]);\n",
       "          };\n",
       "          s.onerror = () => reject(`Error loading script: ${paths[lib]}`);\n",
       "          s.src = paths[lib];\n",
       "        });\n",
       "    }\n",
       "\n",
       "    function showError(err) {\n",
       "      outputDiv.innerHTML = `<div class=\"error\" style=\"color:red;\">${err}</div>`;\n",
       "      throw err;\n",
       "    }\n",
       "\n",
       "    function displayChart(vegaEmbed) {\n",
       "      vegaEmbed(outputDiv, spec, embedOpt)\n",
       "        .catch(err => showError(`Javascript Error: ${err.message}<br>This usually means there's a typo in your chart specification. See the javascript console for the full traceback.`));\n",
       "    }\n",
       "\n",
       "    if(typeof define === \"function\" && define.amd) {\n",
       "      requirejs.config({paths});\n",
       "      require([\"vega-embed\"], displayChart, err => showError(`Error loading script: ${err.message}`));\n",
       "    } else {\n",
       "      maybeLoadScript(\"vega\", \"5\")\n",
       "        .then(() => maybeLoadScript(\"vega-lite\", \"5.17.0\"))\n",
       "        .then(() => maybeLoadScript(\"vega-embed\", \"6\"))\n",
       "        .catch(showError)\n",
       "        .then(() => displayChart(vegaEmbed));\n",
       "    }\n",
       "  })({\"$schema\": \"https://vega.github.io/schema/vega/v5.json\", \"data\": [{\"name\": \"source_0\", \"values\": [{\"__count\": 7, \"bin_maxbins_7_station_swe\": 0.2, \"bin_maxbins_7_station_swe_end\": 0.4}, {\"__count\": 7, \"bin_maxbins_7_station_swe\": 0.6000000000000001, \"bin_maxbins_7_station_swe_end\": 0.8}, {\"__count\": 2, \"bin_maxbins_7_station_swe\": 1.0, \"bin_maxbins_7_station_swe_end\": 1.2}, {\"__count\": 13, \"bin_maxbins_7_station_swe\": 0.4, \"bin_maxbins_7_station_swe_end\": 0.6000000000000001}, {\"__count\": 3, \"bin_maxbins_7_station_swe\": 0.8, \"bin_maxbins_7_station_swe_end\": 1.0}]}, {\"name\": \"source_1\", \"values\": [{\"__count\": 6, \"bin_maxbins_7_log_station_swe\": -1.5, \"bin_maxbins_7_log_station_swe_end\": -1.0}, {\"__count\": 9, \"bin_maxbins_7_log_station_swe\": -0.5, \"bin_maxbins_7_log_station_swe_end\": 0.0}, {\"__count\": 2, \"bin_maxbins_7_log_station_swe\": 0.0, \"bin_maxbins_7_log_station_swe_end\": 0.5}, {\"__count\": 15, \"bin_maxbins_7_log_station_swe\": -1.0, \"bin_maxbins_7_log_station_swe_end\": -0.5}]}, {\"name\": \"source_0_concat_0_y_domain___count\", \"values\": [{\"min\": 2, \"max\": 13}]}, {\"name\": \"source_1_concat_1_y_domain___count\", \"values\": [{\"min\": 2, \"max\": 15}]}], \"signals\": [{\"name\": \"concat_0_bin_maxbins_7_station_swe_bins\", \"value\": {\"fields\": [\"station_swe\"], \"fname\": \"bin_station_swe\", \"start\": 0.2, \"step\": 0.2, \"stop\": 1.2000000000000002}}, {\"name\": \"concat_1_bin_maxbins_7_log_station_swe_bins\", \"value\": {\"fields\": [\"log_station_swe\"], \"fname\": \"bin_log_station_swe\", \"start\": -1.5, \"step\": 0.5, \"stop\": 0.5}}, {\"name\": \"childWidth\", \"value\": 200}], \"marks\": [{\"type\": \"group\", \"name\": \"concat_0_group\", \"encode\": {\"update\": {\"width\": {\"signal\": \"childWidth\"}, \"height\": {\"signal\": \"height\"}}}, \"marks\": [{\"type\": \"rect\", \"name\": \"concat_0_marks\", \"from\": {\"data\": \"source_0\"}, \"encode\": {\"update\": {\"y\": {\"field\": \"__count\", \"scale\": \"concat_0_y\"}, \"y2\": {\"value\": 0, \"scale\": \"concat_0_y\"}, \"fill\": {\"value\": \"#4c78a8\"}, \"x2\": {\"field\": \"bin_maxbins_7_station_swe\", \"scale\": \"concat_0_x\", \"offset\": {\"signal\": \"0.5 + (abs(scale(\\\"concat_0_x\\\", datum[\\\"bin_maxbins_7_station_swe_end\\\"]) - scale(\\\"concat_0_x\\\", datum[\\\"bin_maxbins_7_station_swe\\\"])) < 0.25 ? -0.5 * (0.25 - (abs(scale(\\\"concat_0_x\\\", datum[\\\"bin_maxbins_7_station_swe_end\\\"]) - scale(\\\"concat_0_x\\\", datum[\\\"bin_maxbins_7_station_swe\\\"])))) : 0.5)\"}}, \"x\": {\"field\": \"bin_maxbins_7_station_swe_end\", \"scale\": \"concat_0_x\", \"offset\": {\"signal\": \"0.5 + (abs(scale(\\\"concat_0_x\\\", datum[\\\"bin_maxbins_7_station_swe_end\\\"]) - scale(\\\"concat_0_x\\\", datum[\\\"bin_maxbins_7_station_swe\\\"])) < 0.25 ? 0.5 * (0.25 - (abs(scale(\\\"concat_0_x\\\", datum[\\\"bin_maxbins_7_station_swe_end\\\"]) - scale(\\\"concat_0_x\\\", datum[\\\"bin_maxbins_7_station_swe\\\"])))) : -0.5)\"}}}}, \"style\": [\"bar\"]}], \"axes\": [{\"scale\": \"concat_0_y\", \"zindex\": 0, \"minExtent\": 0, \"tickCount\": {\"signal\": \"ceil(height/40)\"}, \"orient\": \"left\", \"maxExtent\": 0, \"grid\": true, \"gridScale\": \"concat_0_x\", \"domain\": false, \"labels\": false, \"aria\": false, \"ticks\": false}, {\"scale\": \"concat_0_x\", \"tickCount\": {\"signal\": \"ceil(childWidth/10)\"}, \"title\": \"station_swe (binned)\", \"labelFlush\": true, \"grid\": false, \"labelOverlap\": true, \"zindex\": 0, \"orient\": \"bottom\"}, {\"scale\": \"concat_0_y\", \"grid\": false, \"title\": \"Count of Records\", \"zindex\": 0, \"labelOverlap\": true, \"orient\": \"left\", \"tickCount\": {\"signal\": \"ceil(height/40)\"}}], \"title\": {\"text\": \"Untransformed SWE\", \"frame\": \"group\"}, \"style\": \"cell\"}, {\"type\": \"group\", \"name\": \"concat_1_group\", \"encode\": {\"update\": {\"height\": {\"signal\": \"height\"}, \"width\": {\"signal\": \"childWidth\"}}}, \"marks\": [{\"type\": \"rect\", \"name\": \"concat_1_marks\", \"from\": {\"data\": \"source_1\"}, \"encode\": {\"update\": {\"x2\": {\"field\": \"bin_maxbins_7_log_station_swe\", \"scale\": \"concat_1_x\", \"offset\": {\"signal\": \"0.5 + (abs(scale(\\\"concat_1_x\\\", datum[\\\"bin_maxbins_7_log_station_swe_end\\\"]) - scale(\\\"concat_1_x\\\", datum[\\\"bin_maxbins_7_log_station_swe\\\"])) < 0.25 ? -0.5 * (0.25 - (abs(scale(\\\"concat_1_x\\\", datum[\\\"bin_maxbins_7_log_station_swe_end\\\"]) - scale(\\\"concat_1_x\\\", datum[\\\"bin_maxbins_7_log_station_swe\\\"])))) : 0.5)\"}}, \"y\": {\"field\": \"__count\", \"scale\": \"concat_1_y\"}, \"y2\": {\"value\": 0, \"scale\": \"concat_1_y\"}, \"x\": {\"field\": \"bin_maxbins_7_log_station_swe_end\", \"scale\": \"concat_1_x\", \"offset\": {\"signal\": \"0.5 + (abs(scale(\\\"concat_1_x\\\", datum[\\\"bin_maxbins_7_log_station_swe_end\\\"]) - scale(\\\"concat_1_x\\\", datum[\\\"bin_maxbins_7_log_station_swe\\\"])) < 0.25 ? 0.5 * (0.25 - (abs(scale(\\\"concat_1_x\\\", datum[\\\"bin_maxbins_7_log_station_swe_end\\\"]) - scale(\\\"concat_1_x\\\", datum[\\\"bin_maxbins_7_log_station_swe\\\"])))) : -0.5)\"}}, \"fill\": {\"value\": \"#4c78a8\"}}}, \"style\": [\"bar\"]}], \"axes\": [{\"scale\": \"concat_1_y\", \"grid\": true, \"labels\": false, \"maxExtent\": 0, \"minExtent\": 0, \"ticks\": false, \"gridScale\": \"concat_1_x\", \"tickCount\": {\"signal\": \"ceil(height/40)\"}, \"domain\": false, \"zindex\": 0, \"orient\": \"left\", \"aria\": false}, {\"scale\": \"concat_1_x\", \"tickCount\": {\"signal\": \"ceil(childWidth/10)\"}, \"title\": \"log_station_swe (binned)\", \"zindex\": 0, \"labelFlush\": true, \"orient\": \"bottom\", \"labelOverlap\": true, \"grid\": false}, {\"scale\": \"concat_1_y\", \"grid\": false, \"labelOverlap\": true, \"tickCount\": {\"signal\": \"ceil(height/40)\"}, \"zindex\": 0, \"orient\": \"left\", \"title\": \"Count of Records\"}], \"title\": {\"text\": \"Natural Log of SWE\", \"frame\": \"group\"}, \"style\": \"cell\"}], \"scales\": [{\"name\": \"concat_0_x\", \"type\": \"linear\", \"domain\": {\"signal\": \"[concat_0_bin_maxbins_7_station_swe_bins.start, concat_0_bin_maxbins_7_station_swe_bins.stop]\"}, \"range\": [0, {\"signal\": \"childWidth\"}], \"bins\": {\"signal\": \"concat_0_bin_maxbins_7_station_swe_bins\"}, \"zero\": false}, {\"name\": \"concat_0_y\", \"type\": \"linear\", \"domain\": [{\"signal\": \"(data(\\\"source_0_concat_0_y_domain___count\\\")[0] || {}).min\"}, {\"signal\": \"(data(\\\"source_0_concat_0_y_domain___count\\\")[0] || {}).max\"}], \"range\": [{\"signal\": \"height\"}, 0], \"nice\": true, \"zero\": true}, {\"name\": \"concat_1_x\", \"type\": \"linear\", \"domain\": {\"signal\": \"[concat_1_bin_maxbins_7_log_station_swe_bins.start, concat_1_bin_maxbins_7_log_station_swe_bins.stop]\"}, \"range\": [0, {\"signal\": \"childWidth\"}], \"bins\": {\"signal\": \"concat_1_bin_maxbins_7_log_station_swe_bins\"}, \"zero\": false}, {\"name\": \"concat_1_y\", \"type\": \"linear\", \"domain\": [{\"signal\": \"(data(\\\"source_1_concat_1_y_domain___count\\\")[0] || {}).min\"}, {\"signal\": \"(data(\\\"source_1_concat_1_y_domain___count\\\")[0] || {}).max\"}], \"range\": [{\"signal\": \"height\"}, 0], \"nice\": true, \"zero\": true}], \"background\": \"white\", \"layout\": {\"padding\": 20, \"bounds\": \"full\", \"align\": \"each\"}, \"padding\": 5, \"height\": 200}, {\"mode\": \"vega\"});\n",
       "</script>"
      ],
      "text/plain": [
       "alt.HConcatChart(...)"
      ]
     },
     "execution_count": 247,
     "metadata": {},
     "output_type": "execute_result"
    }
   ],
   "source": [
    "df_reset = df.loc[pd.IndexSlice[site2]]\n",
    "site2_unt= alt.Chart(df_reset[['station_swe']]).mark_bar().encode(\n",
    "    alt.X(\"station_swe:Q\").bin(maxbins=7),\n",
    "    y='count()',\n",
    ").properties(title='Untransformed SWE',width=200,height=200)\n",
    "\n",
    "df_reset = df.loc[pd.IndexSlice[site2]]\n",
    "site2_ln = alt.Chart(df_reset[['log_station_swe']].replace([np.inf, -np.inf], np.nan, inplace=False)).mark_bar().encode(\n",
    "    alt.X(\"log_station_swe:Q\").bin(maxbins=7),\n",
    "    y='count()',\n",
    ").properties(title='Natural Log of SWE',width=200,height=200)\n",
    "\n",
    "combined = alt.hconcat(site2_unt, site2_ln)\n",
    "combined"
   ]
  },
  {
   "cell_type": "markdown",
   "id": "f5c7b431-cf2e-47d8-a90b-0745f4660879",
   "metadata": {},
   "source": [
    "### Predict SWE at Butte using untransformed data from Schofield Pass:"
   ]
  },
  {
   "cell_type": "code",
   "execution_count": 248,
   "id": "14f863d9-9a9a-4bdb-bc99-c6d1da885223",
   "metadata": {},
   "outputs": [],
   "source": [
    "swe_pred = (df.loc[pd.IndexSlice[site2],'station_n'] * df.loc[pd.IndexSlice[site1],'reanalysis_swe'].std()) + df.loc[pd.IndexSlice[site1],'reanalysis_swe'].mean()"
   ]
  },
  {
   "cell_type": "code",
   "execution_count": 249,
   "id": "871bbc88-3d0a-4cce-8ba9-b0fd0b0b5434",
   "metadata": {},
   "outputs": [],
   "source": [
    "df_swe_pred = pd.DataFrame(swe_real)"
   ]
  },
  {
   "cell_type": "code",
   "execution_count": 250,
   "id": "ba7c7556-902f-410f-97ae-fd7f734c3a91",
   "metadata": {},
   "outputs": [],
   "source": [
    "df_swe_pred['swe_pred'] = swe_pred"
   ]
  },
  {
   "cell_type": "code",
   "execution_count": 251,
   "id": "e39d0073-3da5-455f-b32c-18816617cef6",
   "metadata": {},
   "outputs": [],
   "source": [
    "df_swe_pred['difference'] = df_swe_pred['station_swe'] - df_swe_pred['swe_pred']"
   ]
  },
  {
   "cell_type": "code",
   "execution_count": 252,
   "id": "bab43d72-aa28-4910-ac40-01efef209643",
   "metadata": {},
   "outputs": [
    {
     "data": {
      "text/plain": [
       "0.013424382820129343"
      ]
     },
     "execution_count": 252,
     "metadata": {},
     "output_type": "execute_result"
    }
   ],
   "source": [
    "df_swe_pred['difference'].mean()"
   ]
  },
  {
   "cell_type": "code",
   "execution_count": 253,
   "id": "8a48550b-49e3-4e09-b29f-bce7368f93ce",
   "metadata": {},
   "outputs": [
    {
     "data": {
      "text/html": [
       "\n",
       "<style>\n",
       "  #altair-viz-af94611cd6fe497386de1086a3c624fe.vega-embed {\n",
       "    width: 100%;\n",
       "    display: flex;\n",
       "  }\n",
       "\n",
       "  #altair-viz-af94611cd6fe497386de1086a3c624fe.vega-embed details,\n",
       "  #altair-viz-af94611cd6fe497386de1086a3c624fe.vega-embed details summary {\n",
       "    position: relative;\n",
       "  }\n",
       "</style>\n",
       "<div id=\"altair-viz-af94611cd6fe497386de1086a3c624fe\"></div>\n",
       "<script type=\"text/javascript\">\n",
       "  var VEGA_DEBUG = (typeof VEGA_DEBUG == \"undefined\") ? {} : VEGA_DEBUG;\n",
       "  (function(spec, embedOpt){\n",
       "    let outputDiv = document.currentScript.previousElementSibling;\n",
       "    if (outputDiv.id !== \"altair-viz-af94611cd6fe497386de1086a3c624fe\") {\n",
       "      outputDiv = document.getElementById(\"altair-viz-af94611cd6fe497386de1086a3c624fe\");\n",
       "    }\n",
       "    const paths = {\n",
       "      \"vega\": \"https://cdn.jsdelivr.net/npm/vega@5?noext\",\n",
       "      \"vega-lib\": \"https://cdn.jsdelivr.net/npm/vega-lib?noext\",\n",
       "      \"vega-lite\": \"https://cdn.jsdelivr.net/npm/vega-lite@5.17.0?noext\",\n",
       "      \"vega-embed\": \"https://cdn.jsdelivr.net/npm/vega-embed@6?noext\",\n",
       "    };\n",
       "\n",
       "    function maybeLoadScript(lib, version) {\n",
       "      var key = `${lib.replace(\"-\", \"\")}_version`;\n",
       "      return (VEGA_DEBUG[key] == version) ?\n",
       "        Promise.resolve(paths[lib]) :\n",
       "        new Promise(function(resolve, reject) {\n",
       "          var s = document.createElement('script');\n",
       "          document.getElementsByTagName(\"head\")[0].appendChild(s);\n",
       "          s.async = true;\n",
       "          s.onload = () => {\n",
       "            VEGA_DEBUG[key] = version;\n",
       "            return resolve(paths[lib]);\n",
       "          };\n",
       "          s.onerror = () => reject(`Error loading script: ${paths[lib]}`);\n",
       "          s.src = paths[lib];\n",
       "        });\n",
       "    }\n",
       "\n",
       "    function showError(err) {\n",
       "      outputDiv.innerHTML = `<div class=\"error\" style=\"color:red;\">${err}</div>`;\n",
       "      throw err;\n",
       "    }\n",
       "\n",
       "    function displayChart(vegaEmbed) {\n",
       "      vegaEmbed(outputDiv, spec, embedOpt)\n",
       "        .catch(err => showError(`Javascript Error: ${err.message}<br>This usually means there's a typo in your chart specification. See the javascript console for the full traceback.`));\n",
       "    }\n",
       "\n",
       "    if(typeof define === \"function\" && define.amd) {\n",
       "      requirejs.config({paths});\n",
       "      require([\"vega-embed\"], displayChart, err => showError(`Error loading script: ${err.message}`));\n",
       "    } else {\n",
       "      maybeLoadScript(\"vega\", \"5\")\n",
       "        .then(() => maybeLoadScript(\"vega-lite\", \"5.17.0\"))\n",
       "        .then(() => maybeLoadScript(\"vega-embed\", \"6\"))\n",
       "        .catch(showError)\n",
       "        .then(() => displayChart(vegaEmbed));\n",
       "    }\n",
       "  })({\"$schema\": \"https://vega.github.io/schema/vega/v5.json\", \"data\": [{\"name\": \"source_1\", \"values\": [{\"x\": 0.0, \"y\": 0.0}, {\"x\": 0.010101010101010102, \"y\": 0.010101010101010102}, {\"x\": 0.020202020202020204, \"y\": 0.020202020202020204}, {\"x\": 0.030303030303030304, \"y\": 0.030303030303030304}, {\"x\": 0.04040404040404041, \"y\": 0.04040404040404041}, {\"x\": 0.05050505050505051, \"y\": 0.05050505050505051}, {\"x\": 0.06060606060606061, \"y\": 0.06060606060606061}, {\"x\": 0.07070707070707072, \"y\": 0.07070707070707072}, {\"x\": 0.08080808080808081, \"y\": 0.08080808080808081}, {\"x\": 0.09090909090909091, \"y\": 0.09090909090909091}, {\"x\": 0.10101010101010102, \"y\": 0.10101010101010102}, {\"x\": 0.11111111111111112, \"y\": 0.11111111111111112}, {\"x\": 0.12121212121212122, \"y\": 0.12121212121212122}, {\"x\": 0.13131313131313133, \"y\": 0.13131313131313133}, {\"x\": 0.14141414141414144, \"y\": 0.14141414141414144}, {\"x\": 0.15151515151515152, \"y\": 0.15151515151515152}, {\"x\": 0.16161616161616163, \"y\": 0.16161616161616163}, {\"x\": 0.17171717171717174, \"y\": 0.17171717171717174}, {\"x\": 0.18181818181818182, \"y\": 0.18181818181818182}, {\"x\": 0.19191919191919193, \"y\": 0.19191919191919193}, {\"x\": 0.20202020202020204, \"y\": 0.20202020202020204}, {\"x\": 0.21212121212121213, \"y\": 0.21212121212121213}, {\"x\": 0.22222222222222224, \"y\": 0.22222222222222224}, {\"x\": 0.23232323232323235, \"y\": 0.23232323232323235}, {\"x\": 0.24242424242424243, \"y\": 0.24242424242424243}, {\"x\": 0.25252525252525254, \"y\": 0.25252525252525254}, {\"x\": 0.26262626262626265, \"y\": 0.26262626262626265}, {\"x\": 0.27272727272727276, \"y\": 0.27272727272727276}, {\"x\": 0.2828282828282829, \"y\": 0.2828282828282829}, {\"x\": 0.29292929292929293, \"y\": 0.29292929292929293}, {\"x\": 0.30303030303030304, \"y\": 0.30303030303030304}, {\"x\": 0.31313131313131315, \"y\": 0.31313131313131315}, {\"x\": 0.32323232323232326, \"y\": 0.32323232323232326}, {\"x\": 0.33333333333333337, \"y\": 0.33333333333333337}, {\"x\": 0.3434343434343435, \"y\": 0.3434343434343435}, {\"x\": 0.3535353535353536, \"y\": 0.3535353535353536}, {\"x\": 0.36363636363636365, \"y\": 0.36363636363636365}, {\"x\": 0.37373737373737376, \"y\": 0.37373737373737376}, {\"x\": 0.38383838383838387, \"y\": 0.38383838383838387}, {\"x\": 0.393939393939394, \"y\": 0.393939393939394}, {\"x\": 0.4040404040404041, \"y\": 0.4040404040404041}, {\"x\": 0.4141414141414142, \"y\": 0.4141414141414142}, {\"x\": 0.42424242424242425, \"y\": 0.42424242424242425}, {\"x\": 0.43434343434343436, \"y\": 0.43434343434343436}, {\"x\": 0.4444444444444445, \"y\": 0.4444444444444445}, {\"x\": 0.4545454545454546, \"y\": 0.4545454545454546}, {\"x\": 0.4646464646464647, \"y\": 0.4646464646464647}, {\"x\": 0.4747474747474748, \"y\": 0.4747474747474748}, {\"x\": 0.48484848484848486, \"y\": 0.48484848484848486}, {\"x\": 0.494949494949495, \"y\": 0.494949494949495}, {\"x\": 0.5050505050505051, \"y\": 0.5050505050505051}, {\"x\": 0.5151515151515152, \"y\": 0.5151515151515152}, {\"x\": 0.5252525252525253, \"y\": 0.5252525252525253}, {\"x\": 0.5353535353535354, \"y\": 0.5353535353535354}, {\"x\": 0.5454545454545455, \"y\": 0.5454545454545455}, {\"x\": 0.5555555555555556, \"y\": 0.5555555555555556}, {\"x\": 0.5656565656565657, \"y\": 0.5656565656565657}, {\"x\": 0.5757575757575758, \"y\": 0.5757575757575758}, {\"x\": 0.5858585858585859, \"y\": 0.5858585858585859}, {\"x\": 0.595959595959596, \"y\": 0.595959595959596}, {\"x\": 0.6060606060606061, \"y\": 0.6060606060606061}, {\"x\": 0.6161616161616162, \"y\": 0.6161616161616162}, {\"x\": 0.6262626262626263, \"y\": 0.6262626262626263}, {\"x\": 0.6363636363636365, \"y\": 0.6363636363636365}, {\"x\": 0.6464646464646465, \"y\": 0.6464646464646465}, {\"x\": 0.6565656565656566, \"y\": 0.6565656565656566}, {\"x\": 0.6666666666666667, \"y\": 0.6666666666666667}, {\"x\": 0.6767676767676768, \"y\": 0.6767676767676768}, {\"x\": 0.686868686868687, \"y\": 0.686868686868687}, {\"x\": 0.696969696969697, \"y\": 0.696969696969697}, {\"x\": 0.7070707070707072, \"y\": 0.7070707070707072}, {\"x\": 0.7171717171717172, \"y\": 0.7171717171717172}, {\"x\": 0.7272727272727273, \"y\": 0.7272727272727273}, {\"x\": 0.7373737373737375, \"y\": 0.7373737373737375}, {\"x\": 0.7474747474747475, \"y\": 0.7474747474747475}, {\"x\": 0.7575757575757577, \"y\": 0.7575757575757577}, {\"x\": 0.7676767676767677, \"y\": 0.7676767676767677}, {\"x\": 0.7777777777777778, \"y\": 0.7777777777777778}, {\"x\": 0.787878787878788, \"y\": 0.787878787878788}, {\"x\": 0.797979797979798, \"y\": 0.797979797979798}, {\"x\": 0.8080808080808082, \"y\": 0.8080808080808082}, {\"x\": 0.8181818181818182, \"y\": 0.8181818181818182}, {\"x\": 0.8282828282828284, \"y\": 0.8282828282828284}, {\"x\": 0.8383838383838385, \"y\": 0.8383838383838385}, {\"x\": 0.8484848484848485, \"y\": 0.8484848484848485}, {\"x\": 0.8585858585858587, \"y\": 0.8585858585858587}, {\"x\": 0.8686868686868687, \"y\": 0.8686868686868687}, {\"x\": 0.8787878787878789, \"y\": 0.8787878787878789}, {\"x\": 0.888888888888889, \"y\": 0.888888888888889}, {\"x\": 0.8989898989898991, \"y\": 0.8989898989898991}, {\"x\": 0.9090909090909092, \"y\": 0.9090909090909092}, {\"x\": 0.9191919191919192, \"y\": 0.9191919191919192}, {\"x\": 0.9292929292929294, \"y\": 0.9292929292929294}, {\"x\": 0.9393939393939394, \"y\": 0.9393939393939394}, {\"x\": 0.9494949494949496, \"y\": 0.9494949494949496}, {\"x\": 0.9595959595959597, \"y\": 0.9595959595959597}, {\"x\": 0.9696969696969697, \"y\": 0.9696969696969697}, {\"x\": 0.9797979797979799, \"y\": 0.9797979797979799}, {\"x\": 0.98989898989899, \"y\": 0.98989898989899}, {\"x\": 1.0, \"y\": 1.0}]}, {\"name\": \"source_0\", \"values\": [{\"station_swe\": 0.38862, \"swe_pred\": 0.3209774541246956}, {\"station_swe\": 0.61976, \"swe_pred\": 0.6394600605440993}, {\"station_swe\": 0.42164, \"swe_pred\": 0.5797445718404611}, {\"station_swe\": 0.70612, \"swe_pred\": 0.8882745968092586}, {\"station_swe\": 0.43942, \"swe_pred\": 0.48187752090949854}, {\"station_swe\": 0.7797799999999999, \"swe_pred\": 0.7854312551529927}, {\"station_swe\": 0.45974000000000004, \"swe_pred\": 0.4769012301841953}, {\"station_swe\": 0.9220199999999998, \"swe_pred\": 0.5996497347416739}, {\"station_swe\": 0.5054599999999999, \"swe_pred\": 0.5216878467119239}, {\"station_swe\": 0.37846, \"swe_pred\": 0.36078777992712097}, {\"station_swe\": 0.55626, \"swe_pred\": 0.48187752090949854}, {\"station_swe\": 0.6908799999999999, \"swe_pred\": 0.5283229010123283}, {\"station_swe\": 0.24892, \"swe_pred\": 0.28614341904757323}, {\"station_swe\": 0.4064, \"swe_pred\": 0.4586548308580837}, {\"station_swe\": 0.52324, \"swe_pred\": 0.47358370303399316}, {\"station_swe\": 0.94488, \"swe_pred\": 0.7937250730284979}, {\"station_swe\": 0.4064, \"swe_pred\": 0.4586548308580837}, {\"station_swe\": 0.37338, \"swe_pred\": 0.3889867607038391}, {\"station_swe\": 0.70866, \"swe_pred\": 0.6925404949473334}, {\"station_swe\": 0.56642, \"swe_pred\": 0.5250053738621261}, {\"station_swe\": 0.54102, \"swe_pred\": 0.548228063913541}, {\"station_swe\": 0.5638799999999999, \"swe_pred\": 0.5996497347416739}, {\"station_swe\": 0.29717999999999994, \"swe_pred\": 0.3508351984765147}, {\"station_swe\": 0.38354, \"swe_pred\": 0.45036101298257836}, {\"station_swe\": 0.5054599999999999, \"swe_pred\": 0.495147629510307}, {\"station_swe\": 0.29717999999999994, \"swe_pred\": 0.3375650898757062}, {\"station_swe\": 0.5206999999999999, \"swe_pred\": 0.4370909043817699}, {\"station_swe\": 0.6578599999999999, \"swe_pred\": 0.6344837698187962}, {\"station_swe\": 0.33527999999999997, \"swe_pred\": 0.33093003557530193}, {\"station_swe\": 0.87376, \"swe_pred\": 0.7572322743762747}, {\"station_swe\": 0.57912, \"swe_pred\": 0.5216878467119239}, {\"station_swe\": 0.51054, \"swe_pred\": 0.4769012301841953}]}], \"marks\": [{\"type\": \"symbol\", \"name\": \"layer_0_marks\", \"from\": {\"data\": \"source_0\"}, \"encode\": {\"update\": {\"y\": {\"field\": \"swe_pred\", \"scale\": \"y\"}, \"opacity\": {\"value\": 0.7}, \"shape\": {\"value\": \"circle\"}, \"fill\": {\"value\": \"#4c78a8\"}, \"x\": {\"field\": \"station_swe\", \"scale\": \"x\"}}}, \"style\": [\"circle\"]}, {\"type\": \"line\", \"name\": \"layer_1_marks\", \"from\": {\"data\": \"source_1\"}, \"sort\": {\"field\": \"datum[\\\"x\\\"]\"}, \"encode\": {\"update\": {\"defined\": {\"signal\": \"isValid(datum[\\\"x\\\"]) && isFinite(+datum[\\\"x\\\"]) && isValid(datum[\\\"y\\\"]) && isFinite(+datum[\\\"y\\\"])\"}, \"y\": {\"field\": \"y\", \"scale\": \"y\"}, \"stroke\": {\"value\": \"#808080\"}, \"x\": {\"field\": \"x\", \"scale\": \"x\"}}}, \"style\": [\"line\"]}], \"scales\": [{\"name\": \"x\", \"type\": \"linear\", \"domain\": {\"fields\": [{\"data\": \"source_0\", \"field\": \"station_swe\"}, {\"data\": \"source_1\", \"field\": \"x\"}]}, \"range\": [0, {\"signal\": \"width\"}], \"zero\": true, \"nice\": true}, {\"name\": \"y\", \"type\": \"linear\", \"domain\": {\"fields\": [{\"data\": \"source_0\", \"field\": \"swe_pred\"}, {\"data\": \"source_1\", \"field\": \"y\"}]}, \"range\": [{\"signal\": \"height\"}, 0], \"zero\": true, \"nice\": true}], \"axes\": [{\"scale\": \"x\", \"aria\": false, \"zindex\": 0, \"labels\": false, \"orient\": \"bottom\", \"tickCount\": {\"signal\": \"ceil(width/40)\"}, \"grid\": true, \"ticks\": false, \"minExtent\": 0, \"maxExtent\": 0, \"gridScale\": \"y\", \"domain\": false}, {\"scale\": \"y\", \"aria\": false, \"ticks\": false, \"orient\": \"left\", \"gridScale\": \"x\", \"domain\": false, \"zindex\": 0, \"tickCount\": {\"signal\": \"ceil(height/40)\"}, \"grid\": true, \"labels\": false, \"maxExtent\": 0, \"minExtent\": 0}, {\"scale\": \"x\", \"labelFlush\": true, \"labelOverlap\": true, \"tickCount\": {\"signal\": \"ceil(width/40)\"}, \"orient\": \"bottom\", \"zindex\": 0, \"grid\": false, \"title\": \"Butte SNOTEL SWE (m)\"}, {\"scale\": \"y\", \"labelOverlap\": true, \"tickCount\": {\"signal\": \"ceil(height/40)\"}, \"grid\": false, \"title\": \"Butte SNOTEL SWE predicted with Schofield Pass SNVs (m)\", \"zindex\": 0, \"orient\": \"left\"}], \"title\": {\"text\": \"Predicted SWE from Untransformed Values\", \"frame\": \"group\"}, \"padding\": 5, \"width\": 300, \"height\": 300, \"background\": \"white\", \"style\": \"cell\"}, {\"mode\": \"vega\"});\n",
       "</script>"
      ],
      "text/plain": [
       "alt.LayerChart(...)"
      ]
     },
     "execution_count": 253,
     "metadata": {},
     "output_type": "execute_result"
    }
   ],
   "source": [
    "data2 = {'x': np.linspace(0,1,100),\n",
    "        'y': np.linspace(0,1,100)}\n",
    "df_lin2 = pd.DataFrame(data2)\n",
    "    \n",
    "line2 = alt.Chart(df_lin2).mark_line().encode(\n",
    "    alt.X('x:Q'),\n",
    "    alt.Y('y:Q'),\n",
    "    color=alt.value(\"#808080\")\n",
    ")\n",
    "\n",
    "station_predict = alt.Chart(df_swe_pred).mark_circle().encode(\n",
    "        x = alt.X('station_swe').title('Butte SNOTEL SWE (m)'), #.axis(values=[-5,-4,-3,-2,-1,0,1,2,3,4,5]),\n",
    "        y = alt.Y('swe_pred').title('Butte SNOTEL SWE predicted with Schofield Pass SNVs (m)') #.axis(values=[-5,-4,-3,-2,-1,0,1,2,3,4,5]).scale(domain=[-5,5]).scale(domain=[0,2500]),\n",
    "    ).properties(title='Predicted SWE from Untransformed Values')\n",
    "\n",
    "annotation = alt.Chart(df_swe_pred).mark_text(\n",
    "    align='left',\n",
    "    baseline='middle',\n",
    "    fontSize = 20\n",
    ").encode(\n",
    "    text='A'\n",
    ")\n",
    "\n",
    "# text = base.mark_text(baseline=\"middle\").encode(\n",
    "#     text=\"num_cars:Q\",\n",
    "#     color=alt.condition(\n",
    "#         alt.datum.num_cars > 100,\n",
    "#         alt.value(\"black\"),\n",
    "#         alt.value(\"white\"),\n",
    "#     ),\n",
    "# )\n",
    "\n",
    "combined = (station_predict + line2 ) #+ annotation\n",
    "#combined.save('../figures/swe_predicted.png')\n",
    "combined"
   ]
  },
  {
   "cell_type": "code",
   "execution_count": 254,
   "id": "00db4740-1ac3-40eb-afdc-1dd9dc575e52",
   "metadata": {},
   "outputs": [
    {
     "name": "stdout",
     "output_type": "stream",
     "text": [
      "R value:  0.8565852797223394\n"
     ]
    }
   ],
   "source": [
    "print('R value: ', np.corrcoef(df_swe_pred['station_swe'], df_swe_pred['swe_pred'])[0,1])"
   ]
  },
  {
   "cell_type": "markdown",
   "id": "672e6d12-c114-4a6c-8e4a-0a71acc6f809",
   "metadata": {},
   "source": [
    "### Predict SWE using log values:"
   ]
  },
  {
   "cell_type": "code",
   "execution_count": 256,
   "id": "1cf830d2-7a7a-40c9-a7f8-b8167afe2cd0",
   "metadata": {},
   "outputs": [],
   "source": [
    "site2 = '780_CO_SNTL'\n",
    "site1 = '327_CO_SNTL'"
   ]
  },
  {
   "cell_type": "code",
   "execution_count": 257,
   "id": "46ef5464-26c0-4a3a-905c-c0992ab92983",
   "metadata": {},
   "outputs": [],
   "source": [
    "swe_real = df.loc[pd.IndexSlice[site1],'station_swe']"
   ]
  },
  {
   "cell_type": "code",
   "execution_count": 258,
   "id": "496b8280-ec8b-4dad-8420-5d0ccbc40b55",
   "metadata": {},
   "outputs": [
    {
     "data": {
      "text/plain": [
       "year\n",
       "1990   -0.622875\n",
       "1991   -0.399881\n",
       "1992   -0.454760\n",
       "1993   -0.410377\n",
       "1994   -0.783510\n",
       "1995   -0.305167\n",
       "1996   -0.956592\n",
       "1997   -0.434791\n",
       "1998   -0.251800\n",
       "1999   -0.877551\n",
       "2000   -0.469684\n",
       "2001   -0.602210\n",
       "2002   -1.048109\n",
       "2003   -0.455076\n",
       "2004   -0.614336\n",
       "2005   -0.690750\n",
       "2006   -0.735220\n",
       "2007   -0.801178\n",
       "2008   -0.421899\n",
       "2009   -0.995875\n",
       "2010   -0.981897\n",
       "2011   -0.758860\n",
       "2012   -0.476424\n",
       "2013   -1.439695\n",
       "2014   -0.820981\n",
       "2015   -1.066532\n",
       "2016   -1.148854\n",
       "2017   -0.633370\n",
       "2018   -1.302689\n",
       "2019   -0.302999\n",
       "2020   -0.383606\n",
       "2021   -0.543005\n",
       "Name: log_reanalysis_swe, dtype: float32"
      ]
     },
     "execution_count": 258,
     "metadata": {},
     "output_type": "execute_result"
    }
   ],
   "source": [
    "df.loc[pd.IndexSlice[site1],'log_reanalysis_swe']"
   ]
  },
  {
   "cell_type": "code",
   "execution_count": 259,
   "id": "6587f332-4bbb-4acf-b6ba-64bd2e567f77",
   "metadata": {},
   "outputs": [],
   "source": [
    "swe_pred_log = (df.loc[pd.IndexSlice[site2],'log_station_n'] * df.loc[pd.IndexSlice[site1],'log_reanalysis_swe'].replace([np.inf, -np.inf], np.nan, inplace=False).std()) + df.loc[pd.IndexSlice[site1],'log_reanalysis_swe'].replace([np.inf, -np.inf], np.nan, inplace=False).mean()"
   ]
  },
  {
   "cell_type": "code",
   "execution_count": 260,
   "id": "8af6c13a-b0e6-4f12-9cc4-e413ab4bc375",
   "metadata": {},
   "outputs": [],
   "source": [
    "df_swe_pred_log = pd.DataFrame(swe_real)"
   ]
  },
  {
   "cell_type": "code",
   "execution_count": 261,
   "id": "8e0bd289-a2a5-4c21-b284-62ed98d39496",
   "metadata": {},
   "outputs": [],
   "source": [
    "df_swe_pred_log['swe_pred_log'] = swe_pred_log"
   ]
  },
  {
   "cell_type": "code",
   "execution_count": 262,
   "id": "3aedab18-b97f-4293-bef1-98c0eea8d6d8",
   "metadata": {},
   "outputs": [],
   "source": [
    "df_swe_pred_log['swe_pred_log_trans'] = math.e**df_swe_pred_log['swe_pred_log']"
   ]
  },
  {
   "cell_type": "code",
   "execution_count": 263,
   "id": "3b806939-8af4-4aee-b609-a57f4e86be24",
   "metadata": {},
   "outputs": [],
   "source": [
    "df_swe_pred_log['difference'] = df_swe_pred_log['station_swe'] - df_swe_pred_log['swe_pred_log_trans']"
   ]
  },
  {
   "cell_type": "code",
   "execution_count": 264,
   "id": "3dc134b8-1ad0-4c93-b5b5-d780af4bf36a",
   "metadata": {},
   "outputs": [
    {
     "data": {
      "text/plain": [
       "0.012508787427824682"
      ]
     },
     "execution_count": 264,
     "metadata": {},
     "output_type": "execute_result"
    }
   ],
   "source": [
    "df_swe_pred_log['difference'].mean()"
   ]
  },
  {
   "cell_type": "code",
   "execution_count": 265,
   "id": "a1ab0025-8bcd-441f-9cb3-0429784b9c43",
   "metadata": {},
   "outputs": [
    {
     "data": {
      "text/html": [
       "\n",
       "<style>\n",
       "  #altair-viz-79e83b64ed054a7fb430c7183bf44431.vega-embed {\n",
       "    width: 100%;\n",
       "    display: flex;\n",
       "  }\n",
       "\n",
       "  #altair-viz-79e83b64ed054a7fb430c7183bf44431.vega-embed details,\n",
       "  #altair-viz-79e83b64ed054a7fb430c7183bf44431.vega-embed details summary {\n",
       "    position: relative;\n",
       "  }\n",
       "</style>\n",
       "<div id=\"altair-viz-79e83b64ed054a7fb430c7183bf44431\"></div>\n",
       "<script type=\"text/javascript\">\n",
       "  var VEGA_DEBUG = (typeof VEGA_DEBUG == \"undefined\") ? {} : VEGA_DEBUG;\n",
       "  (function(spec, embedOpt){\n",
       "    let outputDiv = document.currentScript.previousElementSibling;\n",
       "    if (outputDiv.id !== \"altair-viz-79e83b64ed054a7fb430c7183bf44431\") {\n",
       "      outputDiv = document.getElementById(\"altair-viz-79e83b64ed054a7fb430c7183bf44431\");\n",
       "    }\n",
       "    const paths = {\n",
       "      \"vega\": \"https://cdn.jsdelivr.net/npm/vega@5?noext\",\n",
       "      \"vega-lib\": \"https://cdn.jsdelivr.net/npm/vega-lib?noext\",\n",
       "      \"vega-lite\": \"https://cdn.jsdelivr.net/npm/vega-lite@5.17.0?noext\",\n",
       "      \"vega-embed\": \"https://cdn.jsdelivr.net/npm/vega-embed@6?noext\",\n",
       "    };\n",
       "\n",
       "    function maybeLoadScript(lib, version) {\n",
       "      var key = `${lib.replace(\"-\", \"\")}_version`;\n",
       "      return (VEGA_DEBUG[key] == version) ?\n",
       "        Promise.resolve(paths[lib]) :\n",
       "        new Promise(function(resolve, reject) {\n",
       "          var s = document.createElement('script');\n",
       "          document.getElementsByTagName(\"head\")[0].appendChild(s);\n",
       "          s.async = true;\n",
       "          s.onload = () => {\n",
       "            VEGA_DEBUG[key] = version;\n",
       "            return resolve(paths[lib]);\n",
       "          };\n",
       "          s.onerror = () => reject(`Error loading script: ${paths[lib]}`);\n",
       "          s.src = paths[lib];\n",
       "        });\n",
       "    }\n",
       "\n",
       "    function showError(err) {\n",
       "      outputDiv.innerHTML = `<div class=\"error\" style=\"color:red;\">${err}</div>`;\n",
       "      throw err;\n",
       "    }\n",
       "\n",
       "    function displayChart(vegaEmbed) {\n",
       "      vegaEmbed(outputDiv, spec, embedOpt)\n",
       "        .catch(err => showError(`Javascript Error: ${err.message}<br>This usually means there's a typo in your chart specification. See the javascript console for the full traceback.`));\n",
       "    }\n",
       "\n",
       "    if(typeof define === \"function\" && define.amd) {\n",
       "      requirejs.config({paths});\n",
       "      require([\"vega-embed\"], displayChart, err => showError(`Error loading script: ${err.message}`));\n",
       "    } else {\n",
       "      maybeLoadScript(\"vega\", \"5\")\n",
       "        .then(() => maybeLoadScript(\"vega-lite\", \"5.17.0\"))\n",
       "        .then(() => maybeLoadScript(\"vega-embed\", \"6\"))\n",
       "        .catch(showError)\n",
       "        .then(() => displayChart(vegaEmbed));\n",
       "    }\n",
       "  })({\"$schema\": \"https://vega.github.io/schema/vega/v5.json\", \"data\": [{\"name\": \"source_1\", \"values\": [{\"x\": 0.0, \"y\": 0.0}, {\"x\": 0.010101010101010102, \"y\": 0.010101010101010102}, {\"x\": 0.020202020202020204, \"y\": 0.020202020202020204}, {\"x\": 0.030303030303030304, \"y\": 0.030303030303030304}, {\"x\": 0.04040404040404041, \"y\": 0.04040404040404041}, {\"x\": 0.05050505050505051, \"y\": 0.05050505050505051}, {\"x\": 0.06060606060606061, \"y\": 0.06060606060606061}, {\"x\": 0.07070707070707072, \"y\": 0.07070707070707072}, {\"x\": 0.08080808080808081, \"y\": 0.08080808080808081}, {\"x\": 0.09090909090909091, \"y\": 0.09090909090909091}, {\"x\": 0.10101010101010102, \"y\": 0.10101010101010102}, {\"x\": 0.11111111111111112, \"y\": 0.11111111111111112}, {\"x\": 0.12121212121212122, \"y\": 0.12121212121212122}, {\"x\": 0.13131313131313133, \"y\": 0.13131313131313133}, {\"x\": 0.14141414141414144, \"y\": 0.14141414141414144}, {\"x\": 0.15151515151515152, \"y\": 0.15151515151515152}, {\"x\": 0.16161616161616163, \"y\": 0.16161616161616163}, {\"x\": 0.17171717171717174, \"y\": 0.17171717171717174}, {\"x\": 0.18181818181818182, \"y\": 0.18181818181818182}, {\"x\": 0.19191919191919193, \"y\": 0.19191919191919193}, {\"x\": 0.20202020202020204, \"y\": 0.20202020202020204}, {\"x\": 0.21212121212121213, \"y\": 0.21212121212121213}, {\"x\": 0.22222222222222224, \"y\": 0.22222222222222224}, {\"x\": 0.23232323232323235, \"y\": 0.23232323232323235}, {\"x\": 0.24242424242424243, \"y\": 0.24242424242424243}, {\"x\": 0.25252525252525254, \"y\": 0.25252525252525254}, {\"x\": 0.26262626262626265, \"y\": 0.26262626262626265}, {\"x\": 0.27272727272727276, \"y\": 0.27272727272727276}, {\"x\": 0.2828282828282829, \"y\": 0.2828282828282829}, {\"x\": 0.29292929292929293, \"y\": 0.29292929292929293}, {\"x\": 0.30303030303030304, \"y\": 0.30303030303030304}, {\"x\": 0.31313131313131315, \"y\": 0.31313131313131315}, {\"x\": 0.32323232323232326, \"y\": 0.32323232323232326}, {\"x\": 0.33333333333333337, \"y\": 0.33333333333333337}, {\"x\": 0.3434343434343435, \"y\": 0.3434343434343435}, {\"x\": 0.3535353535353536, \"y\": 0.3535353535353536}, {\"x\": 0.36363636363636365, \"y\": 0.36363636363636365}, {\"x\": 0.37373737373737376, \"y\": 0.37373737373737376}, {\"x\": 0.38383838383838387, \"y\": 0.38383838383838387}, {\"x\": 0.393939393939394, \"y\": 0.393939393939394}, {\"x\": 0.4040404040404041, \"y\": 0.4040404040404041}, {\"x\": 0.4141414141414142, \"y\": 0.4141414141414142}, {\"x\": 0.42424242424242425, \"y\": 0.42424242424242425}, {\"x\": 0.43434343434343436, \"y\": 0.43434343434343436}, {\"x\": 0.4444444444444445, \"y\": 0.4444444444444445}, {\"x\": 0.4545454545454546, \"y\": 0.4545454545454546}, {\"x\": 0.4646464646464647, \"y\": 0.4646464646464647}, {\"x\": 0.4747474747474748, \"y\": 0.4747474747474748}, {\"x\": 0.48484848484848486, \"y\": 0.48484848484848486}, {\"x\": 0.494949494949495, \"y\": 0.494949494949495}, {\"x\": 0.5050505050505051, \"y\": 0.5050505050505051}, {\"x\": 0.5151515151515152, \"y\": 0.5151515151515152}, {\"x\": 0.5252525252525253, \"y\": 0.5252525252525253}, {\"x\": 0.5353535353535354, \"y\": 0.5353535353535354}, {\"x\": 0.5454545454545455, \"y\": 0.5454545454545455}, {\"x\": 0.5555555555555556, \"y\": 0.5555555555555556}, {\"x\": 0.5656565656565657, \"y\": 0.5656565656565657}, {\"x\": 0.5757575757575758, \"y\": 0.5757575757575758}, {\"x\": 0.5858585858585859, \"y\": 0.5858585858585859}, {\"x\": 0.595959595959596, \"y\": 0.595959595959596}, {\"x\": 0.6060606060606061, \"y\": 0.6060606060606061}, {\"x\": 0.6161616161616162, \"y\": 0.6161616161616162}, {\"x\": 0.6262626262626263, \"y\": 0.6262626262626263}, {\"x\": 0.6363636363636365, \"y\": 0.6363636363636365}, {\"x\": 0.6464646464646465, \"y\": 0.6464646464646465}, {\"x\": 0.6565656565656566, \"y\": 0.6565656565656566}, {\"x\": 0.6666666666666667, \"y\": 0.6666666666666667}, {\"x\": 0.6767676767676768, \"y\": 0.6767676767676768}, {\"x\": 0.686868686868687, \"y\": 0.686868686868687}, {\"x\": 0.696969696969697, \"y\": 0.696969696969697}, {\"x\": 0.7070707070707072, \"y\": 0.7070707070707072}, {\"x\": 0.7171717171717172, \"y\": 0.7171717171717172}, {\"x\": 0.7272727272727273, \"y\": 0.7272727272727273}, {\"x\": 0.7373737373737375, \"y\": 0.7373737373737375}, {\"x\": 0.7474747474747475, \"y\": 0.7474747474747475}, {\"x\": 0.7575757575757577, \"y\": 0.7575757575757577}, {\"x\": 0.7676767676767677, \"y\": 0.7676767676767677}, {\"x\": 0.7777777777777778, \"y\": 0.7777777777777778}, {\"x\": 0.787878787878788, \"y\": 0.787878787878788}, {\"x\": 0.797979797979798, \"y\": 0.797979797979798}, {\"x\": 0.8080808080808082, \"y\": 0.8080808080808082}, {\"x\": 0.8181818181818182, \"y\": 0.8181818181818182}, {\"x\": 0.8282828282828284, \"y\": 0.8282828282828284}, {\"x\": 0.8383838383838385, \"y\": 0.8383838383838385}, {\"x\": 0.8484848484848485, \"y\": 0.8484848484848485}, {\"x\": 0.8585858585858587, \"y\": 0.8585858585858587}, {\"x\": 0.8686868686868687, \"y\": 0.8686868686868687}, {\"x\": 0.8787878787878789, \"y\": 0.8787878787878789}, {\"x\": 0.888888888888889, \"y\": 0.888888888888889}, {\"x\": 0.8989898989898991, \"y\": 0.8989898989898991}, {\"x\": 0.9090909090909092, \"y\": 0.9090909090909092}, {\"x\": 0.9191919191919192, \"y\": 0.9191919191919192}, {\"x\": 0.9292929292929294, \"y\": 0.9292929292929294}, {\"x\": 0.9393939393939394, \"y\": 0.9393939393939394}, {\"x\": 0.9494949494949496, \"y\": 0.9494949494949496}, {\"x\": 0.9595959595959597, \"y\": 0.9595959595959597}, {\"x\": 0.9696969696969697, \"y\": 0.9696969696969697}, {\"x\": 0.9797979797979799, \"y\": 0.9797979797979799}, {\"x\": 0.98989898989899, \"y\": 0.98989898989899}, {\"x\": 1.0, \"y\": 1.0}]}, {\"name\": \"source_0\", \"values\": [{\"station_swe\": 0.38862, \"swe_pred_log_trans\": 0.2995724013709153}, {\"station_swe\": 0.61976, \"swe_pred_log_trans\": 0.6504134664189003}, {\"station_swe\": 0.42164, \"swe_pred_log_trans\": 0.5896578000249592}, {\"station_swe\": 0.70612, \"swe_pred_log_trans\": 0.8888316348086645}, {\"station_swe\": 0.43942, \"swe_pred_log_trans\": 0.4860050390026745}, {\"station_swe\": 0.7797799999999999, \"swe_pred_log_trans\": 0.7927703062437992}, {\"station_swe\": 0.45974000000000004, \"swe_pred_log_trans\": 0.48057562189658953}, {\"station_swe\": 0.9220199999999998, \"swe_pred_log_trans\": 0.6100970501201449}, {\"station_swe\": 0.5054599999999999, \"swe_pred_log_trans\": 0.5288525524111685}, {\"station_swe\": 0.37846, \"swe_pred_log_trans\": 0.34818306377768576}, {\"station_swe\": 0.55626, \"swe_pred_log_trans\": 0.4860050390026745}, {\"station_swe\": 0.6908799999999999, \"swe_pred_log_trans\": 0.535897809218645}, {\"station_swe\": 0.24892, \"swe_pred_log_trans\": 0.2551442270396299}, {\"station_swe\": 0.4064, \"swe_pred_log_trans\": 0.4605175422049477}, {\"station_swe\": 0.52324, \"swe_pred_log_trans\": 0.4769464304663365}, {\"station_swe\": 0.94488, \"swe_pred_log_trans\": 0.8006344031380624}, {\"station_swe\": 0.4064, \"swe_pred_log_trans\": 0.4605175422049477}, {\"station_swe\": 0.37338, \"swe_pred_log_trans\": 0.3814795232627279}, {\"station_swe\": 0.70866, \"swe_pred_log_trans\": 0.7031057304175363}, {\"station_swe\": 0.56642, \"swe_pred_log_trans\": 0.5323784530665929}, {\"station_swe\": 0.54102, \"swe_pred_log_trans\": 0.5568801782773606}, {\"station_swe\": 0.5638799999999999, \"swe_pred_log_trans\": 0.6100970501201449}, {\"station_swe\": 0.29717999999999994, \"swe_pred_log_trans\": 0.3362188819976025}, {\"station_swe\": 0.38354, \"swe_pred_log_trans\": 0.45131913752940334}, {\"station_swe\": 0.5054599999999999, \"swe_pred_log_trans\": 0.5004012693240079}, {\"station_swe\": 0.29717999999999994, \"swe_pred_log_trans\": 0.3200775499158002}, {\"station_swe\": 0.5206999999999999, \"swe_pred_log_trans\": 0.43649084145582673}, {\"station_swe\": 0.6578599999999999, \"swe_pred_log_trans\": 0.6454130314800537}, {\"station_swe\": 0.33527999999999997, \"swe_pred_log_trans\": 0.3119210624749847}, {\"station_swe\": 0.87376, \"swe_pred_log_trans\": 0.7658659893290641}, {\"station_swe\": 0.57912, \"swe_pred_log_trans\": 0.5288525524111685}, {\"station_swe\": 0.51054, \"swe_pred_log_trans\": 0.48057562189658953}]}], \"marks\": [{\"type\": \"symbol\", \"name\": \"layer_0_marks\", \"from\": {\"data\": \"source_0\"}, \"encode\": {\"update\": {\"shape\": {\"value\": \"circle\"}, \"x\": {\"field\": \"station_swe\", \"scale\": \"x\"}, \"y\": {\"field\": \"swe_pred_log_trans\", \"scale\": \"y\"}, \"fill\": {\"value\": \"#4c78a8\"}, \"opacity\": {\"value\": 0.7}}}, \"style\": [\"circle\"]}, {\"type\": \"line\", \"name\": \"layer_1_marks\", \"from\": {\"data\": \"source_1\"}, \"sort\": {\"field\": \"datum[\\\"x\\\"]\"}, \"encode\": {\"update\": {\"defined\": {\"signal\": \"isValid(datum[\\\"x\\\"]) && isFinite(+datum[\\\"x\\\"]) && isValid(datum[\\\"y\\\"]) && isFinite(+datum[\\\"y\\\"])\"}, \"y\": {\"field\": \"y\", \"scale\": \"y\"}, \"stroke\": {\"value\": \"#808080\"}, \"x\": {\"field\": \"x\", \"scale\": \"x\"}}}, \"style\": [\"line\"]}], \"scales\": [{\"name\": \"x\", \"type\": \"linear\", \"domain\": {\"fields\": [{\"data\": \"source_0\", \"field\": \"station_swe\"}, {\"data\": \"source_1\", \"field\": \"x\"}]}, \"range\": [0, {\"signal\": \"width\"}], \"zero\": true, \"nice\": true}, {\"name\": \"y\", \"type\": \"linear\", \"domain\": {\"fields\": [{\"data\": \"source_0\", \"field\": \"swe_pred_log_trans\"}, {\"data\": \"source_1\", \"field\": \"y\"}]}, \"range\": [{\"signal\": \"height\"}, 0], \"zero\": true, \"nice\": true}], \"axes\": [{\"scale\": \"x\", \"gridScale\": \"y\", \"maxExtent\": 0, \"domain\": false, \"minExtent\": 0, \"orient\": \"bottom\", \"aria\": false, \"zindex\": 0, \"tickCount\": {\"signal\": \"ceil(width/40)\"}, \"grid\": true, \"labels\": false, \"ticks\": false}, {\"scale\": \"y\", \"domain\": false, \"grid\": true, \"ticks\": false, \"zindex\": 0, \"gridScale\": \"x\", \"tickCount\": {\"signal\": \"ceil(height/40)\"}, \"labels\": false, \"maxExtent\": 0, \"aria\": false, \"orient\": \"left\", \"minExtent\": 0}, {\"scale\": \"x\", \"zindex\": 0, \"orient\": \"bottom\", \"grid\": false, \"tickCount\": {\"signal\": \"ceil(width/40)\"}, \"title\": \"Butte SNOTEL SWE (m)\", \"labelFlush\": true, \"labelOverlap\": true}, {\"scale\": \"y\", \"grid\": false, \"tickCount\": {\"signal\": \"ceil(height/40)\"}, \"title\": \"Butte SNOTEL SWE predicted with Schofield Pass Ln(SNVs) (m)\", \"zindex\": 0, \"labelOverlap\": true, \"orient\": \"left\"}], \"title\": {\"text\": \"Predicted SWE\", \"frame\": \"group\"}, \"width\": 300, \"height\": 300, \"padding\": 5, \"style\": \"cell\", \"background\": \"white\"}, {\"mode\": \"vega\"});\n",
       "</script>"
      ],
      "text/plain": [
       "alt.LayerChart(...)"
      ]
     },
     "execution_count": 265,
     "metadata": {},
     "output_type": "execute_result"
    }
   ],
   "source": [
    "data2 = {'x': np.linspace(0,1,100),\n",
    "        'y': np.linspace(0,1,100)}\n",
    "df_lin2 = pd.DataFrame(data2)\n",
    "    \n",
    "line2 = alt.Chart(df_lin2).mark_line().encode(\n",
    "    alt.X('x:Q'),\n",
    "    alt.Y('y:Q'),\n",
    "    color=alt.value(\"#808080\")\n",
    ")\n",
    "\n",
    "station_predict = alt.Chart(df_swe_pred_log).mark_circle().encode(\n",
    "        x = alt.X('station_swe').title('Butte SNOTEL SWE (m)'), #.axis(values=[-5,-4,-3,-2,-1,0,1,2,3,4,5]),\n",
    "        y = alt.Y('swe_pred_log_trans').title('Butte SNOTEL SWE predicted with Schofield Pass Ln(SNVs) (m)') #.axis(values=[-5,-4,-3,-2,-1,0,1,2,3,4,5]).scale(domain=[-5,5]).scale(domain=[0,2500]),\n",
    "    ).properties(title='Predicted SWE')\n",
    "\n",
    "annotation = alt.Chart(df_swe_pred_log).mark_text(\n",
    "    align='left',\n",
    "    baseline='middle',\n",
    "    fontSize = 20\n",
    ").encode(\n",
    "    text='A'\n",
    ")\n",
    "\n",
    "# text = base.mark_text(baseline=\"middle\").encode(\n",
    "#     text=\"num_cars:Q\",\n",
    "#     color=alt.condition(\n",
    "#         alt.datum.num_cars > 100,\n",
    "#         alt.value(\"black\"),\n",
    "#         alt.value(\"white\"),\n",
    "#     ),\n",
    "# )\n",
    "\n",
    "combined = (station_predict + line2) # + annotation\n",
    "#combined.save('../figures/swe_predicted.png')\n",
    "combined"
   ]
  },
  {
   "cell_type": "code",
   "execution_count": 266,
   "id": "cbc22d43-6b94-4143-a561-6738ff6dae75",
   "metadata": {},
   "outputs": [
    {
     "name": "stdout",
     "output_type": "stream",
     "text": [
      "R value:  0.8608295420578269\n"
     ]
    }
   ],
   "source": [
    "print('R value: ', np.corrcoef(df_swe_pred_log['station_swe'], df_swe_pred_log['swe_pred_log_trans'])[0,1])"
   ]
  },
  {
   "cell_type": "markdown",
   "id": "7b05ed9c-1525-4de1-a53d-3a3152bd4347",
   "metadata": {},
   "source": [
    "### Predict SWE with Quantile Mapping:"
   ]
  },
  {
   "cell_type": "code",
   "execution_count": 267,
   "id": "4c362c26-96f5-4a2c-8662-8b4d165f1c46",
   "metadata": {},
   "outputs": [
    {
     "data": {
      "text/plain": [
       "'327_CO_SNTL'"
      ]
     },
     "execution_count": 267,
     "metadata": {},
     "output_type": "execute_result"
    }
   ],
   "source": [
    "site1"
   ]
  },
  {
   "cell_type": "code",
   "execution_count": 268,
   "id": "34cacde9-0dba-4aec-9e1b-6ccf4bbe0a01",
   "metadata": {},
   "outputs": [],
   "source": [
    "cdf_site1 = df.loc[pd.IndexSlice[site1]]\n",
    "cdf_site2 = df.loc[pd.IndexSlice[site2]]"
   ]
  },
  {
   "cell_type": "code",
   "execution_count": 269,
   "id": "6b751e81-cb14-4787-a6fd-24eb2217cdfc",
   "metadata": {},
   "outputs": [],
   "source": [
    "cdf_site2 = cdf_site2.sort_values('station_swe')\n",
    "cdf_site1 = cdf_site1.sort_values('reanalysis_swe')"
   ]
  },
  {
   "cell_type": "code",
   "execution_count": 270,
   "id": "60a9ec70-81c1-474c-b7cf-50b77b8952d3",
   "metadata": {},
   "outputs": [],
   "source": [
    "count2, bins_count2 = np.histogram(cdf_site2['station_swe'], bins=32)\n",
    "count1, bins_count1 = np.histogram(cdf_site1['reanalysis_swe'], bins=32)"
   ]
  },
  {
   "cell_type": "code",
   "execution_count": 271,
   "id": "667601f6-e9d7-48dd-aa85-bed8787cb45a",
   "metadata": {},
   "outputs": [],
   "source": [
    "cdf_site1['pdf'] = count1 / sum(count1)\n",
    "cdf_site2['pdf'] = count2 / sum(count2)"
   ]
  },
  {
   "cell_type": "code",
   "execution_count": 272,
   "id": "b554a6fc-e1d1-4b66-aa30-bf45bfb3d448",
   "metadata": {},
   "outputs": [],
   "source": [
    "cdf_site2['cdf'] = np.cumsum(cdf_site2['pdf']) \n",
    "cdf_site1['cdf'] = np.cumsum(cdf_site1['pdf']) "
   ]
  },
  {
   "cell_type": "code",
   "execution_count": 273,
   "id": "919d560c-cf0f-4950-a137-58f7f03ca714",
   "metadata": {},
   "outputs": [
    {
     "data": {
      "text/plain": [
       "Text(0, 0.5, 'Probability')"
      ]
     },
     "execution_count": 273,
     "metadata": {},
     "output_type": "execute_result"
    },
    {
     "data": {
      "image/png": "[encoded data removed]",
      "text/plain": [
       "<Figure size 640x480 with 1 Axes>"
      ]
     },
     "metadata": {},
     "output_type": "display_data"
    }
   ],
   "source": [
    "# plotting PDF and CDF \n",
    "plt.plot(bins_count1[1:], cdf_site1['pdf'], color=\"red\", label=\"PDF\") \n",
    "plt.plot(bins_count1[1:], cdf_site1['cdf'], label=\"CDF\") \n",
    "plt.legend() \n",
    "plt.xlabel('SWE')\n",
    "plt.ylabel('Probability')"
   ]
  },
  {
   "cell_type": "code",
   "execution_count": 274,
   "id": "2401f0ec-c26c-4e0c-9f27-03e32e205a65",
   "metadata": {},
   "outputs": [
    {
     "data": {
      "text/plain": [
       "Text(0, 0.5, 'Probability')"
      ]
     },
     "execution_count": 274,
     "metadata": {},
     "output_type": "execute_result"
    },
    {
     "data": {
      "image/png": "[encoded data removed]",
      "text/plain": [
       "<Figure size 640x480 with 1 Axes>"
      ]
     },
     "metadata": {},
     "output_type": "display_data"
    }
   ],
   "source": [
    "# plotting PDF and CDF \n",
    "plt.plot(bins_count2[1:], cdf_site2['pdf'], color=\"red\", label=\"PDF\") \n",
    "plt.plot(bins_count2[1:], cdf_site2['cdf'], label=\"CDF\") \n",
    "plt.legend() \n",
    "plt.xlabel('SWE')\n",
    "plt.ylabel('Probability')"
   ]
  },
  {
   "cell_type": "code",
   "execution_count": 275,
   "id": "6c66c06a-9a5c-4a8d-bc4f-70f8059eae47",
   "metadata": {},
   "outputs": [],
   "source": [
    "cdf_site1[cdf_site1['reanalysis_swe'] == 0]['reanalysis_swe'] = 0.01\n",
    "cdf_site1[cdf_site1['cdf'] == 0]['cdf'] = 0.01"
   ]
  },
  {
   "cell_type": "code",
   "execution_count": 276,
   "id": "51fa5abc-7d59-4510-b3e3-109b3a72854e",
   "metadata": {},
   "outputs": [
    {
     "data": {
      "text/plain": [
       "year\n",
       "2020    0.90625\n",
       "Name: cdf, dtype: float64"
      ]
     },
     "execution_count": 276,
     "metadata": {},
     "output_type": "execute_result"
    }
   ],
   "source": [
    "cdf_site1.loc[cdf_site1.index==2020, 'cdf']"
   ]
  },
  {
   "cell_type": "code",
   "execution_count": 277,
   "id": "7083840e-60dc-42bf-83c3-cdfc5f344dc7",
   "metadata": {},
   "outputs": [],
   "source": [
    "f = interp1d(cdf_site1['cdf'], cdf_site1['reanalysis_swe'])\n",
    "swe_quant = f(cdf_site1.loc[cdf_site1.index==2020, 'cdf'].values)"
   ]
  },
  {
   "cell_type": "code",
   "execution_count": 278,
   "id": "3d72b0a4-5824-4693-be26-c544d44632d9",
   "metadata": {},
   "outputs": [
    {
     "name": "stderr",
     "output_type": "stream",
     "text": [
      "/Users/Hannah/micromamba/envs/analysis_2024/lib/python3.12/site-packages/scipy/interpolate/_interpolate.py:712: RuntimeWarning: divide by zero encountered in divide\n",
      "  slope = (y_hi - y_lo) / (x_hi - x_lo)[:, None]\n",
      "/Users/Hannah/micromamba/envs/analysis_2024/lib/python3.12/site-packages/scipy/interpolate/_interpolate.py:715: RuntimeWarning: invalid value encountered in multiply\n",
      "  y_new = slope*(x_new - x_lo)[:, None] + y_lo\n"
     ]
    }
   ],
   "source": [
    "pred_quant = []\n",
    "for year in np.arange(1990,2021):\n",
    "    pred_quant.append(f(cdf_site1.loc[cdf_site1.index==year, 'cdf'].values)[0])\n",
    "\n",
    "pred_quant.append(np.nan)"
   ]
  },
  {
   "cell_type": "code",
   "execution_count": 279,
   "id": "f9de3f65-30d9-49db-8954-dc442d319831",
   "metadata": {},
   "outputs": [],
   "source": [
    "site1_compare = df.loc[pd.IndexSlice[site1]][['station_swe']]"
   ]
  },
  {
   "cell_type": "code",
   "execution_count": 280,
   "id": "51320070-9907-4801-a439-3bed055e6d34",
   "metadata": {},
   "outputs": [],
   "source": [
    "site1_compare['pred_quant'] = pred_quant"
   ]
  },
  {
   "cell_type": "code",
   "execution_count": 281,
   "id": "9e183595-7b29-4155-8a1e-35dd5cd55913",
   "metadata": {},
   "outputs": [
    {
     "data": {
      "text/html": [
       "\n",
       "<style>\n",
       "  #altair-viz-11b7a3cf0d714c8f8d52e087936cef72.vega-embed {\n",
       "    width: 100%;\n",
       "    display: flex;\n",
       "  }\n",
       "\n",
       "  #altair-viz-11b7a3cf0d714c8f8d52e087936cef72.vega-embed details,\n",
       "  #altair-viz-11b7a3cf0d714c8f8d52e087936cef72.vega-embed details summary {\n",
       "    position: relative;\n",
       "  }\n",
       "</style>\n",
       "<div id=\"altair-viz-11b7a3cf0d714c8f8d52e087936cef72\"></div>\n",
       "<script type=\"text/javascript\">\n",
       "  var VEGA_DEBUG = (typeof VEGA_DEBUG == \"undefined\") ? {} : VEGA_DEBUG;\n",
       "  (function(spec, embedOpt){\n",
       "    let outputDiv = document.currentScript.previousElementSibling;\n",
       "    if (outputDiv.id !== \"altair-viz-11b7a3cf0d714c8f8d52e087936cef72\") {\n",
       "      outputDiv = document.getElementById(\"altair-viz-11b7a3cf0d714c8f8d52e087936cef72\");\n",
       "    }\n",
       "    const paths = {\n",
       "      \"vega\": \"https://cdn.jsdelivr.net/npm/vega@5?noext\",\n",
       "      \"vega-lib\": \"https://cdn.jsdelivr.net/npm/vega-lib?noext\",\n",
       "      \"vega-lite\": \"https://cdn.jsdelivr.net/npm/vega-lite@5.17.0?noext\",\n",
       "      \"vega-embed\": \"https://cdn.jsdelivr.net/npm/vega-embed@6?noext\",\n",
       "    };\n",
       "\n",
       "    function maybeLoadScript(lib, version) {\n",
       "      var key = `${lib.replace(\"-\", \"\")}_version`;\n",
       "      return (VEGA_DEBUG[key] == version) ?\n",
       "        Promise.resolve(paths[lib]) :\n",
       "        new Promise(function(resolve, reject) {\n",
       "          var s = document.createElement('script');\n",
       "          document.getElementsByTagName(\"head\")[0].appendChild(s);\n",
       "          s.async = true;\n",
       "          s.onload = () => {\n",
       "            VEGA_DEBUG[key] = version;\n",
       "            return resolve(paths[lib]);\n",
       "          };\n",
       "          s.onerror = () => reject(`Error loading script: ${paths[lib]}`);\n",
       "          s.src = paths[lib];\n",
       "        });\n",
       "    }\n",
       "\n",
       "    function showError(err) {\n",
       "      outputDiv.innerHTML = `<div class=\"error\" style=\"color:red;\">${err}</div>`;\n",
       "      throw err;\n",
       "    }\n",
       "\n",
       "    function displayChart(vegaEmbed) {\n",
       "      vegaEmbed(outputDiv, spec, embedOpt)\n",
       "        .catch(err => showError(`Javascript Error: ${err.message}<br>This usually means there's a typo in your chart specification. See the javascript console for the full traceback.`));\n",
       "    }\n",
       "\n",
       "    if(typeof define === \"function\" && define.amd) {\n",
       "      requirejs.config({paths});\n",
       "      require([\"vega-embed\"], displayChart, err => showError(`Error loading script: ${err.message}`));\n",
       "    } else {\n",
       "      maybeLoadScript(\"vega\", \"5\")\n",
       "        .then(() => maybeLoadScript(\"vega-lite\", \"5.17.0\"))\n",
       "        .then(() => maybeLoadScript(\"vega-embed\", \"6\"))\n",
       "        .catch(showError)\n",
       "        .then(() => displayChart(vegaEmbed));\n",
       "    }\n",
       "  })({\"$schema\": \"https://vega.github.io/schema/vega/v5.json\", \"data\": [{\"name\": \"source_1\", \"values\": [{\"x\": 0.0, \"y\": 0.0}, {\"x\": 0.010101010101010102, \"y\": 0.010101010101010102}, {\"x\": 0.020202020202020204, \"y\": 0.020202020202020204}, {\"x\": 0.030303030303030304, \"y\": 0.030303030303030304}, {\"x\": 0.04040404040404041, \"y\": 0.04040404040404041}, {\"x\": 0.05050505050505051, \"y\": 0.05050505050505051}, {\"x\": 0.06060606060606061, \"y\": 0.06060606060606061}, {\"x\": 0.07070707070707072, \"y\": 0.07070707070707072}, {\"x\": 0.08080808080808081, \"y\": 0.08080808080808081}, {\"x\": 0.09090909090909091, \"y\": 0.09090909090909091}, {\"x\": 0.10101010101010102, \"y\": 0.10101010101010102}, {\"x\": 0.11111111111111112, \"y\": 0.11111111111111112}, {\"x\": 0.12121212121212122, \"y\": 0.12121212121212122}, {\"x\": 0.13131313131313133, \"y\": 0.13131313131313133}, {\"x\": 0.14141414141414144, \"y\": 0.14141414141414144}, {\"x\": 0.15151515151515152, \"y\": 0.15151515151515152}, {\"x\": 0.16161616161616163, \"y\": 0.16161616161616163}, {\"x\": 0.17171717171717174, \"y\": 0.17171717171717174}, {\"x\": 0.18181818181818182, \"y\": 0.18181818181818182}, {\"x\": 0.19191919191919193, \"y\": 0.19191919191919193}, {\"x\": 0.20202020202020204, \"y\": 0.20202020202020204}, {\"x\": 0.21212121212121213, \"y\": 0.21212121212121213}, {\"x\": 0.22222222222222224, \"y\": 0.22222222222222224}, {\"x\": 0.23232323232323235, \"y\": 0.23232323232323235}, {\"x\": 0.24242424242424243, \"y\": 0.24242424242424243}, {\"x\": 0.25252525252525254, \"y\": 0.25252525252525254}, {\"x\": 0.26262626262626265, \"y\": 0.26262626262626265}, {\"x\": 0.27272727272727276, \"y\": 0.27272727272727276}, {\"x\": 0.2828282828282829, \"y\": 0.2828282828282829}, {\"x\": 0.29292929292929293, \"y\": 0.29292929292929293}, {\"x\": 0.30303030303030304, \"y\": 0.30303030303030304}, {\"x\": 0.31313131313131315, \"y\": 0.31313131313131315}, {\"x\": 0.32323232323232326, \"y\": 0.32323232323232326}, {\"x\": 0.33333333333333337, \"y\": 0.33333333333333337}, {\"x\": 0.3434343434343435, \"y\": 0.3434343434343435}, {\"x\": 0.3535353535353536, \"y\": 0.3535353535353536}, {\"x\": 0.36363636363636365, \"y\": 0.36363636363636365}, {\"x\": 0.37373737373737376, \"y\": 0.37373737373737376}, {\"x\": 0.38383838383838387, \"y\": 0.38383838383838387}, {\"x\": 0.393939393939394, \"y\": 0.393939393939394}, {\"x\": 0.4040404040404041, \"y\": 0.4040404040404041}, {\"x\": 0.4141414141414142, \"y\": 0.4141414141414142}, {\"x\": 0.42424242424242425, \"y\": 0.42424242424242425}, {\"x\": 0.43434343434343436, \"y\": 0.43434343434343436}, {\"x\": 0.4444444444444445, \"y\": 0.4444444444444445}, {\"x\": 0.4545454545454546, \"y\": 0.4545454545454546}, {\"x\": 0.4646464646464647, \"y\": 0.4646464646464647}, {\"x\": 0.4747474747474748, \"y\": 0.4747474747474748}, {\"x\": 0.48484848484848486, \"y\": 0.48484848484848486}, {\"x\": 0.494949494949495, \"y\": 0.494949494949495}, {\"x\": 0.5050505050505051, \"y\": 0.5050505050505051}, {\"x\": 0.5151515151515152, \"y\": 0.5151515151515152}, {\"x\": 0.5252525252525253, \"y\": 0.5252525252525253}, {\"x\": 0.5353535353535354, \"y\": 0.5353535353535354}, {\"x\": 0.5454545454545455, \"y\": 0.5454545454545455}, {\"x\": 0.5555555555555556, \"y\": 0.5555555555555556}, {\"x\": 0.5656565656565657, \"y\": 0.5656565656565657}, {\"x\": 0.5757575757575758, \"y\": 0.5757575757575758}, {\"x\": 0.5858585858585859, \"y\": 0.5858585858585859}, {\"x\": 0.595959595959596, \"y\": 0.595959595959596}, {\"x\": 0.6060606060606061, \"y\": 0.6060606060606061}, {\"x\": 0.6161616161616162, \"y\": 0.6161616161616162}, {\"x\": 0.6262626262626263, \"y\": 0.6262626262626263}, {\"x\": 0.6363636363636365, \"y\": 0.6363636363636365}, {\"x\": 0.6464646464646465, \"y\": 0.6464646464646465}, {\"x\": 0.6565656565656566, \"y\": 0.6565656565656566}, {\"x\": 0.6666666666666667, \"y\": 0.6666666666666667}, {\"x\": 0.6767676767676768, \"y\": 0.6767676767676768}, {\"x\": 0.686868686868687, \"y\": 0.686868686868687}, {\"x\": 0.696969696969697, \"y\": 0.696969696969697}, {\"x\": 0.7070707070707072, \"y\": 0.7070707070707072}, {\"x\": 0.7171717171717172, \"y\": 0.7171717171717172}, {\"x\": 0.7272727272727273, \"y\": 0.7272727272727273}, {\"x\": 0.7373737373737375, \"y\": 0.7373737373737375}, {\"x\": 0.7474747474747475, \"y\": 0.7474747474747475}, {\"x\": 0.7575757575757577, \"y\": 0.7575757575757577}, {\"x\": 0.7676767676767677, \"y\": 0.7676767676767677}, {\"x\": 0.7777777777777778, \"y\": 0.7777777777777778}, {\"x\": 0.787878787878788, \"y\": 0.787878787878788}, {\"x\": 0.797979797979798, \"y\": 0.797979797979798}, {\"x\": 0.8080808080808082, \"y\": 0.8080808080808082}, {\"x\": 0.8181818181818182, \"y\": 0.8181818181818182}, {\"x\": 0.8282828282828284, \"y\": 0.8282828282828284}, {\"x\": 0.8383838383838385, \"y\": 0.8383838383838385}, {\"x\": 0.8484848484848485, \"y\": 0.8484848484848485}, {\"x\": 0.8585858585858587, \"y\": 0.8585858585858587}, {\"x\": 0.8686868686868687, \"y\": 0.8686868686868687}, {\"x\": 0.8787878787878789, \"y\": 0.8787878787878789}, {\"x\": 0.888888888888889, \"y\": 0.888888888888889}, {\"x\": 0.8989898989898991, \"y\": 0.8989898989898991}, {\"x\": 0.9090909090909092, \"y\": 0.9090909090909092}, {\"x\": 0.9191919191919192, \"y\": 0.9191919191919192}, {\"x\": 0.9292929292929294, \"y\": 0.9292929292929294}, {\"x\": 0.9393939393939394, \"y\": 0.9393939393939394}, {\"x\": 0.9494949494949496, \"y\": 0.9494949494949496}, {\"x\": 0.9595959595959597, \"y\": 0.9595959595959597}, {\"x\": 0.9696969696969697, \"y\": 0.9696969696969697}, {\"x\": 0.9797979797979799, \"y\": 0.9797979797979799}, {\"x\": 0.98989898989899, \"y\": 0.98989898989899}, {\"x\": 1.0, \"y\": 1.0}]}, {\"name\": \"source_0\", \"values\": [{\"pred_quant\": 0.5307999849319458, \"station_swe\": 0.38862}, {\"pred_quant\": 0.6633999943733215, \"station_swe\": 0.61976}, {\"pred_quant\": 0.6345999836921692, \"station_swe\": 0.42164}, {\"pred_quant\": 0.6633999943733215, \"station_swe\": 0.70612}, {\"pred_quant\": 0.4487999975681305, \"station_swe\": 0.43942}, {\"pred_quant\": 0.7369999885559082, \"station_swe\": 0.7797799999999999}, {\"pred_quant\": 0.38420000672340393, \"station_swe\": 0.45974000000000004}, {\"pred_quant\": 0.6474000215530396, \"station_swe\": 0.9220199999999998}, {\"pred_quant\": 0.777400016784668, \"station_swe\": 0.5054599999999999}, {\"pred_quant\": 0.415800005197525, \"station_swe\": 0.37846}, {\"pred_quant\": 0.6209999918937683, \"station_swe\": 0.55626}, {\"pred_quant\": 0.5475999712944031, \"station_swe\": 0.6908799999999999}, {\"pred_quant\": 0.350600004196167, \"station_swe\": 0.24892}, {\"pred_quant\": 0.6344000101089478, \"station_swe\": 0.4064}, {\"pred_quant\": 0.5410000085830688, \"station_swe\": 0.52324}, {\"pred_quant\": 0.5012000203132629, \"station_swe\": 0.94488}, {\"pred_quant\": 0.47940000891685486, \"station_swe\": 0.4064}, {\"pred_quant\": 0.4487999975681305, \"station_swe\": 0.37338}, {\"pred_quant\": 0.6557999849319458, \"station_swe\": 0.70866}, {\"pred_quant\": 0.350600004196167, \"station_swe\": 0.56642}, {\"pred_quant\": 0.37459999322891235, \"station_swe\": 0.54102}, {\"pred_quant\": 0.4681999981403351, \"station_swe\": 0.5638799999999999}, {\"pred_quant\": 0.6209999918937683, \"station_swe\": 0.29717999999999994}, {\"pred_quant\": 0.415800005197525, \"station_swe\": 0.5054599999999999}, {\"pred_quant\": 0.31700000166893005, \"station_swe\": 0.29717999999999994}, {\"pred_quant\": 0.31700000166893005, \"station_swe\": 0.5206999999999999}, {\"pred_quant\": 0.5307999849319458, \"station_swe\": 0.6578599999999999}, {\"pred_quant\": 0.7369999885559082, \"station_swe\": 0.87376}, {\"pred_quant\": 0.6633999943733215, \"station_swe\": 0.57912}]}], \"marks\": [{\"type\": \"symbol\", \"name\": \"layer_0_marks\", \"from\": {\"data\": \"source_0\"}, \"encode\": {\"update\": {\"opacity\": {\"value\": 0.7}, \"fill\": {\"value\": \"#4c78a8\"}, \"x\": {\"field\": \"station_swe\", \"scale\": \"x\"}, \"y\": {\"field\": \"pred_quant\", \"scale\": \"y\"}, \"shape\": {\"value\": \"circle\"}}}, \"style\": [\"circle\"]}, {\"type\": \"line\", \"name\": \"layer_1_marks\", \"from\": {\"data\": \"source_1\"}, \"sort\": {\"field\": \"datum[\\\"x\\\"]\"}, \"encode\": {\"update\": {\"y\": {\"field\": \"y\", \"scale\": \"y\"}, \"x\": {\"field\": \"x\", \"scale\": \"x\"}, \"defined\": {\"signal\": \"isValid(datum[\\\"x\\\"]) && isFinite(+datum[\\\"x\\\"]) && isValid(datum[\\\"y\\\"]) && isFinite(+datum[\\\"y\\\"])\"}, \"stroke\": {\"value\": \"#808080\"}}}, \"style\": [\"line\"]}], \"scales\": [{\"name\": \"x\", \"type\": \"linear\", \"domain\": {\"fields\": [{\"data\": \"source_0\", \"field\": \"station_swe\"}, {\"data\": \"source_1\", \"field\": \"x\"}]}, \"range\": [0, {\"signal\": \"width\"}], \"zero\": true, \"nice\": true}, {\"name\": \"y\", \"type\": \"linear\", \"domain\": {\"fields\": [{\"data\": \"source_0\", \"field\": \"pred_quant\"}, {\"data\": \"source_1\", \"field\": \"y\"}]}, \"range\": [{\"signal\": \"height\"}, 0], \"zero\": true, \"nice\": true}], \"axes\": [{\"scale\": \"x\", \"grid\": true, \"orient\": \"bottom\", \"gridScale\": \"y\", \"maxExtent\": 0, \"domain\": false, \"labels\": false, \"zindex\": 0, \"ticks\": false, \"aria\": false, \"minExtent\": 0, \"tickCount\": {\"signal\": \"ceil(width/40)\"}}, {\"scale\": \"y\", \"tickCount\": {\"signal\": \"ceil(height/40)\"}, \"orient\": \"left\", \"labels\": false, \"grid\": true, \"domain\": false, \"gridScale\": \"x\", \"aria\": false, \"maxExtent\": 0, \"ticks\": false, \"zindex\": 0, \"minExtent\": 0}, {\"scale\": \"x\", \"tickCount\": {\"signal\": \"ceil(width/40)\"}, \"grid\": false, \"orient\": \"bottom\", \"title\": \"Butte SNOTEL SWE (m)\", \"zindex\": 0, \"labelOverlap\": true, \"labelFlush\": true}, {\"scale\": \"y\", \"title\": \"Butte SNOTEL SWE predicted with Schofield Pass Quantile Mapping (m)\", \"grid\": false, \"labelOverlap\": true, \"tickCount\": {\"signal\": \"ceil(height/40)\"}, \"orient\": \"left\", \"zindex\": 0}], \"title\": {\"text\": \"Predicted SWE\", \"frame\": \"group\"}, \"background\": \"white\", \"padding\": 5, \"width\": 300, \"height\": 300, \"style\": \"cell\"}, {\"mode\": \"vega\"});\n",
       "</script>"
      ],
      "text/plain": [
       "alt.LayerChart(...)"
      ]
     },
     "execution_count": 281,
     "metadata": {},
     "output_type": "execute_result"
    }
   ],
   "source": [
    "data2 = {'x': np.linspace(0,1,100),\n",
    "        'y': np.linspace(0,1,100)}\n",
    "df_lin2 = pd.DataFrame(data2)\n",
    "    \n",
    "line2 = alt.Chart(df_lin2).mark_line().encode(\n",
    "    alt.X('x:Q'),\n",
    "    alt.Y('y:Q'),\n",
    "    color=alt.value(\"#808080\")\n",
    ")\n",
    "\n",
    "station_predict = alt.Chart(site1_compare).mark_circle().encode(\n",
    "        x = alt.X('station_swe').title('Butte SNOTEL SWE (m)'), #.axis(values=[-5,-4,-3,-2,-1,0,1,2,3,4,5]),\n",
    "        y = alt.Y('pred_quant').title('Butte SNOTEL SWE predicted with Schofield Pass Quantile Mapping (m)') #.axis(values=[-5,-4,-3,-2,-1,0,1,2,3,4,5]).scale(domain=[-5,5]).scale(domain=[0,2500]),\n",
    "    ).properties(title='Predicted SWE')\n",
    "\n",
    "combined = (station_predict + line2)\n",
    "\n",
    "combined"
   ]
  },
  {
   "cell_type": "code",
   "execution_count": 282,
   "id": "89566b26-ba45-4d23-9758-ac8e7192c421",
   "metadata": {},
   "outputs": [
    {
     "data": {
      "text/plain": [
       "0.012508787427824682"
      ]
     },
     "execution_count": 282,
     "metadata": {},
     "output_type": "execute_result"
    }
   ],
   "source": [
    "site1_compare['difference'] = site1_compare['station_swe'] - site1_compare['pred_quant']\n",
    "df_swe_pred_log['difference'].mean()"
   ]
  },
  {
   "cell_type": "code",
   "execution_count": 283,
   "id": "8c9938d6-d934-4e94-b617-3bfc0a5bf508",
   "metadata": {},
   "outputs": [
    {
     "name": "stdout",
     "output_type": "stream",
     "text": [
      "R value:  0.46493368347948555\n"
     ]
    }
   ],
   "source": [
    "site1_compare_na = site1_compare_na.replace([np.inf, -np.inf], np.nan, inplace=False)\n",
    "site1_compare_na = site1_compare.dropna()\n",
    "print('R value: ', np.corrcoef(site1_compare_na['station_swe'], site1_compare_na['pred_quant'])[0,1])"
   ]
  },
  {
   "cell_type": "markdown",
   "id": "39cd3288-91d7-49af-a565-90088e418bcf",
   "metadata": {},
   "source": [
    "## Test Normalcy of Stations:"
   ]
  },
  {
   "cell_type": "code",
   "execution_count": 398,
   "id": "0c87399a-df82-45ab-a2f6-83009a5b4208",
   "metadata": {},
   "outputs": [],
   "source": [
    "normal_stats = []\n",
    "normal_pvalue = []\n",
    "\n",
    "for site in df.index.get_level_values(0).unique():\n",
    "    shapiro = stats.shapiro(df.loc[pd.IndexSlice[site],'station_swe'])\n",
    "    normal_stats.append(shapiro)\n",
    "    normal_pvalue.append(shapiro[1])\n",
    "    "
   ]
  },
  {
   "cell_type": "code",
   "execution_count": 394,
   "id": "260449f0-278c-45c4-962b-8d65edb7da14",
   "metadata": {},
   "outputs": [],
   "source": [
    "#normal_pvalue\n",
    "\n",
    "norm = [x for x in normal_pvalue if x > 0.05]\n",
    "not_norm = [x for x in normal_pvalue if x <= 0.05]"
   ]
  },
  {
   "cell_type": "code",
   "execution_count": 396,
   "id": "e8e55f72-813e-4471-ad10-398b9923aceb",
   "metadata": {},
   "outputs": [
    {
     "data": {
      "text/plain": [
       "0.8337078651685393"
      ]
     },
     "execution_count": 396,
     "metadata": {},
     "output_type": "execute_result"
    }
   ],
   "source": [
    "len(norm) / (len(normal_pvalue))"
   ]
  },
  {
   "cell_type": "code",
   "execution_count": 399,
   "id": "7789cc10-2052-4f47-a8b4-5f5e2b8844ed",
   "metadata": {},
   "outputs": [],
   "source": [
    "normal_stats_log = []\n",
    "normal_pvalue_log = []\n",
    "\n",
    "for site in df.index.get_level_values(0).unique():\n",
    "    shapiro = stats.shapiro(df.loc[pd.IndexSlice[site],'log_station_swe'])\n",
    "    normal_stats_log.append(shapiro)\n",
    "    normal_pvalue_log.append(shapiro[1])"
   ]
  },
  {
   "cell_type": "code",
   "execution_count": 400,
   "id": "8930f4fe-9ec8-4a20-a6a9-48a5576a57fe",
   "metadata": {},
   "outputs": [],
   "source": [
    "norm_log = [x for x in normal_pvalue_log if x > 0.05]\n",
    "not_norm_log = [x for x in normal_pvalue_log if x <= 0.05]"
   ]
  },
  {
   "cell_type": "code",
   "execution_count": 401,
   "id": "9ec0369d-3310-43a8-8534-f2e8cded8f9b",
   "metadata": {},
   "outputs": [
    {
     "data": {
      "text/plain": [
       "0.7730337078651686"
      ]
     },
     "execution_count": 401,
     "metadata": {},
     "output_type": "execute_result"
    }
   ],
   "source": [
    "len(norm_log) / (len(normal_pvalue_log))"
   ]
  },
  {
   "cell_type": "code",
   "execution_count": null,
   "id": "7191ed36-5a69-42b2-bf91-d269eab7cae8",
   "metadata": {},
   "outputs": [],
   "source": []
  }
 ],
 "metadata": {
  "kernelspec": {
   "display_name": "Python 3 (ipykernel)",
   "language": "python",
   "name": "python3"
  },
  "language_info": {
   "codemirror_mode": {
    "name": "ipython",
    "version": 3
   },
   "file_extension": ".py",
   "mimetype": "text/x-python",
   "name": "python",
   "nbconvert_exporter": "python",
   "pygments_lexer": "ipython3",
   "version": "3.12.3"
  }
 },
 "nbformat": 4,
 "nbformat_minor": 5
}
