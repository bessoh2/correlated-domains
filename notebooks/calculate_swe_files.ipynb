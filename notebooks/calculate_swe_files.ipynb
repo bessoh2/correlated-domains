{
 "cells": [
  {
   "cell_type": "markdown",
   "id": "17574e76-027e-4769-be44-3c2e4cf0d1a8",
   "metadata": {},
   "source": [
    "# Output Calculated SWE NetCDFs"
   ]
  },
  {
   "cell_type": "code",
   "execution_count": 1,
   "id": "88566309-fc05-443c-ad77-c51d126eb91d",
   "metadata": {},
   "outputs": [],
   "source": [
    "import numpy as np\n",
    "import pandas as pd\n",
    "import geopandas as gpd\n",
    "import matplotlib.pyplot as plt\n",
    "import xarray as xr\n",
    "import pickle\n",
    "import altair as alt\n",
    "import os.path"
   ]
  },
  {
   "cell_type": "markdown",
   "id": "32e866fd-a421-4445-a36f-e5313bd555ea",
   "metadata": {},
   "source": [
    "### Load Data:"
   ]
  },
  {
   "cell_type": "code",
   "execution_count": 3,
   "id": "e91fcda9",
   "metadata": {},
   "outputs": [
    {
     "name": "stderr",
     "output_type": "stream",
     "text": [
      "/var/folders/s4/pymynk_14w75x2ghv0xjkqlm0000gn/T/ipykernel_65880/1155285028.py:1: DeprecationWarning: numpy.core.numeric is deprecated and has been renamed to numpy._core.numeric. The numpy._core namespace contains private NumPy internals and its use is discouraged, as NumPy internals can change without warning in any release. In practice, most real-world usage of numpy.core is to access functionality in the public NumPy API. If that is the case, use the public NumPy API. If not, you are using NumPy internals. If you would still like to access an internal attribute, use numpy._core.numeric._frombuffer.\n",
      "  stations = pickle.load(open('../data/snv_dataframes/snv_temp_precip_cluster_gdf_snvs_quantiles.pkl','rb'))\n"
     ]
    }
   ],
   "source": [
    "stations = pickle.load(open('../data/snv_dataframes/snv_temp_precip_cluster_gdf_snvs_quantiles.pkl','rb'))\n"
   ]
  },
  {
   "cell_type": "code",
   "execution_count": 2,
   "id": "3ca89935-44f6-41db-ae66-bf28752e5cb2",
   "metadata": {},
   "outputs": [
    {
     "ename": "FileNotFoundError",
     "evalue": "[Errno 2] No such file or directory: '../data/snv_dataframes/snv_ucrb_clusters_gdf_snvs_quantiles.pkl'",
     "output_type": "error",
     "traceback": [
      "\u001b[0;31m---------------------------------------------------------------------------\u001b[0m",
      "\u001b[0;31mFileNotFoundError\u001b[0m                         Traceback (most recent call last)",
      "Cell \u001b[0;32mIn[2], line 2\u001b[0m\n\u001b[1;32m      1\u001b[0m swe \u001b[38;5;241m=\u001b[39m xr\u001b[38;5;241m.\u001b[39mopen_dataset(\u001b[38;5;124m'\u001b[39m\u001b[38;5;124m../data/reanalysis/swe_reanalysis_ucrb.nc\u001b[39m\u001b[38;5;124m'\u001b[39m)\n\u001b[0;32m----> 2\u001b[0m stations_ucrb \u001b[38;5;241m=\u001b[39m pickle\u001b[38;5;241m.\u001b[39mload(\u001b[38;5;28;43mopen\u001b[39;49m\u001b[43m(\u001b[49m\u001b[38;5;124;43m'\u001b[39;49m\u001b[38;5;124;43m../data/snv_dataframes/snv_ucrb_clusters_gdf_snvs_quantiles.pkl\u001b[39;49m\u001b[38;5;124;43m'\u001b[39;49m\u001b[43m,\u001b[49m\u001b[38;5;124;43m'\u001b[39;49m\u001b[38;5;124;43mrb\u001b[39;49m\u001b[38;5;124;43m'\u001b[39;49m\u001b[43m)\u001b[49m)\n\u001b[1;32m      4\u001b[0m ucrb \u001b[38;5;241m=\u001b[39m pickle\u001b[38;5;241m.\u001b[39mload(\u001b[38;5;28mopen\u001b[39m(\u001b[38;5;124m'\u001b[39m\u001b[38;5;124m../data/misc/ucrb.pkl\u001b[39m\u001b[38;5;124m'\u001b[39m,\u001b[38;5;124m'\u001b[39m\u001b[38;5;124mrb\u001b[39m\u001b[38;5;124m'\u001b[39m))\n",
      "File \u001b[0;32m/opt/homebrew/Caskroom/miniforge/base/envs/cor_domains/lib/python3.12/site-packages/IPython/core/interactiveshell.py:324\u001b[0m, in \u001b[0;36m_modified_open\u001b[0;34m(file, *args, **kwargs)\u001b[0m\n\u001b[1;32m    317\u001b[0m \u001b[38;5;28;01mif\u001b[39;00m file \u001b[38;5;129;01min\u001b[39;00m {\u001b[38;5;241m0\u001b[39m, \u001b[38;5;241m1\u001b[39m, \u001b[38;5;241m2\u001b[39m}:\n\u001b[1;32m    318\u001b[0m     \u001b[38;5;28;01mraise\u001b[39;00m \u001b[38;5;167;01mValueError\u001b[39;00m(\n\u001b[1;32m    319\u001b[0m         \u001b[38;5;124mf\u001b[39m\u001b[38;5;124m\"\u001b[39m\u001b[38;5;124mIPython won\u001b[39m\u001b[38;5;124m'\u001b[39m\u001b[38;5;124mt let you open fd=\u001b[39m\u001b[38;5;132;01m{\u001b[39;00mfile\u001b[38;5;132;01m}\u001b[39;00m\u001b[38;5;124m by default \u001b[39m\u001b[38;5;124m\"\u001b[39m\n\u001b[1;32m    320\u001b[0m         \u001b[38;5;124m\"\u001b[39m\u001b[38;5;124mas it is likely to crash IPython. If you know what you are doing, \u001b[39m\u001b[38;5;124m\"\u001b[39m\n\u001b[1;32m    321\u001b[0m         \u001b[38;5;124m\"\u001b[39m\u001b[38;5;124myou can use builtins\u001b[39m\u001b[38;5;124m'\u001b[39m\u001b[38;5;124m open.\u001b[39m\u001b[38;5;124m\"\u001b[39m\n\u001b[1;32m    322\u001b[0m     )\n\u001b[0;32m--> 324\u001b[0m \u001b[38;5;28;01mreturn\u001b[39;00m \u001b[43mio_open\u001b[49m\u001b[43m(\u001b[49m\u001b[43mfile\u001b[49m\u001b[43m,\u001b[49m\u001b[43m \u001b[49m\u001b[38;5;241;43m*\u001b[39;49m\u001b[43margs\u001b[49m\u001b[43m,\u001b[49m\u001b[43m \u001b[49m\u001b[38;5;241;43m*\u001b[39;49m\u001b[38;5;241;43m*\u001b[39;49m\u001b[43mkwargs\u001b[49m\u001b[43m)\u001b[49m\n",
      "\u001b[0;31mFileNotFoundError\u001b[0m: [Errno 2] No such file or directory: '../data/snv_dataframes/snv_ucrb_clusters_gdf_snvs_quantiles.pkl'"
     ]
    }
   ],
   "source": [
    "swe = xr.open_dataset('../data/reanalysis/swe_reanalysis_ucrb.nc')\n",
    "stations_ucrb = pickle.load(open('../data/snv_dataframes/snv_ucrb_clusters_gdf_snvs_quantiles.pkl','rb'))\n",
    "\n",
    "ucrb = pickle.load(open('../data/misc/ucrb.pkl','rb'))"
   ]
  },
  {
   "cell_type": "markdown",
   "id": "e02cf9d1-0874-4980-923a-0fbc44a37297",
   "metadata": {},
   "source": [
    "## Calculate SWE using UCRB mean SNV and Quantile:"
   ]
  },
  {
   "cell_type": "markdown",
   "id": "27b90f7e-7c76-415b-a3ff-b1caf640de4a",
   "metadata": {},
   "source": [
    "### SNV:"
   ]
  },
  {
   "cell_type": "code",
   "execution_count": 5,
   "id": "c3ffbd78-bdb9-4ab9-85e0-cc286b82a9fc",
   "metadata": {},
   "outputs": [],
   "source": [
    "calculated_swe_mean_snv_ucrb_all = xr.full_like(swe.SWE_Post, np.nan)"
   ]
  },
  {
   "cell_type": "code",
   "execution_count": 6,
   "id": "373af4fd-202c-4ab6-b1c0-e375e76ac3a7",
   "metadata": {},
   "outputs": [],
   "source": [
    "mean_snv_ucrb_all = xr.open_dataset('../data/calculated_swe/intermediate_ncs/mean_snv_ucrb_all.nc')"
   ]
  },
  {
   "cell_type": "code",
   "execution_count": 13,
   "id": "267c77a5-98af-4225-abc4-4b4b1f4a0f28",
   "metadata": {},
   "outputs": [],
   "source": [
    "for year in np.arange(0,32):\n",
    "    to_exclude = [year]\n",
    "    years = [element for i, element in enumerate(np.arange(1990,2022)) if i not in to_exclude]\n",
    "    calculated_swe_mean_snv_ucrb_all[year] = mean_snv_ucrb_all.SWE_Post[year] * swe.SWE_Post.sel(Year=years).std(dim='Year', skipna=True, ddof=1).where(swe.SWE_Post.mean(dim='Year')>0.1) + swe.SWE_Post.sel(Year=years).mean(dim='Year').where(swe.SWE_Post.mean(dim='Year')>0.1)"
   ]
  },
  {
   "cell_type": "code",
   "execution_count": 14,
   "id": "e16d962c-d6a5-4373-af0b-f59bafc0a638",
   "metadata": {},
   "outputs": [],
   "source": [
    "calculated_swe_mean_snv_ucrb_all.to_netcdf('../data/calculated_swe/snv/calculated_swe_mean_snv_ucrb_all.nc')"
   ]
  },
  {
   "cell_type": "markdown",
   "id": "190c9212-2ee4-4db4-80ff-fa8f39e5c1dd",
   "metadata": {},
   "source": [
    "### Quantile:"
   ]
  },
  {
   "cell_type": "code",
   "execution_count": 6,
   "id": "d1c0d4e1-8855-47da-91dd-f85e99577cc6",
   "metadata": {},
   "outputs": [
    {
     "data": {
      "text/plain": [
       "0.26262626262626265"
      ]
     },
     "execution_count": 6,
     "metadata": {},
     "output_type": "execute_result"
    }
   ],
   "source": [
    "np.median(stations_ucrb[stations_ucrb.index.get_level_values(1)==(year + 1990)]['quantile_q8'].values)"
   ]
  },
  {
   "cell_type": "code",
   "execution_count": 7,
   "id": "746ce08d-fca5-4a69-a90f-b011f9bbf162",
   "metadata": {},
   "outputs": [],
   "source": [
    "file_path = '../data/calculated_swe/quantiles/calculated_swe_quantile_median_all_q8.nc'\n",
    "\n",
    "if os.path.isfile(file_path):\n",
    "    calculated_swe_quantiles_xr_q8_median_all = xr.open_dataarray(file_path)\n",
    "else:\n",
    "    calculated_swe_quantiles_xr_q8_median_all = xr.full_like(swe.SWE_Post, np.nan)\n",
    "    for year in np.arange(0,32):\n",
    "        quantile_fn = f'../data/quantile_ncs/sr_quantiles_{year+1990}_q8.nc'\n",
    "        sr_quantiles_yr = xr.open_dataarray(quantile_fn)\n",
    "        calculated_swe_quantiles_xr_q8_median_all[year] = sr_quantiles_yr.interp(quantile=np.median(stations_ucrb[stations_ucrb.index.get_level_values(1)==(year + 1990)]['quantile_q8'].values), method='linear')\n",
    "    calculated_swe_quantiles_xr_q8_median_all.to_netcdf(file_path) "
   ]
  },
  {
   "cell_type": "markdown",
   "id": "40473f3e-1deb-4ba8-96a7-f856af3813fb",
   "metadata": {},
   "source": [
    "______\n",
    "## Calculate SWE from the mean SNV and Quantile within each cluster for each year:"
   ]
  },
  {
   "cell_type": "markdown",
   "id": "c95d09e8-a033-4348-8e3c-62d517be1be2",
   "metadata": {},
   "source": [
    "### Cluster definition: SWE Reanalysis WUS clusters at 8x coarsened:"
   ]
  },
  {
   "cell_type": "markdown",
   "id": "bef79a1d-3020-4069-a343-98887e5b313f",
   "metadata": {},
   "source": [
    "### SNV:"
   ]
  },
  {
   "cell_type": "code",
   "execution_count": 3,
   "id": "1afd245f-9fa4-406b-a97b-20059be558bb",
   "metadata": {},
   "outputs": [],
   "source": [
    "mean_snv_wus_coarse = xr.open_dataset('../data/calculated_swe/intermediate_ncs/mean_snv_wus_coarse_wic_sc.nc')"
   ]
  },
  {
   "cell_type": "code",
   "execution_count": 4,
   "id": "4a0c0306-e143-47ba-89e4-1af04b5f1755",
   "metadata": {},
   "outputs": [],
   "source": [
    "calculated_swe_mean_snv_wus_coarse = xr.full_like(swe.SWE_Post, np.nan)"
   ]
  },
  {
   "cell_type": "code",
   "execution_count": 5,
   "id": "a297dad6-3dfc-4207-ae92-139e6f17bd28",
   "metadata": {},
   "outputs": [],
   "source": [
    "for year in np.arange(0,32):\n",
    "    to_exclude = [year]\n",
    "    years = [element for i, element in enumerate(np.arange(1990,2022)) if i not in to_exclude]\n",
    "    calculated_swe_mean_snv_wus_coarse[year] = mean_snv_wus_coarse.SWE_Post[year] * swe.SWE_Post.sel(Year=years).std(dim='Year', skipna=True, ddof=1).where(swe.SWE_Post.mean(dim='Year')>0.1) + swe.SWE_Post.sel(Year=years).mean(dim='Year').where(swe.SWE_Post.mean(dim='Year')>0.1)"
   ]
  },
  {
   "cell_type": "code",
   "execution_count": 7,
   "id": "fa1d3348-e0d7-48fc-b22d-d91d5d05b9e8",
   "metadata": {},
   "outputs": [],
   "source": [
    "calculated_swe_mean_snv_wus_coarse.to_netcdf('../data/calculated_swe/snv/calculated_swe_mean_snv_wus_coarse2.nc')"
   ]
  },
  {
   "cell_type": "markdown",
   "id": "95b8d1f2-159c-4032-b488-6bd8224c2b1e",
   "metadata": {},
   "source": [
    "### Quantile:"
   ]
  },
  {
   "cell_type": "code",
   "execution_count": 8,
   "id": "05df1e62-9237-44d6-929e-839aad24cc82",
   "metadata": {},
   "outputs": [],
   "source": [
    "median_quantile_wus_coarse = xr.open_dataset('../data/calculated_swe/intermediate_ncs/median_quantile_wus_coarse_wic_sc.nc')"
   ]
  },
  {
   "cell_type": "code",
   "execution_count": 9,
   "id": "980a6665-3131-4015-90a8-01e9f5ae6bbe",
   "metadata": {},
   "outputs": [],
   "source": [
    "file_path = '../data/calculated_swe/quantiles/calculated_swe_quantile_median_wic_wus_coarse_q8_2.nc'\n",
    "\n",
    "if os.path.isfile(file_path):\n",
    "    calculated_swe_quantiles_wus_coarse_q8 = xr.open_dataarray(file_path)\n",
    "else:\n",
    "    calculated_swe_quantiles_wus_coarse_q8 = xr.full_like(swe.SWE_Post, np.nan)\n",
    "    for year in np.arange(0,32):\n",
    "        quantile_fn = f'../data/quantile_ncs/sr_quantiles_{year+1990}_q8.nc'\n",
    "        sr_quantiles_yr = xr.open_dataarray(quantile_fn)\n",
    "        calculated_swe_quantiles_wus_coarse_q8[year] = sr_quantiles_yr.interp(quantile=median_quantile_wus_coarse.SWE_Post[year], method='linear')\n",
    "    calculated_swe_quantiles_wus_coarse_q8.to_netcdf(file_path)"
   ]
  },
  {
   "cell_type": "markdown",
   "id": "7d20c152-4dac-4738-b49f-e57ad69e9c69",
   "metadata": {},
   "source": [
    "### Cluster definition: SWE Reanalysis WUS clusters at original resolution:"
   ]
  },
  {
   "cell_type": "markdown",
   "id": "73258a7b-7a69-4700-9adb-344364cc92ad",
   "metadata": {},
   "source": [
    "### SNV:"
   ]
  },
  {
   "cell_type": "code",
   "execution_count": 26,
   "id": "e8f97a59-869b-432e-a438-4a316a811d79",
   "metadata": {},
   "outputs": [],
   "source": [
    "mean_snv_wus_origres = xr.open_dataset('../data/calculated_swe/intermediate_ncs/mean_snv_wus_origres_wic_sc.nc')"
   ]
  },
  {
   "cell_type": "code",
   "execution_count": 27,
   "id": "7a6edbcd-e706-4712-a29d-a48983038384",
   "metadata": {},
   "outputs": [],
   "source": [
    "calculated_swe_mean_snv_wus_origres = xr.full_like(swe.SWE_Post, np.nan)"
   ]
  },
  {
   "cell_type": "code",
   "execution_count": 28,
   "id": "797eb4dc-9fe4-4527-8b36-f6e45893dfa4",
   "metadata": {},
   "outputs": [],
   "source": [
    "for year in np.arange(0,32):\n",
    "    to_exclude = [year]\n",
    "    years = [element for i, element in enumerate(np.arange(1990,2022)) if i not in to_exclude]\n",
    "    calculated_swe_mean_snv_wus_origres[year] = mean_snv_wus_origres.SWE_Post[year] * swe.SWE_Post.sel(Year=years).std(dim='Year', skipna=True, ddof=1).where(swe.SWE_Post.mean(dim='Year')>0.1) + swe.SWE_Post.sel(Year=years).mean(dim='Year').where(swe.SWE_Post.mean(dim='Year')>0.1)"
   ]
  },
  {
   "cell_type": "code",
   "execution_count": 29,
   "id": "f7b8d75d-0ea6-425c-83f4-9f8e3c814a3a",
   "metadata": {},
   "outputs": [],
   "source": [
    "calculated_swe_mean_snv_wus_origres.to_netcdf('../data/calculated_swe/snv/calculated_swe_mean_snv_wus_origres.nc')"
   ]
  },
  {
   "cell_type": "markdown",
   "id": "810d7aa2-bb30-4fb3-aa00-23aa2b808799",
   "metadata": {},
   "source": [
    "### Quantile:"
   ]
  },
  {
   "cell_type": "code",
   "execution_count": 30,
   "id": "869069cf-b30f-43ff-b4ef-fde8feeeb6f9",
   "metadata": {},
   "outputs": [],
   "source": [
    "mean_quantile_wus_origres = xr.open_dataset('../data/calculated_swe/intermediate_ncs/mean_quantile_wus_origres_wic_sc.nc')"
   ]
  },
  {
   "cell_type": "code",
   "execution_count": 31,
   "id": "ecd151f3-5ef0-4f54-89ee-26105f748910",
   "metadata": {},
   "outputs": [],
   "source": [
    "file_path = '../data/calculated_swe/quantiles/calculated_swe_quantile_mean_wic_wus_origres_q8.nc'\n",
    "\n",
    "if os.path.isfile(file_path):\n",
    "    calculated_swe_quantiles_wus_origres_q8 = xr.open_dataarray(file_path)\n",
    "else:\n",
    "    calculated_swe_quantiles_wus_origres_q8 = xr.full_like(swe.SWE_Post, np.nan)\n",
    "    for year in np.arange(0,32):\n",
    "        quantile_fn = f'../data/quantile_ncs/sr_quantiles_{year+1990}_q8.nc'\n",
    "        sr_quantiles_yr = xr.open_dataarray(quantile_fn)\n",
    "        calculated_swe_quantiles_wus_origres_q8[year] = sr_quantiles_yr.interp(quantile=mean_quantile_wus_origres.SWE_Post[year], method='linear')\n",
    "    calculated_swe_quantiles_wus_origres_q8.to_netcdf(file_path)"
   ]
  },
  {
   "cell_type": "markdown",
   "id": "06501725-a7cd-46f4-b8c9-dee3a05e06b3",
   "metadata": {},
   "source": [
    "### Cluster definition: SWE Reanalysis UCRB clusters at original resolution:"
   ]
  },
  {
   "cell_type": "markdown",
   "id": "fe628046-b34d-430e-871b-c300f6381f57",
   "metadata": {},
   "source": [
    "### SNV:"
   ]
  },
  {
   "cell_type": "code",
   "execution_count": 32,
   "id": "d1620bfa-06b9-4d97-9945-4d956029cb1b",
   "metadata": {},
   "outputs": [],
   "source": [
    "mean_snv_ucrb_origres = xr.open_dataset('../data/calculated_swe/intermediate_ncs/mean_snv_ucrb_origres_wic_sc.nc')"
   ]
  },
  {
   "cell_type": "code",
   "execution_count": 33,
   "id": "b7d3fff1-38a8-4193-8906-24c548c51662",
   "metadata": {},
   "outputs": [],
   "source": [
    "calculated_swe_mean_snv_ucrb_origres = xr.full_like(swe.SWE_Post, np.nan)"
   ]
  },
  {
   "cell_type": "code",
   "execution_count": 34,
   "id": "7e3b39c8-1423-4fa4-bd4a-31ffdf4a9809",
   "metadata": {},
   "outputs": [],
   "source": [
    "for year in np.arange(0,32):\n",
    "    to_exclude = [year]\n",
    "    years = [element for i, element in enumerate(np.arange(1990,2022)) if i not in to_exclude]\n",
    "    calculated_swe_mean_snv_ucrb_origres[year] = mean_snv_ucrb_origres.SWE_Post[year] * swe.SWE_Post.sel(Year=years).std(dim='Year', skipna=True, ddof=1).where(swe.SWE_Post.mean(dim='Year')>0.1) + swe.SWE_Post.sel(Year=years).mean(dim='Year').where(swe.SWE_Post.mean(dim='Year')>0.1)"
   ]
  },
  {
   "cell_type": "code",
   "execution_count": 35,
   "id": "ec24e039-2298-40ad-abcd-47908d79c9d5",
   "metadata": {},
   "outputs": [],
   "source": [
    "calculated_swe_mean_snv_ucrb_origres.to_netcdf('../data/calculated_swe/snv/calculated_swe_mean_snv_ucrb_origres.nc')"
   ]
  },
  {
   "cell_type": "markdown",
   "id": "049ece83-3c08-4099-a5a3-155fbbac9563",
   "metadata": {},
   "source": [
    "### Quantile:"
   ]
  },
  {
   "cell_type": "code",
   "execution_count": 36,
   "id": "5352df02-3a09-40cd-a3d2-680b182797ab",
   "metadata": {},
   "outputs": [],
   "source": [
    "mean_quantile_ucrb_origres = xr.open_dataset('../data/calculated_swe/intermediate_ncs/mean_quantile_ucrb_origres_wic_sc.nc')"
   ]
  },
  {
   "cell_type": "code",
   "execution_count": 37,
   "id": "d7e7159e-7df7-4615-addf-f6b4bd8e14c6",
   "metadata": {},
   "outputs": [],
   "source": [
    "file_path = '../data/calculated_swe/quantiles/calculated_swe_quantile_mean_wic_ucrb_origres_q8.nc'\n",
    "\n",
    "if os.path.isfile(file_path):\n",
    "    calculated_swe_quantiles_ucrb_origres_q8 = xr.open_dataarray(file_path)\n",
    "else:\n",
    "    calculated_swe_quantiles_ucrb_origres_q8 = xr.full_like(swe.SWE_Post, np.nan)\n",
    "    for year in np.arange(0,32):\n",
    "        quantile_fn = f'../data/quantile_ncs/sr_quantiles_{year+1990}_q8.nc'\n",
    "        sr_quantiles_yr = xr.open_dataarray(quantile_fn)\n",
    "        calculated_swe_quantiles_ucrb_origres_q8[year] = sr_quantiles_yr.interp(quantile=mean_quantile_ucrb_origres.SWE_Post[year], method='linear')\n",
    "    calculated_swe_quantiles_ucrb_origres_q8.to_netcdf(file_path)"
   ]
  },
  {
   "cell_type": "markdown",
   "id": "1a2fc181-f888-46fb-adc5-cb2c57f42caf",
   "metadata": {},
   "source": [
    "______\n",
    "## Calculate SWE from the nearest station's SNV and Quantile for each year:"
   ]
  },
  {
   "cell_type": "markdown",
   "id": "15bba8a7-e543-4331-9659-d80a1fb7980f",
   "metadata": {},
   "source": [
    "### SNV:"
   ]
  },
  {
   "cell_type": "code",
   "execution_count": 38,
   "id": "152ca24c-bd66-4629-9ff2-87c2d864a749",
   "metadata": {},
   "outputs": [],
   "source": [
    "nearest_snv_nc = xr.open_dataset('../data/calculated_swe/intermediate_ncs/nearest_station_snv_nc.nc')"
   ]
  },
  {
   "cell_type": "code",
   "execution_count": 39,
   "id": "23e69b2e-0c1b-44d0-b63f-b9d2cb1db821",
   "metadata": {},
   "outputs": [],
   "source": [
    "calculated_swe_nearest_snv_nc = xr.full_like(swe.SWE_Post, np.nan)"
   ]
  },
  {
   "cell_type": "code",
   "execution_count": 40,
   "id": "5b72927f-f080-4089-ba08-804939f5356b",
   "metadata": {},
   "outputs": [],
   "source": [
    "for year in np.arange(0,32):\n",
    "    to_exclude = [year]\n",
    "    years = [element for i, element in enumerate(np.arange(1990,2022)) if i not in to_exclude]\n",
    "    calculated_swe_nearest_snv_nc[year] = nearest_snv_nc.SWE_Post[year] * swe.SWE_Post.sel(Year=years).std(dim='Year', skipna=True, ddof=1).where(swe.SWE_Post.mean(dim='Year')>0.1) + swe.SWE_Post.sel(Year=years).mean(dim='Year').where(swe.SWE_Post.mean(dim='Year')>0.1)"
   ]
  },
  {
   "cell_type": "code",
   "execution_count": 41,
   "id": "d175b16e-89ed-45aa-83e5-03208052e553",
   "metadata": {},
   "outputs": [],
   "source": [
    "calculated_swe_nearest_snv_nc.to_netcdf('../data/calculated_swe/snv/calculated_swe_nearest_snv_nc.nc')"
   ]
  },
  {
   "cell_type": "markdown",
   "id": "b38cf0ed-4511-4ba1-89dc-3a6f47c81461",
   "metadata": {},
   "source": [
    "### Quantile:"
   ]
  },
  {
   "cell_type": "code",
   "execution_count": 42,
   "id": "414fd78c-9174-4a4b-aee9-9e0fb127cd74",
   "metadata": {},
   "outputs": [],
   "source": [
    "nearest_station_quantile = xr.open_dataset('../data/calculated_swe/intermediate_ncs/nearest_station_quantile.nc')"
   ]
  },
  {
   "cell_type": "code",
   "execution_count": 43,
   "id": "cc93a725-1df2-456a-b3b4-cefc6e3fae59",
   "metadata": {},
   "outputs": [],
   "source": [
    "file_path = '../data/calculated_swe/quantiles/calculated_swe_nearest_station_quantile_q8.nc'\n",
    "\n",
    "if os.path.isfile(file_path):\n",
    "    calculated_swe_nearest_station_quantile_q8 = xr.open_dataarray(file_path)\n",
    "else:\n",
    "    calculated_swe_nearest_station_quantile_q8 = xr.full_like(swe.SWE_Post, np.nan)\n",
    "    for year in np.arange(0,32):\n",
    "        quantile_fn = f'../data/quantile_ncs/sr_quantiles_{year+1990}_q8.nc'\n",
    "        sr_quantiles_yr = xr.open_dataarray(quantile_fn)\n",
    "        calculated_swe_nearest_station_quantile_q8[year] = sr_quantiles_yr.interp(quantile=nearest_station_quantile.SWE_Post[year], method='linear')\n",
    "    calculated_swe_nearest_station_quantile_q8.to_netcdf(file_path)"
   ]
  },
  {
   "cell_type": "markdown",
   "id": "6145154d-03d1-48ab-b782-0857b7ce62de",
   "metadata": {},
   "source": [
    "### This notebook is missing cumulative precip calculations"
   ]
  },
  {
   "cell_type": "code",
   "execution_count": null,
   "id": "a95fc92c-e371-4239-81ea-892570eabcbc",
   "metadata": {},
   "outputs": [],
   "source": []
  }
 ],
 "metadata": {
  "kernelspec": {
   "display_name": "cor_domains",
   "language": "python",
   "name": "python3"
  },
  "language_info": {
   "codemirror_mode": {
    "name": "ipython",
    "version": 3
   },
   "file_extension": ".py",
   "mimetype": "text/x-python",
   "name": "python",
   "nbconvert_exporter": "python",
   "pygments_lexer": "ipython3",
   "version": "3.12.7"
  }
 },
 "nbformat": 4,
 "nbformat_minor": 5
}
