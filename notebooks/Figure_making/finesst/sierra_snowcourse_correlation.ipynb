{
 "cells": [
  {
   "cell_type": "code",
   "execution_count": 4,
   "metadata": {},
   "outputs": [],
   "source": [
    "import pandas as pd \n",
    "import numpy as pd\n",
    "import metloom\n",
    "from metloom.pointdata import CDECPointData\n",
    "import geopandas as gpd \n",
    "import matplotlib.pyplot as plt \n",
    "import wget\n",
    "import os"
   ]
  },
  {
   "cell_type": "code",
   "execution_count": 2,
   "metadata": {},
   "outputs": [
    {
     "data": {
      "text/plain": [
       "'cb_2018_us_state_500k.zip'"
      ]
     },
     "execution_count": 2,
     "metadata": {},
     "output_type": "execute_result"
    }
   ],
   "source": [
    "wget.download(\"https://www2.census.gov/geo/tiger/GENZ2018/shp/cb_2018_us_state_500k.zip\")"
   ]
  },
  {
   "cell_type": "code",
   "execution_count": 7,
   "metadata": {},
   "outputs": [],
   "source": [
    "states = gpd.read_file(os.getcwd()+'/cb_2018_us_state_500k')"
   ]
  },
  {
   "cell_type": "code",
   "execution_count": 9,
   "metadata": {},
   "outputs": [
    {
     "data": {
      "text/html": [
       "<div>\n",
       "<style scoped>\n",
       "    .dataframe tbody tr th:only-of-type {\n",
       "        vertical-align: middle;\n",
       "    }\n",
       "\n",
       "    .dataframe tbody tr th {\n",
       "        vertical-align: top;\n",
       "    }\n",
       "\n",
       "    .dataframe thead th {\n",
       "        text-align: right;\n",
       "    }\n",
       "</style>\n",
       "<table border=\"1\" class=\"dataframe\">\n",
       "  <thead>\n",
       "    <tr style=\"text-align: right;\">\n",
       "      <th></th>\n",
       "      <th>STATEFP</th>\n",
       "      <th>STATENS</th>\n",
       "      <th>AFFGEOID</th>\n",
       "      <th>GEOID</th>\n",
       "      <th>STUSPS</th>\n",
       "      <th>NAME</th>\n",
       "      <th>LSAD</th>\n",
       "      <th>ALAND</th>\n",
       "      <th>AWATER</th>\n",
       "      <th>geometry</th>\n",
       "    </tr>\n",
       "  </thead>\n",
       "  <tbody>\n",
       "    <tr>\n",
       "      <th>0</th>\n",
       "      <td>28</td>\n",
       "      <td>01779790</td>\n",
       "      <td>0400000US28</td>\n",
       "      <td>28</td>\n",
       "      <td>MS</td>\n",
       "      <td>Mississippi</td>\n",
       "      <td>00</td>\n",
       "      <td>121533519481</td>\n",
       "      <td>3926919758</td>\n",
       "      <td>MULTIPOLYGON (((-88.50297 30.21523, -88.49176 ...</td>\n",
       "    </tr>\n",
       "    <tr>\n",
       "      <th>1</th>\n",
       "      <td>37</td>\n",
       "      <td>01027616</td>\n",
       "      <td>0400000US37</td>\n",
       "      <td>37</td>\n",
       "      <td>NC</td>\n",
       "      <td>North Carolina</td>\n",
       "      <td>00</td>\n",
       "      <td>125923656064</td>\n",
       "      <td>13466071395</td>\n",
       "      <td>MULTIPOLYGON (((-75.72681 35.93584, -75.71827 ...</td>\n",
       "    </tr>\n",
       "    <tr>\n",
       "      <th>2</th>\n",
       "      <td>40</td>\n",
       "      <td>01102857</td>\n",
       "      <td>0400000US40</td>\n",
       "      <td>40</td>\n",
       "      <td>OK</td>\n",
       "      <td>Oklahoma</td>\n",
       "      <td>00</td>\n",
       "      <td>177662925723</td>\n",
       "      <td>3374587997</td>\n",
       "      <td>POLYGON ((-103.00257 36.52659, -103.00219 36.6...</td>\n",
       "    </tr>\n",
       "    <tr>\n",
       "      <th>3</th>\n",
       "      <td>51</td>\n",
       "      <td>01779803</td>\n",
       "      <td>0400000US51</td>\n",
       "      <td>51</td>\n",
       "      <td>VA</td>\n",
       "      <td>Virginia</td>\n",
       "      <td>00</td>\n",
       "      <td>102257717110</td>\n",
       "      <td>8528531774</td>\n",
       "      <td>MULTIPOLYGON (((-75.74241 37.80835, -75.74151 ...</td>\n",
       "    </tr>\n",
       "    <tr>\n",
       "      <th>4</th>\n",
       "      <td>54</td>\n",
       "      <td>01779805</td>\n",
       "      <td>0400000US54</td>\n",
       "      <td>54</td>\n",
       "      <td>WV</td>\n",
       "      <td>West Virginia</td>\n",
       "      <td>00</td>\n",
       "      <td>62266474513</td>\n",
       "      <td>489028543</td>\n",
       "      <td>POLYGON ((-82.64320 38.16909, -82.64300 38.169...</td>\n",
       "    </tr>\n",
       "  </tbody>\n",
       "</table>\n",
       "</div>"
      ],
      "text/plain": [
       "  STATEFP   STATENS     AFFGEOID GEOID STUSPS            NAME LSAD  \\\n",
       "0      28  01779790  0400000US28    28     MS     Mississippi   00   \n",
       "1      37  01027616  0400000US37    37     NC  North Carolina   00   \n",
       "2      40  01102857  0400000US40    40     OK        Oklahoma   00   \n",
       "3      51  01779803  0400000US51    51     VA        Virginia   00   \n",
       "4      54  01779805  0400000US54    54     WV   West Virginia   00   \n",
       "\n",
       "          ALAND       AWATER  \\\n",
       "0  121533519481   3926919758   \n",
       "1  125923656064  13466071395   \n",
       "2  177662925723   3374587997   \n",
       "3  102257717110   8528531774   \n",
       "4   62266474513    489028543   \n",
       "\n",
       "                                            geometry  \n",
       "0  MULTIPOLYGON (((-88.50297 30.21523, -88.49176 ...  \n",
       "1  MULTIPOLYGON (((-75.72681 35.93584, -75.71827 ...  \n",
       "2  POLYGON ((-103.00257 36.52659, -103.00219 36.6...  \n",
       "3  MULTIPOLYGON (((-75.74241 37.80835, -75.74151 ...  \n",
       "4  POLYGON ((-82.64320 38.16909, -82.64300 38.169...  "
      ]
     },
     "execution_count": 9,
     "metadata": {},
     "output_type": "execute_result"
    }
   ],
   "source": [
    "states.head()"
   ]
  },
  {
   "cell_type": "code",
   "execution_count": 10,
   "metadata": {},
   "outputs": [],
   "source": [
    "california = states[states['NAME']=='California']"
   ]
  },
  {
   "cell_type": "code",
   "execution_count": 13,
   "metadata": {},
   "outputs": [],
   "source": [
    "california = california.to_crs('epsg:4326')"
   ]
  },
  {
   "cell_type": "code",
   "execution_count": 14,
   "metadata": {},
   "outputs": [
    {
     "data": {
      "text/plain": [
       "<Axes: >"
      ]
     },
     "execution_count": 14,
     "metadata": {},
     "output_type": "execute_result"
    },
    {
     "data": {
      "image/png": "[encoded data removed]",
      "text/plain": [
       "<Figure size 640x480 with 1 Axes>"
      ]
     },
     "metadata": {},
     "output_type": "display_data"
    }
   ],
   "source": [
    "california.plot()"
   ]
  },
  {
   "cell_type": "code",
   "execution_count": 15,
   "metadata": {},
   "outputs": [],
   "source": [
    "california.to_file('california_outline.geojson', driver='GeoJSON')"
   ]
  },
  {
   "cell_type": "code",
   "execution_count": 25,
   "metadata": {},
   "outputs": [],
   "source": [
    "fp = 'california_outline.geojson'\n",
    "obj = gpd.read_file(fp)\n",
    "\n",
    "vrs = [\n",
    "    CDECPointData.ALLOWED_VARIABLES.SWE,\n",
    "    CDECPointData.ALLOWED_VARIABLES.SNOWDEPTH\n",
    "]"
   ]
  },
  {
   "cell_type": "code",
   "execution_count": 27,
   "metadata": {},
   "outputs": [
    {
     "name": "stdout",
     "output_type": "stream",
     "text": [
      "                 name   id datasource  \\\n",
      "0          COURTRIGHT  CUR       CDEC   \n",
      "1          CEDAR PASS  CDP       CDEC   \n",
      "2       TYNDALL CREEK  TND       CDEC   \n",
      "3        NORVELL FLAT  NRF       CDEC   \n",
      "4      WABENA MEADOWS  WBM       CDEC   \n",
      "..                ...  ...        ...   \n",
      "249        DUTCH LAKE  DTL       CDEC   \n",
      "250   CRABTREE MEADOW  CBT       CDEC   \n",
      "251       BISHOP LAKE  BSP       CDEC   \n",
      "252  BIG PINE CREEK 2  BP2       CDEC   \n",
      "253      BEARD MEADOW  BMD       CDEC   \n",
      "\n",
      "                                      geometry  \n",
      "0     POINT Z (-118.96500 37.07200 8350.00000)  \n",
      "1     POINT Z (-120.30300 41.58300 7100.00000)  \n",
      "2    POINT Z (-118.39200 36.63200 10650.00000)  \n",
      "3     POINT Z (-121.00700 40.48200 5700.00000)  \n",
      "4     POINT Z (-120.40200 39.22700 6300.00000)  \n",
      "..                                         ...  \n",
      "249   POINT Z (-118.99700 37.25800 9100.00000)  \n",
      "250  POINT Z (-118.34760 36.56381 10600.00000)  \n",
      "251  POINT Z (-118.54500 37.12300 11300.00000)  \n",
      "252   POINT Z (-118.47000 37.12700 9700.00000)  \n",
      "253   POINT Z (-118.83700 37.11300 9800.00000)  \n",
      "\n",
      "[254 rows x 4 columns]\n"
     ]
    }
   ],
   "source": [
    "\n",
    "points = CDECPointData.points_from_geometry(obj, vrs, snow_courses=True)\n",
    "df = points.to_dataframe()\n",
    "print(df)\n"
   ]
  },
  {
   "cell_type": "code",
   "execution_count": null,
   "metadata": {},
   "outputs": [],
   "source": []
  },
  {
   "cell_type": "code",
   "execution_count": 28,
   "metadata": {},
   "outputs": [
    {
     "data": {
      "text/html": [
       "<div>\n",
       "<style scoped>\n",
       "    .dataframe tbody tr th:only-of-type {\n",
       "        vertical-align: middle;\n",
       "    }\n",
       "\n",
       "    .dataframe tbody tr th {\n",
       "        vertical-align: top;\n",
       "    }\n",
       "\n",
       "    .dataframe thead th {\n",
       "        text-align: right;\n",
       "    }\n",
       "</style>\n",
       "<table border=\"1\" class=\"dataframe\">\n",
       "  <thead>\n",
       "    <tr style=\"text-align: right;\">\n",
       "      <th></th>\n",
       "      <th>name</th>\n",
       "      <th>id</th>\n",
       "      <th>datasource</th>\n",
       "      <th>geometry</th>\n",
       "    </tr>\n",
       "  </thead>\n",
       "  <tbody>\n",
       "    <tr>\n",
       "      <th>0</th>\n",
       "      <td>COURTRIGHT</td>\n",
       "      <td>CUR</td>\n",
       "      <td>CDEC</td>\n",
       "      <td>POINT Z (-118.96500 37.07200 8350.00000)</td>\n",
       "    </tr>\n",
       "    <tr>\n",
       "      <th>1</th>\n",
       "      <td>CEDAR PASS</td>\n",
       "      <td>CDP</td>\n",
       "      <td>CDEC</td>\n",
       "      <td>POINT Z (-120.30300 41.58300 7100.00000)</td>\n",
       "    </tr>\n",
       "    <tr>\n",
       "      <th>2</th>\n",
       "      <td>TYNDALL CREEK</td>\n",
       "      <td>TND</td>\n",
       "      <td>CDEC</td>\n",
       "      <td>POINT Z (-118.39200 36.63200 10650.00000)</td>\n",
       "    </tr>\n",
       "    <tr>\n",
       "      <th>3</th>\n",
       "      <td>NORVELL FLAT</td>\n",
       "      <td>NRF</td>\n",
       "      <td>CDEC</td>\n",
       "      <td>POINT Z (-121.00700 40.48200 5700.00000)</td>\n",
       "    </tr>\n",
       "    <tr>\n",
       "      <th>4</th>\n",
       "      <td>WABENA MEADOWS</td>\n",
       "      <td>WBM</td>\n",
       "      <td>CDEC</td>\n",
       "      <td>POINT Z (-120.40200 39.22700 6300.00000)</td>\n",
       "    </tr>\n",
       "  </tbody>\n",
       "</table>\n",
       "</div>"
      ],
      "text/plain": [
       "             name   id datasource                                   geometry\n",
       "0      COURTRIGHT  CUR       CDEC   POINT Z (-118.96500 37.07200 8350.00000)\n",
       "1      CEDAR PASS  CDP       CDEC   POINT Z (-120.30300 41.58300 7100.00000)\n",
       "2   TYNDALL CREEK  TND       CDEC  POINT Z (-118.39200 36.63200 10650.00000)\n",
       "3    NORVELL FLAT  NRF       CDEC   POINT Z (-121.00700 40.48200 5700.00000)\n",
       "4  WABENA MEADOWS  WBM       CDEC   POINT Z (-120.40200 39.22700 6300.00000)"
      ]
     },
     "execution_count": 28,
     "metadata": {},
     "output_type": "execute_result"
    }
   ],
   "source": [
    "df.head()"
   ]
  },
  {
   "cell_type": "code",
   "execution_count": 29,
   "metadata": {},
   "outputs": [
    {
     "data": {
      "text/plain": [
       "<Axes: >"
      ]
     },
     "execution_count": 29,
     "metadata": {},
     "output_type": "execute_result"
    },
    {
     "data": {
      "image/png": "[encoded data removed]",
      "text/plain": [
       "<Figure size 640x480 with 1 Axes>"
      ]
     },
     "metadata": {},
     "output_type": "display_data"
    }
   ],
   "source": [
    "df.plot()"
   ]
  },
  {
   "cell_type": "code",
   "execution_count": null,
   "metadata": {},
   "outputs": [],
   "source": [
    "start_date = datetime(2020,10,1)\n",
    "end_date = datetime(2023,7,31)"
   ]
  },
  {
   "cell_type": "code",
   "execution_count": null,
   "metadata": {},
   "outputs": [],
   "source": [
    "# Download data for TUM to get the datetime index:\n",
    "cdec_point = CDECPointData(\"TUM\", \"TUM\")\n",
    "tum_depth = cdec_point.get_daily_data(\n",
    "    start_date, end_date,\n",
    "    [cdec_point.ALLOWED_VARIABLES.SNOWDEPTH]\n",
    ")\n",
    "tum_depth.head()"
   ]
  },
  {
   "cell_type": "code",
   "execution_count": null,
   "metadata": {},
   "outputs": [],
   "source": [
    "# Reindex from a multiindex so I can easily access the datetime index:\n",
    "tum_depth = tum_depth.reset_index()\n",
    "tum_depth = tum_depth.set_index('datetime')\n",
    "\n",
    "# Create a new empty dataframe with the TUM datetime index:\n",
    "snwd_df = pd.DataFrame()\n",
    "snwd_df.index = pd.DatetimeIndex(data=tum_depth.index)\n",
    "\n",
    "# Iteratively download all the data and add the SNOWDEPTH column to the snwd_df:\n",
    "# Note that the snow depth unit is inches\n",
    "for i in range(len(cdec_locations)):\n",
    "    cdec_point = CDECPointData(cdec_locations.id.values[i], cdec_locations.id.values[i])\n",
    "    cdec_depth = cdec_point.get_daily_data(\n",
    "        start_date, end_date,\n",
    "        [cdec_point.ALLOWED_VARIABLES.SNOWDEPTH]\n",
    "    )\n",
    "    if cdec_depth is not None:\n",
    "        cdec_depth = cdec_depth.reset_index()\n",
    "        cdec_depth = cdec_depth.set_index('datetime')\n",
    "        snwd_df[f'{cdec_locations.id.values[i]}'] = cdec_depth['SNOWDEPTH']\n",
    "    else:\n",
    "        continue\n"
   ]
  }
 ],
 "metadata": {
  "kernelspec": {
   "display_name": "cor_domains",
   "language": "python",
   "name": "python3"
  },
  "language_info": {
   "codemirror_mode": {
    "name": "ipython",
    "version": 3
   },
   "file_extension": ".py",
   "mimetype": "text/x-python",
   "name": "python",
   "nbconvert_exporter": "python",
   "pygments_lexer": "ipython3",
   "version": "3.12.7"
  }
 },
 "nbformat": 4,
 "nbformat_minor": 2
}
